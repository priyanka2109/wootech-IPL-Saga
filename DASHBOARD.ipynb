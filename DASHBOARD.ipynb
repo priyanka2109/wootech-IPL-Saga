{
 "cells": [
  {
   "cell_type": "code",
   "execution_count": null,
   "metadata": {},
   "outputs": [],
   "source": [
    "import dash\n",
    "import dash_core_components as dcc\n",
    "import dash_html_components as html\n",
    "from dash.dependencies import Input, Output\n",
    "import numpy as np\n",
    "import plotly.graph_objects as go\n",
    "import plotly.express as px\n",
    "from sklearn.model_selection import train_test_split\n",
    "from sklearn import linear_model, tree, neighbors\n",
    "\n",
    "df = px.data.tips()\n",
    "X = df.total_bill.values[:, None]\n",
    "X_train, X_test, y_train, y_test = train_test_split(\n",
    "    X, df.tip, random_state=42)\n",
    "\n",
    "models = {'Predict Players Cost': regression,\n",
    "          'Check if player is retained or not': classification,\n",
    "          'Players Clusters': clustering}\n",
    "\n",
    "app = dash.Dash(__name__)\n",
    "\n",
    "app.layout = html.Div([\n",
    "    html.P(\"Select Model:\"),\n",
    "    dcc.Dropdown(\n",
    "        id='model-name',\n",
    "        options=[{'label': x, 'value': x} \n",
    "                 for x in models],\n",
    "        value='Regression',\n",
    "        clearable=False\n",
    "    ),\n",
    "    dcc.Graph(id=\"graph\"),\n",
    "])\n",
    "\n",
    "@app.callback(\n",
    "    Output(\"graph\", \"figure\"), \n",
    "    [Input('model-name', \"value\")])\n",
    "def train_and_display(name):\n",
    "    model = models[name]()\n",
    "    model.fit(X_train, y_train)\n",
    "\n",
    "    x_range = np.linspace(X.min(), X.max(), 100)\n",
    "    y_range = model.predict(x_range.reshape(-1, 1))\n",
    "\n",
    "    fig = go.Figure([\n",
    "        go.Scatter(x=X_train.squeeze(), y=y_train, \n",
    "                   name='train', mode='markers'),\n",
    "        go.Scatter(x=X_test.squeeze(), y=y_test, \n",
    "                   name='test', mode='markers'),\n",
    "        go.Scatter(x=x_range, y=y_range, \n",
    "                   name='prediction')\n",
    "    ])\n",
    "\n",
    "    return fig\n",
    "\n",
    "app.run_server(debug=True)"
   ]
  },
  {
   "cell_type": "code",
   "execution_count": 6,
   "metadata": {},
   "outputs": [
    {
     "data": {
      "text/html": [
       "<div>\n",
       "<style scoped>\n",
       "    .dataframe tbody tr th:only-of-type {\n",
       "        vertical-align: middle;\n",
       "    }\n",
       "\n",
       "    .dataframe tbody tr th {\n",
       "        vertical-align: top;\n",
       "    }\n",
       "\n",
       "    .dataframe thead th {\n",
       "        text-align: right;\n",
       "    }\n",
       "</style>\n",
       "<table border=\"1\" class=\"dataframe\">\n",
       "  <thead>\n",
       "    <tr style=\"text-align: right;\">\n",
       "      <th></th>\n",
       "      <th>Is Captain(1=yes)</th>\n",
       "      <th>Is Wktkeeper(1=Yes)</th>\n",
       "      <th>Nationality(1=Overseas)</th>\n",
       "      <th>Name</th>\n",
       "      <th>Team</th>\n",
       "      <th>IPL 4 Franchise</th>\n",
       "      <th>Player cost USD</th>\n",
       "      <th>matches</th>\n",
       "      <th>innings played</th>\n",
       "      <th>no</th>\n",
       "      <th>...</th>\n",
       "      <th>half_centuries_ipl</th>\n",
       "      <th>fours_ipl</th>\n",
       "      <th>sixes_ipl</th>\n",
       "      <th>matches_bowl_ipl</th>\n",
       "      <th>balls_bowled_ipl</th>\n",
       "      <th>total_runs_given_ipl</th>\n",
       "      <th>wickets_taken_ipl</th>\n",
       "      <th>bowling_avg_ipl</th>\n",
       "      <th>economy_ipl</th>\n",
       "      <th>3wickets_ipl</th>\n",
       "    </tr>\n",
       "  </thead>\n",
       "  <tbody>\n",
       "    <tr>\n",
       "      <th>0</th>\n",
       "      <td>0.0</td>\n",
       "      <td>0.0</td>\n",
       "      <td>1</td>\n",
       "      <td>Aiden Blizzard</td>\n",
       "      <td>Australia</td>\n",
       "      <td>Mumbai Indians</td>\n",
       "      <td>20000.0</td>\n",
       "      <td>40.0</td>\n",
       "      <td>40.0</td>\n",
       "      <td>3.0</td>\n",
       "      <td>...</td>\n",
       "      <td>0.0</td>\n",
       "      <td>0.0</td>\n",
       "      <td>0.0</td>\n",
       "      <td>0.0</td>\n",
       "      <td>0.0</td>\n",
       "      <td>0.0</td>\n",
       "      <td>0.0</td>\n",
       "      <td>0.0</td>\n",
       "      <td>0.0</td>\n",
       "      <td>0.0</td>\n",
       "    </tr>\n",
       "    <tr>\n",
       "      <th>1</th>\n",
       "      <td>0.0</td>\n",
       "      <td>0.0</td>\n",
       "      <td>1</td>\n",
       "      <td>Jonathan Vandiar</td>\n",
       "      <td>South Africa</td>\n",
       "      <td>Royal Challengers Bangalore</td>\n",
       "      <td>20000.0</td>\n",
       "      <td>18.0</td>\n",
       "      <td>18.0</td>\n",
       "      <td>1.0</td>\n",
       "      <td>...</td>\n",
       "      <td>0.0</td>\n",
       "      <td>0.0</td>\n",
       "      <td>0.0</td>\n",
       "      <td>0.0</td>\n",
       "      <td>0.0</td>\n",
       "      <td>0.0</td>\n",
       "      <td>0.0</td>\n",
       "      <td>0.0</td>\n",
       "      <td>0.0</td>\n",
       "      <td>0.0</td>\n",
       "    </tr>\n",
       "    <tr>\n",
       "      <th>2</th>\n",
       "      <td>0.0</td>\n",
       "      <td>0.0</td>\n",
       "      <td>1</td>\n",
       "      <td>Nathan Rimmington</td>\n",
       "      <td>Australia</td>\n",
       "      <td>Kings XI Punjab</td>\n",
       "      <td>20000.0</td>\n",
       "      <td>23.0</td>\n",
       "      <td>8.0</td>\n",
       "      <td>5.0</td>\n",
       "      <td>...</td>\n",
       "      <td>0.0</td>\n",
       "      <td>0.0</td>\n",
       "      <td>0.0</td>\n",
       "      <td>0.0</td>\n",
       "      <td>0.0</td>\n",
       "      <td>0.0</td>\n",
       "      <td>0.0</td>\n",
       "      <td>0.0</td>\n",
       "      <td>0.0</td>\n",
       "      <td>0.0</td>\n",
       "    </tr>\n",
       "    <tr>\n",
       "      <th>3</th>\n",
       "      <td>0.0</td>\n",
       "      <td>0.0</td>\n",
       "      <td>1</td>\n",
       "      <td>Rilee Rossouw</td>\n",
       "      <td>South Africa</td>\n",
       "      <td>Royal Challengers Bangalore</td>\n",
       "      <td>20000.0</td>\n",
       "      <td>20.0</td>\n",
       "      <td>20.0</td>\n",
       "      <td>0.0</td>\n",
       "      <td>...</td>\n",
       "      <td>0.0</td>\n",
       "      <td>0.0</td>\n",
       "      <td>0.0</td>\n",
       "      <td>0.0</td>\n",
       "      <td>0.0</td>\n",
       "      <td>0.0</td>\n",
       "      <td>0.0</td>\n",
       "      <td>0.0</td>\n",
       "      <td>0.0</td>\n",
       "      <td>0.0</td>\n",
       "    </tr>\n",
       "    <tr>\n",
       "      <th>4</th>\n",
       "      <td>0.0</td>\n",
       "      <td>0.0</td>\n",
       "      <td>1</td>\n",
       "      <td>Robert Frylinck</td>\n",
       "      <td>South Africa</td>\n",
       "      <td>Delhi Daredevils</td>\n",
       "      <td>20000.0</td>\n",
       "      <td>25.0</td>\n",
       "      <td>22.0</td>\n",
       "      <td>8.0</td>\n",
       "      <td>...</td>\n",
       "      <td>0.0</td>\n",
       "      <td>0.0</td>\n",
       "      <td>0.0</td>\n",
       "      <td>0.0</td>\n",
       "      <td>0.0</td>\n",
       "      <td>0.0</td>\n",
       "      <td>0.0</td>\n",
       "      <td>0.0</td>\n",
       "      <td>0.0</td>\n",
       "      <td>0.0</td>\n",
       "    </tr>\n",
       "  </tbody>\n",
       "</table>\n",
       "<p>5 rows × 52 columns</p>\n",
       "</div>"
      ],
      "text/plain": [
       "   Is Captain(1=yes)  Is Wktkeeper(1=Yes)  Nationality(1=Overseas)  \\\n",
       "0                0.0                  0.0                        1   \n",
       "1                0.0                  0.0                        1   \n",
       "2                0.0                  0.0                        1   \n",
       "3                0.0                  0.0                        1   \n",
       "4                0.0                  0.0                        1   \n",
       "\n",
       "                Name          Team              IPL 4 Franchise  \\\n",
       "0     Aiden Blizzard     Australia               Mumbai Indians   \n",
       "1   Jonathan Vandiar  South Africa  Royal Challengers Bangalore   \n",
       "2  Nathan Rimmington     Australia              Kings XI Punjab   \n",
       "3      Rilee Rossouw  South Africa  Royal Challengers Bangalore   \n",
       "4    Robert Frylinck  South Africa             Delhi Daredevils   \n",
       "\n",
       "   Player cost USD  matches  innings played   no  ...  half_centuries_ipl  \\\n",
       "0          20000.0     40.0            40.0  3.0  ...                 0.0   \n",
       "1          20000.0     18.0            18.0  1.0  ...                 0.0   \n",
       "2          20000.0     23.0             8.0  5.0  ...                 0.0   \n",
       "3          20000.0     20.0            20.0  0.0  ...                 0.0   \n",
       "4          20000.0     25.0            22.0  8.0  ...                 0.0   \n",
       "\n",
       "   fours_ipl  sixes_ipl  matches_bowl_ipl  balls_bowled_ipl  \\\n",
       "0        0.0        0.0               0.0               0.0   \n",
       "1        0.0        0.0               0.0               0.0   \n",
       "2        0.0        0.0               0.0               0.0   \n",
       "3        0.0        0.0               0.0               0.0   \n",
       "4        0.0        0.0               0.0               0.0   \n",
       "\n",
       "   total_runs_given_ipl  wickets_taken_ipl  bowling_avg_ipl  economy_ipl  \\\n",
       "0                   0.0                0.0              0.0          0.0   \n",
       "1                   0.0                0.0              0.0          0.0   \n",
       "2                   0.0                0.0              0.0          0.0   \n",
       "3                   0.0                0.0              0.0          0.0   \n",
       "4                   0.0                0.0              0.0          0.0   \n",
       "\n",
       "   3wickets_ipl  \n",
       "0           0.0  \n",
       "1           0.0  \n",
       "2           0.0  \n",
       "3           0.0  \n",
       "4           0.0  \n",
       "\n",
       "[5 rows x 52 columns]"
      ]
     },
     "execution_count": 6,
     "metadata": {},
     "output_type": "execute_result"
    }
   ],
   "source": [
    "import numpy as np\n",
    "import pandas as pd\n",
    "df=pd.read_csv('Clean_Data.csv')\n",
    "df.head()"
   ]
  },
  {
   "cell_type": "code",
   "execution_count": 8,
   "metadata": {},
   "outputs": [],
   "source": [
    "options = []\n",
    "names=df['Name']\n",
    "for name in names:\n",
    "        options.append({'label':'{}'.format(name, name), 'value':name})\n"
   ]
  },
  {
   "cell_type": "code",
   "execution_count": 26,
   "metadata": {},
   "outputs": [],
   "source": [
    "df1=df.drop('Name',axis=1)\n",
    "data = pd.get_dummies(df1, columns=['Team', 'IPL 4 Franchise'])\n",
    "X = data.drop('Player cost USD', axis=1)\n",
    "y = data['Player cost USD']"
   ]
  },
  {
   "cell_type": "code",
   "execution_count": 27,
   "metadata": {},
   "outputs": [],
   "source": [
    "from sklearn.model_selection import train_test_split\n",
    "X_train, X_test, y_train, y_test = train_test_split(\n",
    "    X, y, random_state=42)\n"
   ]
  },
  {
   "cell_type": "code",
   "execution_count": 33,
   "metadata": {},
   "outputs": [],
   "source": [
    "from sklearn import linear_model, tree, neighbors    \n",
    "from matplotlib import pyplot as plt #for customisation\n",
    "%matplotlib inline"
   ]
  },
  {
   "cell_type": "code",
   "execution_count": 29,
   "metadata": {},
   "outputs": [],
   "source": [
    "models = {'Predict Players Cost':linear_model.LinearRegression }"
   ]
  },
  {
   "cell_type": "code",
   "execution_count": 37,
   "metadata": {},
   "outputs": [
    {
     "name": "stdout",
     "output_type": "stream",
     "text": [
      "Dash is running on http://127.0.0.1:4050/\n",
      "\n",
      "Dash is running on http://127.0.0.1:4050/\n",
      "\n",
      "Dash is running on http://127.0.0.1:4050/\n",
      "\n",
      "Dash is running on http://127.0.0.1:4050/\n",
      "\n",
      "Dash is running on http://127.0.0.1:4050/\n",
      "\n",
      "Dash is running on http://127.0.0.1:4050/\n",
      "\n",
      "Dash is running on http://127.0.0.1:4050/\n",
      "\n",
      "Dash is running on http://127.0.0.1:4050/\n",
      "\n",
      "Dash is running on http://127.0.0.1:4050/\n",
      "\n",
      "Dash is running on http://127.0.0.1:4050/\n",
      "\n",
      "Dash is running on http://127.0.0.1:4050/\n",
      "\n",
      "Dash is running on http://127.0.0.1:4050/\n",
      "\n",
      "Dash is running on http://127.0.0.1:4050/\n",
      "\n",
      "Dash is running on http://127.0.0.1:4050/\n",
      "\n",
      "Dash is running on http://127.0.0.1:4050/\n",
      "\n",
      "Dash is running on http://127.0.0.1:4050/\n",
      "\n",
      "Dash is running on http://127.0.0.1:4050/\n",
      "\n",
      "Dash is running on http://127.0.0.1:4050/\n",
      "\n",
      "Dash is running on http://127.0.0.1:4050/\n",
      "\n",
      "Dash is running on http://127.0.0.1:4050/\n",
      "\n",
      "Dash is running on http://127.0.0.1:4050/\n",
      "\n",
      " * Serving Flask app \"__main__\" (lazy loading)\n",
      " * Environment: production\n",
      "   WARNING: This is a development server. Do not use it in a production deployment.\n",
      "   Use a production WSGI server instead.\n",
      " * Debug mode: off\n"
     ]
    },
    {
     "data": {
      "image/png": "[encoded data removed]",
      "text/plain": [
       "<Figure size 432x288 with 1 Axes>"
      ]
     },
     "metadata": {
      "needs_background": "light"
     },
     "output_type": "display_data"
    }
   ],
   "source": [
    "import dash\n",
    "import dash_core_components as dcc\n",
    "import dash_html_components as html\n",
    "from dash.dependencies import Input, Output\n",
    "from sklearn.externals import joblib\n",
    "import plotly.graph_objs as go\n",
    "\n",
    "app = dash.Dash()\n",
    "\n",
    "app.layout = html.Div(children=[\n",
    "    html.H1(children='IPL SAGA DASHBOARD', style={'textAlign': 'center'}),\n",
    "    html.H3(children='YEAR:2011',style={'textAlign': 'center'}),\n",
    "    #dropdown for players on left\n",
    "    html.Div(children=[\n",
    "        \n",
    "        html.Label(\"Select player\"),\n",
    "        dcc.Dropdown(\n",
    "            id = 'my_dropdown1',\n",
    "            options= options,\n",
    "            value='Choose columns',\n",
    "            style=dict(\n",
    "                    width='40%',\n",
    "                    verticalAlign=\"middle\"\n",
    "                )\n",
    "        ),\n",
    "\n",
    "        html.Button(\n",
    "            id='submit-button',\n",
    "            n_clicks=0,\n",
    "            children='Submit'\n",
    "        )\n",
    "    ],style={'textAlign': 'left'}),\n",
    "    html.Div([\n",
    "    html.P(\"Select Model:\"),\n",
    "    dcc.Dropdown(\n",
    "        id='model-name',\n",
    "        options=[{'label': x, 'value': x} \n",
    "                 for x in models],\n",
    "        value='Regression',\n",
    "        clearable=False\n",
    "    ),\n",
    "    dcc.Graph(id=\"graph\"),\n",
    "])\n",
    "    html.Div([\n",
    "    html.P(\"Select Model:\"),\n",
    "    dcc.Dropdown(\n",
    "        id='model-name',\n",
    "        options=[{'label': x, 'value': x} \n",
    "                 for x in models],\n",
    "        value='Predict Players Cost',\n",
    "        clearable=False\n",
    "    ),\n",
    "    dcc.Graph(id=\"graph\"),\n",
    "])\n",
    "\n",
    "])\n",
    "@app.callback(\n",
    "    Output(\"graph\", \"figure\"), \n",
    "    [Input('model-name', \"value\")])\n",
    "    \n",
    "def train_and_display(name):\n",
    "    model = models[name]()\n",
    "    model.fit(X_train, y_train)\n",
    "\n",
    "    y_pred = model.predict(X_test)\n",
    "    #y_range = y_pred.reshape(-1, 1)\n",
    "    x = np.linspace(-1.04087012, 3.266556, 33)\n",
    "    y1 = np.asarray(y_test)\n",
    "    y2=np.asarray(y_pred)\n",
    "    #px.plot(df, x=\"Fruit\", y=\"Number Eaten\", color=\"Contestant\", barmode=\"group\")\n",
    "    plt.plot(x, y1,'g')\n",
    "    plt.plot(x,y2,'r')\n",
    "    plt.legend(['original','predictions'])\n",
    "    plt.xlabel('player_cost', fontsize=18)\n",
    "    plt.ylabel('Y-original,Y_predicted', fontsize=16)\n",
    "    plt.show()\n",
    "\n",
    "    fig = go.Figure([\n",
    "        go.Scatter(x=X_train.squeeze(), y=y_train, \n",
    "                   name='train', mode='markers'),\n",
    "        go.Scatter(x=X_test.squeeze(), y=y_test, \n",
    "                   name='test', mode='markers'),\n",
    "        go.Scatter(x=x, y=y2, \n",
    "                   name='prediction')\n",
    "    ])\n",
    "\n",
    "    return fig\n",
    "\n",
    "   \n",
    "    \n",
    "\n",
    "    \n",
    "\n",
    "if __name__ == '__main__':\n",
    "    app.run_server(port=4050)"
   ]
  },
  {
   "cell_type": "code",
   "execution_count": 2,
   "metadata": {},
   "outputs": [],
   "source": [
    "import pandas as pd\n",
    "import numpy as np\n",
    "#df=pd.read_csv('linreg_dash.csv')"
   ]
  },
  {
   "cell_type": "code",
   "execution_count": 3,
   "metadata": {},
   "outputs": [],
   "source": [
    "df=pd.read_csv('two.csv')"
   ]
  },
  {
   "cell_type": "code",
   "execution_count": null,
   "metadata": {},
   "outputs": [],
   "source": [
    "figure6 = px.bar(df1, y='batsman', x='Strike Rate', color='Strike Rate',orientation=\"h\")\n",
    "figure6.update_layout(title='Batsmen with worst strike rate')\n",
    "figure6.show()"
   ]
  },
  {
   "cell_type": "code",
   "execution_count": 4,
   "metadata": {},
   "outputs": [],
   "source": [
    "options = []\n",
    "names=df['name']\n",
    "for name in names:\n",
    "        options.append({'label':'{}'.format(name, name), 'value':name})"
   ]
  },
  {
   "cell_type": "code",
   "execution_count": 5,
   "metadata": {},
   "outputs": [],
   "source": [
    "import plotly.express as px"
   ]
  },
  {
   "cell_type": "code",
   "execution_count": 11,
   "metadata": {},
   "outputs": [
    {
     "name": "stdout",
     "output_type": "stream",
     "text": [
      "Dash is running on http://127.0.0.1:4050/\n",
      "\n",
      "Dash is running on http://127.0.0.1:4050/\n",
      "\n",
      " * Serving Flask app \"__main__\" (lazy loading)\n",
      " * Environment: production\n",
      "   WARNING: This is a development server. Do not use it in a production deployment.\n",
      "   Use a production WSGI server instead.\n",
      " * Debug mode: off\n"
     ]
    },
    {
     "name": "stderr",
     "output_type": "stream",
     "text": [
      " * Running on http://127.0.0.1:4050/ (Press CTRL+C to quit)\n",
      "127.0.0.1 - - [07/Mar/2021 20:08:19] \"\u001b[37mGET / HTTP/1.1\u001b[0m\" 200 -\n",
      "127.0.0.1 - - [07/Mar/2021 20:08:19] \"\u001b[37mGET /_dash-dependencies HTTP/1.1\u001b[0m\" 200 -\n",
      "127.0.0.1 - - [07/Mar/2021 20:08:19] \"\u001b[37mGET /_favicon.ico?v=1.19.0 HTTP/1.1\u001b[0m\" 200 -\n",
      "127.0.0.1 - - [07/Mar/2021 20:08:19] \"\u001b[37mGET /_dash-layout HTTP/1.1\u001b[0m\" 200 -\n"
     ]
    }
   ],
   "source": [
    "import dash\n",
    "import dash_core_components as dcc\n",
    "import dash_html_components as html\n",
    "from dash.dependencies import Input, Output\n",
    "from sklearn.externals import joblib\n",
    "import plotly.graph_objs as go\n",
    "import base64\n",
    "\n",
    "app = dash.Dash()\n",
    "\n",
    "\n",
    "models = {'Predict Players Cost': 'regression',\n",
    "          'Check if player is retained or not': 'classification',\n",
    "          'Players Clusters': 'clustering'}\n",
    "\n",
    "image_filename = 'ippl.png' # replace with your own image\n",
    "encoded_image = base64.b64encode(open(image_filename, 'rb').read())\n",
    "colors = {\n",
    "    'background': '#696969',\n",
    "    'text': '#7FDBFF'\n",
    "}\n",
    "app.layout = html.Div(style={'backgroundColor': colors['background']},children=[\n",
    "    html.H1(children='IPL SAGA DASHBOARD', style={'textAlign': 'center','color':'white'}),\n",
    "    html.H3(children='YEAR:2011',style={'textAlign': 'center','color':'white'}),\n",
    "    html.Img(src='data:image/png;base64,{}'.format(encoded_image.decode()),style={'height':'14%', 'width':'14%','float':'right'}),\n",
    "   \n",
    "    #dropdown for players on left\n",
    "    html.Div(children=[\n",
    "        \n",
    "        html.Label(children='Select Player',style={'color':'white'}),\n",
    "        dcc.Dropdown(\n",
    "            id = 'my_dropdown1',\n",
    "            options= options,\n",
    "            value='Choose columns',\n",
    "            style=dict(\n",
    "                    width='40%',\n",
    "                    verticalAlign=\"middle\",\n",
    "                    \n",
    "                )\n",
    "        ),\n",
    "\n",
    "        html.Button(\n",
    "            id='submit-button',\n",
    "            n_clicks=0,\n",
    "            children='Submit'\n",
    "        )\n",
    "    ],style={'textAlign': 'left'}),\n",
    "    \n",
    "    #################### FOR MODEL SELECTION ####################\n",
    "    html.Div([\n",
    "    html.P(\"Select Model:\"),\n",
    "    dcc.Dropdown(\n",
    "        id='model-name',\n",
    "        options=[{'label': x, 'value': x} \n",
    "                 for x in models],\n",
    "        value='Regression',\n",
    "        clearable=False\n",
    "    ),\n",
    "    #dcc.Graph(id=\"graph\"),\n",
    "]),\n",
    "    \n",
    "    ####################### FOR REGRESSION BAR PLOT #######################\n",
    "    \n",
    "\n",
    "    html.Div([\n",
    "        dcc.Graph(figure=fig2)\n",
    "    ]),\n",
    "    html.Div([\n",
    "    \n",
    "    #dcc.Graph(id=\"bar-chart\"),\n",
    "    dcc.Graph(id = 'Bar_Plot1', \n",
    "                  figure = {\n",
    "                      'data' : [\n",
    "                          {'x':df.name, 'y':df.retained, 'type':'bar', 'name':'First Chart'}\n",
    "                          ]\n",
    "                      })\n",
    "\n",
    "]),\n",
    "     html.Div([\n",
    "        dcc.Graph(figure=fig3)\n",
    "    ]),\n",
    "    \n",
    "    \n",
    "])\n",
    "\n",
    "################### CALL BACK FUNCTION ###############################\n",
    "#@app.callback(\n",
    "#    Output(\"graph\", \"figure\"), \n",
    "#    [Input('model-name', \"value\")])\n",
    "\n",
    "\n",
    "\n",
    "\n",
    "    \n",
    "    \n",
    "\n",
    "    \n",
    "\n",
    "if __name__ == '__main__':\n",
    "    app.run_server(port=4050)\n"
   ]
  },
  {
   "cell_type": "code",
   "execution_count": 8,
   "metadata": {},
   "outputs": [
    {
     "data": {
      "application/vnd.plotly.v1+json": {
       "config": {
        "plotlyServerURL": "https://plot.ly"
       },
       "data": [
        {
         "hovertemplate": "name=%{x}<br>predicted_prices=%{y}<extra></extra>",
         "legendgroup": "Aiden Blizzard",
         "line": {
          "color": "#636efa",
          "dash": "solid"
         },
         "mode": "lines",
         "name": "Aiden Blizzard",
         "orientation": "v",
         "showlegend": true,
         "type": "scatter",
         "x": [
          "Aiden Blizzard"
         ],
         "xaxis": "x",
         "y": [
          49819.36467972165
         ],
         "yaxis": "y"
        },
        {
         "hovertemplate": "name=%{x}<br>predicted_prices=%{y}<extra></extra>",
         "legendgroup": "Jonathan Vandiar",
         "line": {
          "color": "#EF553B",
          "dash": "solid"
         },
         "mode": "lines",
         "name": "Jonathan Vandiar",
         "orientation": "v",
         "showlegend": true,
         "type": "scatter",
         "x": [
          "Jonathan Vandiar"
         ],
         "xaxis": "x",
         "y": [
          149281.96694958524
         ],
         "yaxis": "y"
        },
        {
         "hovertemplate": "name=%{x}<br>predicted_prices=%{y}<extra></extra>",
         "legendgroup": "Nathan Rimmington",
         "line": {
          "color": "#00cc96",
          "dash": "solid"
         },
         "mode": "lines",
         "name": "Nathan Rimmington",
         "orientation": "v",
         "showlegend": true,
         "type": "scatter",
         "x": [
          "Nathan Rimmington"
         ],
         "xaxis": "x",
         "y": [
          80891.86272189056
         ],
         "yaxis": "y"
        },
        {
         "hovertemplate": "name=%{x}<br>predicted_prices=%{y}<extra></extra>",
         "legendgroup": "Rilee Rossouw",
         "line": {
          "color": "#ab63fa",
          "dash": "solid"
         },
         "mode": "lines",
         "name": "Rilee Rossouw",
         "orientation": "v",
         "showlegend": true,
         "type": "scatter",
         "x": [
          "Rilee Rossouw"
         ],
         "xaxis": "x",
         "y": [
          129333.95503102186
         ],
         "yaxis": "y"
        },
        {
         "hovertemplate": "name=%{x}<br>predicted_prices=%{y}<extra></extra>",
         "legendgroup": "Robert Frylinck",
         "line": {
          "color": "#FFA15A",
          "dash": "solid"
         },
         "mode": "lines",
         "name": "Robert Frylinck",
         "orientation": "v",
         "showlegend": true,
         "type": "scatter",
         "x": [
          "Robert Frylinck"
         ],
         "xaxis": "x",
         "y": [
          29964.433436426098
         ],
         "yaxis": "y"
        },
        {
         "hovertemplate": "name=%{x}<br>predicted_prices=%{y}<extra></extra>",
         "legendgroup": "Travis Birt",
         "line": {
          "color": "#19d3f3",
          "dash": "solid"
         },
         "mode": "lines",
         "name": "Travis Birt",
         "orientation": "v",
         "showlegend": true,
         "type": "scatter",
         "x": [
          "Travis Birt"
         ],
         "xaxis": "x",
         "y": [
          184512.17141344887
         ],
         "yaxis": "y"
        },
        {
         "hovertemplate": "name=%{x}<br>predicted_prices=%{y}<extra></extra>",
         "legendgroup": "George Bailey",
         "line": {
          "color": "#FF6692",
          "dash": "solid"
         },
         "mode": "lines",
         "name": "George Bailey",
         "orientation": "v",
         "showlegend": true,
         "type": "scatter",
         "x": [
          "George Bailey"
         ],
         "xaxis": "x",
         "y": [
          173858.45811606126
         ],
         "yaxis": "y"
        },
        {
         "hovertemplate": "name=%{x}<br>predicted_prices=%{y}<extra></extra>",
         "legendgroup": "Johan van der Wath",
         "line": {
          "color": "#B6E880",
          "dash": "solid"
         },
         "mode": "lines",
         "name": "Johan van der Wath",
         "orientation": "v",
         "showlegend": true,
         "type": "scatter",
         "x": [
          "Johan van der Wath"
         ],
         "xaxis": "x",
         "y": [
          5701.6674524314
         ],
         "yaxis": "y"
        },
        {
         "hovertemplate": "name=%{x}<br>predicted_prices=%{y}<extra></extra>",
         "legendgroup": "Luke Pomersbasch",
         "line": {
          "color": "#FF97FF",
          "dash": "solid"
         },
         "mode": "lines",
         "name": "Luke Pomersbasch",
         "orientation": "v",
         "showlegend": true,
         "type": "scatter",
         "x": [
          "Luke Pomersbasch"
         ],
         "xaxis": "x",
         "y": [
          142630.02054025372
         ],
         "yaxis": "y"
        },
        {
         "hovertemplate": "name=%{x}<br>predicted_prices=%{y}<extra></extra>",
         "legendgroup": "Moises Henriques",
         "line": {
          "color": "#FECB52",
          "dash": "solid"
         },
         "mode": "lines",
         "name": "Moises Henriques",
         "orientation": "v",
         "showlegend": true,
         "type": "scatter",
         "x": [
          "Moises Henriques"
         ],
         "xaxis": "x",
         "y": [
          219075.4966145571
         ],
         "yaxis": "y"
        },
        {
         "hovertemplate": "name=%{x}<br>predicted_prices=%{y}<extra></extra>",
         "legendgroup": "Roelof van der Merwe",
         "line": {
          "color": "#636efa",
          "dash": "solid"
         },
         "mode": "lines",
         "name": "Roelof van der Merwe",
         "orientation": "v",
         "showlegend": true,
         "type": "scatter",
         "x": [
          "Roelof van der Merwe"
         ],
         "xaxis": "x",
         "y": [
          186850.57985049547
         ],
         "yaxis": "y"
        },
        {
         "hovertemplate": "name=%{x}<br>predicted_prices=%{y}<extra></extra>",
         "legendgroup": "Michael Klinger",
         "line": {
          "color": "#EF553B",
          "dash": "solid"
         },
         "mode": "lines",
         "name": "Michael Klinger",
         "orientation": "v",
         "showlegend": true,
         "type": "scatter",
         "x": [
          "Michael Klinger"
         ],
         "xaxis": "x",
         "y": [
          233315.0217550476
         ],
         "yaxis": "y"
        },
        {
         "hovertemplate": "name=%{x}<br>predicted_prices=%{y}<extra></extra>",
         "legendgroup": "Andrew McDonald",
         "line": {
          "color": "#00cc96",
          "dash": "solid"
         },
         "mode": "lines",
         "name": "Andrew McDonald",
         "orientation": "v",
         "showlegend": true,
         "type": "scatter",
         "x": [
          "Andrew McDonald"
         ],
         "xaxis": "x",
         "y": [
          414239.21958882886
         ],
         "yaxis": "y"
        },
        {
         "hovertemplate": "name=%{x}<br>predicted_prices=%{y}<extra></extra>",
         "legendgroup": "Michael Lumb",
         "line": {
          "color": "#ab63fa",
          "dash": "solid"
         },
         "mode": "lines",
         "name": "Michael Lumb",
         "orientation": "v",
         "showlegend": true,
         "type": "scatter",
         "x": [
          "Michael Lumb"
         ],
         "xaxis": "x",
         "y": [
          468759.0128174122
         ],
         "yaxis": "y"
        },
        {
         "hovertemplate": "name=%{x}<br>predicted_prices=%{y}<extra></extra>",
         "legendgroup": "Suraj Randiv",
         "line": {
          "color": "#FFA15A",
          "dash": "solid"
         },
         "mode": "lines",
         "name": "Suraj Randiv",
         "orientation": "v",
         "showlegend": true,
         "type": "scatter",
         "x": [
          "Suraj Randiv"
         ],
         "xaxis": "x",
         "y": [
          94593.20141033399
         ],
         "yaxis": "y"
        },
        {
         "hovertemplate": "name=%{x}<br>predicted_prices=%{y}<extra></extra>",
         "legendgroup": "Thisara Perera",
         "line": {
          "color": "#19d3f3",
          "dash": "solid"
         },
         "mode": "lines",
         "name": "Thisara Perera",
         "orientation": "v",
         "showlegend": true,
         "type": "scatter",
         "x": [
          "Thisara Perera"
         ],
         "xaxis": "x",
         "y": [
          39368.175954841536
         ],
         "yaxis": "y"
        },
        {
         "hovertemplate": "name=%{x}<br>predicted_prices=%{y}<extra></extra>",
         "legendgroup": "Rusty Theron",
         "line": {
          "color": "#FF6692",
          "dash": "solid"
         },
         "mode": "lines",
         "name": "Rusty Theron",
         "orientation": "v",
         "showlegend": true,
         "type": "scatter",
         "x": [
          "Rusty Theron"
         ],
         "xaxis": "x",
         "y": [
          98662.5597683182
         ],
         "yaxis": "y"
        },
        {
         "hovertemplate": "name=%{x}<br>predicted_prices=%{y}<extra></extra>",
         "legendgroup": "Alfonso Thomas",
         "line": {
          "color": "#B6E880",
          "dash": "solid"
         },
         "mode": "lines",
         "name": "Alfonso Thomas",
         "orientation": "v",
         "showlegend": true,
         "type": "scatter",
         "x": [
          "Alfonso Thomas"
         ],
         "xaxis": "x",
         "y": [
          23165.180080160386
         ],
         "yaxis": "y"
        },
        {
         "hovertemplate": "name=%{x}<br>predicted_prices=%{y}<extra></extra>",
         "legendgroup": "Ben Hilfenhaus",
         "line": {
          "color": "#FF97FF",
          "dash": "solid"
         },
         "mode": "lines",
         "name": "Ben Hilfenhaus",
         "orientation": "v",
         "showlegend": true,
         "type": "scatter",
         "x": [
          "Ben Hilfenhaus"
         ],
         "xaxis": "x",
         "y": [
          89518.11421335267
         ],
         "yaxis": "y"
        },
        {
         "hovertemplate": "name=%{x}<br>predicted_prices=%{y}<extra></extra>",
         "legendgroup": "Colin Ingram",
         "line": {
          "color": "#FECB52",
          "dash": "solid"
         },
         "mode": "lines",
         "name": "Colin Ingram",
         "orientation": "v",
         "showlegend": true,
         "type": "scatter",
         "x": [
          "Colin Ingram"
         ],
         "xaxis": "x",
         "y": [
          204888.79013872214
         ],
         "yaxis": "y"
        },
        {
         "hovertemplate": "name=%{x}<br>predicted_prices=%{y}<extra></extra>",
         "legendgroup": "Dimitri Mascarenhas",
         "line": {
          "color": "#636efa",
          "dash": "solid"
         },
         "mode": "lines",
         "name": "Dimitri Mascarenhas",
         "orientation": "v",
         "showlegend": true,
         "type": "scatter",
         "x": [
          "Dimitri Mascarenhas"
         ],
         "xaxis": "x",
         "y": [
          340765.83961383643
         ],
         "yaxis": "y"
        },
        {
         "hovertemplate": "name=%{x}<br>predicted_prices=%{y}<extra></extra>",
         "legendgroup": "James Franklin",
         "line": {
          "color": "#EF553B",
          "dash": "solid"
         },
         "mode": "lines",
         "name": "James Franklin",
         "orientation": "v",
         "showlegend": true,
         "type": "scatter",
         "x": [
          "James Franklin"
         ],
         "xaxis": "x",
         "y": [
          358195.4876101017
         ],
         "yaxis": "y"
        },
        {
         "hovertemplate": "name=%{x}<br>predicted_prices=%{y}<extra></extra>",
         "legendgroup": "Jerome Taylor",
         "line": {
          "color": "#00cc96",
          "dash": "solid"
         },
         "mode": "lines",
         "name": "Jerome Taylor",
         "orientation": "v",
         "showlegend": true,
         "type": "scatter",
         "x": [
          "Jerome Taylor"
         ],
         "xaxis": "x",
         "y": [
          41126.16447538871
         ],
         "yaxis": "y"
        },
        {
         "hovertemplate": "name=%{x}<br>predicted_prices=%{y}<extra></extra>",
         "legendgroup": "Matthew Wade",
         "line": {
          "color": "#ab63fa",
          "dash": "solid"
         },
         "mode": "lines",
         "name": "Matthew Wade",
         "orientation": "v",
         "showlegend": true,
         "type": "scatter",
         "x": [
          "Matthew Wade"
         ],
         "xaxis": "x",
         "y": [
          130973.80640415788
         ],
         "yaxis": "y"
        },
        {
         "hovertemplate": "name=%{x}<br>predicted_prices=%{y}<extra></extra>",
         "legendgroup": "Nathan McCullum",
         "line": {
          "color": "#FFA15A",
          "dash": "solid"
         },
         "mode": "lines",
         "name": "Nathan McCullum",
         "orientation": "v",
         "showlegend": true,
         "type": "scatter",
         "x": [
          "Nathan McCullum"
         ],
         "xaxis": "x",
         "y": [
          274283.3899532183
         ],
         "yaxis": "y"
        },
        {
         "hovertemplate": "name=%{x}<br>predicted_prices=%{y}<extra></extra>",
         "legendgroup": "Nuwan Kulasekara",
         "line": {
          "color": "#19d3f3",
          "dash": "solid"
         },
         "mode": "lines",
         "name": "Nuwan Kulasekara",
         "orientation": "v",
         "showlegend": true,
         "type": "scatter",
         "x": [
          "Nuwan Kulasekara"
         ],
         "xaxis": "x",
         "y": [
          38317.2687895596
         ],
         "yaxis": "y"
        },
        {
         "hovertemplate": "name=%{x}<br>predicted_prices=%{y}<extra></extra>",
         "legendgroup": "Wriddhiman Saha",
         "line": {
          "color": "#FF6692",
          "dash": "solid"
         },
         "mode": "lines",
         "name": "Wriddhiman Saha",
         "orientation": "v",
         "showlegend": true,
         "type": "scatter",
         "x": [
          "Wriddhiman Saha"
         ],
         "xaxis": "x",
         "y": [
          732058.600642957
         ],
         "yaxis": "y"
        },
        {
         "hovertemplate": "name=%{x}<br>predicted_prices=%{y}<extra></extra>",
         "legendgroup": "Clint McKay",
         "line": {
          "color": "#B6E880",
          "dash": "solid"
         },
         "mode": "lines",
         "name": "Clint McKay",
         "orientation": "v",
         "showlegend": true,
         "type": "scatter",
         "x": [
          "Clint McKay"
         ],
         "xaxis": "x",
         "y": [
          -13021.441088980413
         ],
         "yaxis": "y"
        },
        {
         "hovertemplate": "name=%{x}<br>predicted_prices=%{y}<extra></extra>",
         "legendgroup": "Faf du Plessis",
         "line": {
          "color": "#FF97FF",
          "dash": "solid"
         },
         "mode": "lines",
         "name": "Faf du Plessis",
         "orientation": "v",
         "showlegend": true,
         "type": "scatter",
         "x": [
          "Faf du Plessis"
         ],
         "xaxis": "x",
         "y": [
          204316.56066728325
         ],
         "yaxis": "y"
        },
        {
         "hovertemplate": "name=%{x}<br>predicted_prices=%{y}<extra></extra>",
         "legendgroup": "Mohammad Kaif",
         "line": {
          "color": "#FECB52",
          "dash": "solid"
         },
         "mode": "lines",
         "name": "Mohammad Kaif",
         "orientation": "v",
         "showlegend": true,
         "type": "scatter",
         "x": [
          "Mohammad Kaif"
         ],
         "xaxis": "x",
         "y": [
          579728.3196687874
         ],
         "yaxis": "y"
        },
        {
         "hovertemplate": "name=%{x}<br>predicted_prices=%{y}<extra></extra>",
         "legendgroup": "Charl Langeveldt",
         "line": {
          "color": "#636efa",
          "dash": "solid"
         },
         "mode": "lines",
         "name": "Charl Langeveldt",
         "orientation": "v",
         "showlegend": true,
         "type": "scatter",
         "x": [
          "Charl Langeveldt"
         ],
         "xaxis": "x",
         "y": [
          124996.271157877
         ],
         "yaxis": "y"
        },
        {
         "hovertemplate": "name=%{x}<br>predicted_prices=%{y}<extra></extra>",
         "legendgroup": "Jesse Ryder",
         "line": {
          "color": "#EF553B",
          "dash": "solid"
         },
         "mode": "lines",
         "name": "Jesse Ryder",
         "orientation": "v",
         "showlegend": true,
         "type": "scatter",
         "x": [
          "Jesse Ryder"
         ],
         "xaxis": "x",
         "y": [
          100929.5946993021
         ],
         "yaxis": "y"
        },
        {
         "hovertemplate": "name=%{x}<br>predicted_prices=%{y}<extra></extra>",
         "legendgroup": "Joginder Sharma",
         "line": {
          "color": "#00cc96",
          "dash": "solid"
         },
         "mode": "lines",
         "name": "Joginder Sharma",
         "orientation": "v",
         "showlegend": true,
         "type": "scatter",
         "x": [
          "Joginder Sharma"
         ],
         "xaxis": "x",
         "y": [
          448460.1494427417
         ],
         "yaxis": "y"
        },
        {
         "hovertemplate": "name=%{x}<br>predicted_prices=%{y}<extra></extra>",
         "legendgroup": "Ryan ten Doeschate",
         "line": {
          "color": "#ab63fa",
          "dash": "solid"
         },
         "mode": "lines",
         "name": "Ryan ten Doeschate",
         "orientation": "v",
         "showlegend": true,
         "type": "scatter",
         "x": [
          "Ryan ten Doeschate"
         ],
         "xaxis": "x",
         "y": [
          404757.71635167045
         ],
         "yaxis": "y"
        },
        {
         "hovertemplate": "name=%{x}<br>predicted_prices=%{y}<extra></extra>",
         "legendgroup": "Wayne Parnell",
         "line": {
          "color": "#FFA15A",
          "dash": "solid"
         },
         "mode": "lines",
         "name": "Wayne Parnell",
         "orientation": "v",
         "showlegend": true,
         "type": "scatter",
         "x": [
          "Wayne Parnell"
         ],
         "xaxis": "x",
         "y": [
          117766.08777333795
         ],
         "yaxis": "y"
        },
        {
         "hovertemplate": "name=%{x}<br>predicted_prices=%{y}<extra></extra>",
         "legendgroup": "Davy Jacobs",
         "line": {
          "color": "#19d3f3",
          "dash": "solid"
         },
         "mode": "lines",
         "name": "Davy Jacobs",
         "orientation": "v",
         "showlegend": true,
         "type": "scatter",
         "x": [
          "Davy Jacobs"
         ],
         "xaxis": "x",
         "y": [
          311102.14631431364
         ],
         "yaxis": "y"
        },
        {
         "hovertemplate": "name=%{x}<br>predicted_prices=%{y}<extra></extra>",
         "legendgroup": "Dwayne Bravo",
         "line": {
          "color": "#FF6692",
          "dash": "solid"
         },
         "mode": "lines",
         "name": "Dwayne Bravo",
         "orientation": "v",
         "showlegend": true,
         "type": "scatter",
         "x": [
          "Dwayne Bravo"
         ],
         "xaxis": "x",
         "y": [
          778003.52625604
         ],
         "yaxis": "y"
        },
        {
         "hovertemplate": "name=%{x}<br>predicted_prices=%{y}<extra></extra>",
         "legendgroup": "Owais Shah",
         "line": {
          "color": "#B6E880",
          "dash": "solid"
         },
         "mode": "lines",
         "name": "Owais Shah",
         "orientation": "v",
         "showlegend": true,
         "type": "scatter",
         "x": [
          "Owais Shah"
         ],
         "xaxis": "x",
         "y": [
          730911.7544392744
         ],
         "yaxis": "y"
        },
        {
         "hovertemplate": "name=%{x}<br>predicted_prices=%{y}<extra></extra>",
         "legendgroup": "Scott Styris",
         "line": {
          "color": "#FF97FF",
          "dash": "solid"
         },
         "mode": "lines",
         "name": "Scott Styris",
         "orientation": "v",
         "showlegend": true,
         "type": "scatter",
         "x": [
          "Scott Styris"
         ],
         "xaxis": "x",
         "y": [
          489231.5296371589
         ],
         "yaxis": "y"
        },
        {
         "hovertemplate": "name=%{x}<br>predicted_prices=%{y}<extra></extra>",
         "legendgroup": "Steven Smith",
         "line": {
          "color": "#FECB52",
          "dash": "solid"
         },
         "mode": "lines",
         "name": "Steven Smith",
         "orientation": "v",
         "showlegend": true,
         "type": "scatter",
         "x": [
          "Steven Smith"
         ],
         "xaxis": "x",
         "y": [
          124577.10325529064
         ],
         "yaxis": "y"
        },
        {
         "hovertemplate": "name=%{x}<br>predicted_prices=%{y}<extra></extra>",
         "legendgroup": "Ajit Agarkar",
         "line": {
          "color": "#636efa",
          "dash": "solid"
         },
         "mode": "lines",
         "name": "Ajit Agarkar",
         "orientation": "v",
         "showlegend": true,
         "type": "scatter",
         "x": [
          "Ajit Agarkar"
         ],
         "xaxis": "x",
         "y": [
          815779.1214226376
         ],
         "yaxis": "y"
        },
        {
         "hovertemplate": "name=%{x}<br>predicted_prices=%{y}<extra></extra>",
         "legendgroup": "Sudeep Tyagi",
         "line": {
          "color": "#EF553B",
          "dash": "solid"
         },
         "mode": "lines",
         "name": "Sudeep Tyagi",
         "orientation": "v",
         "showlegend": true,
         "type": "scatter",
         "x": [
          "Sudeep Tyagi"
         ],
         "xaxis": "x",
         "y": [
          820837.0374528125
         ],
         "yaxis": "y"
        },
        {
         "hovertemplate": "name=%{x}<br>predicted_prices=%{y}<extra></extra>",
         "legendgroup": "Jaidev Unadkat",
         "line": {
          "color": "#00cc96",
          "dash": "solid"
         },
         "mode": "lines",
         "name": "Jaidev Unadkat",
         "orientation": "v",
         "showlegend": true,
         "type": "scatter",
         "x": [
          "Jaidev Unadkat"
         ],
         "xaxis": "x",
         "y": [
          466339.985747205
         ],
         "yaxis": "y"
        },
        {
         "hovertemplate": "name=%{x}<br>predicted_prices=%{y}<extra></extra>",
         "legendgroup": "Paul Collingwood",
         "line": {
          "color": "#ab63fa",
          "dash": "solid"
         },
         "mode": "lines",
         "name": "Paul Collingwood",
         "orientation": "v",
         "showlegend": true,
         "type": "scatter",
         "x": [
          "Paul Collingwood"
         ],
         "xaxis": "x",
         "y": [
          442096.6539405141
         ],
         "yaxis": "y"
        },
        {
         "hovertemplate": "name=%{x}<br>predicted_prices=%{y}<extra></extra>",
         "legendgroup": "Naman Ojha",
         "line": {
          "color": "#FFA15A",
          "dash": "solid"
         },
         "mode": "lines",
         "name": "Naman Ojha",
         "orientation": "v",
         "showlegend": true,
         "type": "scatter",
         "x": [
          "Naman Ojha"
         ],
         "xaxis": "x",
         "y": [
          744319.5158051455
         ],
         "yaxis": "y"
        },
        {
         "hovertemplate": "name=%{x}<br>predicted_prices=%{y}<extra></extra>",
         "legendgroup": "Tim Paine",
         "line": {
          "color": "#19d3f3",
          "dash": "solid"
         },
         "mode": "lines",
         "name": "Tim Paine",
         "orientation": "v",
         "showlegend": true,
         "type": "scatter",
         "x": [
          "Tim Paine"
         ],
         "xaxis": "x",
         "y": [
          130277.1081124012
         ],
         "yaxis": "y"
        },
        {
         "hovertemplate": "name=%{x}<br>predicted_prices=%{y}<extra></extra>",
         "legendgroup": "Manpreet Gony",
         "line": {
          "color": "#FF6692",
          "dash": "solid"
         },
         "mode": "lines",
         "name": "Manpreet Gony",
         "orientation": "v",
         "showlegend": true,
         "type": "scatter",
         "x": [
          "Manpreet Gony"
         ],
         "xaxis": "x",
         "y": [
          531809.9168949616
         ],
         "yaxis": "y"
        },
        {
         "hovertemplate": "name=%{x}<br>predicted_prices=%{y}<extra></extra>",
         "legendgroup": "Parthiv Patel",
         "line": {
          "color": "#B6E880",
          "dash": "solid"
         },
         "mode": "lines",
         "name": "Parthiv Patel",
         "orientation": "v",
         "showlegend": true,
         "type": "scatter",
         "x": [
          "Parthiv Patel"
         ],
         "xaxis": "x",
         "y": [
          406689.2711850549
         ],
         "yaxis": "y"
        },
        {
         "hovertemplate": "name=%{x}<br>predicted_prices=%{y}<extra></extra>",
         "legendgroup": "Aaron Finch",
         "line": {
          "color": "#FF97FF",
          "dash": "solid"
         },
         "mode": "lines",
         "name": "Aaron Finch",
         "orientation": "v",
         "showlegend": true,
         "type": "scatter",
         "x": [
          "Aaron Finch"
         ],
         "xaxis": "x",
         "y": [
          291815.59531456424
         ],
         "yaxis": "y"
        },
        {
         "hovertemplate": "name=%{x}<br>predicted_prices=%{y}<extra></extra>",
         "legendgroup": "Amit Mishra",
         "line": {
          "color": "#FECB52",
          "dash": "solid"
         },
         "mode": "lines",
         "name": "Amit Mishra",
         "orientation": "v",
         "showlegend": true,
         "type": "scatter",
         "x": [
          "Amit Mishra"
         ],
         "xaxis": "x",
         "y": [
          863063.7884397672
         ],
         "yaxis": "y"
        },
        {
         "hovertemplate": "name=%{x}<br>predicted_prices=%{y}<extra></extra>",
         "legendgroup": "Callum Ferguson",
         "line": {
          "color": "#636efa",
          "dash": "solid"
         },
         "mode": "lines",
         "name": "Callum Ferguson",
         "orientation": "v",
         "showlegend": true,
         "type": "scatter",
         "x": [
          "Callum Ferguson"
         ],
         "xaxis": "x",
         "y": [
          207675.58330574926
         ],
         "yaxis": "y"
        },
        {
         "hovertemplate": "name=%{x}<br>predicted_prices=%{y}<extra></extra>",
         "legendgroup": "JP Duminy",
         "line": {
          "color": "#EF553B",
          "dash": "solid"
         },
         "mode": "lines",
         "name": "JP Duminy",
         "orientation": "v",
         "showlegend": true,
         "type": "scatter",
         "x": [
          "JP Duminy"
         ],
         "xaxis": "x",
         "y": [
          835348.1921404419
         ],
         "yaxis": "y"
        },
        {
         "hovertemplate": "name=%{x}<br>predicted_prices=%{y}<extra></extra>",
         "legendgroup": "Shaun Tait",
         "line": {
          "color": "#00cc96",
          "dash": "solid"
         },
         "mode": "lines",
         "name": "Shaun Tait",
         "orientation": "v",
         "showlegend": true,
         "type": "scatter",
         "x": [
          "Shaun Tait"
         ],
         "xaxis": "x",
         "y": [
          223673.10420346487
         ],
         "yaxis": "y"
        },
        {
         "hovertemplate": "name=%{x}<br>predicted_prices=%{y}<extra></extra>",
         "legendgroup": "Shikhar Dhawan",
         "line": {
          "color": "#ab63fa",
          "dash": "solid"
         },
         "mode": "lines",
         "name": "Shikhar Dhawan",
         "orientation": "v",
         "showlegend": true,
         "type": "scatter",
         "x": [
          "Shikhar Dhawan"
         ],
         "xaxis": "x",
         "y": [
          787164.5684803431
         ],
         "yaxis": "y"
        },
        {
         "hovertemplate": "name=%{x}<br>predicted_prices=%{y}<extra></extra>",
         "legendgroup": "Brad Haddin",
         "line": {
          "color": "#FFA15A",
          "dash": "solid"
         },
         "mode": "lines",
         "name": "Brad Haddin",
         "orientation": "v",
         "showlegend": true,
         "type": "scatter",
         "x": [
          "Brad Haddin"
         ],
         "xaxis": "x",
         "y": [
          189110.5977541361
         ],
         "yaxis": "y"
        },
        {
         "hovertemplate": "name=%{x}<br>predicted_prices=%{y}<extra></extra>",
         "legendgroup": "Ryan Harris",
         "line": {
          "color": "#19d3f3",
          "dash": "solid"
         },
         "mode": "lines",
         "name": "Ryan Harris",
         "orientation": "v",
         "showlegend": true,
         "type": "scatter",
         "x": [
          "Ryan Harris"
         ],
         "xaxis": "x",
         "y": [
          190651.02827377387
         ],
         "yaxis": "y"
        },
        {
         "hovertemplate": "name=%{x}<br>predicted_prices=%{y}<extra></extra>",
         "legendgroup": "Eoin Morgan",
         "line": {
          "color": "#FF6692",
          "dash": "solid"
         },
         "mode": "lines",
         "name": "Eoin Morgan",
         "orientation": "v",
         "showlegend": true,
         "type": "scatter",
         "x": [
          "Eoin Morgan"
         ],
         "xaxis": "x",
         "y": [
          478602.21135555784
         ],
         "yaxis": "y"
        },
        {
         "hovertemplate": "name=%{x}<br>predicted_prices=%{y}<extra></extra>",
         "legendgroup": "James Hopes",
         "line": {
          "color": "#B6E880",
          "dash": "solid"
         },
         "mode": "lines",
         "name": "James Hopes",
         "orientation": "v",
         "showlegend": true,
         "type": "scatter",
         "x": [
          "James Hopes"
         ],
         "xaxis": "x",
         "y": [
          133187.51986044188
         ],
         "yaxis": "y"
        },
        {
         "hovertemplate": "name=%{x}<br>predicted_prices=%{y}<extra></extra>",
         "legendgroup": "Ashok Dinda",
         "line": {
          "color": "#FF97FF",
          "dash": "solid"
         },
         "mode": "lines",
         "name": "Ashok Dinda",
         "orientation": "v",
         "showlegend": true,
         "type": "scatter",
         "x": [
          "Ashok Dinda"
         ],
         "xaxis": "x",
         "y": [
          396489.06622991065
         ],
         "yaxis": "y"
        },
        {
         "hovertemplate": "name=%{x}<br>predicted_prices=%{y}<extra></extra>",
         "legendgroup": "Brett Lee",
         "line": {
          "color": "#FECB52",
          "dash": "solid"
         },
         "mode": "lines",
         "name": "Brett Lee",
         "orientation": "v",
         "showlegend": true,
         "type": "scatter",
         "x": [
          "Brett Lee"
         ],
         "xaxis": "x",
         "y": [
          561702.7912037189
         ],
         "yaxis": "y"
        },
        {
         "hovertemplate": "name=%{x}<br>predicted_prices=%{y}<extra></extra>",
         "legendgroup": "Murali Kartik",
         "line": {
          "color": "#636efa",
          "dash": "solid"
         },
         "mode": "lines",
         "name": "Murali Kartik",
         "orientation": "v",
         "showlegend": true,
         "type": "scatter",
         "x": [
          "Murali Kartik"
         ],
         "xaxis": "x",
         "y": [
          1010850.4429499257
         ],
         "yaxis": "y"
        },
        {
         "hovertemplate": "name=%{x}<br>predicted_prices=%{y}<extra></extra>",
         "legendgroup": "Shaun Marsh",
         "line": {
          "color": "#EF553B",
          "dash": "solid"
         },
         "mode": "lines",
         "name": "Shaun Marsh",
         "orientation": "v",
         "showlegend": true,
         "type": "scatter",
         "x": [
          "Shaun Marsh"
         ],
         "xaxis": "x",
         "y": [
          596322.408359047
         ],
         "yaxis": "y"
        },
        {
         "hovertemplate": "name=%{x}<br>predicted_prices=%{y}<extra></extra>",
         "legendgroup": "Stuart Broad",
         "line": {
          "color": "#00cc96",
          "dash": "solid"
         },
         "mode": "lines",
         "name": "Stuart Broad",
         "orientation": "v",
         "showlegend": true,
         "type": "scatter",
         "x": [
          "Stuart Broad"
         ],
         "xaxis": "x",
         "y": [
          123622.12401733176
         ],
         "yaxis": "y"
        },
        {
         "hovertemplate": "name=%{x}<br>predicted_prices=%{y}<extra></extra>",
         "legendgroup": "VVS Laxman",
         "line": {
          "color": "#ab63fa",
          "dash": "solid"
         },
         "mode": "lines",
         "name": "VVS Laxman",
         "orientation": "v",
         "showlegend": true,
         "type": "scatter",
         "x": [
          "VVS Laxman"
         ],
         "xaxis": "x",
         "y": [
          654088.5155355161
         ],
         "yaxis": "y"
        },
        {
         "hovertemplate": "name=%{x}<br>predicted_prices=%{y}<extra></extra>",
         "legendgroup": "Brad Hodge",
         "line": {
          "color": "#FFA15A",
          "dash": "solid"
         },
         "mode": "lines",
         "name": "Brad Hodge",
         "orientation": "v",
         "showlegend": true,
         "type": "scatter",
         "x": [
          "Brad Hodge"
         ],
         "xaxis": "x",
         "y": [
          795271.738971676
         ],
         "yaxis": "y"
        },
        {
         "hovertemplate": "name=%{x}<br>predicted_prices=%{y}<extra></extra>",
         "legendgroup": "Michael Hussey",
         "line": {
          "color": "#19d3f3",
          "dash": "solid"
         },
         "mode": "lines",
         "name": "Michael Hussey",
         "orientation": "v",
         "showlegend": true,
         "type": "scatter",
         "x": [
          "Michael Hussey"
         ],
         "xaxis": "x",
         "y": [
          547347.7205695095
         ],
         "yaxis": "y"
        },
        {
         "hovertemplate": "name=%{x}<br>predicted_prices=%{y}<extra></extra>",
         "legendgroup": "Shakib Al Hasan",
         "line": {
          "color": "#FF6692",
          "dash": "solid"
         },
         "mode": "lines",
         "name": "Shakib Al Hasan",
         "orientation": "v",
         "showlegend": true,
         "type": "scatter",
         "x": [
          "Shakib Al Hasan"
         ],
         "xaxis": "x",
         "y": [
          207376.27900744238
         ],
         "yaxis": "y"
        },
        {
         "hovertemplate": "name=%{x}<br>predicted_prices=%{y}<extra></extra>",
         "legendgroup": "Ishant Sharma",
         "line": {
          "color": "#B6E880",
          "dash": "solid"
         },
         "mode": "lines",
         "name": "Ishant Sharma",
         "orientation": "v",
         "showlegend": true,
         "type": "scatter",
         "x": [
          "Ishant Sharma"
         ],
         "xaxis": "x",
         "y": [
          601378.5037716596
         ],
         "yaxis": "y"
        },
        {
         "hovertemplate": "name=%{x}<br>predicted_prices=%{y}<extra></extra>",
         "legendgroup": "Brendon McCullum",
         "line": {
          "color": "#FF97FF",
          "dash": "solid"
         },
         "mode": "lines",
         "name": "Brendon McCullum",
         "orientation": "v",
         "showlegend": true,
         "type": "scatter",
         "x": [
          "Brendon McCullum"
         ],
         "xaxis": "x",
         "y": [
          371822.25791620265
         ],
         "yaxis": "y"
        },
        {
         "hovertemplate": "name=%{x}<br>predicted_prices=%{y}<extra></extra>",
         "legendgroup": "Manoj Tiwary",
         "line": {
          "color": "#FECB52",
          "dash": "solid"
         },
         "mode": "lines",
         "name": "Manoj Tiwary",
         "orientation": "v",
         "showlegend": true,
         "type": "scatter",
         "x": [
          "Manoj Tiwary"
         ],
         "xaxis": "x",
         "y": [
          1011549.3164939508
         ],
         "yaxis": "y"
        },
        {
         "hovertemplate": "name=%{x}<br>predicted_prices=%{y}<extra></extra>",
         "legendgroup": "Morne Morkel",
         "line": {
          "color": "#636efa",
          "dash": "solid"
         },
         "mode": "lines",
         "name": "Morne Morkel",
         "orientation": "v",
         "showlegend": true,
         "type": "scatter",
         "x": [
          "Morne Morkel"
         ],
         "xaxis": "x",
         "y": [
          306779.04749082145
         ],
         "yaxis": "y"
        },
        {
         "hovertemplate": "name=%{x}<br>predicted_prices=%{y}<extra></extra>",
         "legendgroup": "Vinay Kumar",
         "line": {
          "color": "#EF553B",
          "dash": "solid"
         },
         "mode": "lines",
         "name": "Vinay Kumar",
         "orientation": "v",
         "showlegend": true,
         "type": "scatter",
         "x": [
          "Vinay Kumar"
         ],
         "xaxis": "x",
         "y": [
          547466.3126622383
         ],
         "yaxis": "y"
        },
        {
         "hovertemplate": "name=%{x}<br>predicted_prices=%{y}<extra></extra>",
         "legendgroup": "Albie Morkel (retained)",
         "line": {
          "color": "#00cc96",
          "dash": "solid"
         },
         "mode": "lines",
         "name": "Albie Morkel (retained)",
         "orientation": "v",
         "showlegend": true,
         "type": "scatter",
         "x": [
          "Albie Morkel (retained)"
         ],
         "xaxis": "x",
         "y": [
          977751.3077189943
         ],
         "yaxis": "y"
        },
        {
         "hovertemplate": "name=%{x}<br>predicted_prices=%{y}<extra></extra>",
         "legendgroup": "Graeme Smith",
         "line": {
          "color": "#ab63fa",
          "dash": "solid"
         },
         "mode": "lines",
         "name": "Graeme Smith",
         "orientation": "v",
         "showlegend": true,
         "type": "scatter",
         "x": [
          "Graeme Smith"
         ],
         "xaxis": "x",
         "y": [
          426214.7308123268
         ],
         "yaxis": "y"
        },
        {
         "hovertemplate": "name=%{x}<br>predicted_prices=%{y}<extra></extra>",
         "legendgroup": "L Balaji",
         "line": {
          "color": "#FFA15A",
          "dash": "solid"
         },
         "mode": "lines",
         "name": "L Balaji",
         "orientation": "v",
         "showlegend": true,
         "type": "scatter",
         "x": [
          "L Balaji"
         ],
         "xaxis": "x",
         "y": [
          468971.57117613935
         ],
         "yaxis": "y"
        },
        {
         "hovertemplate": "name=%{x}<br>predicted_prices=%{y}<extra></extra>",
         "legendgroup": "Lasith Malinga (retained)",
         "line": {
          "color": "#19d3f3",
          "dash": "solid"
         },
         "mode": "lines",
         "name": "Lasith Malinga (retained)",
         "orientation": "v",
         "showlegend": true,
         "type": "scatter",
         "x": [
          "Lasith Malinga (retained)"
         ],
         "xaxis": "x",
         "y": [
          486568.86112895
         ],
         "yaxis": "y"
        },
        {
         "hovertemplate": "name=%{x}<br>predicted_prices=%{y}<extra></extra>",
         "legendgroup": "Pragyan Ojha",
         "line": {
          "color": "#FF6692",
          "dash": "solid"
         },
         "mode": "lines",
         "name": "Pragyan Ojha",
         "orientation": "v",
         "showlegend": true,
         "type": "scatter",
         "x": [
          "Pragyan Ojha"
         ],
         "xaxis": "x",
         "y": [
          769745.6100987038
         ],
         "yaxis": "y"
        },
        {
         "hovertemplate": "name=%{x}<br>predicted_prices=%{y}<extra></extra>",
         "legendgroup": "Rahul Dravid",
         "line": {
          "color": "#B6E880",
          "dash": "solid"
         },
         "mode": "lines",
         "name": "Rahul Dravid",
         "orientation": "v",
         "showlegend": true,
         "type": "scatter",
         "x": [
          "Rahul Dravid"
         ],
         "xaxis": "x",
         "y": [
          1015517.9939483636
         ],
         "yaxis": "y"
        },
        {
         "hovertemplate": "name=%{x}<br>predicted_prices=%{y}<extra></extra>",
         "legendgroup": "RP Singh",
         "line": {
          "color": "#FF97FF",
          "dash": "solid"
         },
         "mode": "lines",
         "name": "RP Singh",
         "orientation": "v",
         "showlegend": true,
         "type": "scatter",
         "x": [
          "RP Singh"
         ],
         "xaxis": "x",
         "y": [
          361661.4288279139
         ],
         "yaxis": "y"
        },
        {
         "hovertemplate": "name=%{x}<br>predicted_prices=%{y}<extra></extra>",
         "legendgroup": "Daniel Vettori",
         "line": {
          "color": "#FECB52",
          "dash": "solid"
         },
         "mode": "lines",
         "name": "Daniel Vettori",
         "orientation": "v",
         "showlegend": true,
         "type": "scatter",
         "x": [
          "Daniel Vettori"
         ],
         "xaxis": "x",
         "y": [
          1184484.9115005084
         ],
         "yaxis": "y"
        },
        {
         "hovertemplate": "name=%{x}<br>predicted_prices=%{y}<extra></extra>",
         "legendgroup": "Dirk Nannes",
         "line": {
          "color": "#636efa",
          "dash": "solid"
         },
         "mode": "lines",
         "name": "Dirk Nannes",
         "orientation": "v",
         "showlegend": true,
         "type": "scatter",
         "x": [
          "Dirk Nannes"
         ],
         "xaxis": "x",
         "y": [
          395095.44891418226
         ],
         "yaxis": "y"
        },
        {
         "hovertemplate": "name=%{x}<br>predicted_prices=%{y}<extra></extra>",
         "legendgroup": "Kevin Pietersen",
         "line": {
          "color": "#EF553B",
          "dash": "solid"
         },
         "mode": "lines",
         "name": "Kevin Pietersen",
         "orientation": "v",
         "showlegend": true,
         "type": "scatter",
         "x": [
          "Kevin Pietersen"
         ],
         "xaxis": "x",
         "y": [
          772926.024732983
         ],
         "yaxis": "y"
        },
        {
         "hovertemplate": "name=%{x}<br>predicted_prices=%{y}<extra></extra>",
         "legendgroup": "Tillakaratne Dilshan",
         "line": {
          "color": "#00cc96",
          "dash": "solid"
         },
         "mode": "lines",
         "name": "Tillakaratne Dilshan",
         "orientation": "v",
         "showlegend": true,
         "type": "scatter",
         "x": [
          "Tillakaratne Dilshan"
         ],
         "xaxis": "x",
         "y": [
          456741.9056229128
         ],
         "yaxis": "y"
        },
        {
         "hovertemplate": "name=%{x}<br>predicted_prices=%{y}<extra></extra>",
         "legendgroup": "Cheteshwar Pujara",
         "line": {
          "color": "#ab63fa",
          "dash": "solid"
         },
         "mode": "lines",
         "name": "Cheteshwar Pujara",
         "orientation": "v",
         "showlegend": true,
         "type": "scatter",
         "x": [
          "Cheteshwar Pujara"
         ],
         "xaxis": "x",
         "y": [
          459790.002791161
         ],
         "yaxis": "y"
        },
        {
         "hovertemplate": "name=%{x}<br>predicted_prices=%{y}<extra></extra>",
         "legendgroup": "Doug Bollinger",
         "line": {
          "color": "#FFA15A",
          "dash": "solid"
         },
         "mode": "lines",
         "name": "Doug Bollinger",
         "orientation": "v",
         "showlegend": true,
         "type": "scatter",
         "x": [
          "Doug Bollinger"
         ],
         "xaxis": "x",
         "y": [
          205545.4934415709
         ],
         "yaxis": "y"
        },
        {
         "hovertemplate": "name=%{x}<br>predicted_prices=%{y}<extra></extra>",
         "legendgroup": "Kumar Sangakkara",
         "line": {
          "color": "#19d3f3",
          "dash": "solid"
         },
         "mode": "lines",
         "name": "Kumar Sangakkara",
         "orientation": "v",
         "showlegend": true,
         "type": "scatter",
         "x": [
          "Kumar Sangakkara"
         ],
         "xaxis": "x",
         "y": [
          1538212.8906050476
         ],
         "yaxis": "y"
        },
        {
         "hovertemplate": "name=%{x}<br>predicted_prices=%{y}<extra></extra>",
         "legendgroup": "Munaf Patel",
         "line": {
          "color": "#FF6692",
          "dash": "solid"
         },
         "mode": "lines",
         "name": "Munaf Patel",
         "orientation": "v",
         "showlegend": true,
         "type": "scatter",
         "x": [
          "Munaf Patel"
         ],
         "xaxis": "x",
         "y": [
          549959.9535897818
         ],
         "yaxis": "y"
        },
        {
         "hovertemplate": "name=%{x}<br>predicted_prices=%{y}<extra></extra>",
         "legendgroup": "Venugopal Rao",
         "line": {
          "color": "#B6E880",
          "dash": "solid"
         },
         "mode": "lines",
         "name": "Venugopal Rao",
         "orientation": "v",
         "showlegend": true,
         "type": "scatter",
         "x": [
          "Venugopal Rao"
         ],
         "xaxis": "x",
         "y": [
          622666.9335429146
         ],
         "yaxis": "y"
        },
        {
         "hovertemplate": "name=%{x}<br>predicted_prices=%{y}<extra></extra>",
         "legendgroup": "David Warner",
         "line": {
          "color": "#FF97FF",
          "dash": "solid"
         },
         "mode": "lines",
         "name": "David Warner",
         "orientation": "v",
         "showlegend": true,
         "type": "scatter",
         "x": [
          "David Warner"
         ],
         "xaxis": "x",
         "y": [
          869121.9895878548
         ],
         "yaxis": "y"
        },
        {
         "hovertemplate": "name=%{x}<br>predicted_prices=%{y}<extra></extra>",
         "legendgroup": "Abhishek Nayar",
         "line": {
          "color": "#FECB52",
          "dash": "solid"
         },
         "mode": "lines",
         "name": "Abhishek Nayar",
         "orientation": "v",
         "showlegend": true,
         "type": "scatter",
         "x": [
          "Abhishek Nayar"
         ],
         "xaxis": "x",
         "y": [
          505905.88883792656
         ],
         "yaxis": "y"
        },
        {
         "hovertemplate": "name=%{x}<br>predicted_prices=%{y}<extra></extra>",
         "legendgroup": "Praveen Kumar",
         "line": {
          "color": "#636efa",
          "dash": "solid"
         },
         "mode": "lines",
         "name": "Praveen Kumar",
         "orientation": "v",
         "showlegend": true,
         "type": "scatter",
         "x": [
          "Praveen Kumar"
         ],
         "xaxis": "x",
         "y": [
          939539.1223596841
         ],
         "yaxis": "y"
        },
        {
         "hovertemplate": "name=%{x}<br>predicted_prices=%{y}<extra></extra>",
         "legendgroup": "Andrew Symonds",
         "line": {
          "color": "#EF553B",
          "dash": "solid"
         },
         "mode": "lines",
         "name": "Andrew Symonds",
         "orientation": "v",
         "showlegend": true,
         "type": "scatter",
         "x": [
          "Andrew Symonds"
         ],
         "xaxis": "x",
         "y": [
          1085023.3263494924
         ],
         "yaxis": "y"
        },
        {
         "hovertemplate": "name=%{x}<br>predicted_prices=%{y}<extra></extra>",
         "legendgroup": "Ashish Nehra",
         "line": {
          "color": "#00cc96",
          "dash": "solid"
         },
         "mode": "lines",
         "name": "Ashish Nehra",
         "orientation": "v",
         "showlegend": true,
         "type": "scatter",
         "x": [
          "Ashish Nehra"
         ],
         "xaxis": "x",
         "y": [
          459513.3767876703
         ],
         "yaxis": "y"
        },
        {
         "hovertemplate": "name=%{x}<br>predicted_prices=%{y}<extra></extra>",
         "legendgroup": "R Ashwin",
         "line": {
          "color": "#ab63fa",
          "dash": "solid"
         },
         "mode": "lines",
         "name": "R Ashwin",
         "orientation": "v",
         "showlegend": true,
         "type": "scatter",
         "x": [
          "R Ashwin"
         ],
         "xaxis": "x",
         "y": [
          1084735.434891864
         ],
         "yaxis": "y"
        },
        {
         "hovertemplate": "name=%{x}<br>predicted_prices=%{y}<extra></extra>",
         "legendgroup": "S Badrinath",
         "line": {
          "color": "#FFA15A",
          "dash": "solid"
         },
         "mode": "lines",
         "name": "S Badrinath",
         "orientation": "v",
         "showlegend": true,
         "type": "scatter",
         "x": [
          "S Badrinath"
         ],
         "xaxis": "x",
         "y": [
          848123.3157071256
         ],
         "yaxis": "y"
        },
        {
         "hovertemplate": "name=%{x}<br>predicted_prices=%{y}<extra></extra>",
         "legendgroup": "Adam Gilchrist",
         "line": {
          "color": "#19d3f3",
          "dash": "solid"
         },
         "mode": "lines",
         "name": "Adam Gilchrist",
         "orientation": "v",
         "showlegend": true,
         "type": "scatter",
         "x": [
          "Adam Gilchrist"
         ],
         "xaxis": "x",
         "y": [
          1423433.6526224385
         ],
         "yaxis": "y"
        },
        {
         "hovertemplate": "name=%{x}<br>predicted_prices=%{y}<extra></extra>",
         "legendgroup": "Daniel Christian",
         "line": {
          "color": "#FF6692",
          "dash": "solid"
         },
         "mode": "lines",
         "name": "Daniel Christian",
         "orientation": "v",
         "showlegend": true,
         "type": "scatter",
         "x": [
          "Daniel Christian"
         ],
         "xaxis": "x",
         "y": [
          67370.2036948168
         ],
         "yaxis": "y"
        },
        {
         "hovertemplate": "name=%{x}<br>predicted_prices=%{y}<extra></extra>",
         "legendgroup": "Dinesh Karthik",
         "line": {
          "color": "#B6E880",
          "dash": "solid"
         },
         "mode": "lines",
         "name": "Dinesh Karthik",
         "orientation": "v",
         "showlegend": true,
         "type": "scatter",
         "x": [
          "Dinesh Karthik"
         ],
         "xaxis": "x",
         "y": [
          860178.0552066667
         ],
         "yaxis": "y"
        },
        {
         "hovertemplate": "name=%{x}<br>predicted_prices=%{y}<extra></extra>",
         "legendgroup": "Kieron Pollard (retained)",
         "line": {
          "color": "#FF97FF",
          "dash": "solid"
         },
         "mode": "lines",
         "name": "Kieron Pollard (retained)",
         "orientation": "v",
         "showlegend": true,
         "type": "scatter",
         "x": [
          "Kieron Pollard (retained)"
         ],
         "xaxis": "x",
         "y": [
          980700.4073672376
         ],
         "yaxis": "y"
        },
        {
         "hovertemplate": "name=%{x}<br>predicted_prices=%{y}<extra></extra>",
         "legendgroup": "M Vijay (retained)",
         "line": {
          "color": "#FECB52",
          "dash": "solid"
         },
         "mode": "lines",
         "name": "M Vijay (retained)",
         "orientation": "v",
         "showlegend": true,
         "type": "scatter",
         "x": [
          "M Vijay (retained)"
         ],
         "xaxis": "x",
         "y": [
          1398467.4431242957
         ],
         "yaxis": "y"
        },
        {
         "hovertemplate": "name=%{x}<br>predicted_prices=%{y}<extra></extra>",
         "legendgroup": "Piyush Chawla",
         "line": {
          "color": "#636efa",
          "dash": "solid"
         },
         "mode": "lines",
         "name": "Piyush Chawla",
         "orientation": "v",
         "showlegend": true,
         "type": "scatter",
         "x": [
          "Piyush Chawla"
         ],
         "xaxis": "x",
         "y": [
          974290.2678891692
         ],
         "yaxis": "y"
        },
        {
         "hovertemplate": "name=%{x}<br>predicted_prices=%{y}<extra></extra>",
         "legendgroup": "Sreesanth",
         "line": {
          "color": "#EF553B",
          "dash": "solid"
         },
         "mode": "lines",
         "name": "Sreesanth",
         "orientation": "v",
         "showlegend": true,
         "type": "scatter",
         "x": [
          "Sreesanth"
         ],
         "xaxis": "x",
         "y": [
          611942.2860828206
         ],
         "yaxis": "y"
        },
        {
         "hovertemplate": "name=%{x}<br>predicted_prices=%{y}<extra></extra>",
         "legendgroup": "Zaheer Khan",
         "line": {
          "color": "#00cc96",
          "dash": "solid"
         },
         "mode": "lines",
         "name": "Zaheer Khan",
         "orientation": "v",
         "showlegend": true,
         "type": "scatter",
         "x": [
          "Zaheer Khan"
         ],
         "xaxis": "x",
         "y": [
          644395.326946003
         ],
         "yaxis": "y"
        },
        {
         "hovertemplate": "name=%{x}<br>predicted_prices=%{y}<extra></extra>",
         "legendgroup": "Angelo Mathews",
         "line": {
          "color": "#ab63fa",
          "dash": "solid"
         },
         "mode": "lines",
         "name": "Angelo Mathews",
         "orientation": "v",
         "showlegend": true,
         "type": "scatter",
         "x": [
          "Angelo Mathews"
         ],
         "xaxis": "x",
         "y": [
          834431.5824777788
         ],
         "yaxis": "y"
        },
        {
         "hovertemplate": "name=%{x}<br>predicted_prices=%{y}<extra></extra>",
         "legendgroup": "Johan Botha",
         "line": {
          "color": "#FFA15A",
          "dash": "solid"
         },
         "mode": "lines",
         "name": "Johan Botha",
         "orientation": "v",
         "showlegend": true,
         "type": "scatter",
         "x": [
          "Johan Botha"
         ],
         "xaxis": "x",
         "y": [
          554652.9822879361
         ],
         "yaxis": "y"
        },
        {
         "hovertemplate": "name=%{x}<br>predicted_prices=%{y}<extra></extra>",
         "legendgroup": "Ravindra Jadeja",
         "line": {
          "color": "#19d3f3",
          "dash": "solid"
         },
         "mode": "lines",
         "name": "Ravindra Jadeja",
         "orientation": "v",
         "showlegend": true,
         "type": "scatter",
         "x": [
          "Ravindra Jadeja"
         ],
         "xaxis": "x",
         "y": [
          599251.2940939199
         ],
         "yaxis": "y"
        },
        {
         "hovertemplate": "name=%{x}<br>predicted_prices=%{y}<extra></extra>",
         "legendgroup": "Ross Taylor",
         "line": {
          "color": "#FF6692",
          "dash": "solid"
         },
         "mode": "lines",
         "name": "Ross Taylor",
         "orientation": "v",
         "showlegend": true,
         "type": "scatter",
         "x": [
          "Ross Taylor"
         ],
         "xaxis": "x",
         "y": [
          622158.8692113282
         ],
         "yaxis": "y"
        },
        {
         "hovertemplate": "name=%{x}<br>predicted_prices=%{y}<extra></extra>",
         "legendgroup": "AB de Villiers",
         "line": {
          "color": "#B6E880",
          "dash": "solid"
         },
         "mode": "lines",
         "name": "AB de Villiers",
         "orientation": "v",
         "showlegend": true,
         "type": "scatter",
         "x": [
          "AB de Villiers"
         ],
         "xaxis": "x",
         "y": [
          509155.18727826007
         ],
         "yaxis": "y"
        },
        {
         "hovertemplate": "name=%{x}<br>predicted_prices=%{y}<extra></extra>",
         "legendgroup": "Cameron White",
         "line": {
          "color": "#FF97FF",
          "dash": "solid"
         },
         "mode": "lines",
         "name": "Cameron White",
         "orientation": "v",
         "showlegend": true,
         "type": "scatter",
         "x": [
          "Cameron White"
         ],
         "xaxis": "x",
         "y": [
          712161.4510511005
         ],
         "yaxis": "y"
        },
        {
         "hovertemplate": "name=%{x}<br>predicted_prices=%{y}<extra></extra>",
         "legendgroup": "Jacques Kallis",
         "line": {
          "color": "#FECB52",
          "dash": "solid"
         },
         "mode": "lines",
         "name": "Jacques Kallis",
         "orientation": "v",
         "showlegend": true,
         "type": "scatter",
         "x": [
          "Jacques Kallis"
         ],
         "xaxis": "x",
         "y": [
          816486.0579023418
         ],
         "yaxis": "y"
        },
        {
         "hovertemplate": "name=%{x}<br>predicted_prices=%{y}<extra></extra>",
         "legendgroup": "Muttiah Muralitharan",
         "line": {
          "color": "#636efa",
          "dash": "solid"
         },
         "mode": "lines",
         "name": "Muttiah Muralitharan",
         "orientation": "v",
         "showlegend": true,
         "type": "scatter",
         "x": [
          "Muttiah Muralitharan"
         ],
         "xaxis": "x",
         "y": [
          635111.522901125
         ],
         "yaxis": "y"
        },
        {
         "hovertemplate": "name=%{x}<br>predicted_prices=%{y}<extra></extra>",
         "legendgroup": "Dale Steyn",
         "line": {
          "color": "#EF553B",
          "dash": "solid"
         },
         "mode": "lines",
         "name": "Dale Steyn",
         "orientation": "v",
         "showlegend": true,
         "type": "scatter",
         "x": [
          "Dale Steyn"
         ],
         "xaxis": "x",
         "y": [
          861285.2778290436
         ],
         "yaxis": "y"
        },
        {
         "hovertemplate": "name=%{x}<br>predicted_prices=%{y}<extra></extra>",
         "legendgroup": "Harbhajan Singh (retained)",
         "line": {
          "color": "#00cc96",
          "dash": "solid"
         },
         "mode": "lines",
         "name": "Harbhajan Singh (retained)",
         "orientation": "v",
         "showlegend": true,
         "type": "scatter",
         "x": [
          "Harbhajan Singh (retained)"
         ],
         "xaxis": "x",
         "y": [
          561345.2418166961
         ],
         "yaxis": "y"
        },
        {
         "hovertemplate": "name=%{x}<br>predicted_prices=%{y}<extra></extra>",
         "legendgroup": "Shane Watson (retained)",
         "line": {
          "color": "#ab63fa",
          "dash": "solid"
         },
         "mode": "lines",
         "name": "Shane Watson (retained)",
         "orientation": "v",
         "showlegend": true,
         "type": "scatter",
         "x": [
          "Shane Watson (retained)"
         ],
         "xaxis": "x",
         "y": [
          789252.9914081873
         ],
         "yaxis": "y"
        },
        {
         "hovertemplate": "name=%{x}<br>predicted_prices=%{y}<extra></extra>",
         "legendgroup": "Suresh Raina (retained)",
         "line": {
          "color": "#FFA15A",
          "dash": "solid"
         },
         "mode": "lines",
         "name": "Suresh Raina (retained)",
         "orientation": "v",
         "showlegend": true,
         "type": "scatter",
         "x": [
          "Suresh Raina (retained)"
         ],
         "xaxis": "x",
         "y": [
          1516121.255254957
         ],
         "yaxis": "y"
        },
        {
         "hovertemplate": "name=%{x}<br>predicted_prices=%{y}<extra></extra>",
         "legendgroup": "David Hussey",
         "line": {
          "color": "#19d3f3",
          "dash": "solid"
         },
         "mode": "lines",
         "name": "David Hussey",
         "orientation": "v",
         "showlegend": true,
         "type": "scatter",
         "x": [
          "David Hussey"
         ],
         "xaxis": "x",
         "y": [
          1312577.9109164248
         ],
         "yaxis": "y"
        },
        {
         "hovertemplate": "name=%{x}<br>predicted_prices=%{y}<extra></extra>",
         "legendgroup": "Mahela Jayawardene",
         "line": {
          "color": "#FF6692",
          "dash": "solid"
         },
         "mode": "lines",
         "name": "Mahela Jayawardene",
         "orientation": "v",
         "showlegend": true,
         "type": "scatter",
         "x": [
          "Mahela Jayawardene"
         ],
         "xaxis": "x",
         "y": [
          1440906.9573051936
         ],
         "yaxis": "y"
        },
        {
         "hovertemplate": "name=%{x}<br>predicted_prices=%{y}<extra></extra>",
         "legendgroup": "Saurabh Tiwary",
         "line": {
          "color": "#B6E880",
          "dash": "solid"
         },
         "mode": "lines",
         "name": "Saurabh Tiwary",
         "orientation": "v",
         "showlegend": true,
         "type": "scatter",
         "x": [
          "Saurabh Tiwary"
         ],
         "xaxis": "x",
         "y": [
          973319.6634043072
         ],
         "yaxis": "y"
        },
        {
         "hovertemplate": "name=%{x}<br>predicted_prices=%{y}<extra></extra>",
         "legendgroup": "MS Dhoni (retained)",
         "line": {
          "color": "#FF97FF",
          "dash": "solid"
         },
         "mode": "lines",
         "name": "MS Dhoni (retained)",
         "orientation": "v",
         "showlegend": true,
         "type": "scatter",
         "x": [
          "MS Dhoni (retained)"
         ],
         "xaxis": "x",
         "y": [
          1750547.2903341998
         ],
         "yaxis": "y"
        },
        {
         "hovertemplate": "name=%{x}<br>predicted_prices=%{y}<extra></extra>",
         "legendgroup": "Sachin Tendulkar (retained)",
         "line": {
          "color": "#FECB52",
          "dash": "solid"
         },
         "mode": "lines",
         "name": "Sachin Tendulkar (retained)",
         "orientation": "v",
         "showlegend": true,
         "type": "scatter",
         "x": [
          "Sachin Tendulkar (retained)"
         ],
         "xaxis": "x",
         "y": [
          1395745.69662394
         ],
         "yaxis": "y"
        },
        {
         "hovertemplate": "name=%{x}<br>predicted_prices=%{y}<extra></extra>",
         "legendgroup": "Shane Warne (retained)",
         "line": {
          "color": "#636efa",
          "dash": "solid"
         },
         "mode": "lines",
         "name": "Shane Warne (retained)",
         "orientation": "v",
         "showlegend": true,
         "type": "scatter",
         "x": [
          "Shane Warne (retained)"
         ],
         "xaxis": "x",
         "y": [
          1356024.5580458443
         ],
         "yaxis": "y"
        },
        {
         "hovertemplate": "name=%{x}<br>predicted_prices=%{y}<extra></extra>",
         "legendgroup": "Virat Kohli (retained)",
         "line": {
          "color": "#EF553B",
          "dash": "solid"
         },
         "mode": "lines",
         "name": "Virat Kohli (retained)",
         "orientation": "v",
         "showlegend": true,
         "type": "scatter",
         "x": [
          "Virat Kohli (retained)"
         ],
         "xaxis": "x",
         "y": [
          1334272.0343287159
         ],
         "yaxis": "y"
        },
        {
         "hovertemplate": "name=%{x}<br>predicted_prices=%{y}<extra></extra>",
         "legendgroup": "Virender Sehwag (retained)",
         "line": {
          "color": "#00cc96",
          "dash": "solid"
         },
         "mode": "lines",
         "name": "Virender Sehwag (retained)",
         "orientation": "v",
         "showlegend": true,
         "type": "scatter",
         "x": [
          "Virender Sehwag (retained)"
         ],
         "xaxis": "x",
         "y": [
          1707925.0296849946
         ],
         "yaxis": "y"
        },
        {
         "hovertemplate": "name=%{x}<br>predicted_prices=%{y}<extra></extra>",
         "legendgroup": "Yuvraj Singh",
         "line": {
          "color": "#ab63fa",
          "dash": "solid"
         },
         "mode": "lines",
         "name": "Yuvraj Singh",
         "orientation": "v",
         "showlegend": true,
         "type": "scatter",
         "x": [
          "Yuvraj Singh"
         ],
         "xaxis": "x",
         "y": [
          1797805.311172932
         ],
         "yaxis": "y"
        },
        {
         "hovertemplate": "name=%{x}<br>predicted_prices=%{y}<extra></extra>",
         "legendgroup": "Irfan Pathan",
         "line": {
          "color": "#FFA15A",
          "dash": "solid"
         },
         "mode": "lines",
         "name": "Irfan Pathan",
         "orientation": "v",
         "showlegend": true,
         "type": "scatter",
         "x": [
          "Irfan Pathan"
         ],
         "xaxis": "x",
         "y": [
          1282787.3760544404
         ],
         "yaxis": "y"
        },
        {
         "hovertemplate": "name=%{x}<br>predicted_prices=%{y}<extra></extra>",
         "legendgroup": "Rohit Sharma",
         "line": {
          "color": "#19d3f3",
          "dash": "solid"
         },
         "mode": "lines",
         "name": "Rohit Sharma",
         "orientation": "v",
         "showlegend": true,
         "type": "scatter",
         "x": [
          "Rohit Sharma"
         ],
         "xaxis": "x",
         "y": [
          1188244.8611394342
         ],
         "yaxis": "y"
        },
        {
         "hovertemplate": "name=%{x}<br>predicted_prices=%{y}<extra></extra>",
         "legendgroup": "Robin Uthappa",
         "line": {
          "color": "#FF6692",
          "dash": "solid"
         },
         "mode": "lines",
         "name": "Robin Uthappa",
         "orientation": "v",
         "showlegend": true,
         "type": "scatter",
         "x": [
          "Robin Uthappa"
         ],
         "xaxis": "x",
         "y": [
          1446400.1828156747
         ],
         "yaxis": "y"
        },
        {
         "hovertemplate": "name=%{x}<br>predicted_prices=%{y}<extra></extra>",
         "legendgroup": "Yusuf Pathan",
         "line": {
          "color": "#B6E880",
          "dash": "solid"
         },
         "mode": "lines",
         "name": "Yusuf Pathan",
         "orientation": "v",
         "showlegend": true,
         "type": "scatter",
         "x": [
          "Yusuf Pathan"
         ],
         "xaxis": "x",
         "y": [
          1730645.1106264188
         ],
         "yaxis": "y"
        },
        {
         "hovertemplate": "name=%{x}<br>predicted_prices=%{y}<extra></extra>",
         "legendgroup": "Gautam Gambhir",
         "line": {
          "color": "#FF97FF",
          "dash": "solid"
         },
         "mode": "lines",
         "name": "Gautam Gambhir",
         "orientation": "v",
         "showlegend": true,
         "type": "scatter",
         "x": [
          "Gautam Gambhir"
         ],
         "xaxis": "x",
         "y": [
          1574093.0513512834
         ],
         "yaxis": "y"
        }
       ],
       "layout": {
        "legend": {
         "title": {
          "text": "name"
         },
         "tracegroupgap": 0
        },
        "margin": {
         "t": 60
        },
        "template": {
         "data": {
          "bar": [
           {
            "error_x": {
             "color": "#2a3f5f"
            },
            "error_y": {
             "color": "#2a3f5f"
            },
            "marker": {
             "line": {
              "color": "#E5ECF6",
              "width": 0.5
             }
            },
            "type": "bar"
           }
          ],
          "barpolar": [
           {
            "marker": {
             "line": {
              "color": "#E5ECF6",
              "width": 0.5
             }
            },
            "type": "barpolar"
           }
          ],
          "carpet": [
           {
            "aaxis": {
             "endlinecolor": "#2a3f5f",
             "gridcolor": "white",
             "linecolor": "white",
             "minorgridcolor": "white",
             "startlinecolor": "#2a3f5f"
            },
            "baxis": {
             "endlinecolor": "#2a3f5f",
             "gridcolor": "white",
             "linecolor": "white",
             "minorgridcolor": "white",
             "startlinecolor": "#2a3f5f"
            },
            "type": "carpet"
           }
          ],
          "choropleth": [
           {
            "colorbar": {
             "outlinewidth": 0,
             "ticks": ""
            },
            "type": "choropleth"
           }
          ],
          "contour": [
           {
            "colorbar": {
             "outlinewidth": 0,
             "ticks": ""
            },
            "colorscale": [
             [
              0,
              "#0d0887"
             ],
             [
              0.1111111111111111,
              "#46039f"
             ],
             [
              0.2222222222222222,
              "#7201a8"
             ],
             [
              0.3333333333333333,
              "#9c179e"
             ],
             [
              0.4444444444444444,
              "#bd3786"
             ],
             [
              0.5555555555555556,
              "#d8576b"
             ],
             [
              0.6666666666666666,
              "#ed7953"
             ],
             [
              0.7777777777777778,
              "#fb9f3a"
             ],
             [
              0.8888888888888888,
              "#fdca26"
             ],
             [
              1,
              "#f0f921"
             ]
            ],
            "type": "contour"
           }
          ],
          "contourcarpet": [
           {
            "colorbar": {
             "outlinewidth": 0,
             "ticks": ""
            },
            "type": "contourcarpet"
           }
          ],
          "heatmap": [
           {
            "colorbar": {
             "outlinewidth": 0,
             "ticks": ""
            },
            "colorscale": [
             [
              0,
              "#0d0887"
             ],
             [
              0.1111111111111111,
              "#46039f"
             ],
             [
              0.2222222222222222,
              "#7201a8"
             ],
             [
              0.3333333333333333,
              "#9c179e"
             ],
             [
              0.4444444444444444,
              "#bd3786"
             ],
             [
              0.5555555555555556,
              "#d8576b"
             ],
             [
              0.6666666666666666,
              "#ed7953"
             ],
             [
              0.7777777777777778,
              "#fb9f3a"
             ],
             [
              0.8888888888888888,
              "#fdca26"
             ],
             [
              1,
              "#f0f921"
             ]
            ],
            "type": "heatmap"
           }
          ],
          "heatmapgl": [
           {
            "colorbar": {
             "outlinewidth": 0,
             "ticks": ""
            },
            "colorscale": [
             [
              0,
              "#0d0887"
             ],
             [
              0.1111111111111111,
              "#46039f"
             ],
             [
              0.2222222222222222,
              "#7201a8"
             ],
             [
              0.3333333333333333,
              "#9c179e"
             ],
             [
              0.4444444444444444,
              "#bd3786"
             ],
             [
              0.5555555555555556,
              "#d8576b"
             ],
             [
              0.6666666666666666,
              "#ed7953"
             ],
             [
              0.7777777777777778,
              "#fb9f3a"
             ],
             [
              0.8888888888888888,
              "#fdca26"
             ],
             [
              1,
              "#f0f921"
             ]
            ],
            "type": "heatmapgl"
           }
          ],
          "histogram": [
           {
            "marker": {
             "colorbar": {
              "outlinewidth": 0,
              "ticks": ""
             }
            },
            "type": "histogram"
           }
          ],
          "histogram2d": [
           {
            "colorbar": {
             "outlinewidth": 0,
             "ticks": ""
            },
            "colorscale": [
             [
              0,
              "#0d0887"
             ],
             [
              0.1111111111111111,
              "#46039f"
             ],
             [
              0.2222222222222222,
              "#7201a8"
             ],
             [
              0.3333333333333333,
              "#9c179e"
             ],
             [
              0.4444444444444444,
              "#bd3786"
             ],
             [
              0.5555555555555556,
              "#d8576b"
             ],
             [
              0.6666666666666666,
              "#ed7953"
             ],
             [
              0.7777777777777778,
              "#fb9f3a"
             ],
             [
              0.8888888888888888,
              "#fdca26"
             ],
             [
              1,
              "#f0f921"
             ]
            ],
            "type": "histogram2d"
           }
          ],
          "histogram2dcontour": [
           {
            "colorbar": {
             "outlinewidth": 0,
             "ticks": ""
            },
            "colorscale": [
             [
              0,
              "#0d0887"
             ],
             [
              0.1111111111111111,
              "#46039f"
             ],
             [
              0.2222222222222222,
              "#7201a8"
             ],
             [
              0.3333333333333333,
              "#9c179e"
             ],
             [
              0.4444444444444444,
              "#bd3786"
             ],
             [
              0.5555555555555556,
              "#d8576b"
             ],
             [
              0.6666666666666666,
              "#ed7953"
             ],
             [
              0.7777777777777778,
              "#fb9f3a"
             ],
             [
              0.8888888888888888,
              "#fdca26"
             ],
             [
              1,
              "#f0f921"
             ]
            ],
            "type": "histogram2dcontour"
           }
          ],
          "mesh3d": [
           {
            "colorbar": {
             "outlinewidth": 0,
             "ticks": ""
            },
            "type": "mesh3d"
           }
          ],
          "parcoords": [
           {
            "line": {
             "colorbar": {
              "outlinewidth": 0,
              "ticks": ""
             }
            },
            "type": "parcoords"
           }
          ],
          "pie": [
           {
            "automargin": true,
            "type": "pie"
           }
          ],
          "scatter": [
           {
            "marker": {
             "colorbar": {
              "outlinewidth": 0,
              "ticks": ""
             }
            },
            "type": "scatter"
           }
          ],
          "scatter3d": [
           {
            "line": {
             "colorbar": {
              "outlinewidth": 0,
              "ticks": ""
             }
            },
            "marker": {
             "colorbar": {
              "outlinewidth": 0,
              "ticks": ""
             }
            },
            "type": "scatter3d"
           }
          ],
          "scattercarpet": [
           {
            "marker": {
             "colorbar": {
              "outlinewidth": 0,
              "ticks": ""
             }
            },
            "type": "scattercarpet"
           }
          ],
          "scattergeo": [
           {
            "marker": {
             "colorbar": {
              "outlinewidth": 0,
              "ticks": ""
             }
            },
            "type": "scattergeo"
           }
          ],
          "scattergl": [
           {
            "marker": {
             "colorbar": {
              "outlinewidth": 0,
              "ticks": ""
             }
            },
            "type": "scattergl"
           }
          ],
          "scattermapbox": [
           {
            "marker": {
             "colorbar": {
              "outlinewidth": 0,
              "ticks": ""
             }
            },
            "type": "scattermapbox"
           }
          ],
          "scatterpolar": [
           {
            "marker": {
             "colorbar": {
              "outlinewidth": 0,
              "ticks": ""
             }
            },
            "type": "scatterpolar"
           }
          ],
          "scatterpolargl": [
           {
            "marker": {
             "colorbar": {
              "outlinewidth": 0,
              "ticks": ""
             }
            },
            "type": "scatterpolargl"
           }
          ],
          "scatterternary": [
           {
            "marker": {
             "colorbar": {
              "outlinewidth": 0,
              "ticks": ""
             }
            },
            "type": "scatterternary"
           }
          ],
          "surface": [
           {
            "colorbar": {
             "outlinewidth": 0,
             "ticks": ""
            },
            "colorscale": [
             [
              0,
              "#0d0887"
             ],
             [
              0.1111111111111111,
              "#46039f"
             ],
             [
              0.2222222222222222,
              "#7201a8"
             ],
             [
              0.3333333333333333,
              "#9c179e"
             ],
             [
              0.4444444444444444,
              "#bd3786"
             ],
             [
              0.5555555555555556,
              "#d8576b"
             ],
             [
              0.6666666666666666,
              "#ed7953"
             ],
             [
              0.7777777777777778,
              "#fb9f3a"
             ],
             [
              0.8888888888888888,
              "#fdca26"
             ],
             [
              1,
              "#f0f921"
             ]
            ],
            "type": "surface"
           }
          ],
          "table": [
           {
            "cells": {
             "fill": {
              "color": "#EBF0F8"
             },
             "line": {
              "color": "white"
             }
            },
            "header": {
             "fill": {
              "color": "#C8D4E3"
             },
             "line": {
              "color": "white"
             }
            },
            "type": "table"
           }
          ]
         },
         "layout": {
          "annotationdefaults": {
           "arrowcolor": "#2a3f5f",
           "arrowhead": 0,
           "arrowwidth": 1
          },
          "autotypenumbers": "strict",
          "coloraxis": {
           "colorbar": {
            "outlinewidth": 0,
            "ticks": ""
           }
          },
          "colorscale": {
           "diverging": [
            [
             0,
             "#8e0152"
            ],
            [
             0.1,
             "#c51b7d"
            ],
            [
             0.2,
             "#de77ae"
            ],
            [
             0.3,
             "#f1b6da"
            ],
            [
             0.4,
             "#fde0ef"
            ],
            [
             0.5,
             "#f7f7f7"
            ],
            [
             0.6,
             "#e6f5d0"
            ],
            [
             0.7,
             "#b8e186"
            ],
            [
             0.8,
             "#7fbc41"
            ],
            [
             0.9,
             "#4d9221"
            ],
            [
             1,
             "#276419"
            ]
           ],
           "sequential": [
            [
             0,
             "#0d0887"
            ],
            [
             0.1111111111111111,
             "#46039f"
            ],
            [
             0.2222222222222222,
             "#7201a8"
            ],
            [
             0.3333333333333333,
             "#9c179e"
            ],
            [
             0.4444444444444444,
             "#bd3786"
            ],
            [
             0.5555555555555556,
             "#d8576b"
            ],
            [
             0.6666666666666666,
             "#ed7953"
            ],
            [
             0.7777777777777778,
             "#fb9f3a"
            ],
            [
             0.8888888888888888,
             "#fdca26"
            ],
            [
             1,
             "#f0f921"
            ]
           ],
           "sequentialminus": [
            [
             0,
             "#0d0887"
            ],
            [
             0.1111111111111111,
             "#46039f"
            ],
            [
             0.2222222222222222,
             "#7201a8"
            ],
            [
             0.3333333333333333,
             "#9c179e"
            ],
            [
             0.4444444444444444,
             "#bd3786"
            ],
            [
             0.5555555555555556,
             "#d8576b"
            ],
            [
             0.6666666666666666,
             "#ed7953"
            ],
            [
             0.7777777777777778,
             "#fb9f3a"
            ],
            [
             0.8888888888888888,
             "#fdca26"
            ],
            [
             1,
             "#f0f921"
            ]
           ]
          },
          "colorway": [
           "#636efa",
           "#EF553B",
           "#00cc96",
           "#ab63fa",
           "#FFA15A",
           "#19d3f3",
           "#FF6692",
           "#B6E880",
           "#FF97FF",
           "#FECB52"
          ],
          "font": {
           "color": "#2a3f5f"
          },
          "geo": {
           "bgcolor": "white",
           "lakecolor": "white",
           "landcolor": "#E5ECF6",
           "showlakes": true,
           "showland": true,
           "subunitcolor": "white"
          },
          "hoverlabel": {
           "align": "left"
          },
          "hovermode": "closest",
          "mapbox": {
           "style": "light"
          },
          "paper_bgcolor": "white",
          "plot_bgcolor": "#E5ECF6",
          "polar": {
           "angularaxis": {
            "gridcolor": "white",
            "linecolor": "white",
            "ticks": ""
           },
           "bgcolor": "#E5ECF6",
           "radialaxis": {
            "gridcolor": "white",
            "linecolor": "white",
            "ticks": ""
           }
          },
          "scene": {
           "xaxis": {
            "backgroundcolor": "#E5ECF6",
            "gridcolor": "white",
            "gridwidth": 2,
            "linecolor": "white",
            "showbackground": true,
            "ticks": "",
            "zerolinecolor": "white"
           },
           "yaxis": {
            "backgroundcolor": "#E5ECF6",
            "gridcolor": "white",
            "gridwidth": 2,
            "linecolor": "white",
            "showbackground": true,
            "ticks": "",
            "zerolinecolor": "white"
           },
           "zaxis": {
            "backgroundcolor": "#E5ECF6",
            "gridcolor": "white",
            "gridwidth": 2,
            "linecolor": "white",
            "showbackground": true,
            "ticks": "",
            "zerolinecolor": "white"
           }
          },
          "shapedefaults": {
           "line": {
            "color": "#2a3f5f"
           }
          },
          "ternary": {
           "aaxis": {
            "gridcolor": "white",
            "linecolor": "white",
            "ticks": ""
           },
           "baxis": {
            "gridcolor": "white",
            "linecolor": "white",
            "ticks": ""
           },
           "bgcolor": "#E5ECF6",
           "caxis": {
            "gridcolor": "white",
            "linecolor": "white",
            "ticks": ""
           }
          },
          "title": {
           "x": 0.05
          },
          "xaxis": {
           "automargin": true,
           "gridcolor": "white",
           "linecolor": "white",
           "ticks": "",
           "title": {
            "standoff": 15
           },
           "zerolinecolor": "white",
           "zerolinewidth": 2
          },
          "yaxis": {
           "automargin": true,
           "gridcolor": "white",
           "linecolor": "white",
           "ticks": "",
           "title": {
            "standoff": 15
           },
           "zerolinecolor": "white",
           "zerolinewidth": 2
          }
         }
        },
        "xaxis": {
         "anchor": "y",
         "categoryarray": [
          "Aiden Blizzard",
          "Jonathan Vandiar",
          "Nathan Rimmington",
          "Rilee Rossouw",
          "Robert Frylinck",
          "Travis Birt",
          "George Bailey",
          "Johan van der Wath",
          "Luke Pomersbasch",
          "Moises Henriques",
          "Roelof van der Merwe",
          "Michael Klinger",
          "Andrew McDonald",
          "Michael Lumb",
          "Suraj Randiv",
          "Thisara Perera",
          "Rusty Theron",
          "Alfonso Thomas",
          "Ben Hilfenhaus",
          "Colin Ingram",
          "Dimitri Mascarenhas",
          "James Franklin",
          "Jerome Taylor",
          "Matthew Wade",
          "Nathan McCullum",
          "Nuwan Kulasekara",
          "Wriddhiman Saha",
          "Clint McKay",
          "Faf du Plessis",
          "Mohammad Kaif",
          "Charl Langeveldt",
          "Jesse Ryder",
          "Joginder Sharma",
          "Ryan ten Doeschate",
          "Wayne Parnell",
          "Davy Jacobs",
          "Dwayne Bravo",
          "Owais Shah",
          "Scott Styris",
          "Steven Smith",
          "Ajit Agarkar",
          "Sudeep Tyagi",
          "Jaidev Unadkat",
          "Paul Collingwood",
          "Naman Ojha",
          "Tim Paine",
          "Manpreet Gony",
          "Parthiv Patel",
          "Aaron Finch",
          "Amit Mishra",
          "Callum Ferguson",
          "JP Duminy",
          "Shaun Tait",
          "Shikhar Dhawan",
          "Brad Haddin",
          "Ryan Harris",
          "Eoin Morgan",
          "James Hopes",
          "Ashok Dinda",
          "Brett Lee",
          "Murali Kartik",
          "Shaun Marsh",
          "Stuart Broad",
          "VVS Laxman",
          "Brad Hodge",
          "Michael Hussey",
          "Shakib Al Hasan",
          "Ishant Sharma",
          "Brendon McCullum",
          "Manoj Tiwary",
          "Morne Morkel",
          "Vinay Kumar",
          "Albie Morkel (retained)",
          "Graeme Smith",
          "L Balaji",
          "Lasith Malinga (retained)",
          "Pragyan Ojha",
          "Rahul Dravid",
          "RP Singh",
          "Daniel Vettori",
          "Dirk Nannes",
          "Kevin Pietersen",
          "Tillakaratne Dilshan",
          "Cheteshwar Pujara",
          "Doug Bollinger",
          "Kumar Sangakkara",
          "Munaf Patel",
          "Venugopal Rao",
          "David Warner",
          "Abhishek Nayar",
          "Praveen Kumar",
          "Andrew Symonds",
          "Ashish Nehra",
          "R Ashwin",
          "S Badrinath",
          "Adam Gilchrist",
          "Daniel Christian",
          "Dinesh Karthik",
          "Kieron Pollard (retained)",
          "M Vijay (retained)",
          "Piyush Chawla",
          "Sreesanth",
          "Zaheer Khan",
          "Angelo Mathews",
          "Johan Botha",
          "Ravindra Jadeja",
          "Ross Taylor",
          "AB de Villiers",
          "Cameron White",
          "Jacques Kallis",
          "Muttiah Muralitharan",
          "Dale Steyn",
          "Harbhajan Singh (retained)",
          "Shane Watson (retained)",
          "Suresh Raina (retained)",
          "David Hussey",
          "Mahela Jayawardene",
          "Saurabh Tiwary",
          "MS Dhoni (retained)",
          "Sachin Tendulkar (retained)",
          "Shane Warne (retained)",
          "Virat Kohli (retained)",
          "Virender Sehwag (retained)",
          "Yuvraj Singh",
          "Irfan Pathan",
          "Rohit Sharma",
          "Robin Uthappa",
          "Yusuf Pathan",
          "Gautam Gambhir"
         ],
         "categoryorder": "array",
         "domain": [
          0,
          1
         ],
         "title": {
          "text": "name"
         }
        },
        "yaxis": {
         "anchor": "x",
         "domain": [
          0,
          1
         ],
         "title": {
          "text": "predicted_prices"
         }
        }
       }
      },
      "text/html": [
       "<div>                            <div id=\"c58874b2-0839-492b-a673-6c26a822ffe0\" class=\"plotly-graph-div\" style=\"height:525px; width:100%;\"></div>            <script type=\"text/javascript\">                require([\"plotly\"], function(Plotly) {                    window.PLOTLYENV=window.PLOTLYENV || {};                                    if (document.getElementById(\"c58874b2-0839-492b-a673-6c26a822ffe0\")) {                    Plotly.newPlot(                        \"c58874b2-0839-492b-a673-6c26a822ffe0\",                        [{\"hovertemplate\": \"name=%{x}<br>predicted_prices=%{y}<extra></extra>\", \"legendgroup\": \"Aiden Blizzard\", \"line\": {\"color\": \"#636efa\", \"dash\": \"solid\"}, \"mode\": \"lines\", \"name\": \"Aiden Blizzard\", \"orientation\": \"v\", \"showlegend\": true, \"type\": \"scatter\", \"x\": [\"Aiden Blizzard\"], \"xaxis\": \"x\", \"y\": [49819.36467972165], \"yaxis\": \"y\"}, {\"hovertemplate\": \"name=%{x}<br>predicted_prices=%{y}<extra></extra>\", \"legendgroup\": \"Jonathan Vandiar\", \"line\": {\"color\": \"#EF553B\", \"dash\": \"solid\"}, \"mode\": \"lines\", \"name\": \"Jonathan Vandiar\", \"orientation\": \"v\", \"showlegend\": true, \"type\": \"scatter\", \"x\": [\"Jonathan Vandiar\"], \"xaxis\": \"x\", \"y\": [149281.96694958524], \"yaxis\": \"y\"}, {\"hovertemplate\": \"name=%{x}<br>predicted_prices=%{y}<extra></extra>\", \"legendgroup\": \"Nathan Rimmington\", \"line\": {\"color\": \"#00cc96\", \"dash\": \"solid\"}, \"mode\": \"lines\", \"name\": \"Nathan Rimmington\", \"orientation\": \"v\", \"showlegend\": true, \"type\": \"scatter\", \"x\": [\"Nathan Rimmington\"], \"xaxis\": \"x\", \"y\": [80891.86272189056], \"yaxis\": \"y\"}, {\"hovertemplate\": \"name=%{x}<br>predicted_prices=%{y}<extra></extra>\", \"legendgroup\": \"Rilee Rossouw\", \"line\": {\"color\": \"#ab63fa\", \"dash\": \"solid\"}, \"mode\": \"lines\", \"name\": \"Rilee Rossouw\", \"orientation\": \"v\", \"showlegend\": true, \"type\": \"scatter\", \"x\": [\"Rilee Rossouw\"], \"xaxis\": \"x\", \"y\": [129333.95503102186], \"yaxis\": \"y\"}, {\"hovertemplate\": \"name=%{x}<br>predicted_prices=%{y}<extra></extra>\", \"legendgroup\": \"Robert Frylinck\", \"line\": {\"color\": \"#FFA15A\", \"dash\": \"solid\"}, \"mode\": \"lines\", \"name\": \"Robert Frylinck\", \"orientation\": \"v\", \"showlegend\": true, \"type\": \"scatter\", \"x\": [\"Robert Frylinck\"], \"xaxis\": \"x\", \"y\": [29964.433436426098], \"yaxis\": \"y\"}, {\"hovertemplate\": \"name=%{x}<br>predicted_prices=%{y}<extra></extra>\", \"legendgroup\": \"Travis Birt\", \"line\": {\"color\": \"#19d3f3\", \"dash\": \"solid\"}, \"mode\": \"lines\", \"name\": \"Travis Birt\", \"orientation\": \"v\", \"showlegend\": true, \"type\": \"scatter\", \"x\": [\"Travis Birt\"], \"xaxis\": \"x\", \"y\": [184512.17141344887], \"yaxis\": \"y\"}, {\"hovertemplate\": \"name=%{x}<br>predicted_prices=%{y}<extra></extra>\", \"legendgroup\": \"George Bailey\", \"line\": {\"color\": \"#FF6692\", \"dash\": \"solid\"}, \"mode\": \"lines\", \"name\": \"George Bailey\", \"orientation\": \"v\", \"showlegend\": true, \"type\": \"scatter\", \"x\": [\"George Bailey\"], \"xaxis\": \"x\", \"y\": [173858.45811606126], \"yaxis\": \"y\"}, {\"hovertemplate\": \"name=%{x}<br>predicted_prices=%{y}<extra></extra>\", \"legendgroup\": \"Johan van der Wath\", \"line\": {\"color\": \"#B6E880\", \"dash\": \"solid\"}, \"mode\": \"lines\", \"name\": \"Johan van der Wath\", \"orientation\": \"v\", \"showlegend\": true, \"type\": \"scatter\", \"x\": [\"Johan van der Wath\"], \"xaxis\": \"x\", \"y\": [5701.6674524314], \"yaxis\": \"y\"}, {\"hovertemplate\": \"name=%{x}<br>predicted_prices=%{y}<extra></extra>\", \"legendgroup\": \"Luke Pomersbasch\", \"line\": {\"color\": \"#FF97FF\", \"dash\": \"solid\"}, \"mode\": \"lines\", \"name\": \"Luke Pomersbasch\", \"orientation\": \"v\", \"showlegend\": true, \"type\": \"scatter\", \"x\": [\"Luke Pomersbasch\"], \"xaxis\": \"x\", \"y\": [142630.02054025372], \"yaxis\": \"y\"}, {\"hovertemplate\": \"name=%{x}<br>predicted_prices=%{y}<extra></extra>\", \"legendgroup\": \"Moises Henriques\", \"line\": {\"color\": \"#FECB52\", \"dash\": \"solid\"}, \"mode\": \"lines\", \"name\": \"Moises Henriques\", \"orientation\": \"v\", \"showlegend\": true, \"type\": \"scatter\", \"x\": [\"Moises Henriques\"], \"xaxis\": \"x\", \"y\": [219075.4966145571], \"yaxis\": \"y\"}, {\"hovertemplate\": \"name=%{x}<br>predicted_prices=%{y}<extra></extra>\", \"legendgroup\": \"Roelof van der Merwe\", \"line\": {\"color\": \"#636efa\", \"dash\": \"solid\"}, \"mode\": \"lines\", \"name\": \"Roelof van der Merwe\", \"orientation\": \"v\", \"showlegend\": true, \"type\": \"scatter\", \"x\": [\"Roelof van der Merwe\"], \"xaxis\": \"x\", \"y\": [186850.57985049547], \"yaxis\": \"y\"}, {\"hovertemplate\": \"name=%{x}<br>predicted_prices=%{y}<extra></extra>\", \"legendgroup\": \"Michael Klinger\", \"line\": {\"color\": \"#EF553B\", \"dash\": \"solid\"}, \"mode\": \"lines\", \"name\": \"Michael Klinger\", \"orientation\": \"v\", \"showlegend\": true, \"type\": \"scatter\", \"x\": [\"Michael Klinger\"], \"xaxis\": \"x\", \"y\": [233315.0217550476], \"yaxis\": \"y\"}, {\"hovertemplate\": \"name=%{x}<br>predicted_prices=%{y}<extra></extra>\", \"legendgroup\": \"Andrew McDonald\", \"line\": {\"color\": \"#00cc96\", \"dash\": \"solid\"}, \"mode\": \"lines\", \"name\": \"Andrew McDonald\", \"orientation\": \"v\", \"showlegend\": true, \"type\": \"scatter\", \"x\": [\"Andrew McDonald\"], \"xaxis\": \"x\", \"y\": [414239.21958882886], \"yaxis\": \"y\"}, {\"hovertemplate\": \"name=%{x}<br>predicted_prices=%{y}<extra></extra>\", \"legendgroup\": \"Michael Lumb\", \"line\": {\"color\": \"#ab63fa\", \"dash\": \"solid\"}, \"mode\": \"lines\", \"name\": \"Michael Lumb\", \"orientation\": \"v\", \"showlegend\": true, \"type\": \"scatter\", \"x\": [\"Michael Lumb\"], \"xaxis\": \"x\", \"y\": [468759.0128174122], \"yaxis\": \"y\"}, {\"hovertemplate\": \"name=%{x}<br>predicted_prices=%{y}<extra></extra>\", \"legendgroup\": \"Suraj Randiv\", \"line\": {\"color\": \"#FFA15A\", \"dash\": \"solid\"}, \"mode\": \"lines\", \"name\": \"Suraj Randiv\", \"orientation\": \"v\", \"showlegend\": true, \"type\": \"scatter\", \"x\": [\"Suraj Randiv\"], \"xaxis\": \"x\", \"y\": [94593.20141033399], \"yaxis\": \"y\"}, {\"hovertemplate\": \"name=%{x}<br>predicted_prices=%{y}<extra></extra>\", \"legendgroup\": \"Thisara Perera\", \"line\": {\"color\": \"#19d3f3\", \"dash\": \"solid\"}, \"mode\": \"lines\", \"name\": \"Thisara Perera\", \"orientation\": \"v\", \"showlegend\": true, \"type\": \"scatter\", \"x\": [\"Thisara Perera\"], \"xaxis\": \"x\", \"y\": [39368.175954841536], \"yaxis\": \"y\"}, {\"hovertemplate\": \"name=%{x}<br>predicted_prices=%{y}<extra></extra>\", \"legendgroup\": \"Rusty Theron\", \"line\": {\"color\": \"#FF6692\", \"dash\": \"solid\"}, \"mode\": \"lines\", \"name\": \"Rusty Theron\", \"orientation\": \"v\", \"showlegend\": true, \"type\": \"scatter\", \"x\": [\"Rusty Theron\"], \"xaxis\": \"x\", \"y\": [98662.5597683182], \"yaxis\": \"y\"}, {\"hovertemplate\": \"name=%{x}<br>predicted_prices=%{y}<extra></extra>\", \"legendgroup\": \"Alfonso Thomas\", \"line\": {\"color\": \"#B6E880\", \"dash\": \"solid\"}, \"mode\": \"lines\", \"name\": \"Alfonso Thomas\", \"orientation\": \"v\", \"showlegend\": true, \"type\": \"scatter\", \"x\": [\"Alfonso Thomas\"], \"xaxis\": \"x\", \"y\": [23165.180080160386], \"yaxis\": \"y\"}, {\"hovertemplate\": \"name=%{x}<br>predicted_prices=%{y}<extra></extra>\", \"legendgroup\": \"Ben Hilfenhaus\", \"line\": {\"color\": \"#FF97FF\", \"dash\": \"solid\"}, \"mode\": \"lines\", \"name\": \"Ben Hilfenhaus\", \"orientation\": \"v\", \"showlegend\": true, \"type\": \"scatter\", \"x\": [\"Ben Hilfenhaus\"], \"xaxis\": \"x\", \"y\": [89518.11421335267], \"yaxis\": \"y\"}, {\"hovertemplate\": \"name=%{x}<br>predicted_prices=%{y}<extra></extra>\", \"legendgroup\": \"Colin Ingram\", \"line\": {\"color\": \"#FECB52\", \"dash\": \"solid\"}, \"mode\": \"lines\", \"name\": \"Colin Ingram\", \"orientation\": \"v\", \"showlegend\": true, \"type\": \"scatter\", \"x\": [\"Colin Ingram\"], \"xaxis\": \"x\", \"y\": [204888.79013872214], \"yaxis\": \"y\"}, {\"hovertemplate\": \"name=%{x}<br>predicted_prices=%{y}<extra></extra>\", \"legendgroup\": \"Dimitri Mascarenhas\", \"line\": {\"color\": \"#636efa\", \"dash\": \"solid\"}, \"mode\": \"lines\", \"name\": \"Dimitri Mascarenhas\", \"orientation\": \"v\", \"showlegend\": true, \"type\": \"scatter\", \"x\": [\"Dimitri Mascarenhas\"], \"xaxis\": \"x\", \"y\": [340765.83961383643], \"yaxis\": \"y\"}, {\"hovertemplate\": \"name=%{x}<br>predicted_prices=%{y}<extra></extra>\", \"legendgroup\": \"James Franklin\", \"line\": {\"color\": \"#EF553B\", \"dash\": \"solid\"}, \"mode\": \"lines\", \"name\": \"James Franklin\", \"orientation\": \"v\", \"showlegend\": true, \"type\": \"scatter\", \"x\": [\"James Franklin\"], \"xaxis\": \"x\", \"y\": [358195.4876101017], \"yaxis\": \"y\"}, {\"hovertemplate\": \"name=%{x}<br>predicted_prices=%{y}<extra></extra>\", \"legendgroup\": \"Jerome Taylor\", \"line\": {\"color\": \"#00cc96\", \"dash\": \"solid\"}, \"mode\": \"lines\", \"name\": \"Jerome Taylor\", \"orientation\": \"v\", \"showlegend\": true, \"type\": \"scatter\", \"x\": [\"Jerome Taylor\"], \"xaxis\": \"x\", \"y\": [41126.16447538871], \"yaxis\": \"y\"}, {\"hovertemplate\": \"name=%{x}<br>predicted_prices=%{y}<extra></extra>\", \"legendgroup\": \"Matthew Wade\", \"line\": {\"color\": \"#ab63fa\", \"dash\": \"solid\"}, \"mode\": \"lines\", \"name\": \"Matthew Wade\", \"orientation\": \"v\", \"showlegend\": true, \"type\": \"scatter\", \"x\": [\"Matthew Wade\"], \"xaxis\": \"x\", \"y\": [130973.80640415788], \"yaxis\": \"y\"}, {\"hovertemplate\": \"name=%{x}<br>predicted_prices=%{y}<extra></extra>\", \"legendgroup\": \"Nathan McCullum\", \"line\": {\"color\": \"#FFA15A\", \"dash\": \"solid\"}, \"mode\": \"lines\", \"name\": \"Nathan McCullum\", \"orientation\": \"v\", \"showlegend\": true, \"type\": \"scatter\", \"x\": [\"Nathan McCullum\"], \"xaxis\": \"x\", \"y\": [274283.3899532183], \"yaxis\": \"y\"}, {\"hovertemplate\": \"name=%{x}<br>predicted_prices=%{y}<extra></extra>\", \"legendgroup\": \"Nuwan Kulasekara\", \"line\": {\"color\": \"#19d3f3\", \"dash\": \"solid\"}, \"mode\": \"lines\", \"name\": \"Nuwan Kulasekara\", \"orientation\": \"v\", \"showlegend\": true, \"type\": \"scatter\", \"x\": [\"Nuwan Kulasekara\"], \"xaxis\": \"x\", \"y\": [38317.2687895596], \"yaxis\": \"y\"}, {\"hovertemplate\": \"name=%{x}<br>predicted_prices=%{y}<extra></extra>\", \"legendgroup\": \"Wriddhiman Saha\", \"line\": {\"color\": \"#FF6692\", \"dash\": \"solid\"}, \"mode\": \"lines\", \"name\": \"Wriddhiman Saha\", \"orientation\": \"v\", \"showlegend\": true, \"type\": \"scatter\", \"x\": [\"Wriddhiman Saha\"], \"xaxis\": \"x\", \"y\": [732058.600642957], \"yaxis\": \"y\"}, {\"hovertemplate\": \"name=%{x}<br>predicted_prices=%{y}<extra></extra>\", \"legendgroup\": \"Clint McKay\", \"line\": {\"color\": \"#B6E880\", \"dash\": \"solid\"}, \"mode\": \"lines\", \"name\": \"Clint McKay\", \"orientation\": \"v\", \"showlegend\": true, \"type\": \"scatter\", \"x\": [\"Clint McKay\"], \"xaxis\": \"x\", \"y\": [-13021.441088980413], \"yaxis\": \"y\"}, {\"hovertemplate\": \"name=%{x}<br>predicted_prices=%{y}<extra></extra>\", \"legendgroup\": \"Faf du Plessis\", \"line\": {\"color\": \"#FF97FF\", \"dash\": \"solid\"}, \"mode\": \"lines\", \"name\": \"Faf du Plessis\", \"orientation\": \"v\", \"showlegend\": true, \"type\": \"scatter\", \"x\": [\"Faf du Plessis\"], \"xaxis\": \"x\", \"y\": [204316.56066728325], \"yaxis\": \"y\"}, {\"hovertemplate\": \"name=%{x}<br>predicted_prices=%{y}<extra></extra>\", \"legendgroup\": \"Mohammad Kaif\", \"line\": {\"color\": \"#FECB52\", \"dash\": \"solid\"}, \"mode\": \"lines\", \"name\": \"Mohammad Kaif\", \"orientation\": \"v\", \"showlegend\": true, \"type\": \"scatter\", \"x\": [\"Mohammad Kaif\"], \"xaxis\": \"x\", \"y\": [579728.3196687874], \"yaxis\": \"y\"}, {\"hovertemplate\": \"name=%{x}<br>predicted_prices=%{y}<extra></extra>\", \"legendgroup\": \"Charl Langeveldt\", \"line\": {\"color\": \"#636efa\", \"dash\": \"solid\"}, \"mode\": \"lines\", \"name\": \"Charl Langeveldt\", \"orientation\": \"v\", \"showlegend\": true, \"type\": \"scatter\", \"x\": [\"Charl Langeveldt\"], \"xaxis\": \"x\", \"y\": [124996.271157877], \"yaxis\": \"y\"}, {\"hovertemplate\": \"name=%{x}<br>predicted_prices=%{y}<extra></extra>\", \"legendgroup\": \"Jesse Ryder\", \"line\": {\"color\": \"#EF553B\", \"dash\": \"solid\"}, \"mode\": \"lines\", \"name\": \"Jesse Ryder\", \"orientation\": \"v\", \"showlegend\": true, \"type\": \"scatter\", \"x\": [\"Jesse Ryder\"], \"xaxis\": \"x\", \"y\": [100929.5946993021], \"yaxis\": \"y\"}, {\"hovertemplate\": \"name=%{x}<br>predicted_prices=%{y}<extra></extra>\", \"legendgroup\": \"Joginder Sharma\", \"line\": {\"color\": \"#00cc96\", \"dash\": \"solid\"}, \"mode\": \"lines\", \"name\": \"Joginder Sharma\", \"orientation\": \"v\", \"showlegend\": true, \"type\": \"scatter\", \"x\": [\"Joginder Sharma\"], \"xaxis\": \"x\", \"y\": [448460.1494427417], \"yaxis\": \"y\"}, {\"hovertemplate\": \"name=%{x}<br>predicted_prices=%{y}<extra></extra>\", \"legendgroup\": \"Ryan ten Doeschate\", \"line\": {\"color\": \"#ab63fa\", \"dash\": \"solid\"}, \"mode\": \"lines\", \"name\": \"Ryan ten Doeschate\", \"orientation\": \"v\", \"showlegend\": true, \"type\": \"scatter\", \"x\": [\"Ryan ten Doeschate\"], \"xaxis\": \"x\", \"y\": [404757.71635167045], \"yaxis\": \"y\"}, {\"hovertemplate\": \"name=%{x}<br>predicted_prices=%{y}<extra></extra>\", \"legendgroup\": \"Wayne Parnell\", \"line\": {\"color\": \"#FFA15A\", \"dash\": \"solid\"}, \"mode\": \"lines\", \"name\": \"Wayne Parnell\", \"orientation\": \"v\", \"showlegend\": true, \"type\": \"scatter\", \"x\": [\"Wayne Parnell\"], \"xaxis\": \"x\", \"y\": [117766.08777333795], \"yaxis\": \"y\"}, {\"hovertemplate\": \"name=%{x}<br>predicted_prices=%{y}<extra></extra>\", \"legendgroup\": \"Davy Jacobs\", \"line\": {\"color\": \"#19d3f3\", \"dash\": \"solid\"}, \"mode\": \"lines\", \"name\": \"Davy Jacobs\", \"orientation\": \"v\", \"showlegend\": true, \"type\": \"scatter\", \"x\": [\"Davy Jacobs\"], \"xaxis\": \"x\", \"y\": [311102.14631431364], \"yaxis\": \"y\"}, {\"hovertemplate\": \"name=%{x}<br>predicted_prices=%{y}<extra></extra>\", \"legendgroup\": \"Dwayne Bravo\", \"line\": {\"color\": \"#FF6692\", \"dash\": \"solid\"}, \"mode\": \"lines\", \"name\": \"Dwayne Bravo\", \"orientation\": \"v\", \"showlegend\": true, \"type\": \"scatter\", \"x\": [\"Dwayne Bravo\"], \"xaxis\": \"x\", \"y\": [778003.52625604], \"yaxis\": \"y\"}, {\"hovertemplate\": \"name=%{x}<br>predicted_prices=%{y}<extra></extra>\", \"legendgroup\": \"Owais Shah\", \"line\": {\"color\": \"#B6E880\", \"dash\": \"solid\"}, \"mode\": \"lines\", \"name\": \"Owais Shah\", \"orientation\": \"v\", \"showlegend\": true, \"type\": \"scatter\", \"x\": [\"Owais Shah\"], \"xaxis\": \"x\", \"y\": [730911.7544392744], \"yaxis\": \"y\"}, {\"hovertemplate\": \"name=%{x}<br>predicted_prices=%{y}<extra></extra>\", \"legendgroup\": \"Scott Styris\", \"line\": {\"color\": \"#FF97FF\", \"dash\": \"solid\"}, \"mode\": \"lines\", \"name\": \"Scott Styris\", \"orientation\": \"v\", \"showlegend\": true, \"type\": \"scatter\", \"x\": [\"Scott Styris\"], \"xaxis\": \"x\", \"y\": [489231.5296371589], \"yaxis\": \"y\"}, {\"hovertemplate\": \"name=%{x}<br>predicted_prices=%{y}<extra></extra>\", \"legendgroup\": \"Steven Smith\", \"line\": {\"color\": \"#FECB52\", \"dash\": \"solid\"}, \"mode\": \"lines\", \"name\": \"Steven Smith\", \"orientation\": \"v\", \"showlegend\": true, \"type\": \"scatter\", \"x\": [\"Steven Smith\"], \"xaxis\": \"x\", \"y\": [124577.10325529064], \"yaxis\": \"y\"}, {\"hovertemplate\": \"name=%{x}<br>predicted_prices=%{y}<extra></extra>\", \"legendgroup\": \"Ajit Agarkar\", \"line\": {\"color\": \"#636efa\", \"dash\": \"solid\"}, \"mode\": \"lines\", \"name\": \"Ajit Agarkar\", \"orientation\": \"v\", \"showlegend\": true, \"type\": \"scatter\", \"x\": [\"Ajit Agarkar\"], \"xaxis\": \"x\", \"y\": [815779.1214226376], \"yaxis\": \"y\"}, {\"hovertemplate\": \"name=%{x}<br>predicted_prices=%{y}<extra></extra>\", \"legendgroup\": \"Sudeep Tyagi\", \"line\": {\"color\": \"#EF553B\", \"dash\": \"solid\"}, \"mode\": \"lines\", \"name\": \"Sudeep Tyagi\", \"orientation\": \"v\", \"showlegend\": true, \"type\": \"scatter\", \"x\": [\"Sudeep Tyagi\"], \"xaxis\": \"x\", \"y\": [820837.0374528125], \"yaxis\": \"y\"}, {\"hovertemplate\": \"name=%{x}<br>predicted_prices=%{y}<extra></extra>\", \"legendgroup\": \"Jaidev Unadkat\", \"line\": {\"color\": \"#00cc96\", \"dash\": \"solid\"}, \"mode\": \"lines\", \"name\": \"Jaidev Unadkat\", \"orientation\": \"v\", \"showlegend\": true, \"type\": \"scatter\", \"x\": [\"Jaidev Unadkat\"], \"xaxis\": \"x\", \"y\": [466339.985747205], \"yaxis\": \"y\"}, {\"hovertemplate\": \"name=%{x}<br>predicted_prices=%{y}<extra></extra>\", \"legendgroup\": \"Paul Collingwood\", \"line\": {\"color\": \"#ab63fa\", \"dash\": \"solid\"}, \"mode\": \"lines\", \"name\": \"Paul Collingwood\", \"orientation\": \"v\", \"showlegend\": true, \"type\": \"scatter\", \"x\": [\"Paul Collingwood\"], \"xaxis\": \"x\", \"y\": [442096.6539405141], \"yaxis\": \"y\"}, {\"hovertemplate\": \"name=%{x}<br>predicted_prices=%{y}<extra></extra>\", \"legendgroup\": \"Naman Ojha\", \"line\": {\"color\": \"#FFA15A\", \"dash\": \"solid\"}, \"mode\": \"lines\", \"name\": \"Naman Ojha\", \"orientation\": \"v\", \"showlegend\": true, \"type\": \"scatter\", \"x\": [\"Naman Ojha\"], \"xaxis\": \"x\", \"y\": [744319.5158051455], \"yaxis\": \"y\"}, {\"hovertemplate\": \"name=%{x}<br>predicted_prices=%{y}<extra></extra>\", \"legendgroup\": \"Tim Paine\", \"line\": {\"color\": \"#19d3f3\", \"dash\": \"solid\"}, \"mode\": \"lines\", \"name\": \"Tim Paine\", \"orientation\": \"v\", \"showlegend\": true, \"type\": \"scatter\", \"x\": [\"Tim Paine\"], \"xaxis\": \"x\", \"y\": [130277.1081124012], \"yaxis\": \"y\"}, {\"hovertemplate\": \"name=%{x}<br>predicted_prices=%{y}<extra></extra>\", \"legendgroup\": \"Manpreet Gony\", \"line\": {\"color\": \"#FF6692\", \"dash\": \"solid\"}, \"mode\": \"lines\", \"name\": \"Manpreet Gony\", \"orientation\": \"v\", \"showlegend\": true, \"type\": \"scatter\", \"x\": [\"Manpreet Gony\"], \"xaxis\": \"x\", \"y\": [531809.9168949616], \"yaxis\": \"y\"}, {\"hovertemplate\": \"name=%{x}<br>predicted_prices=%{y}<extra></extra>\", \"legendgroup\": \"Parthiv Patel\", \"line\": {\"color\": \"#B6E880\", \"dash\": \"solid\"}, \"mode\": \"lines\", \"name\": \"Parthiv Patel\", \"orientation\": \"v\", \"showlegend\": true, \"type\": \"scatter\", \"x\": [\"Parthiv Patel\"], \"xaxis\": \"x\", \"y\": [406689.2711850549], \"yaxis\": \"y\"}, {\"hovertemplate\": \"name=%{x}<br>predicted_prices=%{y}<extra></extra>\", \"legendgroup\": \"Aaron Finch\", \"line\": {\"color\": \"#FF97FF\", \"dash\": \"solid\"}, \"mode\": \"lines\", \"name\": \"Aaron Finch\", \"orientation\": \"v\", \"showlegend\": true, \"type\": \"scatter\", \"x\": [\"Aaron Finch\"], \"xaxis\": \"x\", \"y\": [291815.59531456424], \"yaxis\": \"y\"}, {\"hovertemplate\": \"name=%{x}<br>predicted_prices=%{y}<extra></extra>\", \"legendgroup\": \"Amit Mishra\", \"line\": {\"color\": \"#FECB52\", \"dash\": \"solid\"}, \"mode\": \"lines\", \"name\": \"Amit Mishra\", \"orientation\": \"v\", \"showlegend\": true, \"type\": \"scatter\", \"x\": [\"Amit Mishra\"], \"xaxis\": \"x\", \"y\": [863063.7884397672], \"yaxis\": \"y\"}, {\"hovertemplate\": \"name=%{x}<br>predicted_prices=%{y}<extra></extra>\", \"legendgroup\": \"Callum Ferguson\", \"line\": {\"color\": \"#636efa\", \"dash\": \"solid\"}, \"mode\": \"lines\", \"name\": \"Callum Ferguson\", \"orientation\": \"v\", \"showlegend\": true, \"type\": \"scatter\", \"x\": [\"Callum Ferguson\"], \"xaxis\": \"x\", \"y\": [207675.58330574926], \"yaxis\": \"y\"}, {\"hovertemplate\": \"name=%{x}<br>predicted_prices=%{y}<extra></extra>\", \"legendgroup\": \"JP Duminy\", \"line\": {\"color\": \"#EF553B\", \"dash\": \"solid\"}, \"mode\": \"lines\", \"name\": \"JP Duminy\", \"orientation\": \"v\", \"showlegend\": true, \"type\": \"scatter\", \"x\": [\"JP Duminy\"], \"xaxis\": \"x\", \"y\": [835348.1921404419], \"yaxis\": \"y\"}, {\"hovertemplate\": \"name=%{x}<br>predicted_prices=%{y}<extra></extra>\", \"legendgroup\": \"Shaun Tait\", \"line\": {\"color\": \"#00cc96\", \"dash\": \"solid\"}, \"mode\": \"lines\", \"name\": \"Shaun Tait\", \"orientation\": \"v\", \"showlegend\": true, \"type\": \"scatter\", \"x\": [\"Shaun Tait\"], \"xaxis\": \"x\", \"y\": [223673.10420346487], \"yaxis\": \"y\"}, {\"hovertemplate\": \"name=%{x}<br>predicted_prices=%{y}<extra></extra>\", \"legendgroup\": \"Shikhar Dhawan\", \"line\": {\"color\": \"#ab63fa\", \"dash\": \"solid\"}, \"mode\": \"lines\", \"name\": \"Shikhar Dhawan\", \"orientation\": \"v\", \"showlegend\": true, \"type\": \"scatter\", \"x\": [\"Shikhar Dhawan\"], \"xaxis\": \"x\", \"y\": [787164.5684803431], \"yaxis\": \"y\"}, {\"hovertemplate\": \"name=%{x}<br>predicted_prices=%{y}<extra></extra>\", \"legendgroup\": \"Brad Haddin\", \"line\": {\"color\": \"#FFA15A\", \"dash\": \"solid\"}, \"mode\": \"lines\", \"name\": \"Brad Haddin\", \"orientation\": \"v\", \"showlegend\": true, \"type\": \"scatter\", \"x\": [\"Brad Haddin\"], \"xaxis\": \"x\", \"y\": [189110.5977541361], \"yaxis\": \"y\"}, {\"hovertemplate\": \"name=%{x}<br>predicted_prices=%{y}<extra></extra>\", \"legendgroup\": \"Ryan Harris\", \"line\": {\"color\": \"#19d3f3\", \"dash\": \"solid\"}, \"mode\": \"lines\", \"name\": \"Ryan Harris\", \"orientation\": \"v\", \"showlegend\": true, \"type\": \"scatter\", \"x\": [\"Ryan Harris\"], \"xaxis\": \"x\", \"y\": [190651.02827377387], \"yaxis\": \"y\"}, {\"hovertemplate\": \"name=%{x}<br>predicted_prices=%{y}<extra></extra>\", \"legendgroup\": \"Eoin Morgan\", \"line\": {\"color\": \"#FF6692\", \"dash\": \"solid\"}, \"mode\": \"lines\", \"name\": \"Eoin Morgan\", \"orientation\": \"v\", \"showlegend\": true, \"type\": \"scatter\", \"x\": [\"Eoin Morgan\"], \"xaxis\": \"x\", \"y\": [478602.21135555784], \"yaxis\": \"y\"}, {\"hovertemplate\": \"name=%{x}<br>predicted_prices=%{y}<extra></extra>\", \"legendgroup\": \"James Hopes\", \"line\": {\"color\": \"#B6E880\", \"dash\": \"solid\"}, \"mode\": \"lines\", \"name\": \"James Hopes\", \"orientation\": \"v\", \"showlegend\": true, \"type\": \"scatter\", \"x\": [\"James Hopes\"], \"xaxis\": \"x\", \"y\": [133187.51986044188], \"yaxis\": \"y\"}, {\"hovertemplate\": \"name=%{x}<br>predicted_prices=%{y}<extra></extra>\", \"legendgroup\": \"Ashok Dinda\", \"line\": {\"color\": \"#FF97FF\", \"dash\": \"solid\"}, \"mode\": \"lines\", \"name\": \"Ashok Dinda\", \"orientation\": \"v\", \"showlegend\": true, \"type\": \"scatter\", \"x\": [\"Ashok Dinda\"], \"xaxis\": \"x\", \"y\": [396489.06622991065], \"yaxis\": \"y\"}, {\"hovertemplate\": \"name=%{x}<br>predicted_prices=%{y}<extra></extra>\", \"legendgroup\": \"Brett Lee\", \"line\": {\"color\": \"#FECB52\", \"dash\": \"solid\"}, \"mode\": \"lines\", \"name\": \"Brett Lee\", \"orientation\": \"v\", \"showlegend\": true, \"type\": \"scatter\", \"x\": [\"Brett Lee\"], \"xaxis\": \"x\", \"y\": [561702.7912037189], \"yaxis\": \"y\"}, {\"hovertemplate\": \"name=%{x}<br>predicted_prices=%{y}<extra></extra>\", \"legendgroup\": \"Murali Kartik\", \"line\": {\"color\": \"#636efa\", \"dash\": \"solid\"}, \"mode\": \"lines\", \"name\": \"Murali Kartik\", \"orientation\": \"v\", \"showlegend\": true, \"type\": \"scatter\", \"x\": [\"Murali Kartik\"], \"xaxis\": \"x\", \"y\": [1010850.4429499257], \"yaxis\": \"y\"}, {\"hovertemplate\": \"name=%{x}<br>predicted_prices=%{y}<extra></extra>\", \"legendgroup\": \"Shaun Marsh\", \"line\": {\"color\": \"#EF553B\", \"dash\": \"solid\"}, \"mode\": \"lines\", \"name\": \"Shaun Marsh\", \"orientation\": \"v\", \"showlegend\": true, \"type\": \"scatter\", \"x\": [\"Shaun Marsh\"], \"xaxis\": \"x\", \"y\": [596322.408359047], \"yaxis\": \"y\"}, {\"hovertemplate\": \"name=%{x}<br>predicted_prices=%{y}<extra></extra>\", \"legendgroup\": \"Stuart Broad\", \"line\": {\"color\": \"#00cc96\", \"dash\": \"solid\"}, \"mode\": \"lines\", \"name\": \"Stuart Broad\", \"orientation\": \"v\", \"showlegend\": true, \"type\": \"scatter\", \"x\": [\"Stuart Broad\"], \"xaxis\": \"x\", \"y\": [123622.12401733176], \"yaxis\": \"y\"}, {\"hovertemplate\": \"name=%{x}<br>predicted_prices=%{y}<extra></extra>\", \"legendgroup\": \"VVS Laxman\", \"line\": {\"color\": \"#ab63fa\", \"dash\": \"solid\"}, \"mode\": \"lines\", \"name\": \"VVS Laxman\", \"orientation\": \"v\", \"showlegend\": true, \"type\": \"scatter\", \"x\": [\"VVS Laxman\"], \"xaxis\": \"x\", \"y\": [654088.5155355161], \"yaxis\": \"y\"}, {\"hovertemplate\": \"name=%{x}<br>predicted_prices=%{y}<extra></extra>\", \"legendgroup\": \"Brad Hodge\", \"line\": {\"color\": \"#FFA15A\", \"dash\": \"solid\"}, \"mode\": \"lines\", \"name\": \"Brad Hodge\", \"orientation\": \"v\", \"showlegend\": true, \"type\": \"scatter\", \"x\": [\"Brad Hodge\"], \"xaxis\": \"x\", \"y\": [795271.738971676], \"yaxis\": \"y\"}, {\"hovertemplate\": \"name=%{x}<br>predicted_prices=%{y}<extra></extra>\", \"legendgroup\": \"Michael Hussey\", \"line\": {\"color\": \"#19d3f3\", \"dash\": \"solid\"}, \"mode\": \"lines\", \"name\": \"Michael Hussey\", \"orientation\": \"v\", \"showlegend\": true, \"type\": \"scatter\", \"x\": [\"Michael Hussey\"], \"xaxis\": \"x\", \"y\": [547347.7205695095], \"yaxis\": \"y\"}, {\"hovertemplate\": \"name=%{x}<br>predicted_prices=%{y}<extra></extra>\", \"legendgroup\": \"Shakib Al Hasan\", \"line\": {\"color\": \"#FF6692\", \"dash\": \"solid\"}, \"mode\": \"lines\", \"name\": \"Shakib Al Hasan\", \"orientation\": \"v\", \"showlegend\": true, \"type\": \"scatter\", \"x\": [\"Shakib Al Hasan\"], \"xaxis\": \"x\", \"y\": [207376.27900744238], \"yaxis\": \"y\"}, {\"hovertemplate\": \"name=%{x}<br>predicted_prices=%{y}<extra></extra>\", \"legendgroup\": \"Ishant Sharma\", \"line\": {\"color\": \"#B6E880\", \"dash\": \"solid\"}, \"mode\": \"lines\", \"name\": \"Ishant Sharma\", \"orientation\": \"v\", \"showlegend\": true, \"type\": \"scatter\", \"x\": [\"Ishant Sharma\"], \"xaxis\": \"x\", \"y\": [601378.5037716596], \"yaxis\": \"y\"}, {\"hovertemplate\": \"name=%{x}<br>predicted_prices=%{y}<extra></extra>\", \"legendgroup\": \"Brendon McCullum\", \"line\": {\"color\": \"#FF97FF\", \"dash\": \"solid\"}, \"mode\": \"lines\", \"name\": \"Brendon McCullum\", \"orientation\": \"v\", \"showlegend\": true, \"type\": \"scatter\", \"x\": [\"Brendon McCullum\"], \"xaxis\": \"x\", \"y\": [371822.25791620265], \"yaxis\": \"y\"}, {\"hovertemplate\": \"name=%{x}<br>predicted_prices=%{y}<extra></extra>\", \"legendgroup\": \"Manoj Tiwary\", \"line\": {\"color\": \"#FECB52\", \"dash\": \"solid\"}, \"mode\": \"lines\", \"name\": \"Manoj Tiwary\", \"orientation\": \"v\", \"showlegend\": true, \"type\": \"scatter\", \"x\": [\"Manoj Tiwary\"], \"xaxis\": \"x\", \"y\": [1011549.3164939508], \"yaxis\": \"y\"}, {\"hovertemplate\": \"name=%{x}<br>predicted_prices=%{y}<extra></extra>\", \"legendgroup\": \"Morne Morkel\", \"line\": {\"color\": \"#636efa\", \"dash\": \"solid\"}, \"mode\": \"lines\", \"name\": \"Morne Morkel\", \"orientation\": \"v\", \"showlegend\": true, \"type\": \"scatter\", \"x\": [\"Morne Morkel\"], \"xaxis\": \"x\", \"y\": [306779.04749082145], \"yaxis\": \"y\"}, {\"hovertemplate\": \"name=%{x}<br>predicted_prices=%{y}<extra></extra>\", \"legendgroup\": \"Vinay Kumar\", \"line\": {\"color\": \"#EF553B\", \"dash\": \"solid\"}, \"mode\": \"lines\", \"name\": \"Vinay Kumar\", \"orientation\": \"v\", \"showlegend\": true, \"type\": \"scatter\", \"x\": [\"Vinay Kumar\"], \"xaxis\": \"x\", \"y\": [547466.3126622383], \"yaxis\": \"y\"}, {\"hovertemplate\": \"name=%{x}<br>predicted_prices=%{y}<extra></extra>\", \"legendgroup\": \"Albie Morkel (retained)\", \"line\": {\"color\": \"#00cc96\", \"dash\": \"solid\"}, \"mode\": \"lines\", \"name\": \"Albie Morkel (retained)\", \"orientation\": \"v\", \"showlegend\": true, \"type\": \"scatter\", \"x\": [\"Albie Morkel (retained)\"], \"xaxis\": \"x\", \"y\": [977751.3077189943], \"yaxis\": \"y\"}, {\"hovertemplate\": \"name=%{x}<br>predicted_prices=%{y}<extra></extra>\", \"legendgroup\": \"Graeme Smith\", \"line\": {\"color\": \"#ab63fa\", \"dash\": \"solid\"}, \"mode\": \"lines\", \"name\": \"Graeme Smith\", \"orientation\": \"v\", \"showlegend\": true, \"type\": \"scatter\", \"x\": [\"Graeme Smith\"], \"xaxis\": \"x\", \"y\": [426214.7308123268], \"yaxis\": \"y\"}, {\"hovertemplate\": \"name=%{x}<br>predicted_prices=%{y}<extra></extra>\", \"legendgroup\": \"L Balaji\", \"line\": {\"color\": \"#FFA15A\", \"dash\": \"solid\"}, \"mode\": \"lines\", \"name\": \"L Balaji\", \"orientation\": \"v\", \"showlegend\": true, \"type\": \"scatter\", \"x\": [\"L Balaji\"], \"xaxis\": \"x\", \"y\": [468971.57117613935], \"yaxis\": \"y\"}, {\"hovertemplate\": \"name=%{x}<br>predicted_prices=%{y}<extra></extra>\", \"legendgroup\": \"Lasith Malinga (retained)\", \"line\": {\"color\": \"#19d3f3\", \"dash\": \"solid\"}, \"mode\": \"lines\", \"name\": \"Lasith Malinga (retained)\", \"orientation\": \"v\", \"showlegend\": true, \"type\": \"scatter\", \"x\": [\"Lasith Malinga (retained)\"], \"xaxis\": \"x\", \"y\": [486568.86112895], \"yaxis\": \"y\"}, {\"hovertemplate\": \"name=%{x}<br>predicted_prices=%{y}<extra></extra>\", \"legendgroup\": \"Pragyan Ojha\", \"line\": {\"color\": \"#FF6692\", \"dash\": \"solid\"}, \"mode\": \"lines\", \"name\": \"Pragyan Ojha\", \"orientation\": \"v\", \"showlegend\": true, \"type\": \"scatter\", \"x\": [\"Pragyan Ojha\"], \"xaxis\": \"x\", \"y\": [769745.6100987038], \"yaxis\": \"y\"}, {\"hovertemplate\": \"name=%{x}<br>predicted_prices=%{y}<extra></extra>\", \"legendgroup\": \"Rahul Dravid\", \"line\": {\"color\": \"#B6E880\", \"dash\": \"solid\"}, \"mode\": \"lines\", \"name\": \"Rahul Dravid\", \"orientation\": \"v\", \"showlegend\": true, \"type\": \"scatter\", \"x\": [\"Rahul Dravid\"], \"xaxis\": \"x\", \"y\": [1015517.9939483636], \"yaxis\": \"y\"}, {\"hovertemplate\": \"name=%{x}<br>predicted_prices=%{y}<extra></extra>\", \"legendgroup\": \"RP Singh\", \"line\": {\"color\": \"#FF97FF\", \"dash\": \"solid\"}, \"mode\": \"lines\", \"name\": \"RP Singh\", \"orientation\": \"v\", \"showlegend\": true, \"type\": \"scatter\", \"x\": [\"RP Singh\"], \"xaxis\": \"x\", \"y\": [361661.4288279139], \"yaxis\": \"y\"}, {\"hovertemplate\": \"name=%{x}<br>predicted_prices=%{y}<extra></extra>\", \"legendgroup\": \"Daniel Vettori\", \"line\": {\"color\": \"#FECB52\", \"dash\": \"solid\"}, \"mode\": \"lines\", \"name\": \"Daniel Vettori\", \"orientation\": \"v\", \"showlegend\": true, \"type\": \"scatter\", \"x\": [\"Daniel Vettori\"], \"xaxis\": \"x\", \"y\": [1184484.9115005084], \"yaxis\": \"y\"}, {\"hovertemplate\": \"name=%{x}<br>predicted_prices=%{y}<extra></extra>\", \"legendgroup\": \"Dirk Nannes\", \"line\": {\"color\": \"#636efa\", \"dash\": \"solid\"}, \"mode\": \"lines\", \"name\": \"Dirk Nannes\", \"orientation\": \"v\", \"showlegend\": true, \"type\": \"scatter\", \"x\": [\"Dirk Nannes\"], \"xaxis\": \"x\", \"y\": [395095.44891418226], \"yaxis\": \"y\"}, {\"hovertemplate\": \"name=%{x}<br>predicted_prices=%{y}<extra></extra>\", \"legendgroup\": \"Kevin Pietersen\", \"line\": {\"color\": \"#EF553B\", \"dash\": \"solid\"}, \"mode\": \"lines\", \"name\": \"Kevin Pietersen\", \"orientation\": \"v\", \"showlegend\": true, \"type\": \"scatter\", \"x\": [\"Kevin Pietersen\"], \"xaxis\": \"x\", \"y\": [772926.024732983], \"yaxis\": \"y\"}, {\"hovertemplate\": \"name=%{x}<br>predicted_prices=%{y}<extra></extra>\", \"legendgroup\": \"Tillakaratne Dilshan\", \"line\": {\"color\": \"#00cc96\", \"dash\": \"solid\"}, \"mode\": \"lines\", \"name\": \"Tillakaratne Dilshan\", \"orientation\": \"v\", \"showlegend\": true, \"type\": \"scatter\", \"x\": [\"Tillakaratne Dilshan\"], \"xaxis\": \"x\", \"y\": [456741.9056229128], \"yaxis\": \"y\"}, {\"hovertemplate\": \"name=%{x}<br>predicted_prices=%{y}<extra></extra>\", \"legendgroup\": \"Cheteshwar Pujara\", \"line\": {\"color\": \"#ab63fa\", \"dash\": \"solid\"}, \"mode\": \"lines\", \"name\": \"Cheteshwar Pujara\", \"orientation\": \"v\", \"showlegend\": true, \"type\": \"scatter\", \"x\": [\"Cheteshwar Pujara\"], \"xaxis\": \"x\", \"y\": [459790.002791161], \"yaxis\": \"y\"}, {\"hovertemplate\": \"name=%{x}<br>predicted_prices=%{y}<extra></extra>\", \"legendgroup\": \"Doug Bollinger\", \"line\": {\"color\": \"#FFA15A\", \"dash\": \"solid\"}, \"mode\": \"lines\", \"name\": \"Doug Bollinger\", \"orientation\": \"v\", \"showlegend\": true, \"type\": \"scatter\", \"x\": [\"Doug Bollinger\"], \"xaxis\": \"x\", \"y\": [205545.4934415709], \"yaxis\": \"y\"}, {\"hovertemplate\": \"name=%{x}<br>predicted_prices=%{y}<extra></extra>\", \"legendgroup\": \"Kumar Sangakkara\", \"line\": {\"color\": \"#19d3f3\", \"dash\": \"solid\"}, \"mode\": \"lines\", \"name\": \"Kumar Sangakkara\", \"orientation\": \"v\", \"showlegend\": true, \"type\": \"scatter\", \"x\": [\"Kumar Sangakkara\"], \"xaxis\": \"x\", \"y\": [1538212.8906050476], \"yaxis\": \"y\"}, {\"hovertemplate\": \"name=%{x}<br>predicted_prices=%{y}<extra></extra>\", \"legendgroup\": \"Munaf Patel\", \"line\": {\"color\": \"#FF6692\", \"dash\": \"solid\"}, \"mode\": \"lines\", \"name\": \"Munaf Patel\", \"orientation\": \"v\", \"showlegend\": true, \"type\": \"scatter\", \"x\": [\"Munaf Patel\"], \"xaxis\": \"x\", \"y\": [549959.9535897818], \"yaxis\": \"y\"}, {\"hovertemplate\": \"name=%{x}<br>predicted_prices=%{y}<extra></extra>\", \"legendgroup\": \"Venugopal Rao\", \"line\": {\"color\": \"#B6E880\", \"dash\": \"solid\"}, \"mode\": \"lines\", \"name\": \"Venugopal Rao\", \"orientation\": \"v\", \"showlegend\": true, \"type\": \"scatter\", \"x\": [\"Venugopal Rao\"], \"xaxis\": \"x\", \"y\": [622666.9335429146], \"yaxis\": \"y\"}, {\"hovertemplate\": \"name=%{x}<br>predicted_prices=%{y}<extra></extra>\", \"legendgroup\": \"David Warner\", \"line\": {\"color\": \"#FF97FF\", \"dash\": \"solid\"}, \"mode\": \"lines\", \"name\": \"David Warner\", \"orientation\": \"v\", \"showlegend\": true, \"type\": \"scatter\", \"x\": [\"David Warner\"], \"xaxis\": \"x\", \"y\": [869121.9895878548], \"yaxis\": \"y\"}, {\"hovertemplate\": \"name=%{x}<br>predicted_prices=%{y}<extra></extra>\", \"legendgroup\": \"Abhishek Nayar\", \"line\": {\"color\": \"#FECB52\", \"dash\": \"solid\"}, \"mode\": \"lines\", \"name\": \"Abhishek Nayar\", \"orientation\": \"v\", \"showlegend\": true, \"type\": \"scatter\", \"x\": [\"Abhishek Nayar\"], \"xaxis\": \"x\", \"y\": [505905.88883792656], \"yaxis\": \"y\"}, {\"hovertemplate\": \"name=%{x}<br>predicted_prices=%{y}<extra></extra>\", \"legendgroup\": \"Praveen Kumar\", \"line\": {\"color\": \"#636efa\", \"dash\": \"solid\"}, \"mode\": \"lines\", \"name\": \"Praveen Kumar\", \"orientation\": \"v\", \"showlegend\": true, \"type\": \"scatter\", \"x\": [\"Praveen Kumar\"], \"xaxis\": \"x\", \"y\": [939539.1223596841], \"yaxis\": \"y\"}, {\"hovertemplate\": \"name=%{x}<br>predicted_prices=%{y}<extra></extra>\", \"legendgroup\": \"Andrew Symonds\", \"line\": {\"color\": \"#EF553B\", \"dash\": \"solid\"}, \"mode\": \"lines\", \"name\": \"Andrew Symonds\", \"orientation\": \"v\", \"showlegend\": true, \"type\": \"scatter\", \"x\": [\"Andrew Symonds\"], \"xaxis\": \"x\", \"y\": [1085023.3263494924], \"yaxis\": \"y\"}, {\"hovertemplate\": \"name=%{x}<br>predicted_prices=%{y}<extra></extra>\", \"legendgroup\": \"Ashish Nehra\", \"line\": {\"color\": \"#00cc96\", \"dash\": \"solid\"}, \"mode\": \"lines\", \"name\": \"Ashish Nehra\", \"orientation\": \"v\", \"showlegend\": true, \"type\": \"scatter\", \"x\": [\"Ashish Nehra\"], \"xaxis\": \"x\", \"y\": [459513.3767876703], \"yaxis\": \"y\"}, {\"hovertemplate\": \"name=%{x}<br>predicted_prices=%{y}<extra></extra>\", \"legendgroup\": \"R Ashwin\", \"line\": {\"color\": \"#ab63fa\", \"dash\": \"solid\"}, \"mode\": \"lines\", \"name\": \"R Ashwin\", \"orientation\": \"v\", \"showlegend\": true, \"type\": \"scatter\", \"x\": [\"R Ashwin\"], \"xaxis\": \"x\", \"y\": [1084735.434891864], \"yaxis\": \"y\"}, {\"hovertemplate\": \"name=%{x}<br>predicted_prices=%{y}<extra></extra>\", \"legendgroup\": \"S Badrinath\", \"line\": {\"color\": \"#FFA15A\", \"dash\": \"solid\"}, \"mode\": \"lines\", \"name\": \"S Badrinath\", \"orientation\": \"v\", \"showlegend\": true, \"type\": \"scatter\", \"x\": [\"S Badrinath\"], \"xaxis\": \"x\", \"y\": [848123.3157071256], \"yaxis\": \"y\"}, {\"hovertemplate\": \"name=%{x}<br>predicted_prices=%{y}<extra></extra>\", \"legendgroup\": \"Adam Gilchrist\", \"line\": {\"color\": \"#19d3f3\", \"dash\": \"solid\"}, \"mode\": \"lines\", \"name\": \"Adam Gilchrist\", \"orientation\": \"v\", \"showlegend\": true, \"type\": \"scatter\", \"x\": [\"Adam Gilchrist\"], \"xaxis\": \"x\", \"y\": [1423433.6526224385], \"yaxis\": \"y\"}, {\"hovertemplate\": \"name=%{x}<br>predicted_prices=%{y}<extra></extra>\", \"legendgroup\": \"Daniel Christian\", \"line\": {\"color\": \"#FF6692\", \"dash\": \"solid\"}, \"mode\": \"lines\", \"name\": \"Daniel Christian\", \"orientation\": \"v\", \"showlegend\": true, \"type\": \"scatter\", \"x\": [\"Daniel Christian\"], \"xaxis\": \"x\", \"y\": [67370.2036948168], \"yaxis\": \"y\"}, {\"hovertemplate\": \"name=%{x}<br>predicted_prices=%{y}<extra></extra>\", \"legendgroup\": \"Dinesh Karthik\", \"line\": {\"color\": \"#B6E880\", \"dash\": \"solid\"}, \"mode\": \"lines\", \"name\": \"Dinesh Karthik\", \"orientation\": \"v\", \"showlegend\": true, \"type\": \"scatter\", \"x\": [\"Dinesh Karthik\"], \"xaxis\": \"x\", \"y\": [860178.0552066667], \"yaxis\": \"y\"}, {\"hovertemplate\": \"name=%{x}<br>predicted_prices=%{y}<extra></extra>\", \"legendgroup\": \"Kieron Pollard (retained)\", \"line\": {\"color\": \"#FF97FF\", \"dash\": \"solid\"}, \"mode\": \"lines\", \"name\": \"Kieron Pollard (retained)\", \"orientation\": \"v\", \"showlegend\": true, \"type\": \"scatter\", \"x\": [\"Kieron Pollard (retained)\"], \"xaxis\": \"x\", \"y\": [980700.4073672376], \"yaxis\": \"y\"}, {\"hovertemplate\": \"name=%{x}<br>predicted_prices=%{y}<extra></extra>\", \"legendgroup\": \"M Vijay (retained)\", \"line\": {\"color\": \"#FECB52\", \"dash\": \"solid\"}, \"mode\": \"lines\", \"name\": \"M Vijay (retained)\", \"orientation\": \"v\", \"showlegend\": true, \"type\": \"scatter\", \"x\": [\"M Vijay (retained)\"], \"xaxis\": \"x\", \"y\": [1398467.4431242957], \"yaxis\": \"y\"}, {\"hovertemplate\": \"name=%{x}<br>predicted_prices=%{y}<extra></extra>\", \"legendgroup\": \"Piyush Chawla\", \"line\": {\"color\": \"#636efa\", \"dash\": \"solid\"}, \"mode\": \"lines\", \"name\": \"Piyush Chawla\", \"orientation\": \"v\", \"showlegend\": true, \"type\": \"scatter\", \"x\": [\"Piyush Chawla\"], \"xaxis\": \"x\", \"y\": [974290.2678891692], \"yaxis\": \"y\"}, {\"hovertemplate\": \"name=%{x}<br>predicted_prices=%{y}<extra></extra>\", \"legendgroup\": \"Sreesanth\", \"line\": {\"color\": \"#EF553B\", \"dash\": \"solid\"}, \"mode\": \"lines\", \"name\": \"Sreesanth\", \"orientation\": \"v\", \"showlegend\": true, \"type\": \"scatter\", \"x\": [\"Sreesanth\"], \"xaxis\": \"x\", \"y\": [611942.2860828206], \"yaxis\": \"y\"}, {\"hovertemplate\": \"name=%{x}<br>predicted_prices=%{y}<extra></extra>\", \"legendgroup\": \"Zaheer Khan\", \"line\": {\"color\": \"#00cc96\", \"dash\": \"solid\"}, \"mode\": \"lines\", \"name\": \"Zaheer Khan\", \"orientation\": \"v\", \"showlegend\": true, \"type\": \"scatter\", \"x\": [\"Zaheer Khan\"], \"xaxis\": \"x\", \"y\": [644395.326946003], \"yaxis\": \"y\"}, {\"hovertemplate\": \"name=%{x}<br>predicted_prices=%{y}<extra></extra>\", \"legendgroup\": \"Angelo Mathews\", \"line\": {\"color\": \"#ab63fa\", \"dash\": \"solid\"}, \"mode\": \"lines\", \"name\": \"Angelo Mathews\", \"orientation\": \"v\", \"showlegend\": true, \"type\": \"scatter\", \"x\": [\"Angelo Mathews\"], \"xaxis\": \"x\", \"y\": [834431.5824777788], \"yaxis\": \"y\"}, {\"hovertemplate\": \"name=%{x}<br>predicted_prices=%{y}<extra></extra>\", \"legendgroup\": \"Johan Botha\", \"line\": {\"color\": \"#FFA15A\", \"dash\": \"solid\"}, \"mode\": \"lines\", \"name\": \"Johan Botha\", \"orientation\": \"v\", \"showlegend\": true, \"type\": \"scatter\", \"x\": [\"Johan Botha\"], \"xaxis\": \"x\", \"y\": [554652.9822879361], \"yaxis\": \"y\"}, {\"hovertemplate\": \"name=%{x}<br>predicted_prices=%{y}<extra></extra>\", \"legendgroup\": \"Ravindra Jadeja\", \"line\": {\"color\": \"#19d3f3\", \"dash\": \"solid\"}, \"mode\": \"lines\", \"name\": \"Ravindra Jadeja\", \"orientation\": \"v\", \"showlegend\": true, \"type\": \"scatter\", \"x\": [\"Ravindra Jadeja\"], \"xaxis\": \"x\", \"y\": [599251.2940939199], \"yaxis\": \"y\"}, {\"hovertemplate\": \"name=%{x}<br>predicted_prices=%{y}<extra></extra>\", \"legendgroup\": \"Ross Taylor\", \"line\": {\"color\": \"#FF6692\", \"dash\": \"solid\"}, \"mode\": \"lines\", \"name\": \"Ross Taylor\", \"orientation\": \"v\", \"showlegend\": true, \"type\": \"scatter\", \"x\": [\"Ross Taylor\"], \"xaxis\": \"x\", \"y\": [622158.8692113282], \"yaxis\": \"y\"}, {\"hovertemplate\": \"name=%{x}<br>predicted_prices=%{y}<extra></extra>\", \"legendgroup\": \"AB de Villiers\", \"line\": {\"color\": \"#B6E880\", \"dash\": \"solid\"}, \"mode\": \"lines\", \"name\": \"AB de Villiers\", \"orientation\": \"v\", \"showlegend\": true, \"type\": \"scatter\", \"x\": [\"AB de Villiers\"], \"xaxis\": \"x\", \"y\": [509155.18727826007], \"yaxis\": \"y\"}, {\"hovertemplate\": \"name=%{x}<br>predicted_prices=%{y}<extra></extra>\", \"legendgroup\": \"Cameron White\", \"line\": {\"color\": \"#FF97FF\", \"dash\": \"solid\"}, \"mode\": \"lines\", \"name\": \"Cameron White\", \"orientation\": \"v\", \"showlegend\": true, \"type\": \"scatter\", \"x\": [\"Cameron White\"], \"xaxis\": \"x\", \"y\": [712161.4510511005], \"yaxis\": \"y\"}, {\"hovertemplate\": \"name=%{x}<br>predicted_prices=%{y}<extra></extra>\", \"legendgroup\": \"Jacques Kallis\", \"line\": {\"color\": \"#FECB52\", \"dash\": \"solid\"}, \"mode\": \"lines\", \"name\": \"Jacques Kallis\", \"orientation\": \"v\", \"showlegend\": true, \"type\": \"scatter\", \"x\": [\"Jacques Kallis\"], \"xaxis\": \"x\", \"y\": [816486.0579023418], \"yaxis\": \"y\"}, {\"hovertemplate\": \"name=%{x}<br>predicted_prices=%{y}<extra></extra>\", \"legendgroup\": \"Muttiah Muralitharan\", \"line\": {\"color\": \"#636efa\", \"dash\": \"solid\"}, \"mode\": \"lines\", \"name\": \"Muttiah Muralitharan\", \"orientation\": \"v\", \"showlegend\": true, \"type\": \"scatter\", \"x\": [\"Muttiah Muralitharan\"], \"xaxis\": \"x\", \"y\": [635111.522901125], \"yaxis\": \"y\"}, {\"hovertemplate\": \"name=%{x}<br>predicted_prices=%{y}<extra></extra>\", \"legendgroup\": \"Dale Steyn\", \"line\": {\"color\": \"#EF553B\", \"dash\": \"solid\"}, \"mode\": \"lines\", \"name\": \"Dale Steyn\", \"orientation\": \"v\", \"showlegend\": true, \"type\": \"scatter\", \"x\": [\"Dale Steyn\"], \"xaxis\": \"x\", \"y\": [861285.2778290436], \"yaxis\": \"y\"}, {\"hovertemplate\": \"name=%{x}<br>predicted_prices=%{y}<extra></extra>\", \"legendgroup\": \"Harbhajan Singh (retained)\", \"line\": {\"color\": \"#00cc96\", \"dash\": \"solid\"}, \"mode\": \"lines\", \"name\": \"Harbhajan Singh (retained)\", \"orientation\": \"v\", \"showlegend\": true, \"type\": \"scatter\", \"x\": [\"Harbhajan Singh (retained)\"], \"xaxis\": \"x\", \"y\": [561345.2418166961], \"yaxis\": \"y\"}, {\"hovertemplate\": \"name=%{x}<br>predicted_prices=%{y}<extra></extra>\", \"legendgroup\": \"Shane Watson (retained)\", \"line\": {\"color\": \"#ab63fa\", \"dash\": \"solid\"}, \"mode\": \"lines\", \"name\": \"Shane Watson (retained)\", \"orientation\": \"v\", \"showlegend\": true, \"type\": \"scatter\", \"x\": [\"Shane Watson (retained)\"], \"xaxis\": \"x\", \"y\": [789252.9914081873], \"yaxis\": \"y\"}, {\"hovertemplate\": \"name=%{x}<br>predicted_prices=%{y}<extra></extra>\", \"legendgroup\": \"Suresh Raina (retained)\", \"line\": {\"color\": \"#FFA15A\", \"dash\": \"solid\"}, \"mode\": \"lines\", \"name\": \"Suresh Raina (retained)\", \"orientation\": \"v\", \"showlegend\": true, \"type\": \"scatter\", \"x\": [\"Suresh Raina (retained)\"], \"xaxis\": \"x\", \"y\": [1516121.255254957], \"yaxis\": \"y\"}, {\"hovertemplate\": \"name=%{x}<br>predicted_prices=%{y}<extra></extra>\", \"legendgroup\": \"David Hussey\", \"line\": {\"color\": \"#19d3f3\", \"dash\": \"solid\"}, \"mode\": \"lines\", \"name\": \"David Hussey\", \"orientation\": \"v\", \"showlegend\": true, \"type\": \"scatter\", \"x\": [\"David Hussey\"], \"xaxis\": \"x\", \"y\": [1312577.9109164248], \"yaxis\": \"y\"}, {\"hovertemplate\": \"name=%{x}<br>predicted_prices=%{y}<extra></extra>\", \"legendgroup\": \"Mahela Jayawardene\", \"line\": {\"color\": \"#FF6692\", \"dash\": \"solid\"}, \"mode\": \"lines\", \"name\": \"Mahela Jayawardene\", \"orientation\": \"v\", \"showlegend\": true, \"type\": \"scatter\", \"x\": [\"Mahela Jayawardene\"], \"xaxis\": \"x\", \"y\": [1440906.9573051936], \"yaxis\": \"y\"}, {\"hovertemplate\": \"name=%{x}<br>predicted_prices=%{y}<extra></extra>\", \"legendgroup\": \"Saurabh Tiwary\", \"line\": {\"color\": \"#B6E880\", \"dash\": \"solid\"}, \"mode\": \"lines\", \"name\": \"Saurabh Tiwary\", \"orientation\": \"v\", \"showlegend\": true, \"type\": \"scatter\", \"x\": [\"Saurabh Tiwary\"], \"xaxis\": \"x\", \"y\": [973319.6634043072], \"yaxis\": \"y\"}, {\"hovertemplate\": \"name=%{x}<br>predicted_prices=%{y}<extra></extra>\", \"legendgroup\": \"MS Dhoni (retained)\", \"line\": {\"color\": \"#FF97FF\", \"dash\": \"solid\"}, \"mode\": \"lines\", \"name\": \"MS Dhoni (retained)\", \"orientation\": \"v\", \"showlegend\": true, \"type\": \"scatter\", \"x\": [\"MS Dhoni (retained)\"], \"xaxis\": \"x\", \"y\": [1750547.2903341998], \"yaxis\": \"y\"}, {\"hovertemplate\": \"name=%{x}<br>predicted_prices=%{y}<extra></extra>\", \"legendgroup\": \"Sachin Tendulkar (retained)\", \"line\": {\"color\": \"#FECB52\", \"dash\": \"solid\"}, \"mode\": \"lines\", \"name\": \"Sachin Tendulkar (retained)\", \"orientation\": \"v\", \"showlegend\": true, \"type\": \"scatter\", \"x\": [\"Sachin Tendulkar (retained)\"], \"xaxis\": \"x\", \"y\": [1395745.69662394], \"yaxis\": \"y\"}, {\"hovertemplate\": \"name=%{x}<br>predicted_prices=%{y}<extra></extra>\", \"legendgroup\": \"Shane Warne (retained)\", \"line\": {\"color\": \"#636efa\", \"dash\": \"solid\"}, \"mode\": \"lines\", \"name\": \"Shane Warne (retained)\", \"orientation\": \"v\", \"showlegend\": true, \"type\": \"scatter\", \"x\": [\"Shane Warne (retained)\"], \"xaxis\": \"x\", \"y\": [1356024.5580458443], \"yaxis\": \"y\"}, {\"hovertemplate\": \"name=%{x}<br>predicted_prices=%{y}<extra></extra>\", \"legendgroup\": \"Virat Kohli (retained)\", \"line\": {\"color\": \"#EF553B\", \"dash\": \"solid\"}, \"mode\": \"lines\", \"name\": \"Virat Kohli (retained)\", \"orientation\": \"v\", \"showlegend\": true, \"type\": \"scatter\", \"x\": [\"Virat Kohli (retained)\"], \"xaxis\": \"x\", \"y\": [1334272.0343287159], \"yaxis\": \"y\"}, {\"hovertemplate\": \"name=%{x}<br>predicted_prices=%{y}<extra></extra>\", \"legendgroup\": \"Virender Sehwag (retained)\", \"line\": {\"color\": \"#00cc96\", \"dash\": \"solid\"}, \"mode\": \"lines\", \"name\": \"Virender Sehwag (retained)\", \"orientation\": \"v\", \"showlegend\": true, \"type\": \"scatter\", \"x\": [\"Virender Sehwag (retained)\"], \"xaxis\": \"x\", \"y\": [1707925.0296849946], \"yaxis\": \"y\"}, {\"hovertemplate\": \"name=%{x}<br>predicted_prices=%{y}<extra></extra>\", \"legendgroup\": \"Yuvraj Singh\", \"line\": {\"color\": \"#ab63fa\", \"dash\": \"solid\"}, \"mode\": \"lines\", \"name\": \"Yuvraj Singh\", \"orientation\": \"v\", \"showlegend\": true, \"type\": \"scatter\", \"x\": [\"Yuvraj Singh\"], \"xaxis\": \"x\", \"y\": [1797805.311172932], \"yaxis\": \"y\"}, {\"hovertemplate\": \"name=%{x}<br>predicted_prices=%{y}<extra></extra>\", \"legendgroup\": \"Irfan Pathan\", \"line\": {\"color\": \"#FFA15A\", \"dash\": \"solid\"}, \"mode\": \"lines\", \"name\": \"Irfan Pathan\", \"orientation\": \"v\", \"showlegend\": true, \"type\": \"scatter\", \"x\": [\"Irfan Pathan\"], \"xaxis\": \"x\", \"y\": [1282787.3760544404], \"yaxis\": \"y\"}, {\"hovertemplate\": \"name=%{x}<br>predicted_prices=%{y}<extra></extra>\", \"legendgroup\": \"Rohit Sharma\", \"line\": {\"color\": \"#19d3f3\", \"dash\": \"solid\"}, \"mode\": \"lines\", \"name\": \"Rohit Sharma\", \"orientation\": \"v\", \"showlegend\": true, \"type\": \"scatter\", \"x\": [\"Rohit Sharma\"], \"xaxis\": \"x\", \"y\": [1188244.8611394342], \"yaxis\": \"y\"}, {\"hovertemplate\": \"name=%{x}<br>predicted_prices=%{y}<extra></extra>\", \"legendgroup\": \"Robin Uthappa\", \"line\": {\"color\": \"#FF6692\", \"dash\": \"solid\"}, \"mode\": \"lines\", \"name\": \"Robin Uthappa\", \"orientation\": \"v\", \"showlegend\": true, \"type\": \"scatter\", \"x\": [\"Robin Uthappa\"], \"xaxis\": \"x\", \"y\": [1446400.1828156747], \"yaxis\": \"y\"}, {\"hovertemplate\": \"name=%{x}<br>predicted_prices=%{y}<extra></extra>\", \"legendgroup\": \"Yusuf Pathan\", \"line\": {\"color\": \"#B6E880\", \"dash\": \"solid\"}, \"mode\": \"lines\", \"name\": \"Yusuf Pathan\", \"orientation\": \"v\", \"showlegend\": true, \"type\": \"scatter\", \"x\": [\"Yusuf Pathan\"], \"xaxis\": \"x\", \"y\": [1730645.1106264188], \"yaxis\": \"y\"}, {\"hovertemplate\": \"name=%{x}<br>predicted_prices=%{y}<extra></extra>\", \"legendgroup\": \"Gautam Gambhir\", \"line\": {\"color\": \"#FF97FF\", \"dash\": \"solid\"}, \"mode\": \"lines\", \"name\": \"Gautam Gambhir\", \"orientation\": \"v\", \"showlegend\": true, \"type\": \"scatter\", \"x\": [\"Gautam Gambhir\"], \"xaxis\": \"x\", \"y\": [1574093.0513512834], \"yaxis\": \"y\"}],                        {\"legend\": {\"title\": {\"text\": \"name\"}, \"tracegroupgap\": 0}, \"margin\": {\"t\": 60}, \"template\": {\"data\": {\"bar\": [{\"error_x\": {\"color\": \"#2a3f5f\"}, \"error_y\": {\"color\": \"#2a3f5f\"}, \"marker\": {\"line\": {\"color\": \"#E5ECF6\", \"width\": 0.5}}, \"type\": \"bar\"}], \"barpolar\": [{\"marker\": {\"line\": {\"color\": \"#E5ECF6\", \"width\": 0.5}}, \"type\": \"barpolar\"}], \"carpet\": [{\"aaxis\": {\"endlinecolor\": \"#2a3f5f\", \"gridcolor\": \"white\", \"linecolor\": \"white\", \"minorgridcolor\": \"white\", \"startlinecolor\": \"#2a3f5f\"}, \"baxis\": {\"endlinecolor\": \"#2a3f5f\", \"gridcolor\": \"white\", \"linecolor\": \"white\", \"minorgridcolor\": \"white\", \"startlinecolor\": \"#2a3f5f\"}, \"type\": \"carpet\"}], \"choropleth\": [{\"colorbar\": {\"outlinewidth\": 0, \"ticks\": \"\"}, \"type\": \"choropleth\"}], \"contour\": [{\"colorbar\": {\"outlinewidth\": 0, \"ticks\": \"\"}, \"colorscale\": [[0.0, \"#0d0887\"], [0.1111111111111111, \"#46039f\"], [0.2222222222222222, \"#7201a8\"], [0.3333333333333333, \"#9c179e\"], [0.4444444444444444, \"#bd3786\"], [0.5555555555555556, \"#d8576b\"], [0.6666666666666666, \"#ed7953\"], [0.7777777777777778, \"#fb9f3a\"], [0.8888888888888888, \"#fdca26\"], [1.0, \"#f0f921\"]], \"type\": \"contour\"}], \"contourcarpet\": [{\"colorbar\": {\"outlinewidth\": 0, \"ticks\": \"\"}, \"type\": \"contourcarpet\"}], \"heatmap\": [{\"colorbar\": {\"outlinewidth\": 0, \"ticks\": \"\"}, \"colorscale\": [[0.0, \"#0d0887\"], [0.1111111111111111, \"#46039f\"], [0.2222222222222222, \"#7201a8\"], [0.3333333333333333, \"#9c179e\"], [0.4444444444444444, \"#bd3786\"], [0.5555555555555556, \"#d8576b\"], [0.6666666666666666, \"#ed7953\"], [0.7777777777777778, \"#fb9f3a\"], [0.8888888888888888, \"#fdca26\"], [1.0, \"#f0f921\"]], \"type\": \"heatmap\"}], \"heatmapgl\": [{\"colorbar\": {\"outlinewidth\": 0, \"ticks\": \"\"}, \"colorscale\": [[0.0, \"#0d0887\"], [0.1111111111111111, \"#46039f\"], [0.2222222222222222, \"#7201a8\"], [0.3333333333333333, \"#9c179e\"], [0.4444444444444444, \"#bd3786\"], [0.5555555555555556, \"#d8576b\"], [0.6666666666666666, \"#ed7953\"], [0.7777777777777778, \"#fb9f3a\"], [0.8888888888888888, \"#fdca26\"], [1.0, \"#f0f921\"]], \"type\": \"heatmapgl\"}], \"histogram\": [{\"marker\": {\"colorbar\": {\"outlinewidth\": 0, \"ticks\": \"\"}}, \"type\": \"histogram\"}], \"histogram2d\": [{\"colorbar\": {\"outlinewidth\": 0, \"ticks\": \"\"}, \"colorscale\": [[0.0, \"#0d0887\"], [0.1111111111111111, \"#46039f\"], [0.2222222222222222, \"#7201a8\"], [0.3333333333333333, \"#9c179e\"], [0.4444444444444444, \"#bd3786\"], [0.5555555555555556, \"#d8576b\"], [0.6666666666666666, \"#ed7953\"], [0.7777777777777778, \"#fb9f3a\"], [0.8888888888888888, \"#fdca26\"], [1.0, \"#f0f921\"]], \"type\": \"histogram2d\"}], \"histogram2dcontour\": [{\"colorbar\": {\"outlinewidth\": 0, \"ticks\": \"\"}, \"colorscale\": [[0.0, \"#0d0887\"], [0.1111111111111111, \"#46039f\"], [0.2222222222222222, \"#7201a8\"], [0.3333333333333333, \"#9c179e\"], [0.4444444444444444, \"#bd3786\"], [0.5555555555555556, \"#d8576b\"], [0.6666666666666666, \"#ed7953\"], [0.7777777777777778, \"#fb9f3a\"], [0.8888888888888888, \"#fdca26\"], [1.0, \"#f0f921\"]], \"type\": \"histogram2dcontour\"}], \"mesh3d\": [{\"colorbar\": {\"outlinewidth\": 0, \"ticks\": \"\"}, \"type\": \"mesh3d\"}], \"parcoords\": [{\"line\": {\"colorbar\": {\"outlinewidth\": 0, \"ticks\": \"\"}}, \"type\": \"parcoords\"}], \"pie\": [{\"automargin\": true, \"type\": \"pie\"}], \"scatter\": [{\"marker\": {\"colorbar\": {\"outlinewidth\": 0, \"ticks\": \"\"}}, \"type\": \"scatter\"}], \"scatter3d\": [{\"line\": {\"colorbar\": {\"outlinewidth\": 0, \"ticks\": \"\"}}, \"marker\": {\"colorbar\": {\"outlinewidth\": 0, \"ticks\": \"\"}}, \"type\": \"scatter3d\"}], \"scattercarpet\": [{\"marker\": {\"colorbar\": {\"outlinewidth\": 0, \"ticks\": \"\"}}, \"type\": \"scattercarpet\"}], \"scattergeo\": [{\"marker\": {\"colorbar\": {\"outlinewidth\": 0, \"ticks\": \"\"}}, \"type\": \"scattergeo\"}], \"scattergl\": [{\"marker\": {\"colorbar\": {\"outlinewidth\": 0, \"ticks\": \"\"}}, \"type\": \"scattergl\"}], \"scattermapbox\": [{\"marker\": {\"colorbar\": {\"outlinewidth\": 0, \"ticks\": \"\"}}, \"type\": \"scattermapbox\"}], \"scatterpolar\": [{\"marker\": {\"colorbar\": {\"outlinewidth\": 0, \"ticks\": \"\"}}, \"type\": \"scatterpolar\"}], \"scatterpolargl\": [{\"marker\": {\"colorbar\": {\"outlinewidth\": 0, \"ticks\": \"\"}}, \"type\": \"scatterpolargl\"}], \"scatterternary\": [{\"marker\": {\"colorbar\": {\"outlinewidth\": 0, \"ticks\": \"\"}}, \"type\": \"scatterternary\"}], \"surface\": [{\"colorbar\": {\"outlinewidth\": 0, \"ticks\": \"\"}, \"colorscale\": [[0.0, \"#0d0887\"], [0.1111111111111111, \"#46039f\"], [0.2222222222222222, \"#7201a8\"], [0.3333333333333333, \"#9c179e\"], [0.4444444444444444, \"#bd3786\"], [0.5555555555555556, \"#d8576b\"], [0.6666666666666666, \"#ed7953\"], [0.7777777777777778, \"#fb9f3a\"], [0.8888888888888888, \"#fdca26\"], [1.0, \"#f0f921\"]], \"type\": \"surface\"}], \"table\": [{\"cells\": {\"fill\": {\"color\": \"#EBF0F8\"}, \"line\": {\"color\": \"white\"}}, \"header\": {\"fill\": {\"color\": \"#C8D4E3\"}, \"line\": {\"color\": \"white\"}}, \"type\": \"table\"}]}, \"layout\": {\"annotationdefaults\": {\"arrowcolor\": \"#2a3f5f\", \"arrowhead\": 0, \"arrowwidth\": 1}, \"autotypenumbers\": \"strict\", \"coloraxis\": {\"colorbar\": {\"outlinewidth\": 0, \"ticks\": \"\"}}, \"colorscale\": {\"diverging\": [[0, \"#8e0152\"], [0.1, \"#c51b7d\"], [0.2, \"#de77ae\"], [0.3, \"#f1b6da\"], [0.4, \"#fde0ef\"], [0.5, \"#f7f7f7\"], [0.6, \"#e6f5d0\"], [0.7, \"#b8e186\"], [0.8, \"#7fbc41\"], [0.9, \"#4d9221\"], [1, \"#276419\"]], \"sequential\": [[0.0, \"#0d0887\"], [0.1111111111111111, \"#46039f\"], [0.2222222222222222, \"#7201a8\"], [0.3333333333333333, \"#9c179e\"], [0.4444444444444444, \"#bd3786\"], [0.5555555555555556, \"#d8576b\"], [0.6666666666666666, \"#ed7953\"], [0.7777777777777778, \"#fb9f3a\"], [0.8888888888888888, \"#fdca26\"], [1.0, \"#f0f921\"]], \"sequentialminus\": [[0.0, \"#0d0887\"], [0.1111111111111111, \"#46039f\"], [0.2222222222222222, \"#7201a8\"], [0.3333333333333333, \"#9c179e\"], [0.4444444444444444, \"#bd3786\"], [0.5555555555555556, \"#d8576b\"], [0.6666666666666666, \"#ed7953\"], [0.7777777777777778, \"#fb9f3a\"], [0.8888888888888888, \"#fdca26\"], [1.0, \"#f0f921\"]]}, \"colorway\": [\"#636efa\", \"#EF553B\", \"#00cc96\", \"#ab63fa\", \"#FFA15A\", \"#19d3f3\", \"#FF6692\", \"#B6E880\", \"#FF97FF\", \"#FECB52\"], \"font\": {\"color\": \"#2a3f5f\"}, \"geo\": {\"bgcolor\": \"white\", \"lakecolor\": \"white\", \"landcolor\": \"#E5ECF6\", \"showlakes\": true, \"showland\": true, \"subunitcolor\": \"white\"}, \"hoverlabel\": {\"align\": \"left\"}, \"hovermode\": \"closest\", \"mapbox\": {\"style\": \"light\"}, \"paper_bgcolor\": \"white\", \"plot_bgcolor\": \"#E5ECF6\", \"polar\": {\"angularaxis\": {\"gridcolor\": \"white\", \"linecolor\": \"white\", \"ticks\": \"\"}, \"bgcolor\": \"#E5ECF6\", \"radialaxis\": {\"gridcolor\": \"white\", \"linecolor\": \"white\", \"ticks\": \"\"}}, \"scene\": {\"xaxis\": {\"backgroundcolor\": \"#E5ECF6\", \"gridcolor\": \"white\", \"gridwidth\": 2, \"linecolor\": \"white\", \"showbackground\": true, \"ticks\": \"\", \"zerolinecolor\": \"white\"}, \"yaxis\": {\"backgroundcolor\": \"#E5ECF6\", \"gridcolor\": \"white\", \"gridwidth\": 2, \"linecolor\": \"white\", \"showbackground\": true, \"ticks\": \"\", \"zerolinecolor\": \"white\"}, \"zaxis\": {\"backgroundcolor\": \"#E5ECF6\", \"gridcolor\": \"white\", \"gridwidth\": 2, \"linecolor\": \"white\", \"showbackground\": true, \"ticks\": \"\", \"zerolinecolor\": \"white\"}}, \"shapedefaults\": {\"line\": {\"color\": \"#2a3f5f\"}}, \"ternary\": {\"aaxis\": {\"gridcolor\": \"white\", \"linecolor\": \"white\", \"ticks\": \"\"}, \"baxis\": {\"gridcolor\": \"white\", \"linecolor\": \"white\", \"ticks\": \"\"}, \"bgcolor\": \"#E5ECF6\", \"caxis\": {\"gridcolor\": \"white\", \"linecolor\": \"white\", \"ticks\": \"\"}}, \"title\": {\"x\": 0.05}, \"xaxis\": {\"automargin\": true, \"gridcolor\": \"white\", \"linecolor\": \"white\", \"ticks\": \"\", \"title\": {\"standoff\": 15}, \"zerolinecolor\": \"white\", \"zerolinewidth\": 2}, \"yaxis\": {\"automargin\": true, \"gridcolor\": \"white\", \"linecolor\": \"white\", \"ticks\": \"\", \"title\": {\"standoff\": 15}, \"zerolinecolor\": \"white\", \"zerolinewidth\": 2}}}, \"xaxis\": {\"anchor\": \"y\", \"categoryarray\": [\"Aiden Blizzard\", \"Jonathan Vandiar\", \"Nathan Rimmington\", \"Rilee Rossouw\", \"Robert Frylinck\", \"Travis Birt\", \"George Bailey\", \"Johan van der Wath\", \"Luke Pomersbasch\", \"Moises Henriques\", \"Roelof van der Merwe\", \"Michael Klinger\", \"Andrew McDonald\", \"Michael Lumb\", \"Suraj Randiv\", \"Thisara Perera\", \"Rusty Theron\", \"Alfonso Thomas\", \"Ben Hilfenhaus\", \"Colin Ingram\", \"Dimitri Mascarenhas\", \"James Franklin\", \"Jerome Taylor\", \"Matthew Wade\", \"Nathan McCullum\", \"Nuwan Kulasekara\", \"Wriddhiman Saha\", \"Clint McKay\", \"Faf du Plessis\", \"Mohammad Kaif\", \"Charl Langeveldt\", \"Jesse Ryder\", \"Joginder Sharma\", \"Ryan ten Doeschate\", \"Wayne Parnell\", \"Davy Jacobs\", \"Dwayne Bravo\", \"Owais Shah\", \"Scott Styris\", \"Steven Smith\", \"Ajit Agarkar\", \"Sudeep Tyagi\", \"Jaidev Unadkat\", \"Paul Collingwood\", \"Naman Ojha\", \"Tim Paine\", \"Manpreet Gony\", \"Parthiv Patel\", \"Aaron Finch\", \"Amit Mishra\", \"Callum Ferguson\", \"JP Duminy\", \"Shaun Tait\", \"Shikhar Dhawan\", \"Brad Haddin\", \"Ryan Harris\", \"Eoin Morgan\", \"James Hopes\", \"Ashok Dinda\", \"Brett Lee\", \"Murali Kartik\", \"Shaun Marsh\", \"Stuart Broad\", \"VVS Laxman\", \"Brad Hodge\", \"Michael Hussey\", \"Shakib Al Hasan\", \"Ishant Sharma\", \"Brendon McCullum\", \"Manoj Tiwary\", \"Morne Morkel\", \"Vinay Kumar\", \"Albie Morkel (retained)\", \"Graeme Smith\", \"L Balaji\", \"Lasith Malinga (retained)\", \"Pragyan Ojha\", \"Rahul Dravid\", \"RP Singh\", \"Daniel Vettori\", \"Dirk Nannes\", \"Kevin Pietersen\", \"Tillakaratne Dilshan\", \"Cheteshwar Pujara\", \"Doug Bollinger\", \"Kumar Sangakkara\", \"Munaf Patel\", \"Venugopal Rao\", \"David Warner\", \"Abhishek Nayar\", \"Praveen Kumar\", \"Andrew Symonds\", \"Ashish Nehra\", \"R Ashwin\", \"S Badrinath\", \"Adam Gilchrist\", \"Daniel Christian\", \"Dinesh Karthik\", \"Kieron Pollard (retained)\", \"M Vijay (retained)\", \"Piyush Chawla\", \"Sreesanth\", \"Zaheer Khan\", \"Angelo Mathews\", \"Johan Botha\", \"Ravindra Jadeja\", \"Ross Taylor\", \"AB de Villiers\", \"Cameron White\", \"Jacques Kallis\", \"Muttiah Muralitharan\", \"Dale Steyn\", \"Harbhajan Singh (retained)\", \"Shane Watson (retained)\", \"Suresh Raina (retained)\", \"David Hussey\", \"Mahela Jayawardene\", \"Saurabh Tiwary\", \"MS Dhoni (retained)\", \"Sachin Tendulkar (retained)\", \"Shane Warne (retained)\", \"Virat Kohli (retained)\", \"Virender Sehwag (retained)\", \"Yuvraj Singh\", \"Irfan Pathan\", \"Rohit Sharma\", \"Robin Uthappa\", \"Yusuf Pathan\", \"Gautam Gambhir\"], \"categoryorder\": \"array\", \"domain\": [0.0, 1.0], \"title\": {\"text\": \"name\"}}, \"yaxis\": {\"anchor\": \"x\", \"domain\": [0.0, 1.0], \"title\": {\"text\": \"predicted_prices\"}}},                        {\"responsive\": true}                    ).then(function(){\n",
       "                            \n",
       "var gd = document.getElementById('c58874b2-0839-492b-a673-6c26a822ffe0');\n",
       "var x = new MutationObserver(function (mutations, observer) {{\n",
       "        var display = window.getComputedStyle(gd).display;\n",
       "        if (!display || display === 'none') {{\n",
       "            console.log([gd, 'removed!']);\n",
       "            Plotly.purge(gd);\n",
       "            observer.disconnect();\n",
       "        }}\n",
       "}});\n",
       "\n",
       "// Listen for the removal of the full notebook cells\n",
       "var notebookContainer = gd.closest('#notebook-container');\n",
       "if (notebookContainer) {{\n",
       "    x.observe(notebookContainer, {childList: true});\n",
       "}}\n",
       "\n",
       "// Listen for the clearing of the current output cell\n",
       "var outputEl = gd.closest('.output');\n",
       "if (outputEl) {{\n",
       "    x.observe(outputEl, {childList: true});\n",
       "}}\n",
       "\n",
       "                        })                };                });            </script>        </div>"
      ]
     },
     "metadata": {},
     "output_type": "display_data"
    }
   ],
   "source": [
    "fig = px.line(df, x=\"name\", y=\"predicted_prices\",color=\"name\")\n",
    "fig.show()"
   ]
  },
  {
   "cell_type": "code",
   "execution_count": 10,
   "metadata": {},
   "outputs": [
    {
     "data": {
      "application/vnd.plotly.v1+json": {
       "config": {
        "plotlyServerURL": "https://plot.ly"
       },
       "data": [
        {
         "alignmentgroup": "True",
         "hovertemplate": "name=%{x}<br>predicted_prices=%{y}<extra></extra>",
         "legendgroup": "Aiden Blizzard",
         "marker": {
          "color": "#636efa"
         },
         "name": "Aiden Blizzard",
         "offsetgroup": "Aiden Blizzard",
         "orientation": "v",
         "showlegend": true,
         "textposition": "auto",
         "type": "bar",
         "x": [
          "Aiden Blizzard"
         ],
         "xaxis": "x",
         "y": [
          49819.36467972165
         ],
         "yaxis": "y"
        },
        {
         "alignmentgroup": "True",
         "hovertemplate": "name=%{x}<br>predicted_prices=%{y}<extra></extra>",
         "legendgroup": "Jonathan Vandiar",
         "marker": {
          "color": "#EF553B"
         },
         "name": "Jonathan Vandiar",
         "offsetgroup": "Jonathan Vandiar",
         "orientation": "v",
         "showlegend": true,
         "textposition": "auto",
         "type": "bar",
         "x": [
          "Jonathan Vandiar"
         ],
         "xaxis": "x",
         "y": [
          149281.96694958524
         ],
         "yaxis": "y"
        },
        {
         "alignmentgroup": "True",
         "hovertemplate": "name=%{x}<br>predicted_prices=%{y}<extra></extra>",
         "legendgroup": "Nathan Rimmington",
         "marker": {
          "color": "#00cc96"
         },
         "name": "Nathan Rimmington",
         "offsetgroup": "Nathan Rimmington",
         "orientation": "v",
         "showlegend": true,
         "textposition": "auto",
         "type": "bar",
         "x": [
          "Nathan Rimmington"
         ],
         "xaxis": "x",
         "y": [
          80891.86272189056
         ],
         "yaxis": "y"
        },
        {
         "alignmentgroup": "True",
         "hovertemplate": "name=%{x}<br>predicted_prices=%{y}<extra></extra>",
         "legendgroup": "Rilee Rossouw",
         "marker": {
          "color": "#ab63fa"
         },
         "name": "Rilee Rossouw",
         "offsetgroup": "Rilee Rossouw",
         "orientation": "v",
         "showlegend": true,
         "textposition": "auto",
         "type": "bar",
         "x": [
          "Rilee Rossouw"
         ],
         "xaxis": "x",
         "y": [
          129333.95503102186
         ],
         "yaxis": "y"
        },
        {
         "alignmentgroup": "True",
         "hovertemplate": "name=%{x}<br>predicted_prices=%{y}<extra></extra>",
         "legendgroup": "Robert Frylinck",
         "marker": {
          "color": "#FFA15A"
         },
         "name": "Robert Frylinck",
         "offsetgroup": "Robert Frylinck",
         "orientation": "v",
         "showlegend": true,
         "textposition": "auto",
         "type": "bar",
         "x": [
          "Robert Frylinck"
         ],
         "xaxis": "x",
         "y": [
          29964.433436426098
         ],
         "yaxis": "y"
        },
        {
         "alignmentgroup": "True",
         "hovertemplate": "name=%{x}<br>predicted_prices=%{y}<extra></extra>",
         "legendgroup": "Travis Birt",
         "marker": {
          "color": "#19d3f3"
         },
         "name": "Travis Birt",
         "offsetgroup": "Travis Birt",
         "orientation": "v",
         "showlegend": true,
         "textposition": "auto",
         "type": "bar",
         "x": [
          "Travis Birt"
         ],
         "xaxis": "x",
         "y": [
          184512.17141344887
         ],
         "yaxis": "y"
        },
        {
         "alignmentgroup": "True",
         "hovertemplate": "name=%{x}<br>predicted_prices=%{y}<extra></extra>",
         "legendgroup": "George Bailey",
         "marker": {
          "color": "#FF6692"
         },
         "name": "George Bailey",
         "offsetgroup": "George Bailey",
         "orientation": "v",
         "showlegend": true,
         "textposition": "auto",
         "type": "bar",
         "x": [
          "George Bailey"
         ],
         "xaxis": "x",
         "y": [
          173858.45811606126
         ],
         "yaxis": "y"
        },
        {
         "alignmentgroup": "True",
         "hovertemplate": "name=%{x}<br>predicted_prices=%{y}<extra></extra>",
         "legendgroup": "Johan van der Wath",
         "marker": {
          "color": "#B6E880"
         },
         "name": "Johan van der Wath",
         "offsetgroup": "Johan van der Wath",
         "orientation": "v",
         "showlegend": true,
         "textposition": "auto",
         "type": "bar",
         "x": [
          "Johan van der Wath"
         ],
         "xaxis": "x",
         "y": [
          5701.6674524314
         ],
         "yaxis": "y"
        },
        {
         "alignmentgroup": "True",
         "hovertemplate": "name=%{x}<br>predicted_prices=%{y}<extra></extra>",
         "legendgroup": "Luke Pomersbasch",
         "marker": {
          "color": "#FF97FF"
         },
         "name": "Luke Pomersbasch",
         "offsetgroup": "Luke Pomersbasch",
         "orientation": "v",
         "showlegend": true,
         "textposition": "auto",
         "type": "bar",
         "x": [
          "Luke Pomersbasch"
         ],
         "xaxis": "x",
         "y": [
          142630.02054025372
         ],
         "yaxis": "y"
        },
        {
         "alignmentgroup": "True",
         "hovertemplate": "name=%{x}<br>predicted_prices=%{y}<extra></extra>",
         "legendgroup": "Moises Henriques",
         "marker": {
          "color": "#FECB52"
         },
         "name": "Moises Henriques",
         "offsetgroup": "Moises Henriques",
         "orientation": "v",
         "showlegend": true,
         "textposition": "auto",
         "type": "bar",
         "x": [
          "Moises Henriques"
         ],
         "xaxis": "x",
         "y": [
          219075.4966145571
         ],
         "yaxis": "y"
        },
        {
         "alignmentgroup": "True",
         "hovertemplate": "name=%{x}<br>predicted_prices=%{y}<extra></extra>",
         "legendgroup": "Roelof van der Merwe",
         "marker": {
          "color": "#636efa"
         },
         "name": "Roelof van der Merwe",
         "offsetgroup": "Roelof van der Merwe",
         "orientation": "v",
         "showlegend": true,
         "textposition": "auto",
         "type": "bar",
         "x": [
          "Roelof van der Merwe"
         ],
         "xaxis": "x",
         "y": [
          186850.57985049547
         ],
         "yaxis": "y"
        },
        {
         "alignmentgroup": "True",
         "hovertemplate": "name=%{x}<br>predicted_prices=%{y}<extra></extra>",
         "legendgroup": "Michael Klinger",
         "marker": {
          "color": "#EF553B"
         },
         "name": "Michael Klinger",
         "offsetgroup": "Michael Klinger",
         "orientation": "v",
         "showlegend": true,
         "textposition": "auto",
         "type": "bar",
         "x": [
          "Michael Klinger"
         ],
         "xaxis": "x",
         "y": [
          233315.0217550476
         ],
         "yaxis": "y"
        },
        {
         "alignmentgroup": "True",
         "hovertemplate": "name=%{x}<br>predicted_prices=%{y}<extra></extra>",
         "legendgroup": "Andrew McDonald",
         "marker": {
          "color": "#00cc96"
         },
         "name": "Andrew McDonald",
         "offsetgroup": "Andrew McDonald",
         "orientation": "v",
         "showlegend": true,
         "textposition": "auto",
         "type": "bar",
         "x": [
          "Andrew McDonald"
         ],
         "xaxis": "x",
         "y": [
          414239.21958882886
         ],
         "yaxis": "y"
        },
        {
         "alignmentgroup": "True",
         "hovertemplate": "name=%{x}<br>predicted_prices=%{y}<extra></extra>",
         "legendgroup": "Michael Lumb",
         "marker": {
          "color": "#ab63fa"
         },
         "name": "Michael Lumb",
         "offsetgroup": "Michael Lumb",
         "orientation": "v",
         "showlegend": true,
         "textposition": "auto",
         "type": "bar",
         "x": [
          "Michael Lumb"
         ],
         "xaxis": "x",
         "y": [
          468759.0128174122
         ],
         "yaxis": "y"
        },
        {
         "alignmentgroup": "True",
         "hovertemplate": "name=%{x}<br>predicted_prices=%{y}<extra></extra>",
         "legendgroup": "Suraj Randiv",
         "marker": {
          "color": "#FFA15A"
         },
         "name": "Suraj Randiv",
         "offsetgroup": "Suraj Randiv",
         "orientation": "v",
         "showlegend": true,
         "textposition": "auto",
         "type": "bar",
         "x": [
          "Suraj Randiv"
         ],
         "xaxis": "x",
         "y": [
          94593.20141033399
         ],
         "yaxis": "y"
        },
        {
         "alignmentgroup": "True",
         "hovertemplate": "name=%{x}<br>predicted_prices=%{y}<extra></extra>",
         "legendgroup": "Thisara Perera",
         "marker": {
          "color": "#19d3f3"
         },
         "name": "Thisara Perera",
         "offsetgroup": "Thisara Perera",
         "orientation": "v",
         "showlegend": true,
         "textposition": "auto",
         "type": "bar",
         "x": [
          "Thisara Perera"
         ],
         "xaxis": "x",
         "y": [
          39368.175954841536
         ],
         "yaxis": "y"
        },
        {
         "alignmentgroup": "True",
         "hovertemplate": "name=%{x}<br>predicted_prices=%{y}<extra></extra>",
         "legendgroup": "Rusty Theron",
         "marker": {
          "color": "#FF6692"
         },
         "name": "Rusty Theron",
         "offsetgroup": "Rusty Theron",
         "orientation": "v",
         "showlegend": true,
         "textposition": "auto",
         "type": "bar",
         "x": [
          "Rusty Theron"
         ],
         "xaxis": "x",
         "y": [
          98662.5597683182
         ],
         "yaxis": "y"
        },
        {
         "alignmentgroup": "True",
         "hovertemplate": "name=%{x}<br>predicted_prices=%{y}<extra></extra>",
         "legendgroup": "Alfonso Thomas",
         "marker": {
          "color": "#B6E880"
         },
         "name": "Alfonso Thomas",
         "offsetgroup": "Alfonso Thomas",
         "orientation": "v",
         "showlegend": true,
         "textposition": "auto",
         "type": "bar",
         "x": [
          "Alfonso Thomas"
         ],
         "xaxis": "x",
         "y": [
          23165.180080160386
         ],
         "yaxis": "y"
        },
        {
         "alignmentgroup": "True",
         "hovertemplate": "name=%{x}<br>predicted_prices=%{y}<extra></extra>",
         "legendgroup": "Ben Hilfenhaus",
         "marker": {
          "color": "#FF97FF"
         },
         "name": "Ben Hilfenhaus",
         "offsetgroup": "Ben Hilfenhaus",
         "orientation": "v",
         "showlegend": true,
         "textposition": "auto",
         "type": "bar",
         "x": [
          "Ben Hilfenhaus"
         ],
         "xaxis": "x",
         "y": [
          89518.11421335267
         ],
         "yaxis": "y"
        },
        {
         "alignmentgroup": "True",
         "hovertemplate": "name=%{x}<br>predicted_prices=%{y}<extra></extra>",
         "legendgroup": "Colin Ingram",
         "marker": {
          "color": "#FECB52"
         },
         "name": "Colin Ingram",
         "offsetgroup": "Colin Ingram",
         "orientation": "v",
         "showlegend": true,
         "textposition": "auto",
         "type": "bar",
         "x": [
          "Colin Ingram"
         ],
         "xaxis": "x",
         "y": [
          204888.79013872214
         ],
         "yaxis": "y"
        },
        {
         "alignmentgroup": "True",
         "hovertemplate": "name=%{x}<br>predicted_prices=%{y}<extra></extra>",
         "legendgroup": "Dimitri Mascarenhas",
         "marker": {
          "color": "#636efa"
         },
         "name": "Dimitri Mascarenhas",
         "offsetgroup": "Dimitri Mascarenhas",
         "orientation": "v",
         "showlegend": true,
         "textposition": "auto",
         "type": "bar",
         "x": [
          "Dimitri Mascarenhas"
         ],
         "xaxis": "x",
         "y": [
          340765.83961383643
         ],
         "yaxis": "y"
        },
        {
         "alignmentgroup": "True",
         "hovertemplate": "name=%{x}<br>predicted_prices=%{y}<extra></extra>",
         "legendgroup": "James Franklin",
         "marker": {
          "color": "#EF553B"
         },
         "name": "James Franklin",
         "offsetgroup": "James Franklin",
         "orientation": "v",
         "showlegend": true,
         "textposition": "auto",
         "type": "bar",
         "x": [
          "James Franklin"
         ],
         "xaxis": "x",
         "y": [
          358195.4876101017
         ],
         "yaxis": "y"
        },
        {
         "alignmentgroup": "True",
         "hovertemplate": "name=%{x}<br>predicted_prices=%{y}<extra></extra>",
         "legendgroup": "Jerome Taylor",
         "marker": {
          "color": "#00cc96"
         },
         "name": "Jerome Taylor",
         "offsetgroup": "Jerome Taylor",
         "orientation": "v",
         "showlegend": true,
         "textposition": "auto",
         "type": "bar",
         "x": [
          "Jerome Taylor"
         ],
         "xaxis": "x",
         "y": [
          41126.16447538871
         ],
         "yaxis": "y"
        },
        {
         "alignmentgroup": "True",
         "hovertemplate": "name=%{x}<br>predicted_prices=%{y}<extra></extra>",
         "legendgroup": "Matthew Wade",
         "marker": {
          "color": "#ab63fa"
         },
         "name": "Matthew Wade",
         "offsetgroup": "Matthew Wade",
         "orientation": "v",
         "showlegend": true,
         "textposition": "auto",
         "type": "bar",
         "x": [
          "Matthew Wade"
         ],
         "xaxis": "x",
         "y": [
          130973.80640415788
         ],
         "yaxis": "y"
        },
        {
         "alignmentgroup": "True",
         "hovertemplate": "name=%{x}<br>predicted_prices=%{y}<extra></extra>",
         "legendgroup": "Nathan McCullum",
         "marker": {
          "color": "#FFA15A"
         },
         "name": "Nathan McCullum",
         "offsetgroup": "Nathan McCullum",
         "orientation": "v",
         "showlegend": true,
         "textposition": "auto",
         "type": "bar",
         "x": [
          "Nathan McCullum"
         ],
         "xaxis": "x",
         "y": [
          274283.3899532183
         ],
         "yaxis": "y"
        },
        {
         "alignmentgroup": "True",
         "hovertemplate": "name=%{x}<br>predicted_prices=%{y}<extra></extra>",
         "legendgroup": "Nuwan Kulasekara",
         "marker": {
          "color": "#19d3f3"
         },
         "name": "Nuwan Kulasekara",
         "offsetgroup": "Nuwan Kulasekara",
         "orientation": "v",
         "showlegend": true,
         "textposition": "auto",
         "type": "bar",
         "x": [
          "Nuwan Kulasekara"
         ],
         "xaxis": "x",
         "y": [
          38317.2687895596
         ],
         "yaxis": "y"
        },
        {
         "alignmentgroup": "True",
         "hovertemplate": "name=%{x}<br>predicted_prices=%{y}<extra></extra>",
         "legendgroup": "Wriddhiman Saha",
         "marker": {
          "color": "#FF6692"
         },
         "name": "Wriddhiman Saha",
         "offsetgroup": "Wriddhiman Saha",
         "orientation": "v",
         "showlegend": true,
         "textposition": "auto",
         "type": "bar",
         "x": [
          "Wriddhiman Saha"
         ],
         "xaxis": "x",
         "y": [
          732058.600642957
         ],
         "yaxis": "y"
        },
        {
         "alignmentgroup": "True",
         "hovertemplate": "name=%{x}<br>predicted_prices=%{y}<extra></extra>",
         "legendgroup": "Clint McKay",
         "marker": {
          "color": "#B6E880"
         },
         "name": "Clint McKay",
         "offsetgroup": "Clint McKay",
         "orientation": "v",
         "showlegend": true,
         "textposition": "auto",
         "type": "bar",
         "x": [
          "Clint McKay"
         ],
         "xaxis": "x",
         "y": [
          -13021.441088980413
         ],
         "yaxis": "y"
        },
        {
         "alignmentgroup": "True",
         "hovertemplate": "name=%{x}<br>predicted_prices=%{y}<extra></extra>",
         "legendgroup": "Faf du Plessis",
         "marker": {
          "color": "#FF97FF"
         },
         "name": "Faf du Plessis",
         "offsetgroup": "Faf du Plessis",
         "orientation": "v",
         "showlegend": true,
         "textposition": "auto",
         "type": "bar",
         "x": [
          "Faf du Plessis"
         ],
         "xaxis": "x",
         "y": [
          204316.56066728325
         ],
         "yaxis": "y"
        },
        {
         "alignmentgroup": "True",
         "hovertemplate": "name=%{x}<br>predicted_prices=%{y}<extra></extra>",
         "legendgroup": "Mohammad Kaif",
         "marker": {
          "color": "#FECB52"
         },
         "name": "Mohammad Kaif",
         "offsetgroup": "Mohammad Kaif",
         "orientation": "v",
         "showlegend": true,
         "textposition": "auto",
         "type": "bar",
         "x": [
          "Mohammad Kaif"
         ],
         "xaxis": "x",
         "y": [
          579728.3196687874
         ],
         "yaxis": "y"
        },
        {
         "alignmentgroup": "True",
         "hovertemplate": "name=%{x}<br>predicted_prices=%{y}<extra></extra>",
         "legendgroup": "Charl Langeveldt",
         "marker": {
          "color": "#636efa"
         },
         "name": "Charl Langeveldt",
         "offsetgroup": "Charl Langeveldt",
         "orientation": "v",
         "showlegend": true,
         "textposition": "auto",
         "type": "bar",
         "x": [
          "Charl Langeveldt"
         ],
         "xaxis": "x",
         "y": [
          124996.271157877
         ],
         "yaxis": "y"
        },
        {
         "alignmentgroup": "True",
         "hovertemplate": "name=%{x}<br>predicted_prices=%{y}<extra></extra>",
         "legendgroup": "Jesse Ryder",
         "marker": {
          "color": "#EF553B"
         },
         "name": "Jesse Ryder",
         "offsetgroup": "Jesse Ryder",
         "orientation": "v",
         "showlegend": true,
         "textposition": "auto",
         "type": "bar",
         "x": [
          "Jesse Ryder"
         ],
         "xaxis": "x",
         "y": [
          100929.5946993021
         ],
         "yaxis": "y"
        },
        {
         "alignmentgroup": "True",
         "hovertemplate": "name=%{x}<br>predicted_prices=%{y}<extra></extra>",
         "legendgroup": "Joginder Sharma",
         "marker": {
          "color": "#00cc96"
         },
         "name": "Joginder Sharma",
         "offsetgroup": "Joginder Sharma",
         "orientation": "v",
         "showlegend": true,
         "textposition": "auto",
         "type": "bar",
         "x": [
          "Joginder Sharma"
         ],
         "xaxis": "x",
         "y": [
          448460.1494427417
         ],
         "yaxis": "y"
        },
        {
         "alignmentgroup": "True",
         "hovertemplate": "name=%{x}<br>predicted_prices=%{y}<extra></extra>",
         "legendgroup": "Ryan ten Doeschate",
         "marker": {
          "color": "#ab63fa"
         },
         "name": "Ryan ten Doeschate",
         "offsetgroup": "Ryan ten Doeschate",
         "orientation": "v",
         "showlegend": true,
         "textposition": "auto",
         "type": "bar",
         "x": [
          "Ryan ten Doeschate"
         ],
         "xaxis": "x",
         "y": [
          404757.71635167045
         ],
         "yaxis": "y"
        },
        {
         "alignmentgroup": "True",
         "hovertemplate": "name=%{x}<br>predicted_prices=%{y}<extra></extra>",
         "legendgroup": "Wayne Parnell",
         "marker": {
          "color": "#FFA15A"
         },
         "name": "Wayne Parnell",
         "offsetgroup": "Wayne Parnell",
         "orientation": "v",
         "showlegend": true,
         "textposition": "auto",
         "type": "bar",
         "x": [
          "Wayne Parnell"
         ],
         "xaxis": "x",
         "y": [
          117766.08777333795
         ],
         "yaxis": "y"
        },
        {
         "alignmentgroup": "True",
         "hovertemplate": "name=%{x}<br>predicted_prices=%{y}<extra></extra>",
         "legendgroup": "Davy Jacobs",
         "marker": {
          "color": "#19d3f3"
         },
         "name": "Davy Jacobs",
         "offsetgroup": "Davy Jacobs",
         "orientation": "v",
         "showlegend": true,
         "textposition": "auto",
         "type": "bar",
         "x": [
          "Davy Jacobs"
         ],
         "xaxis": "x",
         "y": [
          311102.14631431364
         ],
         "yaxis": "y"
        },
        {
         "alignmentgroup": "True",
         "hovertemplate": "name=%{x}<br>predicted_prices=%{y}<extra></extra>",
         "legendgroup": "Dwayne Bravo",
         "marker": {
          "color": "#FF6692"
         },
         "name": "Dwayne Bravo",
         "offsetgroup": "Dwayne Bravo",
         "orientation": "v",
         "showlegend": true,
         "textposition": "auto",
         "type": "bar",
         "x": [
          "Dwayne Bravo"
         ],
         "xaxis": "x",
         "y": [
          778003.52625604
         ],
         "yaxis": "y"
        },
        {
         "alignmentgroup": "True",
         "hovertemplate": "name=%{x}<br>predicted_prices=%{y}<extra></extra>",
         "legendgroup": "Owais Shah",
         "marker": {
          "color": "#B6E880"
         },
         "name": "Owais Shah",
         "offsetgroup": "Owais Shah",
         "orientation": "v",
         "showlegend": true,
         "textposition": "auto",
         "type": "bar",
         "x": [
          "Owais Shah"
         ],
         "xaxis": "x",
         "y": [
          730911.7544392744
         ],
         "yaxis": "y"
        },
        {
         "alignmentgroup": "True",
         "hovertemplate": "name=%{x}<br>predicted_prices=%{y}<extra></extra>",
         "legendgroup": "Scott Styris",
         "marker": {
          "color": "#FF97FF"
         },
         "name": "Scott Styris",
         "offsetgroup": "Scott Styris",
         "orientation": "v",
         "showlegend": true,
         "textposition": "auto",
         "type": "bar",
         "x": [
          "Scott Styris"
         ],
         "xaxis": "x",
         "y": [
          489231.5296371589
         ],
         "yaxis": "y"
        },
        {
         "alignmentgroup": "True",
         "hovertemplate": "name=%{x}<br>predicted_prices=%{y}<extra></extra>",
         "legendgroup": "Steven Smith",
         "marker": {
          "color": "#FECB52"
         },
         "name": "Steven Smith",
         "offsetgroup": "Steven Smith",
         "orientation": "v",
         "showlegend": true,
         "textposition": "auto",
         "type": "bar",
         "x": [
          "Steven Smith"
         ],
         "xaxis": "x",
         "y": [
          124577.10325529064
         ],
         "yaxis": "y"
        },
        {
         "alignmentgroup": "True",
         "hovertemplate": "name=%{x}<br>predicted_prices=%{y}<extra></extra>",
         "legendgroup": "Ajit Agarkar",
         "marker": {
          "color": "#636efa"
         },
         "name": "Ajit Agarkar",
         "offsetgroup": "Ajit Agarkar",
         "orientation": "v",
         "showlegend": true,
         "textposition": "auto",
         "type": "bar",
         "x": [
          "Ajit Agarkar"
         ],
         "xaxis": "x",
         "y": [
          815779.1214226376
         ],
         "yaxis": "y"
        },
        {
         "alignmentgroup": "True",
         "hovertemplate": "name=%{x}<br>predicted_prices=%{y}<extra></extra>",
         "legendgroup": "Sudeep Tyagi",
         "marker": {
          "color": "#EF553B"
         },
         "name": "Sudeep Tyagi",
         "offsetgroup": "Sudeep Tyagi",
         "orientation": "v",
         "showlegend": true,
         "textposition": "auto",
         "type": "bar",
         "x": [
          "Sudeep Tyagi"
         ],
         "xaxis": "x",
         "y": [
          820837.0374528125
         ],
         "yaxis": "y"
        },
        {
         "alignmentgroup": "True",
         "hovertemplate": "name=%{x}<br>predicted_prices=%{y}<extra></extra>",
         "legendgroup": "Jaidev Unadkat",
         "marker": {
          "color": "#00cc96"
         },
         "name": "Jaidev Unadkat",
         "offsetgroup": "Jaidev Unadkat",
         "orientation": "v",
         "showlegend": true,
         "textposition": "auto",
         "type": "bar",
         "x": [
          "Jaidev Unadkat"
         ],
         "xaxis": "x",
         "y": [
          466339.985747205
         ],
         "yaxis": "y"
        },
        {
         "alignmentgroup": "True",
         "hovertemplate": "name=%{x}<br>predicted_prices=%{y}<extra></extra>",
         "legendgroup": "Paul Collingwood",
         "marker": {
          "color": "#ab63fa"
         },
         "name": "Paul Collingwood",
         "offsetgroup": "Paul Collingwood",
         "orientation": "v",
         "showlegend": true,
         "textposition": "auto",
         "type": "bar",
         "x": [
          "Paul Collingwood"
         ],
         "xaxis": "x",
         "y": [
          442096.6539405141
         ],
         "yaxis": "y"
        },
        {
         "alignmentgroup": "True",
         "hovertemplate": "name=%{x}<br>predicted_prices=%{y}<extra></extra>",
         "legendgroup": "Naman Ojha",
         "marker": {
          "color": "#FFA15A"
         },
         "name": "Naman Ojha",
         "offsetgroup": "Naman Ojha",
         "orientation": "v",
         "showlegend": true,
         "textposition": "auto",
         "type": "bar",
         "x": [
          "Naman Ojha"
         ],
         "xaxis": "x",
         "y": [
          744319.5158051455
         ],
         "yaxis": "y"
        },
        {
         "alignmentgroup": "True",
         "hovertemplate": "name=%{x}<br>predicted_prices=%{y}<extra></extra>",
         "legendgroup": "Tim Paine",
         "marker": {
          "color": "#19d3f3"
         },
         "name": "Tim Paine",
         "offsetgroup": "Tim Paine",
         "orientation": "v",
         "showlegend": true,
         "textposition": "auto",
         "type": "bar",
         "x": [
          "Tim Paine"
         ],
         "xaxis": "x",
         "y": [
          130277.1081124012
         ],
         "yaxis": "y"
        },
        {
         "alignmentgroup": "True",
         "hovertemplate": "name=%{x}<br>predicted_prices=%{y}<extra></extra>",
         "legendgroup": "Manpreet Gony",
         "marker": {
          "color": "#FF6692"
         },
         "name": "Manpreet Gony",
         "offsetgroup": "Manpreet Gony",
         "orientation": "v",
         "showlegend": true,
         "textposition": "auto",
         "type": "bar",
         "x": [
          "Manpreet Gony"
         ],
         "xaxis": "x",
         "y": [
          531809.9168949616
         ],
         "yaxis": "y"
        },
        {
         "alignmentgroup": "True",
         "hovertemplate": "name=%{x}<br>predicted_prices=%{y}<extra></extra>",
         "legendgroup": "Parthiv Patel",
         "marker": {
          "color": "#B6E880"
         },
         "name": "Parthiv Patel",
         "offsetgroup": "Parthiv Patel",
         "orientation": "v",
         "showlegend": true,
         "textposition": "auto",
         "type": "bar",
         "x": [
          "Parthiv Patel"
         ],
         "xaxis": "x",
         "y": [
          406689.2711850549
         ],
         "yaxis": "y"
        },
        {
         "alignmentgroup": "True",
         "hovertemplate": "name=%{x}<br>predicted_prices=%{y}<extra></extra>",
         "legendgroup": "Aaron Finch",
         "marker": {
          "color": "#FF97FF"
         },
         "name": "Aaron Finch",
         "offsetgroup": "Aaron Finch",
         "orientation": "v",
         "showlegend": true,
         "textposition": "auto",
         "type": "bar",
         "x": [
          "Aaron Finch"
         ],
         "xaxis": "x",
         "y": [
          291815.59531456424
         ],
         "yaxis": "y"
        },
        {
         "alignmentgroup": "True",
         "hovertemplate": "name=%{x}<br>predicted_prices=%{y}<extra></extra>",
         "legendgroup": "Amit Mishra",
         "marker": {
          "color": "#FECB52"
         },
         "name": "Amit Mishra",
         "offsetgroup": "Amit Mishra",
         "orientation": "v",
         "showlegend": true,
         "textposition": "auto",
         "type": "bar",
         "x": [
          "Amit Mishra"
         ],
         "xaxis": "x",
         "y": [
          863063.7884397672
         ],
         "yaxis": "y"
        },
        {
         "alignmentgroup": "True",
         "hovertemplate": "name=%{x}<br>predicted_prices=%{y}<extra></extra>",
         "legendgroup": "Callum Ferguson",
         "marker": {
          "color": "#636efa"
         },
         "name": "Callum Ferguson",
         "offsetgroup": "Callum Ferguson",
         "orientation": "v",
         "showlegend": true,
         "textposition": "auto",
         "type": "bar",
         "x": [
          "Callum Ferguson"
         ],
         "xaxis": "x",
         "y": [
          207675.58330574926
         ],
         "yaxis": "y"
        },
        {
         "alignmentgroup": "True",
         "hovertemplate": "name=%{x}<br>predicted_prices=%{y}<extra></extra>",
         "legendgroup": "JP Duminy",
         "marker": {
          "color": "#EF553B"
         },
         "name": "JP Duminy",
         "offsetgroup": "JP Duminy",
         "orientation": "v",
         "showlegend": true,
         "textposition": "auto",
         "type": "bar",
         "x": [
          "JP Duminy"
         ],
         "xaxis": "x",
         "y": [
          835348.1921404419
         ],
         "yaxis": "y"
        },
        {
         "alignmentgroup": "True",
         "hovertemplate": "name=%{x}<br>predicted_prices=%{y}<extra></extra>",
         "legendgroup": "Shaun Tait",
         "marker": {
          "color": "#00cc96"
         },
         "name": "Shaun Tait",
         "offsetgroup": "Shaun Tait",
         "orientation": "v",
         "showlegend": true,
         "textposition": "auto",
         "type": "bar",
         "x": [
          "Shaun Tait"
         ],
         "xaxis": "x",
         "y": [
          223673.10420346487
         ],
         "yaxis": "y"
        },
        {
         "alignmentgroup": "True",
         "hovertemplate": "name=%{x}<br>predicted_prices=%{y}<extra></extra>",
         "legendgroup": "Shikhar Dhawan",
         "marker": {
          "color": "#ab63fa"
         },
         "name": "Shikhar Dhawan",
         "offsetgroup": "Shikhar Dhawan",
         "orientation": "v",
         "showlegend": true,
         "textposition": "auto",
         "type": "bar",
         "x": [
          "Shikhar Dhawan"
         ],
         "xaxis": "x",
         "y": [
          787164.5684803431
         ],
         "yaxis": "y"
        },
        {
         "alignmentgroup": "True",
         "hovertemplate": "name=%{x}<br>predicted_prices=%{y}<extra></extra>",
         "legendgroup": "Brad Haddin",
         "marker": {
          "color": "#FFA15A"
         },
         "name": "Brad Haddin",
         "offsetgroup": "Brad Haddin",
         "orientation": "v",
         "showlegend": true,
         "textposition": "auto",
         "type": "bar",
         "x": [
          "Brad Haddin"
         ],
         "xaxis": "x",
         "y": [
          189110.5977541361
         ],
         "yaxis": "y"
        },
        {
         "alignmentgroup": "True",
         "hovertemplate": "name=%{x}<br>predicted_prices=%{y}<extra></extra>",
         "legendgroup": "Ryan Harris",
         "marker": {
          "color": "#19d3f3"
         },
         "name": "Ryan Harris",
         "offsetgroup": "Ryan Harris",
         "orientation": "v",
         "showlegend": true,
         "textposition": "auto",
         "type": "bar",
         "x": [
          "Ryan Harris"
         ],
         "xaxis": "x",
         "y": [
          190651.02827377387
         ],
         "yaxis": "y"
        },
        {
         "alignmentgroup": "True",
         "hovertemplate": "name=%{x}<br>predicted_prices=%{y}<extra></extra>",
         "legendgroup": "Eoin Morgan",
         "marker": {
          "color": "#FF6692"
         },
         "name": "Eoin Morgan",
         "offsetgroup": "Eoin Morgan",
         "orientation": "v",
         "showlegend": true,
         "textposition": "auto",
         "type": "bar",
         "x": [
          "Eoin Morgan"
         ],
         "xaxis": "x",
         "y": [
          478602.21135555784
         ],
         "yaxis": "y"
        },
        {
         "alignmentgroup": "True",
         "hovertemplate": "name=%{x}<br>predicted_prices=%{y}<extra></extra>",
         "legendgroup": "James Hopes",
         "marker": {
          "color": "#B6E880"
         },
         "name": "James Hopes",
         "offsetgroup": "James Hopes",
         "orientation": "v",
         "showlegend": true,
         "textposition": "auto",
         "type": "bar",
         "x": [
          "James Hopes"
         ],
         "xaxis": "x",
         "y": [
          133187.51986044188
         ],
         "yaxis": "y"
        },
        {
         "alignmentgroup": "True",
         "hovertemplate": "name=%{x}<br>predicted_prices=%{y}<extra></extra>",
         "legendgroup": "Ashok Dinda",
         "marker": {
          "color": "#FF97FF"
         },
         "name": "Ashok Dinda",
         "offsetgroup": "Ashok Dinda",
         "orientation": "v",
         "showlegend": true,
         "textposition": "auto",
         "type": "bar",
         "x": [
          "Ashok Dinda"
         ],
         "xaxis": "x",
         "y": [
          396489.06622991065
         ],
         "yaxis": "y"
        },
        {
         "alignmentgroup": "True",
         "hovertemplate": "name=%{x}<br>predicted_prices=%{y}<extra></extra>",
         "legendgroup": "Brett Lee",
         "marker": {
          "color": "#FECB52"
         },
         "name": "Brett Lee",
         "offsetgroup": "Brett Lee",
         "orientation": "v",
         "showlegend": true,
         "textposition": "auto",
         "type": "bar",
         "x": [
          "Brett Lee"
         ],
         "xaxis": "x",
         "y": [
          561702.7912037189
         ],
         "yaxis": "y"
        },
        {
         "alignmentgroup": "True",
         "hovertemplate": "name=%{x}<br>predicted_prices=%{y}<extra></extra>",
         "legendgroup": "Murali Kartik",
         "marker": {
          "color": "#636efa"
         },
         "name": "Murali Kartik",
         "offsetgroup": "Murali Kartik",
         "orientation": "v",
         "showlegend": true,
         "textposition": "auto",
         "type": "bar",
         "x": [
          "Murali Kartik"
         ],
         "xaxis": "x",
         "y": [
          1010850.4429499257
         ],
         "yaxis": "y"
        },
        {
         "alignmentgroup": "True",
         "hovertemplate": "name=%{x}<br>predicted_prices=%{y}<extra></extra>",
         "legendgroup": "Shaun Marsh",
         "marker": {
          "color": "#EF553B"
         },
         "name": "Shaun Marsh",
         "offsetgroup": "Shaun Marsh",
         "orientation": "v",
         "showlegend": true,
         "textposition": "auto",
         "type": "bar",
         "x": [
          "Shaun Marsh"
         ],
         "xaxis": "x",
         "y": [
          596322.408359047
         ],
         "yaxis": "y"
        },
        {
         "alignmentgroup": "True",
         "hovertemplate": "name=%{x}<br>predicted_prices=%{y}<extra></extra>",
         "legendgroup": "Stuart Broad",
         "marker": {
          "color": "#00cc96"
         },
         "name": "Stuart Broad",
         "offsetgroup": "Stuart Broad",
         "orientation": "v",
         "showlegend": true,
         "textposition": "auto",
         "type": "bar",
         "x": [
          "Stuart Broad"
         ],
         "xaxis": "x",
         "y": [
          123622.12401733176
         ],
         "yaxis": "y"
        },
        {
         "alignmentgroup": "True",
         "hovertemplate": "name=%{x}<br>predicted_prices=%{y}<extra></extra>",
         "legendgroup": "VVS Laxman",
         "marker": {
          "color": "#ab63fa"
         },
         "name": "VVS Laxman",
         "offsetgroup": "VVS Laxman",
         "orientation": "v",
         "showlegend": true,
         "textposition": "auto",
         "type": "bar",
         "x": [
          "VVS Laxman"
         ],
         "xaxis": "x",
         "y": [
          654088.5155355161
         ],
         "yaxis": "y"
        },
        {
         "alignmentgroup": "True",
         "hovertemplate": "name=%{x}<br>predicted_prices=%{y}<extra></extra>",
         "legendgroup": "Brad Hodge",
         "marker": {
          "color": "#FFA15A"
         },
         "name": "Brad Hodge",
         "offsetgroup": "Brad Hodge",
         "orientation": "v",
         "showlegend": true,
         "textposition": "auto",
         "type": "bar",
         "x": [
          "Brad Hodge"
         ],
         "xaxis": "x",
         "y": [
          795271.738971676
         ],
         "yaxis": "y"
        },
        {
         "alignmentgroup": "True",
         "hovertemplate": "name=%{x}<br>predicted_prices=%{y}<extra></extra>",
         "legendgroup": "Michael Hussey",
         "marker": {
          "color": "#19d3f3"
         },
         "name": "Michael Hussey",
         "offsetgroup": "Michael Hussey",
         "orientation": "v",
         "showlegend": true,
         "textposition": "auto",
         "type": "bar",
         "x": [
          "Michael Hussey"
         ],
         "xaxis": "x",
         "y": [
          547347.7205695095
         ],
         "yaxis": "y"
        },
        {
         "alignmentgroup": "True",
         "hovertemplate": "name=%{x}<br>predicted_prices=%{y}<extra></extra>",
         "legendgroup": "Shakib Al Hasan",
         "marker": {
          "color": "#FF6692"
         },
         "name": "Shakib Al Hasan",
         "offsetgroup": "Shakib Al Hasan",
         "orientation": "v",
         "showlegend": true,
         "textposition": "auto",
         "type": "bar",
         "x": [
          "Shakib Al Hasan"
         ],
         "xaxis": "x",
         "y": [
          207376.27900744238
         ],
         "yaxis": "y"
        },
        {
         "alignmentgroup": "True",
         "hovertemplate": "name=%{x}<br>predicted_prices=%{y}<extra></extra>",
         "legendgroup": "Ishant Sharma",
         "marker": {
          "color": "#B6E880"
         },
         "name": "Ishant Sharma",
         "offsetgroup": "Ishant Sharma",
         "orientation": "v",
         "showlegend": true,
         "textposition": "auto",
         "type": "bar",
         "x": [
          "Ishant Sharma"
         ],
         "xaxis": "x",
         "y": [
          601378.5037716596
         ],
         "yaxis": "y"
        },
        {
         "alignmentgroup": "True",
         "hovertemplate": "name=%{x}<br>predicted_prices=%{y}<extra></extra>",
         "legendgroup": "Brendon McCullum",
         "marker": {
          "color": "#FF97FF"
         },
         "name": "Brendon McCullum",
         "offsetgroup": "Brendon McCullum",
         "orientation": "v",
         "showlegend": true,
         "textposition": "auto",
         "type": "bar",
         "x": [
          "Brendon McCullum"
         ],
         "xaxis": "x",
         "y": [
          371822.25791620265
         ],
         "yaxis": "y"
        },
        {
         "alignmentgroup": "True",
         "hovertemplate": "name=%{x}<br>predicted_prices=%{y}<extra></extra>",
         "legendgroup": "Manoj Tiwary",
         "marker": {
          "color": "#FECB52"
         },
         "name": "Manoj Tiwary",
         "offsetgroup": "Manoj Tiwary",
         "orientation": "v",
         "showlegend": true,
         "textposition": "auto",
         "type": "bar",
         "x": [
          "Manoj Tiwary"
         ],
         "xaxis": "x",
         "y": [
          1011549.3164939508
         ],
         "yaxis": "y"
        },
        {
         "alignmentgroup": "True",
         "hovertemplate": "name=%{x}<br>predicted_prices=%{y}<extra></extra>",
         "legendgroup": "Morne Morkel",
         "marker": {
          "color": "#636efa"
         },
         "name": "Morne Morkel",
         "offsetgroup": "Morne Morkel",
         "orientation": "v",
         "showlegend": true,
         "textposition": "auto",
         "type": "bar",
         "x": [
          "Morne Morkel"
         ],
         "xaxis": "x",
         "y": [
          306779.04749082145
         ],
         "yaxis": "y"
        },
        {
         "alignmentgroup": "True",
         "hovertemplate": "name=%{x}<br>predicted_prices=%{y}<extra></extra>",
         "legendgroup": "Vinay Kumar",
         "marker": {
          "color": "#EF553B"
         },
         "name": "Vinay Kumar",
         "offsetgroup": "Vinay Kumar",
         "orientation": "v",
         "showlegend": true,
         "textposition": "auto",
         "type": "bar",
         "x": [
          "Vinay Kumar"
         ],
         "xaxis": "x",
         "y": [
          547466.3126622383
         ],
         "yaxis": "y"
        },
        {
         "alignmentgroup": "True",
         "hovertemplate": "name=%{x}<br>predicted_prices=%{y}<extra></extra>",
         "legendgroup": "Albie Morkel (retained)",
         "marker": {
          "color": "#00cc96"
         },
         "name": "Albie Morkel (retained)",
         "offsetgroup": "Albie Morkel (retained)",
         "orientation": "v",
         "showlegend": true,
         "textposition": "auto",
         "type": "bar",
         "x": [
          "Albie Morkel (retained)"
         ],
         "xaxis": "x",
         "y": [
          977751.3077189943
         ],
         "yaxis": "y"
        },
        {
         "alignmentgroup": "True",
         "hovertemplate": "name=%{x}<br>predicted_prices=%{y}<extra></extra>",
         "legendgroup": "Graeme Smith",
         "marker": {
          "color": "#ab63fa"
         },
         "name": "Graeme Smith",
         "offsetgroup": "Graeme Smith",
         "orientation": "v",
         "showlegend": true,
         "textposition": "auto",
         "type": "bar",
         "x": [
          "Graeme Smith"
         ],
         "xaxis": "x",
         "y": [
          426214.7308123268
         ],
         "yaxis": "y"
        },
        {
         "alignmentgroup": "True",
         "hovertemplate": "name=%{x}<br>predicted_prices=%{y}<extra></extra>",
         "legendgroup": "L Balaji",
         "marker": {
          "color": "#FFA15A"
         },
         "name": "L Balaji",
         "offsetgroup": "L Balaji",
         "orientation": "v",
         "showlegend": true,
         "textposition": "auto",
         "type": "bar",
         "x": [
          "L Balaji"
         ],
         "xaxis": "x",
         "y": [
          468971.57117613935
         ],
         "yaxis": "y"
        },
        {
         "alignmentgroup": "True",
         "hovertemplate": "name=%{x}<br>predicted_prices=%{y}<extra></extra>",
         "legendgroup": "Lasith Malinga (retained)",
         "marker": {
          "color": "#19d3f3"
         },
         "name": "Lasith Malinga (retained)",
         "offsetgroup": "Lasith Malinga (retained)",
         "orientation": "v",
         "showlegend": true,
         "textposition": "auto",
         "type": "bar",
         "x": [
          "Lasith Malinga (retained)"
         ],
         "xaxis": "x",
         "y": [
          486568.86112895
         ],
         "yaxis": "y"
        },
        {
         "alignmentgroup": "True",
         "hovertemplate": "name=%{x}<br>predicted_prices=%{y}<extra></extra>",
         "legendgroup": "Pragyan Ojha",
         "marker": {
          "color": "#FF6692"
         },
         "name": "Pragyan Ojha",
         "offsetgroup": "Pragyan Ojha",
         "orientation": "v",
         "showlegend": true,
         "textposition": "auto",
         "type": "bar",
         "x": [
          "Pragyan Ojha"
         ],
         "xaxis": "x",
         "y": [
          769745.6100987038
         ],
         "yaxis": "y"
        },
        {
         "alignmentgroup": "True",
         "hovertemplate": "name=%{x}<br>predicted_prices=%{y}<extra></extra>",
         "legendgroup": "Rahul Dravid",
         "marker": {
          "color": "#B6E880"
         },
         "name": "Rahul Dravid",
         "offsetgroup": "Rahul Dravid",
         "orientation": "v",
         "showlegend": true,
         "textposition": "auto",
         "type": "bar",
         "x": [
          "Rahul Dravid"
         ],
         "xaxis": "x",
         "y": [
          1015517.9939483636
         ],
         "yaxis": "y"
        },
        {
         "alignmentgroup": "True",
         "hovertemplate": "name=%{x}<br>predicted_prices=%{y}<extra></extra>",
         "legendgroup": "RP Singh",
         "marker": {
          "color": "#FF97FF"
         },
         "name": "RP Singh",
         "offsetgroup": "RP Singh",
         "orientation": "v",
         "showlegend": true,
         "textposition": "auto",
         "type": "bar",
         "x": [
          "RP Singh"
         ],
         "xaxis": "x",
         "y": [
          361661.4288279139
         ],
         "yaxis": "y"
        },
        {
         "alignmentgroup": "True",
         "hovertemplate": "name=%{x}<br>predicted_prices=%{y}<extra></extra>",
         "legendgroup": "Daniel Vettori",
         "marker": {
          "color": "#FECB52"
         },
         "name": "Daniel Vettori",
         "offsetgroup": "Daniel Vettori",
         "orientation": "v",
         "showlegend": true,
         "textposition": "auto",
         "type": "bar",
         "x": [
          "Daniel Vettori"
         ],
         "xaxis": "x",
         "y": [
          1184484.9115005084
         ],
         "yaxis": "y"
        },
        {
         "alignmentgroup": "True",
         "hovertemplate": "name=%{x}<br>predicted_prices=%{y}<extra></extra>",
         "legendgroup": "Dirk Nannes",
         "marker": {
          "color": "#636efa"
         },
         "name": "Dirk Nannes",
         "offsetgroup": "Dirk Nannes",
         "orientation": "v",
         "showlegend": true,
         "textposition": "auto",
         "type": "bar",
         "x": [
          "Dirk Nannes"
         ],
         "xaxis": "x",
         "y": [
          395095.44891418226
         ],
         "yaxis": "y"
        },
        {
         "alignmentgroup": "True",
         "hovertemplate": "name=%{x}<br>predicted_prices=%{y}<extra></extra>",
         "legendgroup": "Kevin Pietersen",
         "marker": {
          "color": "#EF553B"
         },
         "name": "Kevin Pietersen",
         "offsetgroup": "Kevin Pietersen",
         "orientation": "v",
         "showlegend": true,
         "textposition": "auto",
         "type": "bar",
         "x": [
          "Kevin Pietersen"
         ],
         "xaxis": "x",
         "y": [
          772926.024732983
         ],
         "yaxis": "y"
        },
        {
         "alignmentgroup": "True",
         "hovertemplate": "name=%{x}<br>predicted_prices=%{y}<extra></extra>",
         "legendgroup": "Tillakaratne Dilshan",
         "marker": {
          "color": "#00cc96"
         },
         "name": "Tillakaratne Dilshan",
         "offsetgroup": "Tillakaratne Dilshan",
         "orientation": "v",
         "showlegend": true,
         "textposition": "auto",
         "type": "bar",
         "x": [
          "Tillakaratne Dilshan"
         ],
         "xaxis": "x",
         "y": [
          456741.9056229128
         ],
         "yaxis": "y"
        },
        {
         "alignmentgroup": "True",
         "hovertemplate": "name=%{x}<br>predicted_prices=%{y}<extra></extra>",
         "legendgroup": "Cheteshwar Pujara",
         "marker": {
          "color": "#ab63fa"
         },
         "name": "Cheteshwar Pujara",
         "offsetgroup": "Cheteshwar Pujara",
         "orientation": "v",
         "showlegend": true,
         "textposition": "auto",
         "type": "bar",
         "x": [
          "Cheteshwar Pujara"
         ],
         "xaxis": "x",
         "y": [
          459790.002791161
         ],
         "yaxis": "y"
        },
        {
         "alignmentgroup": "True",
         "hovertemplate": "name=%{x}<br>predicted_prices=%{y}<extra></extra>",
         "legendgroup": "Doug Bollinger",
         "marker": {
          "color": "#FFA15A"
         },
         "name": "Doug Bollinger",
         "offsetgroup": "Doug Bollinger",
         "orientation": "v",
         "showlegend": true,
         "textposition": "auto",
         "type": "bar",
         "x": [
          "Doug Bollinger"
         ],
         "xaxis": "x",
         "y": [
          205545.4934415709
         ],
         "yaxis": "y"
        },
        {
         "alignmentgroup": "True",
         "hovertemplate": "name=%{x}<br>predicted_prices=%{y}<extra></extra>",
         "legendgroup": "Kumar Sangakkara",
         "marker": {
          "color": "#19d3f3"
         },
         "name": "Kumar Sangakkara",
         "offsetgroup": "Kumar Sangakkara",
         "orientation": "v",
         "showlegend": true,
         "textposition": "auto",
         "type": "bar",
         "x": [
          "Kumar Sangakkara"
         ],
         "xaxis": "x",
         "y": [
          1538212.8906050476
         ],
         "yaxis": "y"
        },
        {
         "alignmentgroup": "True",
         "hovertemplate": "name=%{x}<br>predicted_prices=%{y}<extra></extra>",
         "legendgroup": "Munaf Patel",
         "marker": {
          "color": "#FF6692"
         },
         "name": "Munaf Patel",
         "offsetgroup": "Munaf Patel",
         "orientation": "v",
         "showlegend": true,
         "textposition": "auto",
         "type": "bar",
         "x": [
          "Munaf Patel"
         ],
         "xaxis": "x",
         "y": [
          549959.9535897818
         ],
         "yaxis": "y"
        },
        {
         "alignmentgroup": "True",
         "hovertemplate": "name=%{x}<br>predicted_prices=%{y}<extra></extra>",
         "legendgroup": "Venugopal Rao",
         "marker": {
          "color": "#B6E880"
         },
         "name": "Venugopal Rao",
         "offsetgroup": "Venugopal Rao",
         "orientation": "v",
         "showlegend": true,
         "textposition": "auto",
         "type": "bar",
         "x": [
          "Venugopal Rao"
         ],
         "xaxis": "x",
         "y": [
          622666.9335429146
         ],
         "yaxis": "y"
        },
        {
         "alignmentgroup": "True",
         "hovertemplate": "name=%{x}<br>predicted_prices=%{y}<extra></extra>",
         "legendgroup": "David Warner",
         "marker": {
          "color": "#FF97FF"
         },
         "name": "David Warner",
         "offsetgroup": "David Warner",
         "orientation": "v",
         "showlegend": true,
         "textposition": "auto",
         "type": "bar",
         "x": [
          "David Warner"
         ],
         "xaxis": "x",
         "y": [
          869121.9895878548
         ],
         "yaxis": "y"
        },
        {
         "alignmentgroup": "True",
         "hovertemplate": "name=%{x}<br>predicted_prices=%{y}<extra></extra>",
         "legendgroup": "Abhishek Nayar",
         "marker": {
          "color": "#FECB52"
         },
         "name": "Abhishek Nayar",
         "offsetgroup": "Abhishek Nayar",
         "orientation": "v",
         "showlegend": true,
         "textposition": "auto",
         "type": "bar",
         "x": [
          "Abhishek Nayar"
         ],
         "xaxis": "x",
         "y": [
          505905.88883792656
         ],
         "yaxis": "y"
        },
        {
         "alignmentgroup": "True",
         "hovertemplate": "name=%{x}<br>predicted_prices=%{y}<extra></extra>",
         "legendgroup": "Praveen Kumar",
         "marker": {
          "color": "#636efa"
         },
         "name": "Praveen Kumar",
         "offsetgroup": "Praveen Kumar",
         "orientation": "v",
         "showlegend": true,
         "textposition": "auto",
         "type": "bar",
         "x": [
          "Praveen Kumar"
         ],
         "xaxis": "x",
         "y": [
          939539.1223596841
         ],
         "yaxis": "y"
        },
        {
         "alignmentgroup": "True",
         "hovertemplate": "name=%{x}<br>predicted_prices=%{y}<extra></extra>",
         "legendgroup": "Andrew Symonds",
         "marker": {
          "color": "#EF553B"
         },
         "name": "Andrew Symonds",
         "offsetgroup": "Andrew Symonds",
         "orientation": "v",
         "showlegend": true,
         "textposition": "auto",
         "type": "bar",
         "x": [
          "Andrew Symonds"
         ],
         "xaxis": "x",
         "y": [
          1085023.3263494924
         ],
         "yaxis": "y"
        },
        {
         "alignmentgroup": "True",
         "hovertemplate": "name=%{x}<br>predicted_prices=%{y}<extra></extra>",
         "legendgroup": "Ashish Nehra",
         "marker": {
          "color": "#00cc96"
         },
         "name": "Ashish Nehra",
         "offsetgroup": "Ashish Nehra",
         "orientation": "v",
         "showlegend": true,
         "textposition": "auto",
         "type": "bar",
         "x": [
          "Ashish Nehra"
         ],
         "xaxis": "x",
         "y": [
          459513.3767876703
         ],
         "yaxis": "y"
        },
        {
         "alignmentgroup": "True",
         "hovertemplate": "name=%{x}<br>predicted_prices=%{y}<extra></extra>",
         "legendgroup": "R Ashwin",
         "marker": {
          "color": "#ab63fa"
         },
         "name": "R Ashwin",
         "offsetgroup": "R Ashwin",
         "orientation": "v",
         "showlegend": true,
         "textposition": "auto",
         "type": "bar",
         "x": [
          "R Ashwin"
         ],
         "xaxis": "x",
         "y": [
          1084735.434891864
         ],
         "yaxis": "y"
        },
        {
         "alignmentgroup": "True",
         "hovertemplate": "name=%{x}<br>predicted_prices=%{y}<extra></extra>",
         "legendgroup": "S Badrinath",
         "marker": {
          "color": "#FFA15A"
         },
         "name": "S Badrinath",
         "offsetgroup": "S Badrinath",
         "orientation": "v",
         "showlegend": true,
         "textposition": "auto",
         "type": "bar",
         "x": [
          "S Badrinath"
         ],
         "xaxis": "x",
         "y": [
          848123.3157071256
         ],
         "yaxis": "y"
        },
        {
         "alignmentgroup": "True",
         "hovertemplate": "name=%{x}<br>predicted_prices=%{y}<extra></extra>",
         "legendgroup": "Adam Gilchrist",
         "marker": {
          "color": "#19d3f3"
         },
         "name": "Adam Gilchrist",
         "offsetgroup": "Adam Gilchrist",
         "orientation": "v",
         "showlegend": true,
         "textposition": "auto",
         "type": "bar",
         "x": [
          "Adam Gilchrist"
         ],
         "xaxis": "x",
         "y": [
          1423433.6526224385
         ],
         "yaxis": "y"
        },
        {
         "alignmentgroup": "True",
         "hovertemplate": "name=%{x}<br>predicted_prices=%{y}<extra></extra>",
         "legendgroup": "Daniel Christian",
         "marker": {
          "color": "#FF6692"
         },
         "name": "Daniel Christian",
         "offsetgroup": "Daniel Christian",
         "orientation": "v",
         "showlegend": true,
         "textposition": "auto",
         "type": "bar",
         "x": [
          "Daniel Christian"
         ],
         "xaxis": "x",
         "y": [
          67370.2036948168
         ],
         "yaxis": "y"
        },
        {
         "alignmentgroup": "True",
         "hovertemplate": "name=%{x}<br>predicted_prices=%{y}<extra></extra>",
         "legendgroup": "Dinesh Karthik",
         "marker": {
          "color": "#B6E880"
         },
         "name": "Dinesh Karthik",
         "offsetgroup": "Dinesh Karthik",
         "orientation": "v",
         "showlegend": true,
         "textposition": "auto",
         "type": "bar",
         "x": [
          "Dinesh Karthik"
         ],
         "xaxis": "x",
         "y": [
          860178.0552066667
         ],
         "yaxis": "y"
        },
        {
         "alignmentgroup": "True",
         "hovertemplate": "name=%{x}<br>predicted_prices=%{y}<extra></extra>",
         "legendgroup": "Kieron Pollard (retained)",
         "marker": {
          "color": "#FF97FF"
         },
         "name": "Kieron Pollard (retained)",
         "offsetgroup": "Kieron Pollard (retained)",
         "orientation": "v",
         "showlegend": true,
         "textposition": "auto",
         "type": "bar",
         "x": [
          "Kieron Pollard (retained)"
         ],
         "xaxis": "x",
         "y": [
          980700.4073672376
         ],
         "yaxis": "y"
        },
        {
         "alignmentgroup": "True",
         "hovertemplate": "name=%{x}<br>predicted_prices=%{y}<extra></extra>",
         "legendgroup": "M Vijay (retained)",
         "marker": {
          "color": "#FECB52"
         },
         "name": "M Vijay (retained)",
         "offsetgroup": "M Vijay (retained)",
         "orientation": "v",
         "showlegend": true,
         "textposition": "auto",
         "type": "bar",
         "x": [
          "M Vijay (retained)"
         ],
         "xaxis": "x",
         "y": [
          1398467.4431242957
         ],
         "yaxis": "y"
        },
        {
         "alignmentgroup": "True",
         "hovertemplate": "name=%{x}<br>predicted_prices=%{y}<extra></extra>",
         "legendgroup": "Piyush Chawla",
         "marker": {
          "color": "#636efa"
         },
         "name": "Piyush Chawla",
         "offsetgroup": "Piyush Chawla",
         "orientation": "v",
         "showlegend": true,
         "textposition": "auto",
         "type": "bar",
         "x": [
          "Piyush Chawla"
         ],
         "xaxis": "x",
         "y": [
          974290.2678891692
         ],
         "yaxis": "y"
        },
        {
         "alignmentgroup": "True",
         "hovertemplate": "name=%{x}<br>predicted_prices=%{y}<extra></extra>",
         "legendgroup": "Sreesanth",
         "marker": {
          "color": "#EF553B"
         },
         "name": "Sreesanth",
         "offsetgroup": "Sreesanth",
         "orientation": "v",
         "showlegend": true,
         "textposition": "auto",
         "type": "bar",
         "x": [
          "Sreesanth"
         ],
         "xaxis": "x",
         "y": [
          611942.2860828206
         ],
         "yaxis": "y"
        },
        {
         "alignmentgroup": "True",
         "hovertemplate": "name=%{x}<br>predicted_prices=%{y}<extra></extra>",
         "legendgroup": "Zaheer Khan",
         "marker": {
          "color": "#00cc96"
         },
         "name": "Zaheer Khan",
         "offsetgroup": "Zaheer Khan",
         "orientation": "v",
         "showlegend": true,
         "textposition": "auto",
         "type": "bar",
         "x": [
          "Zaheer Khan"
         ],
         "xaxis": "x",
         "y": [
          644395.326946003
         ],
         "yaxis": "y"
        },
        {
         "alignmentgroup": "True",
         "hovertemplate": "name=%{x}<br>predicted_prices=%{y}<extra></extra>",
         "legendgroup": "Angelo Mathews",
         "marker": {
          "color": "#ab63fa"
         },
         "name": "Angelo Mathews",
         "offsetgroup": "Angelo Mathews",
         "orientation": "v",
         "showlegend": true,
         "textposition": "auto",
         "type": "bar",
         "x": [
          "Angelo Mathews"
         ],
         "xaxis": "x",
         "y": [
          834431.5824777788
         ],
         "yaxis": "y"
        },
        {
         "alignmentgroup": "True",
         "hovertemplate": "name=%{x}<br>predicted_prices=%{y}<extra></extra>",
         "legendgroup": "Johan Botha",
         "marker": {
          "color": "#FFA15A"
         },
         "name": "Johan Botha",
         "offsetgroup": "Johan Botha",
         "orientation": "v",
         "showlegend": true,
         "textposition": "auto",
         "type": "bar",
         "x": [
          "Johan Botha"
         ],
         "xaxis": "x",
         "y": [
          554652.9822879361
         ],
         "yaxis": "y"
        },
        {
         "alignmentgroup": "True",
         "hovertemplate": "name=%{x}<br>predicted_prices=%{y}<extra></extra>",
         "legendgroup": "Ravindra Jadeja",
         "marker": {
          "color": "#19d3f3"
         },
         "name": "Ravindra Jadeja",
         "offsetgroup": "Ravindra Jadeja",
         "orientation": "v",
         "showlegend": true,
         "textposition": "auto",
         "type": "bar",
         "x": [
          "Ravindra Jadeja"
         ],
         "xaxis": "x",
         "y": [
          599251.2940939199
         ],
         "yaxis": "y"
        },
        {
         "alignmentgroup": "True",
         "hovertemplate": "name=%{x}<br>predicted_prices=%{y}<extra></extra>",
         "legendgroup": "Ross Taylor",
         "marker": {
          "color": "#FF6692"
         },
         "name": "Ross Taylor",
         "offsetgroup": "Ross Taylor",
         "orientation": "v",
         "showlegend": true,
         "textposition": "auto",
         "type": "bar",
         "x": [
          "Ross Taylor"
         ],
         "xaxis": "x",
         "y": [
          622158.8692113282
         ],
         "yaxis": "y"
        },
        {
         "alignmentgroup": "True",
         "hovertemplate": "name=%{x}<br>predicted_prices=%{y}<extra></extra>",
         "legendgroup": "AB de Villiers",
         "marker": {
          "color": "#B6E880"
         },
         "name": "AB de Villiers",
         "offsetgroup": "AB de Villiers",
         "orientation": "v",
         "showlegend": true,
         "textposition": "auto",
         "type": "bar",
         "x": [
          "AB de Villiers"
         ],
         "xaxis": "x",
         "y": [
          509155.18727826007
         ],
         "yaxis": "y"
        },
        {
         "alignmentgroup": "True",
         "hovertemplate": "name=%{x}<br>predicted_prices=%{y}<extra></extra>",
         "legendgroup": "Cameron White",
         "marker": {
          "color": "#FF97FF"
         },
         "name": "Cameron White",
         "offsetgroup": "Cameron White",
         "orientation": "v",
         "showlegend": true,
         "textposition": "auto",
         "type": "bar",
         "x": [
          "Cameron White"
         ],
         "xaxis": "x",
         "y": [
          712161.4510511005
         ],
         "yaxis": "y"
        },
        {
         "alignmentgroup": "True",
         "hovertemplate": "name=%{x}<br>predicted_prices=%{y}<extra></extra>",
         "legendgroup": "Jacques Kallis",
         "marker": {
          "color": "#FECB52"
         },
         "name": "Jacques Kallis",
         "offsetgroup": "Jacques Kallis",
         "orientation": "v",
         "showlegend": true,
         "textposition": "auto",
         "type": "bar",
         "x": [
          "Jacques Kallis"
         ],
         "xaxis": "x",
         "y": [
          816486.0579023418
         ],
         "yaxis": "y"
        },
        {
         "alignmentgroup": "True",
         "hovertemplate": "name=%{x}<br>predicted_prices=%{y}<extra></extra>",
         "legendgroup": "Muttiah Muralitharan",
         "marker": {
          "color": "#636efa"
         },
         "name": "Muttiah Muralitharan",
         "offsetgroup": "Muttiah Muralitharan",
         "orientation": "v",
         "showlegend": true,
         "textposition": "auto",
         "type": "bar",
         "x": [
          "Muttiah Muralitharan"
         ],
         "xaxis": "x",
         "y": [
          635111.522901125
         ],
         "yaxis": "y"
        },
        {
         "alignmentgroup": "True",
         "hovertemplate": "name=%{x}<br>predicted_prices=%{y}<extra></extra>",
         "legendgroup": "Dale Steyn",
         "marker": {
          "color": "#EF553B"
         },
         "name": "Dale Steyn",
         "offsetgroup": "Dale Steyn",
         "orientation": "v",
         "showlegend": true,
         "textposition": "auto",
         "type": "bar",
         "x": [
          "Dale Steyn"
         ],
         "xaxis": "x",
         "y": [
          861285.2778290436
         ],
         "yaxis": "y"
        },
        {
         "alignmentgroup": "True",
         "hovertemplate": "name=%{x}<br>predicted_prices=%{y}<extra></extra>",
         "legendgroup": "Harbhajan Singh (retained)",
         "marker": {
          "color": "#00cc96"
         },
         "name": "Harbhajan Singh (retained)",
         "offsetgroup": "Harbhajan Singh (retained)",
         "orientation": "v",
         "showlegend": true,
         "textposition": "auto",
         "type": "bar",
         "x": [
          "Harbhajan Singh (retained)"
         ],
         "xaxis": "x",
         "y": [
          561345.2418166961
         ],
         "yaxis": "y"
        },
        {
         "alignmentgroup": "True",
         "hovertemplate": "name=%{x}<br>predicted_prices=%{y}<extra></extra>",
         "legendgroup": "Shane Watson (retained)",
         "marker": {
          "color": "#ab63fa"
         },
         "name": "Shane Watson (retained)",
         "offsetgroup": "Shane Watson (retained)",
         "orientation": "v",
         "showlegend": true,
         "textposition": "auto",
         "type": "bar",
         "x": [
          "Shane Watson (retained)"
         ],
         "xaxis": "x",
         "y": [
          789252.9914081873
         ],
         "yaxis": "y"
        },
        {
         "alignmentgroup": "True",
         "hovertemplate": "name=%{x}<br>predicted_prices=%{y}<extra></extra>",
         "legendgroup": "Suresh Raina (retained)",
         "marker": {
          "color": "#FFA15A"
         },
         "name": "Suresh Raina (retained)",
         "offsetgroup": "Suresh Raina (retained)",
         "orientation": "v",
         "showlegend": true,
         "textposition": "auto",
         "type": "bar",
         "x": [
          "Suresh Raina (retained)"
         ],
         "xaxis": "x",
         "y": [
          1516121.255254957
         ],
         "yaxis": "y"
        },
        {
         "alignmentgroup": "True",
         "hovertemplate": "name=%{x}<br>predicted_prices=%{y}<extra></extra>",
         "legendgroup": "David Hussey",
         "marker": {
          "color": "#19d3f3"
         },
         "name": "David Hussey",
         "offsetgroup": "David Hussey",
         "orientation": "v",
         "showlegend": true,
         "textposition": "auto",
         "type": "bar",
         "x": [
          "David Hussey"
         ],
         "xaxis": "x",
         "y": [
          1312577.9109164248
         ],
         "yaxis": "y"
        },
        {
         "alignmentgroup": "True",
         "hovertemplate": "name=%{x}<br>predicted_prices=%{y}<extra></extra>",
         "legendgroup": "Mahela Jayawardene",
         "marker": {
          "color": "#FF6692"
         },
         "name": "Mahela Jayawardene",
         "offsetgroup": "Mahela Jayawardene",
         "orientation": "v",
         "showlegend": true,
         "textposition": "auto",
         "type": "bar",
         "x": [
          "Mahela Jayawardene"
         ],
         "xaxis": "x",
         "y": [
          1440906.9573051936
         ],
         "yaxis": "y"
        },
        {
         "alignmentgroup": "True",
         "hovertemplate": "name=%{x}<br>predicted_prices=%{y}<extra></extra>",
         "legendgroup": "Saurabh Tiwary",
         "marker": {
          "color": "#B6E880"
         },
         "name": "Saurabh Tiwary",
         "offsetgroup": "Saurabh Tiwary",
         "orientation": "v",
         "showlegend": true,
         "textposition": "auto",
         "type": "bar",
         "x": [
          "Saurabh Tiwary"
         ],
         "xaxis": "x",
         "y": [
          973319.6634043072
         ],
         "yaxis": "y"
        },
        {
         "alignmentgroup": "True",
         "hovertemplate": "name=%{x}<br>predicted_prices=%{y}<extra></extra>",
         "legendgroup": "MS Dhoni (retained)",
         "marker": {
          "color": "#FF97FF"
         },
         "name": "MS Dhoni (retained)",
         "offsetgroup": "MS Dhoni (retained)",
         "orientation": "v",
         "showlegend": true,
         "textposition": "auto",
         "type": "bar",
         "x": [
          "MS Dhoni (retained)"
         ],
         "xaxis": "x",
         "y": [
          1750547.2903341998
         ],
         "yaxis": "y"
        },
        {
         "alignmentgroup": "True",
         "hovertemplate": "name=%{x}<br>predicted_prices=%{y}<extra></extra>",
         "legendgroup": "Sachin Tendulkar (retained)",
         "marker": {
          "color": "#FECB52"
         },
         "name": "Sachin Tendulkar (retained)",
         "offsetgroup": "Sachin Tendulkar (retained)",
         "orientation": "v",
         "showlegend": true,
         "textposition": "auto",
         "type": "bar",
         "x": [
          "Sachin Tendulkar (retained)"
         ],
         "xaxis": "x",
         "y": [
          1395745.69662394
         ],
         "yaxis": "y"
        },
        {
         "alignmentgroup": "True",
         "hovertemplate": "name=%{x}<br>predicted_prices=%{y}<extra></extra>",
         "legendgroup": "Shane Warne (retained)",
         "marker": {
          "color": "#636efa"
         },
         "name": "Shane Warne (retained)",
         "offsetgroup": "Shane Warne (retained)",
         "orientation": "v",
         "showlegend": true,
         "textposition": "auto",
         "type": "bar",
         "x": [
          "Shane Warne (retained)"
         ],
         "xaxis": "x",
         "y": [
          1356024.5580458443
         ],
         "yaxis": "y"
        },
        {
         "alignmentgroup": "True",
         "hovertemplate": "name=%{x}<br>predicted_prices=%{y}<extra></extra>",
         "legendgroup": "Virat Kohli (retained)",
         "marker": {
          "color": "#EF553B"
         },
         "name": "Virat Kohli (retained)",
         "offsetgroup": "Virat Kohli (retained)",
         "orientation": "v",
         "showlegend": true,
         "textposition": "auto",
         "type": "bar",
         "x": [
          "Virat Kohli (retained)"
         ],
         "xaxis": "x",
         "y": [
          1334272.0343287159
         ],
         "yaxis": "y"
        },
        {
         "alignmentgroup": "True",
         "hovertemplate": "name=%{x}<br>predicted_prices=%{y}<extra></extra>",
         "legendgroup": "Virender Sehwag (retained)",
         "marker": {
          "color": "#00cc96"
         },
         "name": "Virender Sehwag (retained)",
         "offsetgroup": "Virender Sehwag (retained)",
         "orientation": "v",
         "showlegend": true,
         "textposition": "auto",
         "type": "bar",
         "x": [
          "Virender Sehwag (retained)"
         ],
         "xaxis": "x",
         "y": [
          1707925.0296849946
         ],
         "yaxis": "y"
        },
        {
         "alignmentgroup": "True",
         "hovertemplate": "name=%{x}<br>predicted_prices=%{y}<extra></extra>",
         "legendgroup": "Yuvraj Singh",
         "marker": {
          "color": "#ab63fa"
         },
         "name": "Yuvraj Singh",
         "offsetgroup": "Yuvraj Singh",
         "orientation": "v",
         "showlegend": true,
         "textposition": "auto",
         "type": "bar",
         "x": [
          "Yuvraj Singh"
         ],
         "xaxis": "x",
         "y": [
          1797805.311172932
         ],
         "yaxis": "y"
        },
        {
         "alignmentgroup": "True",
         "hovertemplate": "name=%{x}<br>predicted_prices=%{y}<extra></extra>",
         "legendgroup": "Irfan Pathan",
         "marker": {
          "color": "#FFA15A"
         },
         "name": "Irfan Pathan",
         "offsetgroup": "Irfan Pathan",
         "orientation": "v",
         "showlegend": true,
         "textposition": "auto",
         "type": "bar",
         "x": [
          "Irfan Pathan"
         ],
         "xaxis": "x",
         "y": [
          1282787.3760544404
         ],
         "yaxis": "y"
        },
        {
         "alignmentgroup": "True",
         "hovertemplate": "name=%{x}<br>predicted_prices=%{y}<extra></extra>",
         "legendgroup": "Rohit Sharma",
         "marker": {
          "color": "#19d3f3"
         },
         "name": "Rohit Sharma",
         "offsetgroup": "Rohit Sharma",
         "orientation": "v",
         "showlegend": true,
         "textposition": "auto",
         "type": "bar",
         "x": [
          "Rohit Sharma"
         ],
         "xaxis": "x",
         "y": [
          1188244.8611394342
         ],
         "yaxis": "y"
        },
        {
         "alignmentgroup": "True",
         "hovertemplate": "name=%{x}<br>predicted_prices=%{y}<extra></extra>",
         "legendgroup": "Robin Uthappa",
         "marker": {
          "color": "#FF6692"
         },
         "name": "Robin Uthappa",
         "offsetgroup": "Robin Uthappa",
         "orientation": "v",
         "showlegend": true,
         "textposition": "auto",
         "type": "bar",
         "x": [
          "Robin Uthappa"
         ],
         "xaxis": "x",
         "y": [
          1446400.1828156747
         ],
         "yaxis": "y"
        },
        {
         "alignmentgroup": "True",
         "hovertemplate": "name=%{x}<br>predicted_prices=%{y}<extra></extra>",
         "legendgroup": "Yusuf Pathan",
         "marker": {
          "color": "#B6E880"
         },
         "name": "Yusuf Pathan",
         "offsetgroup": "Yusuf Pathan",
         "orientation": "v",
         "showlegend": true,
         "textposition": "auto",
         "type": "bar",
         "x": [
          "Yusuf Pathan"
         ],
         "xaxis": "x",
         "y": [
          1730645.1106264188
         ],
         "yaxis": "y"
        },
        {
         "alignmentgroup": "True",
         "hovertemplate": "name=%{x}<br>predicted_prices=%{y}<extra></extra>",
         "legendgroup": "Gautam Gambhir",
         "marker": {
          "color": "#FF97FF"
         },
         "name": "Gautam Gambhir",
         "offsetgroup": "Gautam Gambhir",
         "orientation": "v",
         "showlegend": true,
         "textposition": "auto",
         "type": "bar",
         "x": [
          "Gautam Gambhir"
         ],
         "xaxis": "x",
         "y": [
          1574093.0513512834
         ],
         "yaxis": "y"
        }
       ],
       "layout": {
        "barmode": "relative",
        "legend": {
         "title": {
          "text": "name"
         },
         "tracegroupgap": 0
        },
        "margin": {
         "t": 60
        },
        "template": {
         "data": {
          "bar": [
           {
            "error_x": {
             "color": "#2a3f5f"
            },
            "error_y": {
             "color": "#2a3f5f"
            },
            "marker": {
             "line": {
              "color": "#E5ECF6",
              "width": 0.5
             }
            },
            "type": "bar"
           }
          ],
          "barpolar": [
           {
            "marker": {
             "line": {
              "color": "#E5ECF6",
              "width": 0.5
             }
            },
            "type": "barpolar"
           }
          ],
          "carpet": [
           {
            "aaxis": {
             "endlinecolor": "#2a3f5f",
             "gridcolor": "white",
             "linecolor": "white",
             "minorgridcolor": "white",
             "startlinecolor": "#2a3f5f"
            },
            "baxis": {
             "endlinecolor": "#2a3f5f",
             "gridcolor": "white",
             "linecolor": "white",
             "minorgridcolor": "white",
             "startlinecolor": "#2a3f5f"
            },
            "type": "carpet"
           }
          ],
          "choropleth": [
           {
            "colorbar": {
             "outlinewidth": 0,
             "ticks": ""
            },
            "type": "choropleth"
           }
          ],
          "contour": [
           {
            "colorbar": {
             "outlinewidth": 0,
             "ticks": ""
            },
            "colorscale": [
             [
              0,
              "#0d0887"
             ],
             [
              0.1111111111111111,
              "#46039f"
             ],
             [
              0.2222222222222222,
              "#7201a8"
             ],
             [
              0.3333333333333333,
              "#9c179e"
             ],
             [
              0.4444444444444444,
              "#bd3786"
             ],
             [
              0.5555555555555556,
              "#d8576b"
             ],
             [
              0.6666666666666666,
              "#ed7953"
             ],
             [
              0.7777777777777778,
              "#fb9f3a"
             ],
             [
              0.8888888888888888,
              "#fdca26"
             ],
             [
              1,
              "#f0f921"
             ]
            ],
            "type": "contour"
           }
          ],
          "contourcarpet": [
           {
            "colorbar": {
             "outlinewidth": 0,
             "ticks": ""
            },
            "type": "contourcarpet"
           }
          ],
          "heatmap": [
           {
            "colorbar": {
             "outlinewidth": 0,
             "ticks": ""
            },
            "colorscale": [
             [
              0,
              "#0d0887"
             ],
             [
              0.1111111111111111,
              "#46039f"
             ],
             [
              0.2222222222222222,
              "#7201a8"
             ],
             [
              0.3333333333333333,
              "#9c179e"
             ],
             [
              0.4444444444444444,
              "#bd3786"
             ],
             [
              0.5555555555555556,
              "#d8576b"
             ],
             [
              0.6666666666666666,
              "#ed7953"
             ],
             [
              0.7777777777777778,
              "#fb9f3a"
             ],
             [
              0.8888888888888888,
              "#fdca26"
             ],
             [
              1,
              "#f0f921"
             ]
            ],
            "type": "heatmap"
           }
          ],
          "heatmapgl": [
           {
            "colorbar": {
             "outlinewidth": 0,
             "ticks": ""
            },
            "colorscale": [
             [
              0,
              "#0d0887"
             ],
             [
              0.1111111111111111,
              "#46039f"
             ],
             [
              0.2222222222222222,
              "#7201a8"
             ],
             [
              0.3333333333333333,
              "#9c179e"
             ],
             [
              0.4444444444444444,
              "#bd3786"
             ],
             [
              0.5555555555555556,
              "#d8576b"
             ],
             [
              0.6666666666666666,
              "#ed7953"
             ],
             [
              0.7777777777777778,
              "#fb9f3a"
             ],
             [
              0.8888888888888888,
              "#fdca26"
             ],
             [
              1,
              "#f0f921"
             ]
            ],
            "type": "heatmapgl"
           }
          ],
          "histogram": [
           {
            "marker": {
             "colorbar": {
              "outlinewidth": 0,
              "ticks": ""
             }
            },
            "type": "histogram"
           }
          ],
          "histogram2d": [
           {
            "colorbar": {
             "outlinewidth": 0,
             "ticks": ""
            },
            "colorscale": [
             [
              0,
              "#0d0887"
             ],
             [
              0.1111111111111111,
              "#46039f"
             ],
             [
              0.2222222222222222,
              "#7201a8"
             ],
             [
              0.3333333333333333,
              "#9c179e"
             ],
             [
              0.4444444444444444,
              "#bd3786"
             ],
             [
              0.5555555555555556,
              "#d8576b"
             ],
             [
              0.6666666666666666,
              "#ed7953"
             ],
             [
              0.7777777777777778,
              "#fb9f3a"
             ],
             [
              0.8888888888888888,
              "#fdca26"
             ],
             [
              1,
              "#f0f921"
             ]
            ],
            "type": "histogram2d"
           }
          ],
          "histogram2dcontour": [
           {
            "colorbar": {
             "outlinewidth": 0,
             "ticks": ""
            },
            "colorscale": [
             [
              0,
              "#0d0887"
             ],
             [
              0.1111111111111111,
              "#46039f"
             ],
             [
              0.2222222222222222,
              "#7201a8"
             ],
             [
              0.3333333333333333,
              "#9c179e"
             ],
             [
              0.4444444444444444,
              "#bd3786"
             ],
             [
              0.5555555555555556,
              "#d8576b"
             ],
             [
              0.6666666666666666,
              "#ed7953"
             ],
             [
              0.7777777777777778,
              "#fb9f3a"
             ],
             [
              0.8888888888888888,
              "#fdca26"
             ],
             [
              1,
              "#f0f921"
             ]
            ],
            "type": "histogram2dcontour"
           }
          ],
          "mesh3d": [
           {
            "colorbar": {
             "outlinewidth": 0,
             "ticks": ""
            },
            "type": "mesh3d"
           }
          ],
          "parcoords": [
           {
            "line": {
             "colorbar": {
              "outlinewidth": 0,
              "ticks": ""
             }
            },
            "type": "parcoords"
           }
          ],
          "pie": [
           {
            "automargin": true,
            "type": "pie"
           }
          ],
          "scatter": [
           {
            "marker": {
             "colorbar": {
              "outlinewidth": 0,
              "ticks": ""
             }
            },
            "type": "scatter"
           }
          ],
          "scatter3d": [
           {
            "line": {
             "colorbar": {
              "outlinewidth": 0,
              "ticks": ""
             }
            },
            "marker": {
             "colorbar": {
              "outlinewidth": 0,
              "ticks": ""
             }
            },
            "type": "scatter3d"
           }
          ],
          "scattercarpet": [
           {
            "marker": {
             "colorbar": {
              "outlinewidth": 0,
              "ticks": ""
             }
            },
            "type": "scattercarpet"
           }
          ],
          "scattergeo": [
           {
            "marker": {
             "colorbar": {
              "outlinewidth": 0,
              "ticks": ""
             }
            },
            "type": "scattergeo"
           }
          ],
          "scattergl": [
           {
            "marker": {
             "colorbar": {
              "outlinewidth": 0,
              "ticks": ""
             }
            },
            "type": "scattergl"
           }
          ],
          "scattermapbox": [
           {
            "marker": {
             "colorbar": {
              "outlinewidth": 0,
              "ticks": ""
             }
            },
            "type": "scattermapbox"
           }
          ],
          "scatterpolar": [
           {
            "marker": {
             "colorbar": {
              "outlinewidth": 0,
              "ticks": ""
             }
            },
            "type": "scatterpolar"
           }
          ],
          "scatterpolargl": [
           {
            "marker": {
             "colorbar": {
              "outlinewidth": 0,
              "ticks": ""
             }
            },
            "type": "scatterpolargl"
           }
          ],
          "scatterternary": [
           {
            "marker": {
             "colorbar": {
              "outlinewidth": 0,
              "ticks": ""
             }
            },
            "type": "scatterternary"
           }
          ],
          "surface": [
           {
            "colorbar": {
             "outlinewidth": 0,
             "ticks": ""
            },
            "colorscale": [
             [
              0,
              "#0d0887"
             ],
             [
              0.1111111111111111,
              "#46039f"
             ],
             [
              0.2222222222222222,
              "#7201a8"
             ],
             [
              0.3333333333333333,
              "#9c179e"
             ],
             [
              0.4444444444444444,
              "#bd3786"
             ],
             [
              0.5555555555555556,
              "#d8576b"
             ],
             [
              0.6666666666666666,
              "#ed7953"
             ],
             [
              0.7777777777777778,
              "#fb9f3a"
             ],
             [
              0.8888888888888888,
              "#fdca26"
             ],
             [
              1,
              "#f0f921"
             ]
            ],
            "type": "surface"
           }
          ],
          "table": [
           {
            "cells": {
             "fill": {
              "color": "#EBF0F8"
             },
             "line": {
              "color": "white"
             }
            },
            "header": {
             "fill": {
              "color": "#C8D4E3"
             },
             "line": {
              "color": "white"
             }
            },
            "type": "table"
           }
          ]
         },
         "layout": {
          "annotationdefaults": {
           "arrowcolor": "#2a3f5f",
           "arrowhead": 0,
           "arrowwidth": 1
          },
          "autotypenumbers": "strict",
          "coloraxis": {
           "colorbar": {
            "outlinewidth": 0,
            "ticks": ""
           }
          },
          "colorscale": {
           "diverging": [
            [
             0,
             "#8e0152"
            ],
            [
             0.1,
             "#c51b7d"
            ],
            [
             0.2,
             "#de77ae"
            ],
            [
             0.3,
             "#f1b6da"
            ],
            [
             0.4,
             "#fde0ef"
            ],
            [
             0.5,
             "#f7f7f7"
            ],
            [
             0.6,
             "#e6f5d0"
            ],
            [
             0.7,
             "#b8e186"
            ],
            [
             0.8,
             "#7fbc41"
            ],
            [
             0.9,
             "#4d9221"
            ],
            [
             1,
             "#276419"
            ]
           ],
           "sequential": [
            [
             0,
             "#0d0887"
            ],
            [
             0.1111111111111111,
             "#46039f"
            ],
            [
             0.2222222222222222,
             "#7201a8"
            ],
            [
             0.3333333333333333,
             "#9c179e"
            ],
            [
             0.4444444444444444,
             "#bd3786"
            ],
            [
             0.5555555555555556,
             "#d8576b"
            ],
            [
             0.6666666666666666,
             "#ed7953"
            ],
            [
             0.7777777777777778,
             "#fb9f3a"
            ],
            [
             0.8888888888888888,
             "#fdca26"
            ],
            [
             1,
             "#f0f921"
            ]
           ],
           "sequentialminus": [
            [
             0,
             "#0d0887"
            ],
            [
             0.1111111111111111,
             "#46039f"
            ],
            [
             0.2222222222222222,
             "#7201a8"
            ],
            [
             0.3333333333333333,
             "#9c179e"
            ],
            [
             0.4444444444444444,
             "#bd3786"
            ],
            [
             0.5555555555555556,
             "#d8576b"
            ],
            [
             0.6666666666666666,
             "#ed7953"
            ],
            [
             0.7777777777777778,
             "#fb9f3a"
            ],
            [
             0.8888888888888888,
             "#fdca26"
            ],
            [
             1,
             "#f0f921"
            ]
           ]
          },
          "colorway": [
           "#636efa",
           "#EF553B",
           "#00cc96",
           "#ab63fa",
           "#FFA15A",
           "#19d3f3",
           "#FF6692",
           "#B6E880",
           "#FF97FF",
           "#FECB52"
          ],
          "font": {
           "color": "#2a3f5f"
          },
          "geo": {
           "bgcolor": "white",
           "lakecolor": "white",
           "landcolor": "#E5ECF6",
           "showlakes": true,
           "showland": true,
           "subunitcolor": "white"
          },
          "hoverlabel": {
           "align": "left"
          },
          "hovermode": "closest",
          "mapbox": {
           "style": "light"
          },
          "paper_bgcolor": "white",
          "plot_bgcolor": "#E5ECF6",
          "polar": {
           "angularaxis": {
            "gridcolor": "white",
            "linecolor": "white",
            "ticks": ""
           },
           "bgcolor": "#E5ECF6",
           "radialaxis": {
            "gridcolor": "white",
            "linecolor": "white",
            "ticks": ""
           }
          },
          "scene": {
           "xaxis": {
            "backgroundcolor": "#E5ECF6",
            "gridcolor": "white",
            "gridwidth": 2,
            "linecolor": "white",
            "showbackground": true,
            "ticks": "",
            "zerolinecolor": "white"
           },
           "yaxis": {
            "backgroundcolor": "#E5ECF6",
            "gridcolor": "white",
            "gridwidth": 2,
            "linecolor": "white",
            "showbackground": true,
            "ticks": "",
            "zerolinecolor": "white"
           },
           "zaxis": {
            "backgroundcolor": "#E5ECF6",
            "gridcolor": "white",
            "gridwidth": 2,
            "linecolor": "white",
            "showbackground": true,
            "ticks": "",
            "zerolinecolor": "white"
           }
          },
          "shapedefaults": {
           "line": {
            "color": "#2a3f5f"
           }
          },
          "ternary": {
           "aaxis": {
            "gridcolor": "white",
            "linecolor": "white",
            "ticks": ""
           },
           "baxis": {
            "gridcolor": "white",
            "linecolor": "white",
            "ticks": ""
           },
           "bgcolor": "#E5ECF6",
           "caxis": {
            "gridcolor": "white",
            "linecolor": "white",
            "ticks": ""
           }
          },
          "title": {
           "x": 0.05
          },
          "xaxis": {
           "automargin": true,
           "gridcolor": "white",
           "linecolor": "white",
           "ticks": "",
           "title": {
            "standoff": 15
           },
           "zerolinecolor": "white",
           "zerolinewidth": 2
          },
          "yaxis": {
           "automargin": true,
           "gridcolor": "white",
           "linecolor": "white",
           "ticks": "",
           "title": {
            "standoff": 15
           },
           "zerolinecolor": "white",
           "zerolinewidth": 2
          }
         }
        },
        "xaxis": {
         "anchor": "y",
         "categoryarray": [
          "Aiden Blizzard",
          "Jonathan Vandiar",
          "Nathan Rimmington",
          "Rilee Rossouw",
          "Robert Frylinck",
          "Travis Birt",
          "George Bailey",
          "Johan van der Wath",
          "Luke Pomersbasch",
          "Moises Henriques",
          "Roelof van der Merwe",
          "Michael Klinger",
          "Andrew McDonald",
          "Michael Lumb",
          "Suraj Randiv",
          "Thisara Perera",
          "Rusty Theron",
          "Alfonso Thomas",
          "Ben Hilfenhaus",
          "Colin Ingram",
          "Dimitri Mascarenhas",
          "James Franklin",
          "Jerome Taylor",
          "Matthew Wade",
          "Nathan McCullum",
          "Nuwan Kulasekara",
          "Wriddhiman Saha",
          "Clint McKay",
          "Faf du Plessis",
          "Mohammad Kaif",
          "Charl Langeveldt",
          "Jesse Ryder",
          "Joginder Sharma",
          "Ryan ten Doeschate",
          "Wayne Parnell",
          "Davy Jacobs",
          "Dwayne Bravo",
          "Owais Shah",
          "Scott Styris",
          "Steven Smith",
          "Ajit Agarkar",
          "Sudeep Tyagi",
          "Jaidev Unadkat",
          "Paul Collingwood",
          "Naman Ojha",
          "Tim Paine",
          "Manpreet Gony",
          "Parthiv Patel",
          "Aaron Finch",
          "Amit Mishra",
          "Callum Ferguson",
          "JP Duminy",
          "Shaun Tait",
          "Shikhar Dhawan",
          "Brad Haddin",
          "Ryan Harris",
          "Eoin Morgan",
          "James Hopes",
          "Ashok Dinda",
          "Brett Lee",
          "Murali Kartik",
          "Shaun Marsh",
          "Stuart Broad",
          "VVS Laxman",
          "Brad Hodge",
          "Michael Hussey",
          "Shakib Al Hasan",
          "Ishant Sharma",
          "Brendon McCullum",
          "Manoj Tiwary",
          "Morne Morkel",
          "Vinay Kumar",
          "Albie Morkel (retained)",
          "Graeme Smith",
          "L Balaji",
          "Lasith Malinga (retained)",
          "Pragyan Ojha",
          "Rahul Dravid",
          "RP Singh",
          "Daniel Vettori",
          "Dirk Nannes",
          "Kevin Pietersen",
          "Tillakaratne Dilshan",
          "Cheteshwar Pujara",
          "Doug Bollinger",
          "Kumar Sangakkara",
          "Munaf Patel",
          "Venugopal Rao",
          "David Warner",
          "Abhishek Nayar",
          "Praveen Kumar",
          "Andrew Symonds",
          "Ashish Nehra",
          "R Ashwin",
          "S Badrinath",
          "Adam Gilchrist",
          "Daniel Christian",
          "Dinesh Karthik",
          "Kieron Pollard (retained)",
          "M Vijay (retained)",
          "Piyush Chawla",
          "Sreesanth",
          "Zaheer Khan",
          "Angelo Mathews",
          "Johan Botha",
          "Ravindra Jadeja",
          "Ross Taylor",
          "AB de Villiers",
          "Cameron White",
          "Jacques Kallis",
          "Muttiah Muralitharan",
          "Dale Steyn",
          "Harbhajan Singh (retained)",
          "Shane Watson (retained)",
          "Suresh Raina (retained)",
          "David Hussey",
          "Mahela Jayawardene",
          "Saurabh Tiwary",
          "MS Dhoni (retained)",
          "Sachin Tendulkar (retained)",
          "Shane Warne (retained)",
          "Virat Kohli (retained)",
          "Virender Sehwag (retained)",
          "Yuvraj Singh",
          "Irfan Pathan",
          "Rohit Sharma",
          "Robin Uthappa",
          "Yusuf Pathan",
          "Gautam Gambhir"
         ],
         "categoryorder": "array",
         "domain": [
          0,
          1
         ],
         "title": {
          "text": "name"
         }
        },
        "yaxis": {
         "anchor": "x",
         "domain": [
          0,
          1
         ],
         "title": {
          "text": "predicted_prices"
         }
        }
       }
      },
      "text/html": [
       "<div>                            <div id=\"256a1e64-2a96-401f-9d59-8fffab8c0f5e\" class=\"plotly-graph-div\" style=\"height:525px; width:100%;\"></div>            <script type=\"text/javascript\">                require([\"plotly\"], function(Plotly) {                    window.PLOTLYENV=window.PLOTLYENV || {};                                    if (document.getElementById(\"256a1e64-2a96-401f-9d59-8fffab8c0f5e\")) {                    Plotly.newPlot(                        \"256a1e64-2a96-401f-9d59-8fffab8c0f5e\",                        [{\"alignmentgroup\": \"True\", \"hovertemplate\": \"name=%{x}<br>predicted_prices=%{y}<extra></extra>\", \"legendgroup\": \"Aiden Blizzard\", \"marker\": {\"color\": \"#636efa\"}, \"name\": \"Aiden Blizzard\", \"offsetgroup\": \"Aiden Blizzard\", \"orientation\": \"v\", \"showlegend\": true, \"textposition\": \"auto\", \"type\": \"bar\", \"x\": [\"Aiden Blizzard\"], \"xaxis\": \"x\", \"y\": [49819.36467972165], \"yaxis\": \"y\"}, {\"alignmentgroup\": \"True\", \"hovertemplate\": \"name=%{x}<br>predicted_prices=%{y}<extra></extra>\", \"legendgroup\": \"Jonathan Vandiar\", \"marker\": {\"color\": \"#EF553B\"}, \"name\": \"Jonathan Vandiar\", \"offsetgroup\": \"Jonathan Vandiar\", \"orientation\": \"v\", \"showlegend\": true, \"textposition\": \"auto\", \"type\": \"bar\", \"x\": [\"Jonathan Vandiar\"], \"xaxis\": \"x\", \"y\": [149281.96694958524], \"yaxis\": \"y\"}, {\"alignmentgroup\": \"True\", \"hovertemplate\": \"name=%{x}<br>predicted_prices=%{y}<extra></extra>\", \"legendgroup\": \"Nathan Rimmington\", \"marker\": {\"color\": \"#00cc96\"}, \"name\": \"Nathan Rimmington\", \"offsetgroup\": \"Nathan Rimmington\", \"orientation\": \"v\", \"showlegend\": true, \"textposition\": \"auto\", \"type\": \"bar\", \"x\": [\"Nathan Rimmington\"], \"xaxis\": \"x\", \"y\": [80891.86272189056], \"yaxis\": \"y\"}, {\"alignmentgroup\": \"True\", \"hovertemplate\": \"name=%{x}<br>predicted_prices=%{y}<extra></extra>\", \"legendgroup\": \"Rilee Rossouw\", \"marker\": {\"color\": \"#ab63fa\"}, \"name\": \"Rilee Rossouw\", \"offsetgroup\": \"Rilee Rossouw\", \"orientation\": \"v\", \"showlegend\": true, \"textposition\": \"auto\", \"type\": \"bar\", \"x\": [\"Rilee Rossouw\"], \"xaxis\": \"x\", \"y\": [129333.95503102186], \"yaxis\": \"y\"}, {\"alignmentgroup\": \"True\", \"hovertemplate\": \"name=%{x}<br>predicted_prices=%{y}<extra></extra>\", \"legendgroup\": \"Robert Frylinck\", \"marker\": {\"color\": \"#FFA15A\"}, \"name\": \"Robert Frylinck\", \"offsetgroup\": \"Robert Frylinck\", \"orientation\": \"v\", \"showlegend\": true, \"textposition\": \"auto\", \"type\": \"bar\", \"x\": [\"Robert Frylinck\"], \"xaxis\": \"x\", \"y\": [29964.433436426098], \"yaxis\": \"y\"}, {\"alignmentgroup\": \"True\", \"hovertemplate\": \"name=%{x}<br>predicted_prices=%{y}<extra></extra>\", \"legendgroup\": \"Travis Birt\", \"marker\": {\"color\": \"#19d3f3\"}, \"name\": \"Travis Birt\", \"offsetgroup\": \"Travis Birt\", \"orientation\": \"v\", \"showlegend\": true, \"textposition\": \"auto\", \"type\": \"bar\", \"x\": [\"Travis Birt\"], \"xaxis\": \"x\", \"y\": [184512.17141344887], \"yaxis\": \"y\"}, {\"alignmentgroup\": \"True\", \"hovertemplate\": \"name=%{x}<br>predicted_prices=%{y}<extra></extra>\", \"legendgroup\": \"George Bailey\", \"marker\": {\"color\": \"#FF6692\"}, \"name\": \"George Bailey\", \"offsetgroup\": \"George Bailey\", \"orientation\": \"v\", \"showlegend\": true, \"textposition\": \"auto\", \"type\": \"bar\", \"x\": [\"George Bailey\"], \"xaxis\": \"x\", \"y\": [173858.45811606126], \"yaxis\": \"y\"}, {\"alignmentgroup\": \"True\", \"hovertemplate\": \"name=%{x}<br>predicted_prices=%{y}<extra></extra>\", \"legendgroup\": \"Johan van der Wath\", \"marker\": {\"color\": \"#B6E880\"}, \"name\": \"Johan van der Wath\", \"offsetgroup\": \"Johan van der Wath\", \"orientation\": \"v\", \"showlegend\": true, \"textposition\": \"auto\", \"type\": \"bar\", \"x\": [\"Johan van der Wath\"], \"xaxis\": \"x\", \"y\": [5701.6674524314], \"yaxis\": \"y\"}, {\"alignmentgroup\": \"True\", \"hovertemplate\": \"name=%{x}<br>predicted_prices=%{y}<extra></extra>\", \"legendgroup\": \"Luke Pomersbasch\", \"marker\": {\"color\": \"#FF97FF\"}, \"name\": \"Luke Pomersbasch\", \"offsetgroup\": \"Luke Pomersbasch\", \"orientation\": \"v\", \"showlegend\": true, \"textposition\": \"auto\", \"type\": \"bar\", \"x\": [\"Luke Pomersbasch\"], \"xaxis\": \"x\", \"y\": [142630.02054025372], \"yaxis\": \"y\"}, {\"alignmentgroup\": \"True\", \"hovertemplate\": \"name=%{x}<br>predicted_prices=%{y}<extra></extra>\", \"legendgroup\": \"Moises Henriques\", \"marker\": {\"color\": \"#FECB52\"}, \"name\": \"Moises Henriques\", \"offsetgroup\": \"Moises Henriques\", \"orientation\": \"v\", \"showlegend\": true, \"textposition\": \"auto\", \"type\": \"bar\", \"x\": [\"Moises Henriques\"], \"xaxis\": \"x\", \"y\": [219075.4966145571], \"yaxis\": \"y\"}, {\"alignmentgroup\": \"True\", \"hovertemplate\": \"name=%{x}<br>predicted_prices=%{y}<extra></extra>\", \"legendgroup\": \"Roelof van der Merwe\", \"marker\": {\"color\": \"#636efa\"}, \"name\": \"Roelof van der Merwe\", \"offsetgroup\": \"Roelof van der Merwe\", \"orientation\": \"v\", \"showlegend\": true, \"textposition\": \"auto\", \"type\": \"bar\", \"x\": [\"Roelof van der Merwe\"], \"xaxis\": \"x\", \"y\": [186850.57985049547], \"yaxis\": \"y\"}, {\"alignmentgroup\": \"True\", \"hovertemplate\": \"name=%{x}<br>predicted_prices=%{y}<extra></extra>\", \"legendgroup\": \"Michael Klinger\", \"marker\": {\"color\": \"#EF553B\"}, \"name\": \"Michael Klinger\", \"offsetgroup\": \"Michael Klinger\", \"orientation\": \"v\", \"showlegend\": true, \"textposition\": \"auto\", \"type\": \"bar\", \"x\": [\"Michael Klinger\"], \"xaxis\": \"x\", \"y\": [233315.0217550476], \"yaxis\": \"y\"}, {\"alignmentgroup\": \"True\", \"hovertemplate\": \"name=%{x}<br>predicted_prices=%{y}<extra></extra>\", \"legendgroup\": \"Andrew McDonald\", \"marker\": {\"color\": \"#00cc96\"}, \"name\": \"Andrew McDonald\", \"offsetgroup\": \"Andrew McDonald\", \"orientation\": \"v\", \"showlegend\": true, \"textposition\": \"auto\", \"type\": \"bar\", \"x\": [\"Andrew McDonald\"], \"xaxis\": \"x\", \"y\": [414239.21958882886], \"yaxis\": \"y\"}, {\"alignmentgroup\": \"True\", \"hovertemplate\": \"name=%{x}<br>predicted_prices=%{y}<extra></extra>\", \"legendgroup\": \"Michael Lumb\", \"marker\": {\"color\": \"#ab63fa\"}, \"name\": \"Michael Lumb\", \"offsetgroup\": \"Michael Lumb\", \"orientation\": \"v\", \"showlegend\": true, \"textposition\": \"auto\", \"type\": \"bar\", \"x\": [\"Michael Lumb\"], \"xaxis\": \"x\", \"y\": [468759.0128174122], \"yaxis\": \"y\"}, {\"alignmentgroup\": \"True\", \"hovertemplate\": \"name=%{x}<br>predicted_prices=%{y}<extra></extra>\", \"legendgroup\": \"Suraj Randiv\", \"marker\": {\"color\": \"#FFA15A\"}, \"name\": \"Suraj Randiv\", \"offsetgroup\": \"Suraj Randiv\", \"orientation\": \"v\", \"showlegend\": true, \"textposition\": \"auto\", \"type\": \"bar\", \"x\": [\"Suraj Randiv\"], \"xaxis\": \"x\", \"y\": [94593.20141033399], \"yaxis\": \"y\"}, {\"alignmentgroup\": \"True\", \"hovertemplate\": \"name=%{x}<br>predicted_prices=%{y}<extra></extra>\", \"legendgroup\": \"Thisara Perera\", \"marker\": {\"color\": \"#19d3f3\"}, \"name\": \"Thisara Perera\", \"offsetgroup\": \"Thisara Perera\", \"orientation\": \"v\", \"showlegend\": true, \"textposition\": \"auto\", \"type\": \"bar\", \"x\": [\"Thisara Perera\"], \"xaxis\": \"x\", \"y\": [39368.175954841536], \"yaxis\": \"y\"}, {\"alignmentgroup\": \"True\", \"hovertemplate\": \"name=%{x}<br>predicted_prices=%{y}<extra></extra>\", \"legendgroup\": \"Rusty Theron\", \"marker\": {\"color\": \"#FF6692\"}, \"name\": \"Rusty Theron\", \"offsetgroup\": \"Rusty Theron\", \"orientation\": \"v\", \"showlegend\": true, \"textposition\": \"auto\", \"type\": \"bar\", \"x\": [\"Rusty Theron\"], \"xaxis\": \"x\", \"y\": [98662.5597683182], \"yaxis\": \"y\"}, {\"alignmentgroup\": \"True\", \"hovertemplate\": \"name=%{x}<br>predicted_prices=%{y}<extra></extra>\", \"legendgroup\": \"Alfonso Thomas\", \"marker\": {\"color\": \"#B6E880\"}, \"name\": \"Alfonso Thomas\", \"offsetgroup\": \"Alfonso Thomas\", \"orientation\": \"v\", \"showlegend\": true, \"textposition\": \"auto\", \"type\": \"bar\", \"x\": [\"Alfonso Thomas\"], \"xaxis\": \"x\", \"y\": [23165.180080160386], \"yaxis\": \"y\"}, {\"alignmentgroup\": \"True\", \"hovertemplate\": \"name=%{x}<br>predicted_prices=%{y}<extra></extra>\", \"legendgroup\": \"Ben Hilfenhaus\", \"marker\": {\"color\": \"#FF97FF\"}, \"name\": \"Ben Hilfenhaus\", \"offsetgroup\": \"Ben Hilfenhaus\", \"orientation\": \"v\", \"showlegend\": true, \"textposition\": \"auto\", \"type\": \"bar\", \"x\": [\"Ben Hilfenhaus\"], \"xaxis\": \"x\", \"y\": [89518.11421335267], \"yaxis\": \"y\"}, {\"alignmentgroup\": \"True\", \"hovertemplate\": \"name=%{x}<br>predicted_prices=%{y}<extra></extra>\", \"legendgroup\": \"Colin Ingram\", \"marker\": {\"color\": \"#FECB52\"}, \"name\": \"Colin Ingram\", \"offsetgroup\": \"Colin Ingram\", \"orientation\": \"v\", \"showlegend\": true, \"textposition\": \"auto\", \"type\": \"bar\", \"x\": [\"Colin Ingram\"], \"xaxis\": \"x\", \"y\": [204888.79013872214], \"yaxis\": \"y\"}, {\"alignmentgroup\": \"True\", \"hovertemplate\": \"name=%{x}<br>predicted_prices=%{y}<extra></extra>\", \"legendgroup\": \"Dimitri Mascarenhas\", \"marker\": {\"color\": \"#636efa\"}, \"name\": \"Dimitri Mascarenhas\", \"offsetgroup\": \"Dimitri Mascarenhas\", \"orientation\": \"v\", \"showlegend\": true, \"textposition\": \"auto\", \"type\": \"bar\", \"x\": [\"Dimitri Mascarenhas\"], \"xaxis\": \"x\", \"y\": [340765.83961383643], \"yaxis\": \"y\"}, {\"alignmentgroup\": \"True\", \"hovertemplate\": \"name=%{x}<br>predicted_prices=%{y}<extra></extra>\", \"legendgroup\": \"James Franklin\", \"marker\": {\"color\": \"#EF553B\"}, \"name\": \"James Franklin\", \"offsetgroup\": \"James Franklin\", \"orientation\": \"v\", \"showlegend\": true, \"textposition\": \"auto\", \"type\": \"bar\", \"x\": [\"James Franklin\"], \"xaxis\": \"x\", \"y\": [358195.4876101017], \"yaxis\": \"y\"}, {\"alignmentgroup\": \"True\", \"hovertemplate\": \"name=%{x}<br>predicted_prices=%{y}<extra></extra>\", \"legendgroup\": \"Jerome Taylor\", \"marker\": {\"color\": \"#00cc96\"}, \"name\": \"Jerome Taylor\", \"offsetgroup\": \"Jerome Taylor\", \"orientation\": \"v\", \"showlegend\": true, \"textposition\": \"auto\", \"type\": \"bar\", \"x\": [\"Jerome Taylor\"], \"xaxis\": \"x\", \"y\": [41126.16447538871], \"yaxis\": \"y\"}, {\"alignmentgroup\": \"True\", \"hovertemplate\": \"name=%{x}<br>predicted_prices=%{y}<extra></extra>\", \"legendgroup\": \"Matthew Wade\", \"marker\": {\"color\": \"#ab63fa\"}, \"name\": \"Matthew Wade\", \"offsetgroup\": \"Matthew Wade\", \"orientation\": \"v\", \"showlegend\": true, \"textposition\": \"auto\", \"type\": \"bar\", \"x\": [\"Matthew Wade\"], \"xaxis\": \"x\", \"y\": [130973.80640415788], \"yaxis\": \"y\"}, {\"alignmentgroup\": \"True\", \"hovertemplate\": \"name=%{x}<br>predicted_prices=%{y}<extra></extra>\", \"legendgroup\": \"Nathan McCullum\", \"marker\": {\"color\": \"#FFA15A\"}, \"name\": \"Nathan McCullum\", \"offsetgroup\": \"Nathan McCullum\", \"orientation\": \"v\", \"showlegend\": true, \"textposition\": \"auto\", \"type\": \"bar\", \"x\": [\"Nathan McCullum\"], \"xaxis\": \"x\", \"y\": [274283.3899532183], \"yaxis\": \"y\"}, {\"alignmentgroup\": \"True\", \"hovertemplate\": \"name=%{x}<br>predicted_prices=%{y}<extra></extra>\", \"legendgroup\": \"Nuwan Kulasekara\", \"marker\": {\"color\": \"#19d3f3\"}, \"name\": \"Nuwan Kulasekara\", \"offsetgroup\": \"Nuwan Kulasekara\", \"orientation\": \"v\", \"showlegend\": true, \"textposition\": \"auto\", \"type\": \"bar\", \"x\": [\"Nuwan Kulasekara\"], \"xaxis\": \"x\", \"y\": [38317.2687895596], \"yaxis\": \"y\"}, {\"alignmentgroup\": \"True\", \"hovertemplate\": \"name=%{x}<br>predicted_prices=%{y}<extra></extra>\", \"legendgroup\": \"Wriddhiman Saha\", \"marker\": {\"color\": \"#FF6692\"}, \"name\": \"Wriddhiman Saha\", \"offsetgroup\": \"Wriddhiman Saha\", \"orientation\": \"v\", \"showlegend\": true, \"textposition\": \"auto\", \"type\": \"bar\", \"x\": [\"Wriddhiman Saha\"], \"xaxis\": \"x\", \"y\": [732058.600642957], \"yaxis\": \"y\"}, {\"alignmentgroup\": \"True\", \"hovertemplate\": \"name=%{x}<br>predicted_prices=%{y}<extra></extra>\", \"legendgroup\": \"Clint McKay\", \"marker\": {\"color\": \"#B6E880\"}, \"name\": \"Clint McKay\", \"offsetgroup\": \"Clint McKay\", \"orientation\": \"v\", \"showlegend\": true, \"textposition\": \"auto\", \"type\": \"bar\", \"x\": [\"Clint McKay\"], \"xaxis\": \"x\", \"y\": [-13021.441088980413], \"yaxis\": \"y\"}, {\"alignmentgroup\": \"True\", \"hovertemplate\": \"name=%{x}<br>predicted_prices=%{y}<extra></extra>\", \"legendgroup\": \"Faf du Plessis\", \"marker\": {\"color\": \"#FF97FF\"}, \"name\": \"Faf du Plessis\", \"offsetgroup\": \"Faf du Plessis\", \"orientation\": \"v\", \"showlegend\": true, \"textposition\": \"auto\", \"type\": \"bar\", \"x\": [\"Faf du Plessis\"], \"xaxis\": \"x\", \"y\": [204316.56066728325], \"yaxis\": \"y\"}, {\"alignmentgroup\": \"True\", \"hovertemplate\": \"name=%{x}<br>predicted_prices=%{y}<extra></extra>\", \"legendgroup\": \"Mohammad Kaif\", \"marker\": {\"color\": \"#FECB52\"}, \"name\": \"Mohammad Kaif\", \"offsetgroup\": \"Mohammad Kaif\", \"orientation\": \"v\", \"showlegend\": true, \"textposition\": \"auto\", \"type\": \"bar\", \"x\": [\"Mohammad Kaif\"], \"xaxis\": \"x\", \"y\": [579728.3196687874], \"yaxis\": \"y\"}, {\"alignmentgroup\": \"True\", \"hovertemplate\": \"name=%{x}<br>predicted_prices=%{y}<extra></extra>\", \"legendgroup\": \"Charl Langeveldt\", \"marker\": {\"color\": \"#636efa\"}, \"name\": \"Charl Langeveldt\", \"offsetgroup\": \"Charl Langeveldt\", \"orientation\": \"v\", \"showlegend\": true, \"textposition\": \"auto\", \"type\": \"bar\", \"x\": [\"Charl Langeveldt\"], \"xaxis\": \"x\", \"y\": [124996.271157877], \"yaxis\": \"y\"}, {\"alignmentgroup\": \"True\", \"hovertemplate\": \"name=%{x}<br>predicted_prices=%{y}<extra></extra>\", \"legendgroup\": \"Jesse Ryder\", \"marker\": {\"color\": \"#EF553B\"}, \"name\": \"Jesse Ryder\", \"offsetgroup\": \"Jesse Ryder\", \"orientation\": \"v\", \"showlegend\": true, \"textposition\": \"auto\", \"type\": \"bar\", \"x\": [\"Jesse Ryder\"], \"xaxis\": \"x\", \"y\": [100929.5946993021], \"yaxis\": \"y\"}, {\"alignmentgroup\": \"True\", \"hovertemplate\": \"name=%{x}<br>predicted_prices=%{y}<extra></extra>\", \"legendgroup\": \"Joginder Sharma\", \"marker\": {\"color\": \"#00cc96\"}, \"name\": \"Joginder Sharma\", \"offsetgroup\": \"Joginder Sharma\", \"orientation\": \"v\", \"showlegend\": true, \"textposition\": \"auto\", \"type\": \"bar\", \"x\": [\"Joginder Sharma\"], \"xaxis\": \"x\", \"y\": [448460.1494427417], \"yaxis\": \"y\"}, {\"alignmentgroup\": \"True\", \"hovertemplate\": \"name=%{x}<br>predicted_prices=%{y}<extra></extra>\", \"legendgroup\": \"Ryan ten Doeschate\", \"marker\": {\"color\": \"#ab63fa\"}, \"name\": \"Ryan ten Doeschate\", \"offsetgroup\": \"Ryan ten Doeschate\", \"orientation\": \"v\", \"showlegend\": true, \"textposition\": \"auto\", \"type\": \"bar\", \"x\": [\"Ryan ten Doeschate\"], \"xaxis\": \"x\", \"y\": [404757.71635167045], \"yaxis\": \"y\"}, {\"alignmentgroup\": \"True\", \"hovertemplate\": \"name=%{x}<br>predicted_prices=%{y}<extra></extra>\", \"legendgroup\": \"Wayne Parnell\", \"marker\": {\"color\": \"#FFA15A\"}, \"name\": \"Wayne Parnell\", \"offsetgroup\": \"Wayne Parnell\", \"orientation\": \"v\", \"showlegend\": true, \"textposition\": \"auto\", \"type\": \"bar\", \"x\": [\"Wayne Parnell\"], \"xaxis\": \"x\", \"y\": [117766.08777333795], \"yaxis\": \"y\"}, {\"alignmentgroup\": \"True\", \"hovertemplate\": \"name=%{x}<br>predicted_prices=%{y}<extra></extra>\", \"legendgroup\": \"Davy Jacobs\", \"marker\": {\"color\": \"#19d3f3\"}, \"name\": \"Davy Jacobs\", \"offsetgroup\": \"Davy Jacobs\", \"orientation\": \"v\", \"showlegend\": true, \"textposition\": \"auto\", \"type\": \"bar\", \"x\": [\"Davy Jacobs\"], \"xaxis\": \"x\", \"y\": [311102.14631431364], \"yaxis\": \"y\"}, {\"alignmentgroup\": \"True\", \"hovertemplate\": \"name=%{x}<br>predicted_prices=%{y}<extra></extra>\", \"legendgroup\": \"Dwayne Bravo\", \"marker\": {\"color\": \"#FF6692\"}, \"name\": \"Dwayne Bravo\", \"offsetgroup\": \"Dwayne Bravo\", \"orientation\": \"v\", \"showlegend\": true, \"textposition\": \"auto\", \"type\": \"bar\", \"x\": [\"Dwayne Bravo\"], \"xaxis\": \"x\", \"y\": [778003.52625604], \"yaxis\": \"y\"}, {\"alignmentgroup\": \"True\", \"hovertemplate\": \"name=%{x}<br>predicted_prices=%{y}<extra></extra>\", \"legendgroup\": \"Owais Shah\", \"marker\": {\"color\": \"#B6E880\"}, \"name\": \"Owais Shah\", \"offsetgroup\": \"Owais Shah\", \"orientation\": \"v\", \"showlegend\": true, \"textposition\": \"auto\", \"type\": \"bar\", \"x\": [\"Owais Shah\"], \"xaxis\": \"x\", \"y\": [730911.7544392744], \"yaxis\": \"y\"}, {\"alignmentgroup\": \"True\", \"hovertemplate\": \"name=%{x}<br>predicted_prices=%{y}<extra></extra>\", \"legendgroup\": \"Scott Styris\", \"marker\": {\"color\": \"#FF97FF\"}, \"name\": \"Scott Styris\", \"offsetgroup\": \"Scott Styris\", \"orientation\": \"v\", \"showlegend\": true, \"textposition\": \"auto\", \"type\": \"bar\", \"x\": [\"Scott Styris\"], \"xaxis\": \"x\", \"y\": [489231.5296371589], \"yaxis\": \"y\"}, {\"alignmentgroup\": \"True\", \"hovertemplate\": \"name=%{x}<br>predicted_prices=%{y}<extra></extra>\", \"legendgroup\": \"Steven Smith\", \"marker\": {\"color\": \"#FECB52\"}, \"name\": \"Steven Smith\", \"offsetgroup\": \"Steven Smith\", \"orientation\": \"v\", \"showlegend\": true, \"textposition\": \"auto\", \"type\": \"bar\", \"x\": [\"Steven Smith\"], \"xaxis\": \"x\", \"y\": [124577.10325529064], \"yaxis\": \"y\"}, {\"alignmentgroup\": \"True\", \"hovertemplate\": \"name=%{x}<br>predicted_prices=%{y}<extra></extra>\", \"legendgroup\": \"Ajit Agarkar\", \"marker\": {\"color\": \"#636efa\"}, \"name\": \"Ajit Agarkar\", \"offsetgroup\": \"Ajit Agarkar\", \"orientation\": \"v\", \"showlegend\": true, \"textposition\": \"auto\", \"type\": \"bar\", \"x\": [\"Ajit Agarkar\"], \"xaxis\": \"x\", \"y\": [815779.1214226376], \"yaxis\": \"y\"}, {\"alignmentgroup\": \"True\", \"hovertemplate\": \"name=%{x}<br>predicted_prices=%{y}<extra></extra>\", \"legendgroup\": \"Sudeep Tyagi\", \"marker\": {\"color\": \"#EF553B\"}, \"name\": \"Sudeep Tyagi\", \"offsetgroup\": \"Sudeep Tyagi\", \"orientation\": \"v\", \"showlegend\": true, \"textposition\": \"auto\", \"type\": \"bar\", \"x\": [\"Sudeep Tyagi\"], \"xaxis\": \"x\", \"y\": [820837.0374528125], \"yaxis\": \"y\"}, {\"alignmentgroup\": \"True\", \"hovertemplate\": \"name=%{x}<br>predicted_prices=%{y}<extra></extra>\", \"legendgroup\": \"Jaidev Unadkat\", \"marker\": {\"color\": \"#00cc96\"}, \"name\": \"Jaidev Unadkat\", \"offsetgroup\": \"Jaidev Unadkat\", \"orientation\": \"v\", \"showlegend\": true, \"textposition\": \"auto\", \"type\": \"bar\", \"x\": [\"Jaidev Unadkat\"], \"xaxis\": \"x\", \"y\": [466339.985747205], \"yaxis\": \"y\"}, {\"alignmentgroup\": \"True\", \"hovertemplate\": \"name=%{x}<br>predicted_prices=%{y}<extra></extra>\", \"legendgroup\": \"Paul Collingwood\", \"marker\": {\"color\": \"#ab63fa\"}, \"name\": \"Paul Collingwood\", \"offsetgroup\": \"Paul Collingwood\", \"orientation\": \"v\", \"showlegend\": true, \"textposition\": \"auto\", \"type\": \"bar\", \"x\": [\"Paul Collingwood\"], \"xaxis\": \"x\", \"y\": [442096.6539405141], \"yaxis\": \"y\"}, {\"alignmentgroup\": \"True\", \"hovertemplate\": \"name=%{x}<br>predicted_prices=%{y}<extra></extra>\", \"legendgroup\": \"Naman Ojha\", \"marker\": {\"color\": \"#FFA15A\"}, \"name\": \"Naman Ojha\", \"offsetgroup\": \"Naman Ojha\", \"orientation\": \"v\", \"showlegend\": true, \"textposition\": \"auto\", \"type\": \"bar\", \"x\": [\"Naman Ojha\"], \"xaxis\": \"x\", \"y\": [744319.5158051455], \"yaxis\": \"y\"}, {\"alignmentgroup\": \"True\", \"hovertemplate\": \"name=%{x}<br>predicted_prices=%{y}<extra></extra>\", \"legendgroup\": \"Tim Paine\", \"marker\": {\"color\": \"#19d3f3\"}, \"name\": \"Tim Paine\", \"offsetgroup\": \"Tim Paine\", \"orientation\": \"v\", \"showlegend\": true, \"textposition\": \"auto\", \"type\": \"bar\", \"x\": [\"Tim Paine\"], \"xaxis\": \"x\", \"y\": [130277.1081124012], \"yaxis\": \"y\"}, {\"alignmentgroup\": \"True\", \"hovertemplate\": \"name=%{x}<br>predicted_prices=%{y}<extra></extra>\", \"legendgroup\": \"Manpreet Gony\", \"marker\": {\"color\": \"#FF6692\"}, \"name\": \"Manpreet Gony\", \"offsetgroup\": \"Manpreet Gony\", \"orientation\": \"v\", \"showlegend\": true, \"textposition\": \"auto\", \"type\": \"bar\", \"x\": [\"Manpreet Gony\"], \"xaxis\": \"x\", \"y\": [531809.9168949616], \"yaxis\": \"y\"}, {\"alignmentgroup\": \"True\", \"hovertemplate\": \"name=%{x}<br>predicted_prices=%{y}<extra></extra>\", \"legendgroup\": \"Parthiv Patel\", \"marker\": {\"color\": \"#B6E880\"}, \"name\": \"Parthiv Patel\", \"offsetgroup\": \"Parthiv Patel\", \"orientation\": \"v\", \"showlegend\": true, \"textposition\": \"auto\", \"type\": \"bar\", \"x\": [\"Parthiv Patel\"], \"xaxis\": \"x\", \"y\": [406689.2711850549], \"yaxis\": \"y\"}, {\"alignmentgroup\": \"True\", \"hovertemplate\": \"name=%{x}<br>predicted_prices=%{y}<extra></extra>\", \"legendgroup\": \"Aaron Finch\", \"marker\": {\"color\": \"#FF97FF\"}, \"name\": \"Aaron Finch\", \"offsetgroup\": \"Aaron Finch\", \"orientation\": \"v\", \"showlegend\": true, \"textposition\": \"auto\", \"type\": \"bar\", \"x\": [\"Aaron Finch\"], \"xaxis\": \"x\", \"y\": [291815.59531456424], \"yaxis\": \"y\"}, {\"alignmentgroup\": \"True\", \"hovertemplate\": \"name=%{x}<br>predicted_prices=%{y}<extra></extra>\", \"legendgroup\": \"Amit Mishra\", \"marker\": {\"color\": \"#FECB52\"}, \"name\": \"Amit Mishra\", \"offsetgroup\": \"Amit Mishra\", \"orientation\": \"v\", \"showlegend\": true, \"textposition\": \"auto\", \"type\": \"bar\", \"x\": [\"Amit Mishra\"], \"xaxis\": \"x\", \"y\": [863063.7884397672], \"yaxis\": \"y\"}, {\"alignmentgroup\": \"True\", \"hovertemplate\": \"name=%{x}<br>predicted_prices=%{y}<extra></extra>\", \"legendgroup\": \"Callum Ferguson\", \"marker\": {\"color\": \"#636efa\"}, \"name\": \"Callum Ferguson\", \"offsetgroup\": \"Callum Ferguson\", \"orientation\": \"v\", \"showlegend\": true, \"textposition\": \"auto\", \"type\": \"bar\", \"x\": [\"Callum Ferguson\"], \"xaxis\": \"x\", \"y\": [207675.58330574926], \"yaxis\": \"y\"}, {\"alignmentgroup\": \"True\", \"hovertemplate\": \"name=%{x}<br>predicted_prices=%{y}<extra></extra>\", \"legendgroup\": \"JP Duminy\", \"marker\": {\"color\": \"#EF553B\"}, \"name\": \"JP Duminy\", \"offsetgroup\": \"JP Duminy\", \"orientation\": \"v\", \"showlegend\": true, \"textposition\": \"auto\", \"type\": \"bar\", \"x\": [\"JP Duminy\"], \"xaxis\": \"x\", \"y\": [835348.1921404419], \"yaxis\": \"y\"}, {\"alignmentgroup\": \"True\", \"hovertemplate\": \"name=%{x}<br>predicted_prices=%{y}<extra></extra>\", \"legendgroup\": \"Shaun Tait\", \"marker\": {\"color\": \"#00cc96\"}, \"name\": \"Shaun Tait\", \"offsetgroup\": \"Shaun Tait\", \"orientation\": \"v\", \"showlegend\": true, \"textposition\": \"auto\", \"type\": \"bar\", \"x\": [\"Shaun Tait\"], \"xaxis\": \"x\", \"y\": [223673.10420346487], \"yaxis\": \"y\"}, {\"alignmentgroup\": \"True\", \"hovertemplate\": \"name=%{x}<br>predicted_prices=%{y}<extra></extra>\", \"legendgroup\": \"Shikhar Dhawan\", \"marker\": {\"color\": \"#ab63fa\"}, \"name\": \"Shikhar Dhawan\", \"offsetgroup\": \"Shikhar Dhawan\", \"orientation\": \"v\", \"showlegend\": true, \"textposition\": \"auto\", \"type\": \"bar\", \"x\": [\"Shikhar Dhawan\"], \"xaxis\": \"x\", \"y\": [787164.5684803431], \"yaxis\": \"y\"}, {\"alignmentgroup\": \"True\", \"hovertemplate\": \"name=%{x}<br>predicted_prices=%{y}<extra></extra>\", \"legendgroup\": \"Brad Haddin\", \"marker\": {\"color\": \"#FFA15A\"}, \"name\": \"Brad Haddin\", \"offsetgroup\": \"Brad Haddin\", \"orientation\": \"v\", \"showlegend\": true, \"textposition\": \"auto\", \"type\": \"bar\", \"x\": [\"Brad Haddin\"], \"xaxis\": \"x\", \"y\": [189110.5977541361], \"yaxis\": \"y\"}, {\"alignmentgroup\": \"True\", \"hovertemplate\": \"name=%{x}<br>predicted_prices=%{y}<extra></extra>\", \"legendgroup\": \"Ryan Harris\", \"marker\": {\"color\": \"#19d3f3\"}, \"name\": \"Ryan Harris\", \"offsetgroup\": \"Ryan Harris\", \"orientation\": \"v\", \"showlegend\": true, \"textposition\": \"auto\", \"type\": \"bar\", \"x\": [\"Ryan Harris\"], \"xaxis\": \"x\", \"y\": [190651.02827377387], \"yaxis\": \"y\"}, {\"alignmentgroup\": \"True\", \"hovertemplate\": \"name=%{x}<br>predicted_prices=%{y}<extra></extra>\", \"legendgroup\": \"Eoin Morgan\", \"marker\": {\"color\": \"#FF6692\"}, \"name\": \"Eoin Morgan\", \"offsetgroup\": \"Eoin Morgan\", \"orientation\": \"v\", \"showlegend\": true, \"textposition\": \"auto\", \"type\": \"bar\", \"x\": [\"Eoin Morgan\"], \"xaxis\": \"x\", \"y\": [478602.21135555784], \"yaxis\": \"y\"}, {\"alignmentgroup\": \"True\", \"hovertemplate\": \"name=%{x}<br>predicted_prices=%{y}<extra></extra>\", \"legendgroup\": \"James Hopes\", \"marker\": {\"color\": \"#B6E880\"}, \"name\": \"James Hopes\", \"offsetgroup\": \"James Hopes\", \"orientation\": \"v\", \"showlegend\": true, \"textposition\": \"auto\", \"type\": \"bar\", \"x\": [\"James Hopes\"], \"xaxis\": \"x\", \"y\": [133187.51986044188], \"yaxis\": \"y\"}, {\"alignmentgroup\": \"True\", \"hovertemplate\": \"name=%{x}<br>predicted_prices=%{y}<extra></extra>\", \"legendgroup\": \"Ashok Dinda\", \"marker\": {\"color\": \"#FF97FF\"}, \"name\": \"Ashok Dinda\", \"offsetgroup\": \"Ashok Dinda\", \"orientation\": \"v\", \"showlegend\": true, \"textposition\": \"auto\", \"type\": \"bar\", \"x\": [\"Ashok Dinda\"], \"xaxis\": \"x\", \"y\": [396489.06622991065], \"yaxis\": \"y\"}, {\"alignmentgroup\": \"True\", \"hovertemplate\": \"name=%{x}<br>predicted_prices=%{y}<extra></extra>\", \"legendgroup\": \"Brett Lee\", \"marker\": {\"color\": \"#FECB52\"}, \"name\": \"Brett Lee\", \"offsetgroup\": \"Brett Lee\", \"orientation\": \"v\", \"showlegend\": true, \"textposition\": \"auto\", \"type\": \"bar\", \"x\": [\"Brett Lee\"], \"xaxis\": \"x\", \"y\": [561702.7912037189], \"yaxis\": \"y\"}, {\"alignmentgroup\": \"True\", \"hovertemplate\": \"name=%{x}<br>predicted_prices=%{y}<extra></extra>\", \"legendgroup\": \"Murali Kartik\", \"marker\": {\"color\": \"#636efa\"}, \"name\": \"Murali Kartik\", \"offsetgroup\": \"Murali Kartik\", \"orientation\": \"v\", \"showlegend\": true, \"textposition\": \"auto\", \"type\": \"bar\", \"x\": [\"Murali Kartik\"], \"xaxis\": \"x\", \"y\": [1010850.4429499257], \"yaxis\": \"y\"}, {\"alignmentgroup\": \"True\", \"hovertemplate\": \"name=%{x}<br>predicted_prices=%{y}<extra></extra>\", \"legendgroup\": \"Shaun Marsh\", \"marker\": {\"color\": \"#EF553B\"}, \"name\": \"Shaun Marsh\", \"offsetgroup\": \"Shaun Marsh\", \"orientation\": \"v\", \"showlegend\": true, \"textposition\": \"auto\", \"type\": \"bar\", \"x\": [\"Shaun Marsh\"], \"xaxis\": \"x\", \"y\": [596322.408359047], \"yaxis\": \"y\"}, {\"alignmentgroup\": \"True\", \"hovertemplate\": \"name=%{x}<br>predicted_prices=%{y}<extra></extra>\", \"legendgroup\": \"Stuart Broad\", \"marker\": {\"color\": \"#00cc96\"}, \"name\": \"Stuart Broad\", \"offsetgroup\": \"Stuart Broad\", \"orientation\": \"v\", \"showlegend\": true, \"textposition\": \"auto\", \"type\": \"bar\", \"x\": [\"Stuart Broad\"], \"xaxis\": \"x\", \"y\": [123622.12401733176], \"yaxis\": \"y\"}, {\"alignmentgroup\": \"True\", \"hovertemplate\": \"name=%{x}<br>predicted_prices=%{y}<extra></extra>\", \"legendgroup\": \"VVS Laxman\", \"marker\": {\"color\": \"#ab63fa\"}, \"name\": \"VVS Laxman\", \"offsetgroup\": \"VVS Laxman\", \"orientation\": \"v\", \"showlegend\": true, \"textposition\": \"auto\", \"type\": \"bar\", \"x\": [\"VVS Laxman\"], \"xaxis\": \"x\", \"y\": [654088.5155355161], \"yaxis\": \"y\"}, {\"alignmentgroup\": \"True\", \"hovertemplate\": \"name=%{x}<br>predicted_prices=%{y}<extra></extra>\", \"legendgroup\": \"Brad Hodge\", \"marker\": {\"color\": \"#FFA15A\"}, \"name\": \"Brad Hodge\", \"offsetgroup\": \"Brad Hodge\", \"orientation\": \"v\", \"showlegend\": true, \"textposition\": \"auto\", \"type\": \"bar\", \"x\": [\"Brad Hodge\"], \"xaxis\": \"x\", \"y\": [795271.738971676], \"yaxis\": \"y\"}, {\"alignmentgroup\": \"True\", \"hovertemplate\": \"name=%{x}<br>predicted_prices=%{y}<extra></extra>\", \"legendgroup\": \"Michael Hussey\", \"marker\": {\"color\": \"#19d3f3\"}, \"name\": \"Michael Hussey\", \"offsetgroup\": \"Michael Hussey\", \"orientation\": \"v\", \"showlegend\": true, \"textposition\": \"auto\", \"type\": \"bar\", \"x\": [\"Michael Hussey\"], \"xaxis\": \"x\", \"y\": [547347.7205695095], \"yaxis\": \"y\"}, {\"alignmentgroup\": \"True\", \"hovertemplate\": \"name=%{x}<br>predicted_prices=%{y}<extra></extra>\", \"legendgroup\": \"Shakib Al Hasan\", \"marker\": {\"color\": \"#FF6692\"}, \"name\": \"Shakib Al Hasan\", \"offsetgroup\": \"Shakib Al Hasan\", \"orientation\": \"v\", \"showlegend\": true, \"textposition\": \"auto\", \"type\": \"bar\", \"x\": [\"Shakib Al Hasan\"], \"xaxis\": \"x\", \"y\": [207376.27900744238], \"yaxis\": \"y\"}, {\"alignmentgroup\": \"True\", \"hovertemplate\": \"name=%{x}<br>predicted_prices=%{y}<extra></extra>\", \"legendgroup\": \"Ishant Sharma\", \"marker\": {\"color\": \"#B6E880\"}, \"name\": \"Ishant Sharma\", \"offsetgroup\": \"Ishant Sharma\", \"orientation\": \"v\", \"showlegend\": true, \"textposition\": \"auto\", \"type\": \"bar\", \"x\": [\"Ishant Sharma\"], \"xaxis\": \"x\", \"y\": [601378.5037716596], \"yaxis\": \"y\"}, {\"alignmentgroup\": \"True\", \"hovertemplate\": \"name=%{x}<br>predicted_prices=%{y}<extra></extra>\", \"legendgroup\": \"Brendon McCullum\", \"marker\": {\"color\": \"#FF97FF\"}, \"name\": \"Brendon McCullum\", \"offsetgroup\": \"Brendon McCullum\", \"orientation\": \"v\", \"showlegend\": true, \"textposition\": \"auto\", \"type\": \"bar\", \"x\": [\"Brendon McCullum\"], \"xaxis\": \"x\", \"y\": [371822.25791620265], \"yaxis\": \"y\"}, {\"alignmentgroup\": \"True\", \"hovertemplate\": \"name=%{x}<br>predicted_prices=%{y}<extra></extra>\", \"legendgroup\": \"Manoj Tiwary\", \"marker\": {\"color\": \"#FECB52\"}, \"name\": \"Manoj Tiwary\", \"offsetgroup\": \"Manoj Tiwary\", \"orientation\": \"v\", \"showlegend\": true, \"textposition\": \"auto\", \"type\": \"bar\", \"x\": [\"Manoj Tiwary\"], \"xaxis\": \"x\", \"y\": [1011549.3164939508], \"yaxis\": \"y\"}, {\"alignmentgroup\": \"True\", \"hovertemplate\": \"name=%{x}<br>predicted_prices=%{y}<extra></extra>\", \"legendgroup\": \"Morne Morkel\", \"marker\": {\"color\": \"#636efa\"}, \"name\": \"Morne Morkel\", \"offsetgroup\": \"Morne Morkel\", \"orientation\": \"v\", \"showlegend\": true, \"textposition\": \"auto\", \"type\": \"bar\", \"x\": [\"Morne Morkel\"], \"xaxis\": \"x\", \"y\": [306779.04749082145], \"yaxis\": \"y\"}, {\"alignmentgroup\": \"True\", \"hovertemplate\": \"name=%{x}<br>predicted_prices=%{y}<extra></extra>\", \"legendgroup\": \"Vinay Kumar\", \"marker\": {\"color\": \"#EF553B\"}, \"name\": \"Vinay Kumar\", \"offsetgroup\": \"Vinay Kumar\", \"orientation\": \"v\", \"showlegend\": true, \"textposition\": \"auto\", \"type\": \"bar\", \"x\": [\"Vinay Kumar\"], \"xaxis\": \"x\", \"y\": [547466.3126622383], \"yaxis\": \"y\"}, {\"alignmentgroup\": \"True\", \"hovertemplate\": \"name=%{x}<br>predicted_prices=%{y}<extra></extra>\", \"legendgroup\": \"Albie Morkel (retained)\", \"marker\": {\"color\": \"#00cc96\"}, \"name\": \"Albie Morkel (retained)\", \"offsetgroup\": \"Albie Morkel (retained)\", \"orientation\": \"v\", \"showlegend\": true, \"textposition\": \"auto\", \"type\": \"bar\", \"x\": [\"Albie Morkel (retained)\"], \"xaxis\": \"x\", \"y\": [977751.3077189943], \"yaxis\": \"y\"}, {\"alignmentgroup\": \"True\", \"hovertemplate\": \"name=%{x}<br>predicted_prices=%{y}<extra></extra>\", \"legendgroup\": \"Graeme Smith\", \"marker\": {\"color\": \"#ab63fa\"}, \"name\": \"Graeme Smith\", \"offsetgroup\": \"Graeme Smith\", \"orientation\": \"v\", \"showlegend\": true, \"textposition\": \"auto\", \"type\": \"bar\", \"x\": [\"Graeme Smith\"], \"xaxis\": \"x\", \"y\": [426214.7308123268], \"yaxis\": \"y\"}, {\"alignmentgroup\": \"True\", \"hovertemplate\": \"name=%{x}<br>predicted_prices=%{y}<extra></extra>\", \"legendgroup\": \"L Balaji\", \"marker\": {\"color\": \"#FFA15A\"}, \"name\": \"L Balaji\", \"offsetgroup\": \"L Balaji\", \"orientation\": \"v\", \"showlegend\": true, \"textposition\": \"auto\", \"type\": \"bar\", \"x\": [\"L Balaji\"], \"xaxis\": \"x\", \"y\": [468971.57117613935], \"yaxis\": \"y\"}, {\"alignmentgroup\": \"True\", \"hovertemplate\": \"name=%{x}<br>predicted_prices=%{y}<extra></extra>\", \"legendgroup\": \"Lasith Malinga (retained)\", \"marker\": {\"color\": \"#19d3f3\"}, \"name\": \"Lasith Malinga (retained)\", \"offsetgroup\": \"Lasith Malinga (retained)\", \"orientation\": \"v\", \"showlegend\": true, \"textposition\": \"auto\", \"type\": \"bar\", \"x\": [\"Lasith Malinga (retained)\"], \"xaxis\": \"x\", \"y\": [486568.86112895], \"yaxis\": \"y\"}, {\"alignmentgroup\": \"True\", \"hovertemplate\": \"name=%{x}<br>predicted_prices=%{y}<extra></extra>\", \"legendgroup\": \"Pragyan Ojha\", \"marker\": {\"color\": \"#FF6692\"}, \"name\": \"Pragyan Ojha\", \"offsetgroup\": \"Pragyan Ojha\", \"orientation\": \"v\", \"showlegend\": true, \"textposition\": \"auto\", \"type\": \"bar\", \"x\": [\"Pragyan Ojha\"], \"xaxis\": \"x\", \"y\": [769745.6100987038], \"yaxis\": \"y\"}, {\"alignmentgroup\": \"True\", \"hovertemplate\": \"name=%{x}<br>predicted_prices=%{y}<extra></extra>\", \"legendgroup\": \"Rahul Dravid\", \"marker\": {\"color\": \"#B6E880\"}, \"name\": \"Rahul Dravid\", \"offsetgroup\": \"Rahul Dravid\", \"orientation\": \"v\", \"showlegend\": true, \"textposition\": \"auto\", \"type\": \"bar\", \"x\": [\"Rahul Dravid\"], \"xaxis\": \"x\", \"y\": [1015517.9939483636], \"yaxis\": \"y\"}, {\"alignmentgroup\": \"True\", \"hovertemplate\": \"name=%{x}<br>predicted_prices=%{y}<extra></extra>\", \"legendgroup\": \"RP Singh\", \"marker\": {\"color\": \"#FF97FF\"}, \"name\": \"RP Singh\", \"offsetgroup\": \"RP Singh\", \"orientation\": \"v\", \"showlegend\": true, \"textposition\": \"auto\", \"type\": \"bar\", \"x\": [\"RP Singh\"], \"xaxis\": \"x\", \"y\": [361661.4288279139], \"yaxis\": \"y\"}, {\"alignmentgroup\": \"True\", \"hovertemplate\": \"name=%{x}<br>predicted_prices=%{y}<extra></extra>\", \"legendgroup\": \"Daniel Vettori\", \"marker\": {\"color\": \"#FECB52\"}, \"name\": \"Daniel Vettori\", \"offsetgroup\": \"Daniel Vettori\", \"orientation\": \"v\", \"showlegend\": true, \"textposition\": \"auto\", \"type\": \"bar\", \"x\": [\"Daniel Vettori\"], \"xaxis\": \"x\", \"y\": [1184484.9115005084], \"yaxis\": \"y\"}, {\"alignmentgroup\": \"True\", \"hovertemplate\": \"name=%{x}<br>predicted_prices=%{y}<extra></extra>\", \"legendgroup\": \"Dirk Nannes\", \"marker\": {\"color\": \"#636efa\"}, \"name\": \"Dirk Nannes\", \"offsetgroup\": \"Dirk Nannes\", \"orientation\": \"v\", \"showlegend\": true, \"textposition\": \"auto\", \"type\": \"bar\", \"x\": [\"Dirk Nannes\"], \"xaxis\": \"x\", \"y\": [395095.44891418226], \"yaxis\": \"y\"}, {\"alignmentgroup\": \"True\", \"hovertemplate\": \"name=%{x}<br>predicted_prices=%{y}<extra></extra>\", \"legendgroup\": \"Kevin Pietersen\", \"marker\": {\"color\": \"#EF553B\"}, \"name\": \"Kevin Pietersen\", \"offsetgroup\": \"Kevin Pietersen\", \"orientation\": \"v\", \"showlegend\": true, \"textposition\": \"auto\", \"type\": \"bar\", \"x\": [\"Kevin Pietersen\"], \"xaxis\": \"x\", \"y\": [772926.024732983], \"yaxis\": \"y\"}, {\"alignmentgroup\": \"True\", \"hovertemplate\": \"name=%{x}<br>predicted_prices=%{y}<extra></extra>\", \"legendgroup\": \"Tillakaratne Dilshan\", \"marker\": {\"color\": \"#00cc96\"}, \"name\": \"Tillakaratne Dilshan\", \"offsetgroup\": \"Tillakaratne Dilshan\", \"orientation\": \"v\", \"showlegend\": true, \"textposition\": \"auto\", \"type\": \"bar\", \"x\": [\"Tillakaratne Dilshan\"], \"xaxis\": \"x\", \"y\": [456741.9056229128], \"yaxis\": \"y\"}, {\"alignmentgroup\": \"True\", \"hovertemplate\": \"name=%{x}<br>predicted_prices=%{y}<extra></extra>\", \"legendgroup\": \"Cheteshwar Pujara\", \"marker\": {\"color\": \"#ab63fa\"}, \"name\": \"Cheteshwar Pujara\", \"offsetgroup\": \"Cheteshwar Pujara\", \"orientation\": \"v\", \"showlegend\": true, \"textposition\": \"auto\", \"type\": \"bar\", \"x\": [\"Cheteshwar Pujara\"], \"xaxis\": \"x\", \"y\": [459790.002791161], \"yaxis\": \"y\"}, {\"alignmentgroup\": \"True\", \"hovertemplate\": \"name=%{x}<br>predicted_prices=%{y}<extra></extra>\", \"legendgroup\": \"Doug Bollinger\", \"marker\": {\"color\": \"#FFA15A\"}, \"name\": \"Doug Bollinger\", \"offsetgroup\": \"Doug Bollinger\", \"orientation\": \"v\", \"showlegend\": true, \"textposition\": \"auto\", \"type\": \"bar\", \"x\": [\"Doug Bollinger\"], \"xaxis\": \"x\", \"y\": [205545.4934415709], \"yaxis\": \"y\"}, {\"alignmentgroup\": \"True\", \"hovertemplate\": \"name=%{x}<br>predicted_prices=%{y}<extra></extra>\", \"legendgroup\": \"Kumar Sangakkara\", \"marker\": {\"color\": \"#19d3f3\"}, \"name\": \"Kumar Sangakkara\", \"offsetgroup\": \"Kumar Sangakkara\", \"orientation\": \"v\", \"showlegend\": true, \"textposition\": \"auto\", \"type\": \"bar\", \"x\": [\"Kumar Sangakkara\"], \"xaxis\": \"x\", \"y\": [1538212.8906050476], \"yaxis\": \"y\"}, {\"alignmentgroup\": \"True\", \"hovertemplate\": \"name=%{x}<br>predicted_prices=%{y}<extra></extra>\", \"legendgroup\": \"Munaf Patel\", \"marker\": {\"color\": \"#FF6692\"}, \"name\": \"Munaf Patel\", \"offsetgroup\": \"Munaf Patel\", \"orientation\": \"v\", \"showlegend\": true, \"textposition\": \"auto\", \"type\": \"bar\", \"x\": [\"Munaf Patel\"], \"xaxis\": \"x\", \"y\": [549959.9535897818], \"yaxis\": \"y\"}, {\"alignmentgroup\": \"True\", \"hovertemplate\": \"name=%{x}<br>predicted_prices=%{y}<extra></extra>\", \"legendgroup\": \"Venugopal Rao\", \"marker\": {\"color\": \"#B6E880\"}, \"name\": \"Venugopal Rao\", \"offsetgroup\": \"Venugopal Rao\", \"orientation\": \"v\", \"showlegend\": true, \"textposition\": \"auto\", \"type\": \"bar\", \"x\": [\"Venugopal Rao\"], \"xaxis\": \"x\", \"y\": [622666.9335429146], \"yaxis\": \"y\"}, {\"alignmentgroup\": \"True\", \"hovertemplate\": \"name=%{x}<br>predicted_prices=%{y}<extra></extra>\", \"legendgroup\": \"David Warner\", \"marker\": {\"color\": \"#FF97FF\"}, \"name\": \"David Warner\", \"offsetgroup\": \"David Warner\", \"orientation\": \"v\", \"showlegend\": true, \"textposition\": \"auto\", \"type\": \"bar\", \"x\": [\"David Warner\"], \"xaxis\": \"x\", \"y\": [869121.9895878548], \"yaxis\": \"y\"}, {\"alignmentgroup\": \"True\", \"hovertemplate\": \"name=%{x}<br>predicted_prices=%{y}<extra></extra>\", \"legendgroup\": \"Abhishek Nayar\", \"marker\": {\"color\": \"#FECB52\"}, \"name\": \"Abhishek Nayar\", \"offsetgroup\": \"Abhishek Nayar\", \"orientation\": \"v\", \"showlegend\": true, \"textposition\": \"auto\", \"type\": \"bar\", \"x\": [\"Abhishek Nayar\"], \"xaxis\": \"x\", \"y\": [505905.88883792656], \"yaxis\": \"y\"}, {\"alignmentgroup\": \"True\", \"hovertemplate\": \"name=%{x}<br>predicted_prices=%{y}<extra></extra>\", \"legendgroup\": \"Praveen Kumar\", \"marker\": {\"color\": \"#636efa\"}, \"name\": \"Praveen Kumar\", \"offsetgroup\": \"Praveen Kumar\", \"orientation\": \"v\", \"showlegend\": true, \"textposition\": \"auto\", \"type\": \"bar\", \"x\": [\"Praveen Kumar\"], \"xaxis\": \"x\", \"y\": [939539.1223596841], \"yaxis\": \"y\"}, {\"alignmentgroup\": \"True\", \"hovertemplate\": \"name=%{x}<br>predicted_prices=%{y}<extra></extra>\", \"legendgroup\": \"Andrew Symonds\", \"marker\": {\"color\": \"#EF553B\"}, \"name\": \"Andrew Symonds\", \"offsetgroup\": \"Andrew Symonds\", \"orientation\": \"v\", \"showlegend\": true, \"textposition\": \"auto\", \"type\": \"bar\", \"x\": [\"Andrew Symonds\"], \"xaxis\": \"x\", \"y\": [1085023.3263494924], \"yaxis\": \"y\"}, {\"alignmentgroup\": \"True\", \"hovertemplate\": \"name=%{x}<br>predicted_prices=%{y}<extra></extra>\", \"legendgroup\": \"Ashish Nehra\", \"marker\": {\"color\": \"#00cc96\"}, \"name\": \"Ashish Nehra\", \"offsetgroup\": \"Ashish Nehra\", \"orientation\": \"v\", \"showlegend\": true, \"textposition\": \"auto\", \"type\": \"bar\", \"x\": [\"Ashish Nehra\"], \"xaxis\": \"x\", \"y\": [459513.3767876703], \"yaxis\": \"y\"}, {\"alignmentgroup\": \"True\", \"hovertemplate\": \"name=%{x}<br>predicted_prices=%{y}<extra></extra>\", \"legendgroup\": \"R Ashwin\", \"marker\": {\"color\": \"#ab63fa\"}, \"name\": \"R Ashwin\", \"offsetgroup\": \"R Ashwin\", \"orientation\": \"v\", \"showlegend\": true, \"textposition\": \"auto\", \"type\": \"bar\", \"x\": [\"R Ashwin\"], \"xaxis\": \"x\", \"y\": [1084735.434891864], \"yaxis\": \"y\"}, {\"alignmentgroup\": \"True\", \"hovertemplate\": \"name=%{x}<br>predicted_prices=%{y}<extra></extra>\", \"legendgroup\": \"S Badrinath\", \"marker\": {\"color\": \"#FFA15A\"}, \"name\": \"S Badrinath\", \"offsetgroup\": \"S Badrinath\", \"orientation\": \"v\", \"showlegend\": true, \"textposition\": \"auto\", \"type\": \"bar\", \"x\": [\"S Badrinath\"], \"xaxis\": \"x\", \"y\": [848123.3157071256], \"yaxis\": \"y\"}, {\"alignmentgroup\": \"True\", \"hovertemplate\": \"name=%{x}<br>predicted_prices=%{y}<extra></extra>\", \"legendgroup\": \"Adam Gilchrist\", \"marker\": {\"color\": \"#19d3f3\"}, \"name\": \"Adam Gilchrist\", \"offsetgroup\": \"Adam Gilchrist\", \"orientation\": \"v\", \"showlegend\": true, \"textposition\": \"auto\", \"type\": \"bar\", \"x\": [\"Adam Gilchrist\"], \"xaxis\": \"x\", \"y\": [1423433.6526224385], \"yaxis\": \"y\"}, {\"alignmentgroup\": \"True\", \"hovertemplate\": \"name=%{x}<br>predicted_prices=%{y}<extra></extra>\", \"legendgroup\": \"Daniel Christian\", \"marker\": {\"color\": \"#FF6692\"}, \"name\": \"Daniel Christian\", \"offsetgroup\": \"Daniel Christian\", \"orientation\": \"v\", \"showlegend\": true, \"textposition\": \"auto\", \"type\": \"bar\", \"x\": [\"Daniel Christian\"], \"xaxis\": \"x\", \"y\": [67370.2036948168], \"yaxis\": \"y\"}, {\"alignmentgroup\": \"True\", \"hovertemplate\": \"name=%{x}<br>predicted_prices=%{y}<extra></extra>\", \"legendgroup\": \"Dinesh Karthik\", \"marker\": {\"color\": \"#B6E880\"}, \"name\": \"Dinesh Karthik\", \"offsetgroup\": \"Dinesh Karthik\", \"orientation\": \"v\", \"showlegend\": true, \"textposition\": \"auto\", \"type\": \"bar\", \"x\": [\"Dinesh Karthik\"], \"xaxis\": \"x\", \"y\": [860178.0552066667], \"yaxis\": \"y\"}, {\"alignmentgroup\": \"True\", \"hovertemplate\": \"name=%{x}<br>predicted_prices=%{y}<extra></extra>\", \"legendgroup\": \"Kieron Pollard (retained)\", \"marker\": {\"color\": \"#FF97FF\"}, \"name\": \"Kieron Pollard (retained)\", \"offsetgroup\": \"Kieron Pollard (retained)\", \"orientation\": \"v\", \"showlegend\": true, \"textposition\": \"auto\", \"type\": \"bar\", \"x\": [\"Kieron Pollard (retained)\"], \"xaxis\": \"x\", \"y\": [980700.4073672376], \"yaxis\": \"y\"}, {\"alignmentgroup\": \"True\", \"hovertemplate\": \"name=%{x}<br>predicted_prices=%{y}<extra></extra>\", \"legendgroup\": \"M Vijay (retained)\", \"marker\": {\"color\": \"#FECB52\"}, \"name\": \"M Vijay (retained)\", \"offsetgroup\": \"M Vijay (retained)\", \"orientation\": \"v\", \"showlegend\": true, \"textposition\": \"auto\", \"type\": \"bar\", \"x\": [\"M Vijay (retained)\"], \"xaxis\": \"x\", \"y\": [1398467.4431242957], \"yaxis\": \"y\"}, {\"alignmentgroup\": \"True\", \"hovertemplate\": \"name=%{x}<br>predicted_prices=%{y}<extra></extra>\", \"legendgroup\": \"Piyush Chawla\", \"marker\": {\"color\": \"#636efa\"}, \"name\": \"Piyush Chawla\", \"offsetgroup\": \"Piyush Chawla\", \"orientation\": \"v\", \"showlegend\": true, \"textposition\": \"auto\", \"type\": \"bar\", \"x\": [\"Piyush Chawla\"], \"xaxis\": \"x\", \"y\": [974290.2678891692], \"yaxis\": \"y\"}, {\"alignmentgroup\": \"True\", \"hovertemplate\": \"name=%{x}<br>predicted_prices=%{y}<extra></extra>\", \"legendgroup\": \"Sreesanth\", \"marker\": {\"color\": \"#EF553B\"}, \"name\": \"Sreesanth\", \"offsetgroup\": \"Sreesanth\", \"orientation\": \"v\", \"showlegend\": true, \"textposition\": \"auto\", \"type\": \"bar\", \"x\": [\"Sreesanth\"], \"xaxis\": \"x\", \"y\": [611942.2860828206], \"yaxis\": \"y\"}, {\"alignmentgroup\": \"True\", \"hovertemplate\": \"name=%{x}<br>predicted_prices=%{y}<extra></extra>\", \"legendgroup\": \"Zaheer Khan\", \"marker\": {\"color\": \"#00cc96\"}, \"name\": \"Zaheer Khan\", \"offsetgroup\": \"Zaheer Khan\", \"orientation\": \"v\", \"showlegend\": true, \"textposition\": \"auto\", \"type\": \"bar\", \"x\": [\"Zaheer Khan\"], \"xaxis\": \"x\", \"y\": [644395.326946003], \"yaxis\": \"y\"}, {\"alignmentgroup\": \"True\", \"hovertemplate\": \"name=%{x}<br>predicted_prices=%{y}<extra></extra>\", \"legendgroup\": \"Angelo Mathews\", \"marker\": {\"color\": \"#ab63fa\"}, \"name\": \"Angelo Mathews\", \"offsetgroup\": \"Angelo Mathews\", \"orientation\": \"v\", \"showlegend\": true, \"textposition\": \"auto\", \"type\": \"bar\", \"x\": [\"Angelo Mathews\"], \"xaxis\": \"x\", \"y\": [834431.5824777788], \"yaxis\": \"y\"}, {\"alignmentgroup\": \"True\", \"hovertemplate\": \"name=%{x}<br>predicted_prices=%{y}<extra></extra>\", \"legendgroup\": \"Johan Botha\", \"marker\": {\"color\": \"#FFA15A\"}, \"name\": \"Johan Botha\", \"offsetgroup\": \"Johan Botha\", \"orientation\": \"v\", \"showlegend\": true, \"textposition\": \"auto\", \"type\": \"bar\", \"x\": [\"Johan Botha\"], \"xaxis\": \"x\", \"y\": [554652.9822879361], \"yaxis\": \"y\"}, {\"alignmentgroup\": \"True\", \"hovertemplate\": \"name=%{x}<br>predicted_prices=%{y}<extra></extra>\", \"legendgroup\": \"Ravindra Jadeja\", \"marker\": {\"color\": \"#19d3f3\"}, \"name\": \"Ravindra Jadeja\", \"offsetgroup\": \"Ravindra Jadeja\", \"orientation\": \"v\", \"showlegend\": true, \"textposition\": \"auto\", \"type\": \"bar\", \"x\": [\"Ravindra Jadeja\"], \"xaxis\": \"x\", \"y\": [599251.2940939199], \"yaxis\": \"y\"}, {\"alignmentgroup\": \"True\", \"hovertemplate\": \"name=%{x}<br>predicted_prices=%{y}<extra></extra>\", \"legendgroup\": \"Ross Taylor\", \"marker\": {\"color\": \"#FF6692\"}, \"name\": \"Ross Taylor\", \"offsetgroup\": \"Ross Taylor\", \"orientation\": \"v\", \"showlegend\": true, \"textposition\": \"auto\", \"type\": \"bar\", \"x\": [\"Ross Taylor\"], \"xaxis\": \"x\", \"y\": [622158.8692113282], \"yaxis\": \"y\"}, {\"alignmentgroup\": \"True\", \"hovertemplate\": \"name=%{x}<br>predicted_prices=%{y}<extra></extra>\", \"legendgroup\": \"AB de Villiers\", \"marker\": {\"color\": \"#B6E880\"}, \"name\": \"AB de Villiers\", \"offsetgroup\": \"AB de Villiers\", \"orientation\": \"v\", \"showlegend\": true, \"textposition\": \"auto\", \"type\": \"bar\", \"x\": [\"AB de Villiers\"], \"xaxis\": \"x\", \"y\": [509155.18727826007], \"yaxis\": \"y\"}, {\"alignmentgroup\": \"True\", \"hovertemplate\": \"name=%{x}<br>predicted_prices=%{y}<extra></extra>\", \"legendgroup\": \"Cameron White\", \"marker\": {\"color\": \"#FF97FF\"}, \"name\": \"Cameron White\", \"offsetgroup\": \"Cameron White\", \"orientation\": \"v\", \"showlegend\": true, \"textposition\": \"auto\", \"type\": \"bar\", \"x\": [\"Cameron White\"], \"xaxis\": \"x\", \"y\": [712161.4510511005], \"yaxis\": \"y\"}, {\"alignmentgroup\": \"True\", \"hovertemplate\": \"name=%{x}<br>predicted_prices=%{y}<extra></extra>\", \"legendgroup\": \"Jacques Kallis\", \"marker\": {\"color\": \"#FECB52\"}, \"name\": \"Jacques Kallis\", \"offsetgroup\": \"Jacques Kallis\", \"orientation\": \"v\", \"showlegend\": true, \"textposition\": \"auto\", \"type\": \"bar\", \"x\": [\"Jacques Kallis\"], \"xaxis\": \"x\", \"y\": [816486.0579023418], \"yaxis\": \"y\"}, {\"alignmentgroup\": \"True\", \"hovertemplate\": \"name=%{x}<br>predicted_prices=%{y}<extra></extra>\", \"legendgroup\": \"Muttiah Muralitharan\", \"marker\": {\"color\": \"#636efa\"}, \"name\": \"Muttiah Muralitharan\", \"offsetgroup\": \"Muttiah Muralitharan\", \"orientation\": \"v\", \"showlegend\": true, \"textposition\": \"auto\", \"type\": \"bar\", \"x\": [\"Muttiah Muralitharan\"], \"xaxis\": \"x\", \"y\": [635111.522901125], \"yaxis\": \"y\"}, {\"alignmentgroup\": \"True\", \"hovertemplate\": \"name=%{x}<br>predicted_prices=%{y}<extra></extra>\", \"legendgroup\": \"Dale Steyn\", \"marker\": {\"color\": \"#EF553B\"}, \"name\": \"Dale Steyn\", \"offsetgroup\": \"Dale Steyn\", \"orientation\": \"v\", \"showlegend\": true, \"textposition\": \"auto\", \"type\": \"bar\", \"x\": [\"Dale Steyn\"], \"xaxis\": \"x\", \"y\": [861285.2778290436], \"yaxis\": \"y\"}, {\"alignmentgroup\": \"True\", \"hovertemplate\": \"name=%{x}<br>predicted_prices=%{y}<extra></extra>\", \"legendgroup\": \"Harbhajan Singh (retained)\", \"marker\": {\"color\": \"#00cc96\"}, \"name\": \"Harbhajan Singh (retained)\", \"offsetgroup\": \"Harbhajan Singh (retained)\", \"orientation\": \"v\", \"showlegend\": true, \"textposition\": \"auto\", \"type\": \"bar\", \"x\": [\"Harbhajan Singh (retained)\"], \"xaxis\": \"x\", \"y\": [561345.2418166961], \"yaxis\": \"y\"}, {\"alignmentgroup\": \"True\", \"hovertemplate\": \"name=%{x}<br>predicted_prices=%{y}<extra></extra>\", \"legendgroup\": \"Shane Watson (retained)\", \"marker\": {\"color\": \"#ab63fa\"}, \"name\": \"Shane Watson (retained)\", \"offsetgroup\": \"Shane Watson (retained)\", \"orientation\": \"v\", \"showlegend\": true, \"textposition\": \"auto\", \"type\": \"bar\", \"x\": [\"Shane Watson (retained)\"], \"xaxis\": \"x\", \"y\": [789252.9914081873], \"yaxis\": \"y\"}, {\"alignmentgroup\": \"True\", \"hovertemplate\": \"name=%{x}<br>predicted_prices=%{y}<extra></extra>\", \"legendgroup\": \"Suresh Raina (retained)\", \"marker\": {\"color\": \"#FFA15A\"}, \"name\": \"Suresh Raina (retained)\", \"offsetgroup\": \"Suresh Raina (retained)\", \"orientation\": \"v\", \"showlegend\": true, \"textposition\": \"auto\", \"type\": \"bar\", \"x\": [\"Suresh Raina (retained)\"], \"xaxis\": \"x\", \"y\": [1516121.255254957], \"yaxis\": \"y\"}, {\"alignmentgroup\": \"True\", \"hovertemplate\": \"name=%{x}<br>predicted_prices=%{y}<extra></extra>\", \"legendgroup\": \"David Hussey\", \"marker\": {\"color\": \"#19d3f3\"}, \"name\": \"David Hussey\", \"offsetgroup\": \"David Hussey\", \"orientation\": \"v\", \"showlegend\": true, \"textposition\": \"auto\", \"type\": \"bar\", \"x\": [\"David Hussey\"], \"xaxis\": \"x\", \"y\": [1312577.9109164248], \"yaxis\": \"y\"}, {\"alignmentgroup\": \"True\", \"hovertemplate\": \"name=%{x}<br>predicted_prices=%{y}<extra></extra>\", \"legendgroup\": \"Mahela Jayawardene\", \"marker\": {\"color\": \"#FF6692\"}, \"name\": \"Mahela Jayawardene\", \"offsetgroup\": \"Mahela Jayawardene\", \"orientation\": \"v\", \"showlegend\": true, \"textposition\": \"auto\", \"type\": \"bar\", \"x\": [\"Mahela Jayawardene\"], \"xaxis\": \"x\", \"y\": [1440906.9573051936], \"yaxis\": \"y\"}, {\"alignmentgroup\": \"True\", \"hovertemplate\": \"name=%{x}<br>predicted_prices=%{y}<extra></extra>\", \"legendgroup\": \"Saurabh Tiwary\", \"marker\": {\"color\": \"#B6E880\"}, \"name\": \"Saurabh Tiwary\", \"offsetgroup\": \"Saurabh Tiwary\", \"orientation\": \"v\", \"showlegend\": true, \"textposition\": \"auto\", \"type\": \"bar\", \"x\": [\"Saurabh Tiwary\"], \"xaxis\": \"x\", \"y\": [973319.6634043072], \"yaxis\": \"y\"}, {\"alignmentgroup\": \"True\", \"hovertemplate\": \"name=%{x}<br>predicted_prices=%{y}<extra></extra>\", \"legendgroup\": \"MS Dhoni (retained)\", \"marker\": {\"color\": \"#FF97FF\"}, \"name\": \"MS Dhoni (retained)\", \"offsetgroup\": \"MS Dhoni (retained)\", \"orientation\": \"v\", \"showlegend\": true, \"textposition\": \"auto\", \"type\": \"bar\", \"x\": [\"MS Dhoni (retained)\"], \"xaxis\": \"x\", \"y\": [1750547.2903341998], \"yaxis\": \"y\"}, {\"alignmentgroup\": \"True\", \"hovertemplate\": \"name=%{x}<br>predicted_prices=%{y}<extra></extra>\", \"legendgroup\": \"Sachin Tendulkar (retained)\", \"marker\": {\"color\": \"#FECB52\"}, \"name\": \"Sachin Tendulkar (retained)\", \"offsetgroup\": \"Sachin Tendulkar (retained)\", \"orientation\": \"v\", \"showlegend\": true, \"textposition\": \"auto\", \"type\": \"bar\", \"x\": [\"Sachin Tendulkar (retained)\"], \"xaxis\": \"x\", \"y\": [1395745.69662394], \"yaxis\": \"y\"}, {\"alignmentgroup\": \"True\", \"hovertemplate\": \"name=%{x}<br>predicted_prices=%{y}<extra></extra>\", \"legendgroup\": \"Shane Warne (retained)\", \"marker\": {\"color\": \"#636efa\"}, \"name\": \"Shane Warne (retained)\", \"offsetgroup\": \"Shane Warne (retained)\", \"orientation\": \"v\", \"showlegend\": true, \"textposition\": \"auto\", \"type\": \"bar\", \"x\": [\"Shane Warne (retained)\"], \"xaxis\": \"x\", \"y\": [1356024.5580458443], \"yaxis\": \"y\"}, {\"alignmentgroup\": \"True\", \"hovertemplate\": \"name=%{x}<br>predicted_prices=%{y}<extra></extra>\", \"legendgroup\": \"Virat Kohli (retained)\", \"marker\": {\"color\": \"#EF553B\"}, \"name\": \"Virat Kohli (retained)\", \"offsetgroup\": \"Virat Kohli (retained)\", \"orientation\": \"v\", \"showlegend\": true, \"textposition\": \"auto\", \"type\": \"bar\", \"x\": [\"Virat Kohli (retained)\"], \"xaxis\": \"x\", \"y\": [1334272.0343287159], \"yaxis\": \"y\"}, {\"alignmentgroup\": \"True\", \"hovertemplate\": \"name=%{x}<br>predicted_prices=%{y}<extra></extra>\", \"legendgroup\": \"Virender Sehwag (retained)\", \"marker\": {\"color\": \"#00cc96\"}, \"name\": \"Virender Sehwag (retained)\", \"offsetgroup\": \"Virender Sehwag (retained)\", \"orientation\": \"v\", \"showlegend\": true, \"textposition\": \"auto\", \"type\": \"bar\", \"x\": [\"Virender Sehwag (retained)\"], \"xaxis\": \"x\", \"y\": [1707925.0296849946], \"yaxis\": \"y\"}, {\"alignmentgroup\": \"True\", \"hovertemplate\": \"name=%{x}<br>predicted_prices=%{y}<extra></extra>\", \"legendgroup\": \"Yuvraj Singh\", \"marker\": {\"color\": \"#ab63fa\"}, \"name\": \"Yuvraj Singh\", \"offsetgroup\": \"Yuvraj Singh\", \"orientation\": \"v\", \"showlegend\": true, \"textposition\": \"auto\", \"type\": \"bar\", \"x\": [\"Yuvraj Singh\"], \"xaxis\": \"x\", \"y\": [1797805.311172932], \"yaxis\": \"y\"}, {\"alignmentgroup\": \"True\", \"hovertemplate\": \"name=%{x}<br>predicted_prices=%{y}<extra></extra>\", \"legendgroup\": \"Irfan Pathan\", \"marker\": {\"color\": \"#FFA15A\"}, \"name\": \"Irfan Pathan\", \"offsetgroup\": \"Irfan Pathan\", \"orientation\": \"v\", \"showlegend\": true, \"textposition\": \"auto\", \"type\": \"bar\", \"x\": [\"Irfan Pathan\"], \"xaxis\": \"x\", \"y\": [1282787.3760544404], \"yaxis\": \"y\"}, {\"alignmentgroup\": \"True\", \"hovertemplate\": \"name=%{x}<br>predicted_prices=%{y}<extra></extra>\", \"legendgroup\": \"Rohit Sharma\", \"marker\": {\"color\": \"#19d3f3\"}, \"name\": \"Rohit Sharma\", \"offsetgroup\": \"Rohit Sharma\", \"orientation\": \"v\", \"showlegend\": true, \"textposition\": \"auto\", \"type\": \"bar\", \"x\": [\"Rohit Sharma\"], \"xaxis\": \"x\", \"y\": [1188244.8611394342], \"yaxis\": \"y\"}, {\"alignmentgroup\": \"True\", \"hovertemplate\": \"name=%{x}<br>predicted_prices=%{y}<extra></extra>\", \"legendgroup\": \"Robin Uthappa\", \"marker\": {\"color\": \"#FF6692\"}, \"name\": \"Robin Uthappa\", \"offsetgroup\": \"Robin Uthappa\", \"orientation\": \"v\", \"showlegend\": true, \"textposition\": \"auto\", \"type\": \"bar\", \"x\": [\"Robin Uthappa\"], \"xaxis\": \"x\", \"y\": [1446400.1828156747], \"yaxis\": \"y\"}, {\"alignmentgroup\": \"True\", \"hovertemplate\": \"name=%{x}<br>predicted_prices=%{y}<extra></extra>\", \"legendgroup\": \"Yusuf Pathan\", \"marker\": {\"color\": \"#B6E880\"}, \"name\": \"Yusuf Pathan\", \"offsetgroup\": \"Yusuf Pathan\", \"orientation\": \"v\", \"showlegend\": true, \"textposition\": \"auto\", \"type\": \"bar\", \"x\": [\"Yusuf Pathan\"], \"xaxis\": \"x\", \"y\": [1730645.1106264188], \"yaxis\": \"y\"}, {\"alignmentgroup\": \"True\", \"hovertemplate\": \"name=%{x}<br>predicted_prices=%{y}<extra></extra>\", \"legendgroup\": \"Gautam Gambhir\", \"marker\": {\"color\": \"#FF97FF\"}, \"name\": \"Gautam Gambhir\", \"offsetgroup\": \"Gautam Gambhir\", \"orientation\": \"v\", \"showlegend\": true, \"textposition\": \"auto\", \"type\": \"bar\", \"x\": [\"Gautam Gambhir\"], \"xaxis\": \"x\", \"y\": [1574093.0513512834], \"yaxis\": \"y\"}],                        {\"barmode\": \"relative\", \"legend\": {\"title\": {\"text\": \"name\"}, \"tracegroupgap\": 0}, \"margin\": {\"t\": 60}, \"template\": {\"data\": {\"bar\": [{\"error_x\": {\"color\": \"#2a3f5f\"}, \"error_y\": {\"color\": \"#2a3f5f\"}, \"marker\": {\"line\": {\"color\": \"#E5ECF6\", \"width\": 0.5}}, \"type\": \"bar\"}], \"barpolar\": [{\"marker\": {\"line\": {\"color\": \"#E5ECF6\", \"width\": 0.5}}, \"type\": \"barpolar\"}], \"carpet\": [{\"aaxis\": {\"endlinecolor\": \"#2a3f5f\", \"gridcolor\": \"white\", \"linecolor\": \"white\", \"minorgridcolor\": \"white\", \"startlinecolor\": \"#2a3f5f\"}, \"baxis\": {\"endlinecolor\": \"#2a3f5f\", \"gridcolor\": \"white\", \"linecolor\": \"white\", \"minorgridcolor\": \"white\", \"startlinecolor\": \"#2a3f5f\"}, \"type\": \"carpet\"}], \"choropleth\": [{\"colorbar\": {\"outlinewidth\": 0, \"ticks\": \"\"}, \"type\": \"choropleth\"}], \"contour\": [{\"colorbar\": {\"outlinewidth\": 0, \"ticks\": \"\"}, \"colorscale\": [[0.0, \"#0d0887\"], [0.1111111111111111, \"#46039f\"], [0.2222222222222222, \"#7201a8\"], [0.3333333333333333, \"#9c179e\"], [0.4444444444444444, \"#bd3786\"], [0.5555555555555556, \"#d8576b\"], [0.6666666666666666, \"#ed7953\"], [0.7777777777777778, \"#fb9f3a\"], [0.8888888888888888, \"#fdca26\"], [1.0, \"#f0f921\"]], \"type\": \"contour\"}], \"contourcarpet\": [{\"colorbar\": {\"outlinewidth\": 0, \"ticks\": \"\"}, \"type\": \"contourcarpet\"}], \"heatmap\": [{\"colorbar\": {\"outlinewidth\": 0, \"ticks\": \"\"}, \"colorscale\": [[0.0, \"#0d0887\"], [0.1111111111111111, \"#46039f\"], [0.2222222222222222, \"#7201a8\"], [0.3333333333333333, \"#9c179e\"], [0.4444444444444444, \"#bd3786\"], [0.5555555555555556, \"#d8576b\"], [0.6666666666666666, \"#ed7953\"], [0.7777777777777778, \"#fb9f3a\"], [0.8888888888888888, \"#fdca26\"], [1.0, \"#f0f921\"]], \"type\": \"heatmap\"}], \"heatmapgl\": [{\"colorbar\": {\"outlinewidth\": 0, \"ticks\": \"\"}, \"colorscale\": [[0.0, \"#0d0887\"], [0.1111111111111111, \"#46039f\"], [0.2222222222222222, \"#7201a8\"], [0.3333333333333333, \"#9c179e\"], [0.4444444444444444, \"#bd3786\"], [0.5555555555555556, \"#d8576b\"], [0.6666666666666666, \"#ed7953\"], [0.7777777777777778, \"#fb9f3a\"], [0.8888888888888888, \"#fdca26\"], [1.0, \"#f0f921\"]], \"type\": \"heatmapgl\"}], \"histogram\": [{\"marker\": {\"colorbar\": {\"outlinewidth\": 0, \"ticks\": \"\"}}, \"type\": \"histogram\"}], \"histogram2d\": [{\"colorbar\": {\"outlinewidth\": 0, \"ticks\": \"\"}, \"colorscale\": [[0.0, \"#0d0887\"], [0.1111111111111111, \"#46039f\"], [0.2222222222222222, \"#7201a8\"], [0.3333333333333333, \"#9c179e\"], [0.4444444444444444, \"#bd3786\"], [0.5555555555555556, \"#d8576b\"], [0.6666666666666666, \"#ed7953\"], [0.7777777777777778, \"#fb9f3a\"], [0.8888888888888888, \"#fdca26\"], [1.0, \"#f0f921\"]], \"type\": \"histogram2d\"}], \"histogram2dcontour\": [{\"colorbar\": {\"outlinewidth\": 0, \"ticks\": \"\"}, \"colorscale\": [[0.0, \"#0d0887\"], [0.1111111111111111, \"#46039f\"], [0.2222222222222222, \"#7201a8\"], [0.3333333333333333, \"#9c179e\"], [0.4444444444444444, \"#bd3786\"], [0.5555555555555556, \"#d8576b\"], [0.6666666666666666, \"#ed7953\"], [0.7777777777777778, \"#fb9f3a\"], [0.8888888888888888, \"#fdca26\"], [1.0, \"#f0f921\"]], \"type\": \"histogram2dcontour\"}], \"mesh3d\": [{\"colorbar\": {\"outlinewidth\": 0, \"ticks\": \"\"}, \"type\": \"mesh3d\"}], \"parcoords\": [{\"line\": {\"colorbar\": {\"outlinewidth\": 0, \"ticks\": \"\"}}, \"type\": \"parcoords\"}], \"pie\": [{\"automargin\": true, \"type\": \"pie\"}], \"scatter\": [{\"marker\": {\"colorbar\": {\"outlinewidth\": 0, \"ticks\": \"\"}}, \"type\": \"scatter\"}], \"scatter3d\": [{\"line\": {\"colorbar\": {\"outlinewidth\": 0, \"ticks\": \"\"}}, \"marker\": {\"colorbar\": {\"outlinewidth\": 0, \"ticks\": \"\"}}, \"type\": \"scatter3d\"}], \"scattercarpet\": [{\"marker\": {\"colorbar\": {\"outlinewidth\": 0, \"ticks\": \"\"}}, \"type\": \"scattercarpet\"}], \"scattergeo\": [{\"marker\": {\"colorbar\": {\"outlinewidth\": 0, \"ticks\": \"\"}}, \"type\": \"scattergeo\"}], \"scattergl\": [{\"marker\": {\"colorbar\": {\"outlinewidth\": 0, \"ticks\": \"\"}}, \"type\": \"scattergl\"}], \"scattermapbox\": [{\"marker\": {\"colorbar\": {\"outlinewidth\": 0, \"ticks\": \"\"}}, \"type\": \"scattermapbox\"}], \"scatterpolar\": [{\"marker\": {\"colorbar\": {\"outlinewidth\": 0, \"ticks\": \"\"}}, \"type\": \"scatterpolar\"}], \"scatterpolargl\": [{\"marker\": {\"colorbar\": {\"outlinewidth\": 0, \"ticks\": \"\"}}, \"type\": \"scatterpolargl\"}], \"scatterternary\": [{\"marker\": {\"colorbar\": {\"outlinewidth\": 0, \"ticks\": \"\"}}, \"type\": \"scatterternary\"}], \"surface\": [{\"colorbar\": {\"outlinewidth\": 0, \"ticks\": \"\"}, \"colorscale\": [[0.0, \"#0d0887\"], [0.1111111111111111, \"#46039f\"], [0.2222222222222222, \"#7201a8\"], [0.3333333333333333, \"#9c179e\"], [0.4444444444444444, \"#bd3786\"], [0.5555555555555556, \"#d8576b\"], [0.6666666666666666, \"#ed7953\"], [0.7777777777777778, \"#fb9f3a\"], [0.8888888888888888, \"#fdca26\"], [1.0, \"#f0f921\"]], \"type\": \"surface\"}], \"table\": [{\"cells\": {\"fill\": {\"color\": \"#EBF0F8\"}, \"line\": {\"color\": \"white\"}}, \"header\": {\"fill\": {\"color\": \"#C8D4E3\"}, \"line\": {\"color\": \"white\"}}, \"type\": \"table\"}]}, \"layout\": {\"annotationdefaults\": {\"arrowcolor\": \"#2a3f5f\", \"arrowhead\": 0, \"arrowwidth\": 1}, \"autotypenumbers\": \"strict\", \"coloraxis\": {\"colorbar\": {\"outlinewidth\": 0, \"ticks\": \"\"}}, \"colorscale\": {\"diverging\": [[0, \"#8e0152\"], [0.1, \"#c51b7d\"], [0.2, \"#de77ae\"], [0.3, \"#f1b6da\"], [0.4, \"#fde0ef\"], [0.5, \"#f7f7f7\"], [0.6, \"#e6f5d0\"], [0.7, \"#b8e186\"], [0.8, \"#7fbc41\"], [0.9, \"#4d9221\"], [1, \"#276419\"]], \"sequential\": [[0.0, \"#0d0887\"], [0.1111111111111111, \"#46039f\"], [0.2222222222222222, \"#7201a8\"], [0.3333333333333333, \"#9c179e\"], [0.4444444444444444, \"#bd3786\"], [0.5555555555555556, \"#d8576b\"], [0.6666666666666666, \"#ed7953\"], [0.7777777777777778, \"#fb9f3a\"], [0.8888888888888888, \"#fdca26\"], [1.0, \"#f0f921\"]], \"sequentialminus\": [[0.0, \"#0d0887\"], [0.1111111111111111, \"#46039f\"], [0.2222222222222222, \"#7201a8\"], [0.3333333333333333, \"#9c179e\"], [0.4444444444444444, \"#bd3786\"], [0.5555555555555556, \"#d8576b\"], [0.6666666666666666, \"#ed7953\"], [0.7777777777777778, \"#fb9f3a\"], [0.8888888888888888, \"#fdca26\"], [1.0, \"#f0f921\"]]}, \"colorway\": [\"#636efa\", \"#EF553B\", \"#00cc96\", \"#ab63fa\", \"#FFA15A\", \"#19d3f3\", \"#FF6692\", \"#B6E880\", \"#FF97FF\", \"#FECB52\"], \"font\": {\"color\": \"#2a3f5f\"}, \"geo\": {\"bgcolor\": \"white\", \"lakecolor\": \"white\", \"landcolor\": \"#E5ECF6\", \"showlakes\": true, \"showland\": true, \"subunitcolor\": \"white\"}, \"hoverlabel\": {\"align\": \"left\"}, \"hovermode\": \"closest\", \"mapbox\": {\"style\": \"light\"}, \"paper_bgcolor\": \"white\", \"plot_bgcolor\": \"#E5ECF6\", \"polar\": {\"angularaxis\": {\"gridcolor\": \"white\", \"linecolor\": \"white\", \"ticks\": \"\"}, \"bgcolor\": \"#E5ECF6\", \"radialaxis\": {\"gridcolor\": \"white\", \"linecolor\": \"white\", \"ticks\": \"\"}}, \"scene\": {\"xaxis\": {\"backgroundcolor\": \"#E5ECF6\", \"gridcolor\": \"white\", \"gridwidth\": 2, \"linecolor\": \"white\", \"showbackground\": true, \"ticks\": \"\", \"zerolinecolor\": \"white\"}, \"yaxis\": {\"backgroundcolor\": \"#E5ECF6\", \"gridcolor\": \"white\", \"gridwidth\": 2, \"linecolor\": \"white\", \"showbackground\": true, \"ticks\": \"\", \"zerolinecolor\": \"white\"}, \"zaxis\": {\"backgroundcolor\": \"#E5ECF6\", \"gridcolor\": \"white\", \"gridwidth\": 2, \"linecolor\": \"white\", \"showbackground\": true, \"ticks\": \"\", \"zerolinecolor\": \"white\"}}, \"shapedefaults\": {\"line\": {\"color\": \"#2a3f5f\"}}, \"ternary\": {\"aaxis\": {\"gridcolor\": \"white\", \"linecolor\": \"white\", \"ticks\": \"\"}, \"baxis\": {\"gridcolor\": \"white\", \"linecolor\": \"white\", \"ticks\": \"\"}, \"bgcolor\": \"#E5ECF6\", \"caxis\": {\"gridcolor\": \"white\", \"linecolor\": \"white\", \"ticks\": \"\"}}, \"title\": {\"x\": 0.05}, \"xaxis\": {\"automargin\": true, \"gridcolor\": \"white\", \"linecolor\": \"white\", \"ticks\": \"\", \"title\": {\"standoff\": 15}, \"zerolinecolor\": \"white\", \"zerolinewidth\": 2}, \"yaxis\": {\"automargin\": true, \"gridcolor\": \"white\", \"linecolor\": \"white\", \"ticks\": \"\", \"title\": {\"standoff\": 15}, \"zerolinecolor\": \"white\", \"zerolinewidth\": 2}}}, \"xaxis\": {\"anchor\": \"y\", \"categoryarray\": [\"Aiden Blizzard\", \"Jonathan Vandiar\", \"Nathan Rimmington\", \"Rilee Rossouw\", \"Robert Frylinck\", \"Travis Birt\", \"George Bailey\", \"Johan van der Wath\", \"Luke Pomersbasch\", \"Moises Henriques\", \"Roelof van der Merwe\", \"Michael Klinger\", \"Andrew McDonald\", \"Michael Lumb\", \"Suraj Randiv\", \"Thisara Perera\", \"Rusty Theron\", \"Alfonso Thomas\", \"Ben Hilfenhaus\", \"Colin Ingram\", \"Dimitri Mascarenhas\", \"James Franklin\", \"Jerome Taylor\", \"Matthew Wade\", \"Nathan McCullum\", \"Nuwan Kulasekara\", \"Wriddhiman Saha\", \"Clint McKay\", \"Faf du Plessis\", \"Mohammad Kaif\", \"Charl Langeveldt\", \"Jesse Ryder\", \"Joginder Sharma\", \"Ryan ten Doeschate\", \"Wayne Parnell\", \"Davy Jacobs\", \"Dwayne Bravo\", \"Owais Shah\", \"Scott Styris\", \"Steven Smith\", \"Ajit Agarkar\", \"Sudeep Tyagi\", \"Jaidev Unadkat\", \"Paul Collingwood\", \"Naman Ojha\", \"Tim Paine\", \"Manpreet Gony\", \"Parthiv Patel\", \"Aaron Finch\", \"Amit Mishra\", \"Callum Ferguson\", \"JP Duminy\", \"Shaun Tait\", \"Shikhar Dhawan\", \"Brad Haddin\", \"Ryan Harris\", \"Eoin Morgan\", \"James Hopes\", \"Ashok Dinda\", \"Brett Lee\", \"Murali Kartik\", \"Shaun Marsh\", \"Stuart Broad\", \"VVS Laxman\", \"Brad Hodge\", \"Michael Hussey\", \"Shakib Al Hasan\", \"Ishant Sharma\", \"Brendon McCullum\", \"Manoj Tiwary\", \"Morne Morkel\", \"Vinay Kumar\", \"Albie Morkel (retained)\", \"Graeme Smith\", \"L Balaji\", \"Lasith Malinga (retained)\", \"Pragyan Ojha\", \"Rahul Dravid\", \"RP Singh\", \"Daniel Vettori\", \"Dirk Nannes\", \"Kevin Pietersen\", \"Tillakaratne Dilshan\", \"Cheteshwar Pujara\", \"Doug Bollinger\", \"Kumar Sangakkara\", \"Munaf Patel\", \"Venugopal Rao\", \"David Warner\", \"Abhishek Nayar\", \"Praveen Kumar\", \"Andrew Symonds\", \"Ashish Nehra\", \"R Ashwin\", \"S Badrinath\", \"Adam Gilchrist\", \"Daniel Christian\", \"Dinesh Karthik\", \"Kieron Pollard (retained)\", \"M Vijay (retained)\", \"Piyush Chawla\", \"Sreesanth\", \"Zaheer Khan\", \"Angelo Mathews\", \"Johan Botha\", \"Ravindra Jadeja\", \"Ross Taylor\", \"AB de Villiers\", \"Cameron White\", \"Jacques Kallis\", \"Muttiah Muralitharan\", \"Dale Steyn\", \"Harbhajan Singh (retained)\", \"Shane Watson (retained)\", \"Suresh Raina (retained)\", \"David Hussey\", \"Mahela Jayawardene\", \"Saurabh Tiwary\", \"MS Dhoni (retained)\", \"Sachin Tendulkar (retained)\", \"Shane Warne (retained)\", \"Virat Kohli (retained)\", \"Virender Sehwag (retained)\", \"Yuvraj Singh\", \"Irfan Pathan\", \"Rohit Sharma\", \"Robin Uthappa\", \"Yusuf Pathan\", \"Gautam Gambhir\"], \"categoryorder\": \"array\", \"domain\": [0.0, 1.0], \"title\": {\"text\": \"name\"}}, \"yaxis\": {\"anchor\": \"x\", \"domain\": [0.0, 1.0], \"title\": {\"text\": \"predicted_prices\"}}},                        {\"responsive\": true}                    ).then(function(){\n",
       "                            \n",
       "var gd = document.getElementById('256a1e64-2a96-401f-9d59-8fffab8c0f5e');\n",
       "var x = new MutationObserver(function (mutations, observer) {{\n",
       "        var display = window.getComputedStyle(gd).display;\n",
       "        if (!display || display === 'none') {{\n",
       "            console.log([gd, 'removed!']);\n",
       "            Plotly.purge(gd);\n",
       "            observer.disconnect();\n",
       "        }}\n",
       "}});\n",
       "\n",
       "// Listen for the removal of the full notebook cells\n",
       "var notebookContainer = gd.closest('#notebook-container');\n",
       "if (notebookContainer) {{\n",
       "    x.observe(notebookContainer, {childList: true});\n",
       "}}\n",
       "\n",
       "// Listen for the clearing of the current output cell\n",
       "var outputEl = gd.closest('.output');\n",
       "if (outputEl) {{\n",
       "    x.observe(outputEl, {childList: true});\n",
       "}}\n",
       "\n",
       "                        })                };                });            </script>        </div>"
      ]
     },
     "metadata": {},
     "output_type": "display_data"
    }
   ],
   "source": [
    "fig2 = px.bar(df, x=\"name\", y=\"predicted_prices\",color=\"name\")\n",
    "fig2.show()"
   ]
  },
  {
   "cell_type": "code",
   "execution_count": null,
   "metadata": {},
   "outputs": [],
   "source": [
    "#def train_and_display(name):\n",
    "    #print(\"heloooo\")\n",
    "    '''\n",
    "    model = models[name]()\n",
    "    model.fit(X_train, y_train)\n",
    "\n",
    "    x_range = np.linspace(X.min(), X.max(), 100)\n",
    "    y_range = model.predict(x_range.reshape(-1, 1))\n",
    "\n",
    "    fig = go.Figure([\n",
    "        go.Scatter(x=X_train.squeeze(), y=y_train, \n",
    "                   name='train', mode='markers'),\n",
    "        go.Scatter(x=X_test.squeeze(), y=y_test, \n",
    "                   name='test', mode='markers'),\n",
    "        go.Scatter(x=x_range, y=y_range, \n",
    "                   name='prediction')\n",
    "                   ])\n",
    "    '''"
   ]
  },
  {
   "cell_type": "code",
   "execution_count": null,
   "metadata": {},
   "outputs": [],
   "source": [
    "   '''\n",
    "    html.Div([\n",
    "    \n",
    "    #dcc.Graph(id=\"bar-chart\"),\n",
    "    dcc.Graph(id = 'Bar_Plot', \n",
    "                  figure = {\n",
    "                      'data' : [\n",
    "                          {'x':df.name, 'y':df.predicted_prices, 'type':'bar', 'name':'First Chart','marker': {\n",
    "               'color': df.name\n",
    "           }}\n",
    "                          ]\n",
    "                      })\n",
    "\n",
    "]),\n",
    "   '''"
   ]
  },
  {
   "cell_type": "code",
   "execution_count": 7,
   "metadata": {},
   "outputs": [
    {
     "data": {
      "application/vnd.plotly.v1+json": {
       "config": {
        "plotlyServerURL": "https://plot.ly"
       },
       "data": [
        {
         "customdata": [
          [
           92
          ],
          [
           37
          ]
         ],
         "domain": {
          "x": [
           0,
           1
          ],
          "y": [
           0,
           1
          ]
         },
         "hovertemplate": "retained=%{label}<br>name=%{customdata[0]}<extra></extra>",
         "labels": [
          0,
          1
         ],
         "legendgroup": "",
         "marker": {
          "colors": [
           "#636efa",
           "#EF553B"
          ]
         },
         "name": "",
         "showlegend": true,
         "type": "pie",
         "values": [
          92,
          37
         ]
        }
       ],
       "layout": {
        "legend": {
         "tracegroupgap": 0
        },
        "template": {
         "data": {
          "bar": [
           {
            "error_x": {
             "color": "#2a3f5f"
            },
            "error_y": {
             "color": "#2a3f5f"
            },
            "marker": {
             "line": {
              "color": "#E5ECF6",
              "width": 0.5
             }
            },
            "type": "bar"
           }
          ],
          "barpolar": [
           {
            "marker": {
             "line": {
              "color": "#E5ECF6",
              "width": 0.5
             }
            },
            "type": "barpolar"
           }
          ],
          "carpet": [
           {
            "aaxis": {
             "endlinecolor": "#2a3f5f",
             "gridcolor": "white",
             "linecolor": "white",
             "minorgridcolor": "white",
             "startlinecolor": "#2a3f5f"
            },
            "baxis": {
             "endlinecolor": "#2a3f5f",
             "gridcolor": "white",
             "linecolor": "white",
             "minorgridcolor": "white",
             "startlinecolor": "#2a3f5f"
            },
            "type": "carpet"
           }
          ],
          "choropleth": [
           {
            "colorbar": {
             "outlinewidth": 0,
             "ticks": ""
            },
            "type": "choropleth"
           }
          ],
          "contour": [
           {
            "colorbar": {
             "outlinewidth": 0,
             "ticks": ""
            },
            "colorscale": [
             [
              0,
              "#0d0887"
             ],
             [
              0.1111111111111111,
              "#46039f"
             ],
             [
              0.2222222222222222,
              "#7201a8"
             ],
             [
              0.3333333333333333,
              "#9c179e"
             ],
             [
              0.4444444444444444,
              "#bd3786"
             ],
             [
              0.5555555555555556,
              "#d8576b"
             ],
             [
              0.6666666666666666,
              "#ed7953"
             ],
             [
              0.7777777777777778,
              "#fb9f3a"
             ],
             [
              0.8888888888888888,
              "#fdca26"
             ],
             [
              1,
              "#f0f921"
             ]
            ],
            "type": "contour"
           }
          ],
          "contourcarpet": [
           {
            "colorbar": {
             "outlinewidth": 0,
             "ticks": ""
            },
            "type": "contourcarpet"
           }
          ],
          "heatmap": [
           {
            "colorbar": {
             "outlinewidth": 0,
             "ticks": ""
            },
            "colorscale": [
             [
              0,
              "#0d0887"
             ],
             [
              0.1111111111111111,
              "#46039f"
             ],
             [
              0.2222222222222222,
              "#7201a8"
             ],
             [
              0.3333333333333333,
              "#9c179e"
             ],
             [
              0.4444444444444444,
              "#bd3786"
             ],
             [
              0.5555555555555556,
              "#d8576b"
             ],
             [
              0.6666666666666666,
              "#ed7953"
             ],
             [
              0.7777777777777778,
              "#fb9f3a"
             ],
             [
              0.8888888888888888,
              "#fdca26"
             ],
             [
              1,
              "#f0f921"
             ]
            ],
            "type": "heatmap"
           }
          ],
          "heatmapgl": [
           {
            "colorbar": {
             "outlinewidth": 0,
             "ticks": ""
            },
            "colorscale": [
             [
              0,
              "#0d0887"
             ],
             [
              0.1111111111111111,
              "#46039f"
             ],
             [
              0.2222222222222222,
              "#7201a8"
             ],
             [
              0.3333333333333333,
              "#9c179e"
             ],
             [
              0.4444444444444444,
              "#bd3786"
             ],
             [
              0.5555555555555556,
              "#d8576b"
             ],
             [
              0.6666666666666666,
              "#ed7953"
             ],
             [
              0.7777777777777778,
              "#fb9f3a"
             ],
             [
              0.8888888888888888,
              "#fdca26"
             ],
             [
              1,
              "#f0f921"
             ]
            ],
            "type": "heatmapgl"
           }
          ],
          "histogram": [
           {
            "marker": {
             "colorbar": {
              "outlinewidth": 0,
              "ticks": ""
             }
            },
            "type": "histogram"
           }
          ],
          "histogram2d": [
           {
            "colorbar": {
             "outlinewidth": 0,
             "ticks": ""
            },
            "colorscale": [
             [
              0,
              "#0d0887"
             ],
             [
              0.1111111111111111,
              "#46039f"
             ],
             [
              0.2222222222222222,
              "#7201a8"
             ],
             [
              0.3333333333333333,
              "#9c179e"
             ],
             [
              0.4444444444444444,
              "#bd3786"
             ],
             [
              0.5555555555555556,
              "#d8576b"
             ],
             [
              0.6666666666666666,
              "#ed7953"
             ],
             [
              0.7777777777777778,
              "#fb9f3a"
             ],
             [
              0.8888888888888888,
              "#fdca26"
             ],
             [
              1,
              "#f0f921"
             ]
            ],
            "type": "histogram2d"
           }
          ],
          "histogram2dcontour": [
           {
            "colorbar": {
             "outlinewidth": 0,
             "ticks": ""
            },
            "colorscale": [
             [
              0,
              "#0d0887"
             ],
             [
              0.1111111111111111,
              "#46039f"
             ],
             [
              0.2222222222222222,
              "#7201a8"
             ],
             [
              0.3333333333333333,
              "#9c179e"
             ],
             [
              0.4444444444444444,
              "#bd3786"
             ],
             [
              0.5555555555555556,
              "#d8576b"
             ],
             [
              0.6666666666666666,
              "#ed7953"
             ],
             [
              0.7777777777777778,
              "#fb9f3a"
             ],
             [
              0.8888888888888888,
              "#fdca26"
             ],
             [
              1,
              "#f0f921"
             ]
            ],
            "type": "histogram2dcontour"
           }
          ],
          "mesh3d": [
           {
            "colorbar": {
             "outlinewidth": 0,
             "ticks": ""
            },
            "type": "mesh3d"
           }
          ],
          "parcoords": [
           {
            "line": {
             "colorbar": {
              "outlinewidth": 0,
              "ticks": ""
             }
            },
            "type": "parcoords"
           }
          ],
          "pie": [
           {
            "automargin": true,
            "type": "pie"
           }
          ],
          "scatter": [
           {
            "marker": {
             "colorbar": {
              "outlinewidth": 0,
              "ticks": ""
             }
            },
            "type": "scatter"
           }
          ],
          "scatter3d": [
           {
            "line": {
             "colorbar": {
              "outlinewidth": 0,
              "ticks": ""
             }
            },
            "marker": {
             "colorbar": {
              "outlinewidth": 0,
              "ticks": ""
             }
            },
            "type": "scatter3d"
           }
          ],
          "scattercarpet": [
           {
            "marker": {
             "colorbar": {
              "outlinewidth": 0,
              "ticks": ""
             }
            },
            "type": "scattercarpet"
           }
          ],
          "scattergeo": [
           {
            "marker": {
             "colorbar": {
              "outlinewidth": 0,
              "ticks": ""
             }
            },
            "type": "scattergeo"
           }
          ],
          "scattergl": [
           {
            "marker": {
             "colorbar": {
              "outlinewidth": 0,
              "ticks": ""
             }
            },
            "type": "scattergl"
           }
          ],
          "scattermapbox": [
           {
            "marker": {
             "colorbar": {
              "outlinewidth": 0,
              "ticks": ""
             }
            },
            "type": "scattermapbox"
           }
          ],
          "scatterpolar": [
           {
            "marker": {
             "colorbar": {
              "outlinewidth": 0,
              "ticks": ""
             }
            },
            "type": "scatterpolar"
           }
          ],
          "scatterpolargl": [
           {
            "marker": {
             "colorbar": {
              "outlinewidth": 0,
              "ticks": ""
             }
            },
            "type": "scatterpolargl"
           }
          ],
          "scatterternary": [
           {
            "marker": {
             "colorbar": {
              "outlinewidth": 0,
              "ticks": ""
             }
            },
            "type": "scatterternary"
           }
          ],
          "surface": [
           {
            "colorbar": {
             "outlinewidth": 0,
             "ticks": ""
            },
            "colorscale": [
             [
              0,
              "#0d0887"
             ],
             [
              0.1111111111111111,
              "#46039f"
             ],
             [
              0.2222222222222222,
              "#7201a8"
             ],
             [
              0.3333333333333333,
              "#9c179e"
             ],
             [
              0.4444444444444444,
              "#bd3786"
             ],
             [
              0.5555555555555556,
              "#d8576b"
             ],
             [
              0.6666666666666666,
              "#ed7953"
             ],
             [
              0.7777777777777778,
              "#fb9f3a"
             ],
             [
              0.8888888888888888,
              "#fdca26"
             ],
             [
              1,
              "#f0f921"
             ]
            ],
            "type": "surface"
           }
          ],
          "table": [
           {
            "cells": {
             "fill": {
              "color": "#EBF0F8"
             },
             "line": {
              "color": "white"
             }
            },
            "header": {
             "fill": {
              "color": "#C8D4E3"
             },
             "line": {
              "color": "white"
             }
            },
            "type": "table"
           }
          ]
         },
         "layout": {
          "annotationdefaults": {
           "arrowcolor": "#2a3f5f",
           "arrowhead": 0,
           "arrowwidth": 1
          },
          "autotypenumbers": "strict",
          "coloraxis": {
           "colorbar": {
            "outlinewidth": 0,
            "ticks": ""
           }
          },
          "colorscale": {
           "diverging": [
            [
             0,
             "#8e0152"
            ],
            [
             0.1,
             "#c51b7d"
            ],
            [
             0.2,
             "#de77ae"
            ],
            [
             0.3,
             "#f1b6da"
            ],
            [
             0.4,
             "#fde0ef"
            ],
            [
             0.5,
             "#f7f7f7"
            ],
            [
             0.6,
             "#e6f5d0"
            ],
            [
             0.7,
             "#b8e186"
            ],
            [
             0.8,
             "#7fbc41"
            ],
            [
             0.9,
             "#4d9221"
            ],
            [
             1,
             "#276419"
            ]
           ],
           "sequential": [
            [
             0,
             "#0d0887"
            ],
            [
             0.1111111111111111,
             "#46039f"
            ],
            [
             0.2222222222222222,
             "#7201a8"
            ],
            [
             0.3333333333333333,
             "#9c179e"
            ],
            [
             0.4444444444444444,
             "#bd3786"
            ],
            [
             0.5555555555555556,
             "#d8576b"
            ],
            [
             0.6666666666666666,
             "#ed7953"
            ],
            [
             0.7777777777777778,
             "#fb9f3a"
            ],
            [
             0.8888888888888888,
             "#fdca26"
            ],
            [
             1,
             "#f0f921"
            ]
           ],
           "sequentialminus": [
            [
             0,
             "#0d0887"
            ],
            [
             0.1111111111111111,
             "#46039f"
            ],
            [
             0.2222222222222222,
             "#7201a8"
            ],
            [
             0.3333333333333333,
             "#9c179e"
            ],
            [
             0.4444444444444444,
             "#bd3786"
            ],
            [
             0.5555555555555556,
             "#d8576b"
            ],
            [
             0.6666666666666666,
             "#ed7953"
            ],
            [
             0.7777777777777778,
             "#fb9f3a"
            ],
            [
             0.8888888888888888,
             "#fdca26"
            ],
            [
             1,
             "#f0f921"
            ]
           ]
          },
          "colorway": [
           "#636efa",
           "#EF553B",
           "#00cc96",
           "#ab63fa",
           "#FFA15A",
           "#19d3f3",
           "#FF6692",
           "#B6E880",
           "#FF97FF",
           "#FECB52"
          ],
          "font": {
           "color": "#2a3f5f"
          },
          "geo": {
           "bgcolor": "white",
           "lakecolor": "white",
           "landcolor": "#E5ECF6",
           "showlakes": true,
           "showland": true,
           "subunitcolor": "white"
          },
          "hoverlabel": {
           "align": "left"
          },
          "hovermode": "closest",
          "mapbox": {
           "style": "light"
          },
          "paper_bgcolor": "white",
          "plot_bgcolor": "#E5ECF6",
          "polar": {
           "angularaxis": {
            "gridcolor": "white",
            "linecolor": "white",
            "ticks": ""
           },
           "bgcolor": "#E5ECF6",
           "radialaxis": {
            "gridcolor": "white",
            "linecolor": "white",
            "ticks": ""
           }
          },
          "scene": {
           "xaxis": {
            "backgroundcolor": "#E5ECF6",
            "gridcolor": "white",
            "gridwidth": 2,
            "linecolor": "white",
            "showbackground": true,
            "ticks": "",
            "zerolinecolor": "white"
           },
           "yaxis": {
            "backgroundcolor": "#E5ECF6",
            "gridcolor": "white",
            "gridwidth": 2,
            "linecolor": "white",
            "showbackground": true,
            "ticks": "",
            "zerolinecolor": "white"
           },
           "zaxis": {
            "backgroundcolor": "#E5ECF6",
            "gridcolor": "white",
            "gridwidth": 2,
            "linecolor": "white",
            "showbackground": true,
            "ticks": "",
            "zerolinecolor": "white"
           }
          },
          "shapedefaults": {
           "line": {
            "color": "#2a3f5f"
           }
          },
          "ternary": {
           "aaxis": {
            "gridcolor": "white",
            "linecolor": "white",
            "ticks": ""
           },
           "baxis": {
            "gridcolor": "white",
            "linecolor": "white",
            "ticks": ""
           },
           "bgcolor": "#E5ECF6",
           "caxis": {
            "gridcolor": "white",
            "linecolor": "white",
            "ticks": ""
           }
          },
          "title": {
           "x": 0.05
          },
          "xaxis": {
           "automargin": true,
           "gridcolor": "white",
           "linecolor": "white",
           "ticks": "",
           "title": {
            "standoff": 15
           },
           "zerolinecolor": "white",
           "zerolinewidth": 2
          },
          "yaxis": {
           "automargin": true,
           "gridcolor": "white",
           "linecolor": "white",
           "ticks": "",
           "title": {
            "standoff": 15
           },
           "zerolinecolor": "white",
           "zerolinewidth": 2
          }
         }
        },
        "title": {
         "text": "Player retained[0=Not retained,1=Retained]"
        }
       }
      },
      "text/html": [
       "<div>                            <div id=\"4eed2e60-b74a-41b0-85ad-a12bd3b71e07\" class=\"plotly-graph-div\" style=\"height:525px; width:100%;\"></div>            <script type=\"text/javascript\">                require([\"plotly\"], function(Plotly) {                    window.PLOTLYENV=window.PLOTLYENV || {};                                    if (document.getElementById(\"4eed2e60-b74a-41b0-85ad-a12bd3b71e07\")) {                    Plotly.newPlot(                        \"4eed2e60-b74a-41b0-85ad-a12bd3b71e07\",                        [{\"customdata\": [[92], [37]], \"domain\": {\"x\": [0.0, 1.0], \"y\": [0.0, 1.0]}, \"hovertemplate\": \"retained=%{label}<br>name=%{customdata[0]}<extra></extra>\", \"labels\": [0, 1], \"legendgroup\": \"\", \"marker\": {\"colors\": [\"#636efa\", \"#EF553B\"]}, \"name\": \"\", \"showlegend\": true, \"type\": \"pie\", \"values\": [92, 37]}],                        {\"legend\": {\"tracegroupgap\": 0}, \"template\": {\"data\": {\"bar\": [{\"error_x\": {\"color\": \"#2a3f5f\"}, \"error_y\": {\"color\": \"#2a3f5f\"}, \"marker\": {\"line\": {\"color\": \"#E5ECF6\", \"width\": 0.5}}, \"type\": \"bar\"}], \"barpolar\": [{\"marker\": {\"line\": {\"color\": \"#E5ECF6\", \"width\": 0.5}}, \"type\": \"barpolar\"}], \"carpet\": [{\"aaxis\": {\"endlinecolor\": \"#2a3f5f\", \"gridcolor\": \"white\", \"linecolor\": \"white\", \"minorgridcolor\": \"white\", \"startlinecolor\": \"#2a3f5f\"}, \"baxis\": {\"endlinecolor\": \"#2a3f5f\", \"gridcolor\": \"white\", \"linecolor\": \"white\", \"minorgridcolor\": \"white\", \"startlinecolor\": \"#2a3f5f\"}, \"type\": \"carpet\"}], \"choropleth\": [{\"colorbar\": {\"outlinewidth\": 0, \"ticks\": \"\"}, \"type\": \"choropleth\"}], \"contour\": [{\"colorbar\": {\"outlinewidth\": 0, \"ticks\": \"\"}, \"colorscale\": [[0.0, \"#0d0887\"], [0.1111111111111111, \"#46039f\"], [0.2222222222222222, \"#7201a8\"], [0.3333333333333333, \"#9c179e\"], [0.4444444444444444, \"#bd3786\"], [0.5555555555555556, \"#d8576b\"], [0.6666666666666666, \"#ed7953\"], [0.7777777777777778, \"#fb9f3a\"], [0.8888888888888888, \"#fdca26\"], [1.0, \"#f0f921\"]], \"type\": \"contour\"}], \"contourcarpet\": [{\"colorbar\": {\"outlinewidth\": 0, \"ticks\": \"\"}, \"type\": \"contourcarpet\"}], \"heatmap\": [{\"colorbar\": {\"outlinewidth\": 0, \"ticks\": \"\"}, \"colorscale\": [[0.0, \"#0d0887\"], [0.1111111111111111, \"#46039f\"], [0.2222222222222222, \"#7201a8\"], [0.3333333333333333, \"#9c179e\"], [0.4444444444444444, \"#bd3786\"], [0.5555555555555556, \"#d8576b\"], [0.6666666666666666, \"#ed7953\"], [0.7777777777777778, \"#fb9f3a\"], [0.8888888888888888, \"#fdca26\"], [1.0, \"#f0f921\"]], \"type\": \"heatmap\"}], \"heatmapgl\": [{\"colorbar\": {\"outlinewidth\": 0, \"ticks\": \"\"}, \"colorscale\": [[0.0, \"#0d0887\"], [0.1111111111111111, \"#46039f\"], [0.2222222222222222, \"#7201a8\"], [0.3333333333333333, \"#9c179e\"], [0.4444444444444444, \"#bd3786\"], [0.5555555555555556, \"#d8576b\"], [0.6666666666666666, \"#ed7953\"], [0.7777777777777778, \"#fb9f3a\"], [0.8888888888888888, \"#fdca26\"], [1.0, \"#f0f921\"]], \"type\": \"heatmapgl\"}], \"histogram\": [{\"marker\": {\"colorbar\": {\"outlinewidth\": 0, \"ticks\": \"\"}}, \"type\": \"histogram\"}], \"histogram2d\": [{\"colorbar\": {\"outlinewidth\": 0, \"ticks\": \"\"}, \"colorscale\": [[0.0, \"#0d0887\"], [0.1111111111111111, \"#46039f\"], [0.2222222222222222, \"#7201a8\"], [0.3333333333333333, \"#9c179e\"], [0.4444444444444444, \"#bd3786\"], [0.5555555555555556, \"#d8576b\"], [0.6666666666666666, \"#ed7953\"], [0.7777777777777778, \"#fb9f3a\"], [0.8888888888888888, \"#fdca26\"], [1.0, \"#f0f921\"]], \"type\": \"histogram2d\"}], \"histogram2dcontour\": [{\"colorbar\": {\"outlinewidth\": 0, \"ticks\": \"\"}, \"colorscale\": [[0.0, \"#0d0887\"], [0.1111111111111111, \"#46039f\"], [0.2222222222222222, \"#7201a8\"], [0.3333333333333333, \"#9c179e\"], [0.4444444444444444, \"#bd3786\"], [0.5555555555555556, \"#d8576b\"], [0.6666666666666666, \"#ed7953\"], [0.7777777777777778, \"#fb9f3a\"], [0.8888888888888888, \"#fdca26\"], [1.0, \"#f0f921\"]], \"type\": \"histogram2dcontour\"}], \"mesh3d\": [{\"colorbar\": {\"outlinewidth\": 0, \"ticks\": \"\"}, \"type\": \"mesh3d\"}], \"parcoords\": [{\"line\": {\"colorbar\": {\"outlinewidth\": 0, \"ticks\": \"\"}}, \"type\": \"parcoords\"}], \"pie\": [{\"automargin\": true, \"type\": \"pie\"}], \"scatter\": [{\"marker\": {\"colorbar\": {\"outlinewidth\": 0, \"ticks\": \"\"}}, \"type\": \"scatter\"}], \"scatter3d\": [{\"line\": {\"colorbar\": {\"outlinewidth\": 0, \"ticks\": \"\"}}, \"marker\": {\"colorbar\": {\"outlinewidth\": 0, \"ticks\": \"\"}}, \"type\": \"scatter3d\"}], \"scattercarpet\": [{\"marker\": {\"colorbar\": {\"outlinewidth\": 0, \"ticks\": \"\"}}, \"type\": \"scattercarpet\"}], \"scattergeo\": [{\"marker\": {\"colorbar\": {\"outlinewidth\": 0, \"ticks\": \"\"}}, \"type\": \"scattergeo\"}], \"scattergl\": [{\"marker\": {\"colorbar\": {\"outlinewidth\": 0, \"ticks\": \"\"}}, \"type\": \"scattergl\"}], \"scattermapbox\": [{\"marker\": {\"colorbar\": {\"outlinewidth\": 0, \"ticks\": \"\"}}, \"type\": \"scattermapbox\"}], \"scatterpolar\": [{\"marker\": {\"colorbar\": {\"outlinewidth\": 0, \"ticks\": \"\"}}, \"type\": \"scatterpolar\"}], \"scatterpolargl\": [{\"marker\": {\"colorbar\": {\"outlinewidth\": 0, \"ticks\": \"\"}}, \"type\": \"scatterpolargl\"}], \"scatterternary\": [{\"marker\": {\"colorbar\": {\"outlinewidth\": 0, \"ticks\": \"\"}}, \"type\": \"scatterternary\"}], \"surface\": [{\"colorbar\": {\"outlinewidth\": 0, \"ticks\": \"\"}, \"colorscale\": [[0.0, \"#0d0887\"], [0.1111111111111111, \"#46039f\"], [0.2222222222222222, \"#7201a8\"], [0.3333333333333333, \"#9c179e\"], [0.4444444444444444, \"#bd3786\"], [0.5555555555555556, \"#d8576b\"], [0.6666666666666666, \"#ed7953\"], [0.7777777777777778, \"#fb9f3a\"], [0.8888888888888888, \"#fdca26\"], [1.0, \"#f0f921\"]], \"type\": \"surface\"}], \"table\": [{\"cells\": {\"fill\": {\"color\": \"#EBF0F8\"}, \"line\": {\"color\": \"white\"}}, \"header\": {\"fill\": {\"color\": \"#C8D4E3\"}, \"line\": {\"color\": \"white\"}}, \"type\": \"table\"}]}, \"layout\": {\"annotationdefaults\": {\"arrowcolor\": \"#2a3f5f\", \"arrowhead\": 0, \"arrowwidth\": 1}, \"autotypenumbers\": \"strict\", \"coloraxis\": {\"colorbar\": {\"outlinewidth\": 0, \"ticks\": \"\"}}, \"colorscale\": {\"diverging\": [[0, \"#8e0152\"], [0.1, \"#c51b7d\"], [0.2, \"#de77ae\"], [0.3, \"#f1b6da\"], [0.4, \"#fde0ef\"], [0.5, \"#f7f7f7\"], [0.6, \"#e6f5d0\"], [0.7, \"#b8e186\"], [0.8, \"#7fbc41\"], [0.9, \"#4d9221\"], [1, \"#276419\"]], \"sequential\": [[0.0, \"#0d0887\"], [0.1111111111111111, \"#46039f\"], [0.2222222222222222, \"#7201a8\"], [0.3333333333333333, \"#9c179e\"], [0.4444444444444444, \"#bd3786\"], [0.5555555555555556, \"#d8576b\"], [0.6666666666666666, \"#ed7953\"], [0.7777777777777778, \"#fb9f3a\"], [0.8888888888888888, \"#fdca26\"], [1.0, \"#f0f921\"]], \"sequentialminus\": [[0.0, \"#0d0887\"], [0.1111111111111111, \"#46039f\"], [0.2222222222222222, \"#7201a8\"], [0.3333333333333333, \"#9c179e\"], [0.4444444444444444, \"#bd3786\"], [0.5555555555555556, \"#d8576b\"], [0.6666666666666666, \"#ed7953\"], [0.7777777777777778, \"#fb9f3a\"], [0.8888888888888888, \"#fdca26\"], [1.0, \"#f0f921\"]]}, \"colorway\": [\"#636efa\", \"#EF553B\", \"#00cc96\", \"#ab63fa\", \"#FFA15A\", \"#19d3f3\", \"#FF6692\", \"#B6E880\", \"#FF97FF\", \"#FECB52\"], \"font\": {\"color\": \"#2a3f5f\"}, \"geo\": {\"bgcolor\": \"white\", \"lakecolor\": \"white\", \"landcolor\": \"#E5ECF6\", \"showlakes\": true, \"showland\": true, \"subunitcolor\": \"white\"}, \"hoverlabel\": {\"align\": \"left\"}, \"hovermode\": \"closest\", \"mapbox\": {\"style\": \"light\"}, \"paper_bgcolor\": \"white\", \"plot_bgcolor\": \"#E5ECF6\", \"polar\": {\"angularaxis\": {\"gridcolor\": \"white\", \"linecolor\": \"white\", \"ticks\": \"\"}, \"bgcolor\": \"#E5ECF6\", \"radialaxis\": {\"gridcolor\": \"white\", \"linecolor\": \"white\", \"ticks\": \"\"}}, \"scene\": {\"xaxis\": {\"backgroundcolor\": \"#E5ECF6\", \"gridcolor\": \"white\", \"gridwidth\": 2, \"linecolor\": \"white\", \"showbackground\": true, \"ticks\": \"\", \"zerolinecolor\": \"white\"}, \"yaxis\": {\"backgroundcolor\": \"#E5ECF6\", \"gridcolor\": \"white\", \"gridwidth\": 2, \"linecolor\": \"white\", \"showbackground\": true, \"ticks\": \"\", \"zerolinecolor\": \"white\"}, \"zaxis\": {\"backgroundcolor\": \"#E5ECF6\", \"gridcolor\": \"white\", \"gridwidth\": 2, \"linecolor\": \"white\", \"showbackground\": true, \"ticks\": \"\", \"zerolinecolor\": \"white\"}}, \"shapedefaults\": {\"line\": {\"color\": \"#2a3f5f\"}}, \"ternary\": {\"aaxis\": {\"gridcolor\": \"white\", \"linecolor\": \"white\", \"ticks\": \"\"}, \"baxis\": {\"gridcolor\": \"white\", \"linecolor\": \"white\", \"ticks\": \"\"}, \"bgcolor\": \"#E5ECF6\", \"caxis\": {\"gridcolor\": \"white\", \"linecolor\": \"white\", \"ticks\": \"\"}}, \"title\": {\"x\": 0.05}, \"xaxis\": {\"automargin\": true, \"gridcolor\": \"white\", \"linecolor\": \"white\", \"ticks\": \"\", \"title\": {\"standoff\": 15}, \"zerolinecolor\": \"white\", \"zerolinewidth\": 2}, \"yaxis\": {\"automargin\": true, \"gridcolor\": \"white\", \"linecolor\": \"white\", \"ticks\": \"\", \"title\": {\"standoff\": 15}, \"zerolinecolor\": \"white\", \"zerolinewidth\": 2}}}, \"title\": {\"text\": \"Player retained[0=Not retained,1=Retained]\"}},                        {\"responsive\": true}                    ).then(function(){\n",
       "                            \n",
       "var gd = document.getElementById('4eed2e60-b74a-41b0-85ad-a12bd3b71e07');\n",
       "var x = new MutationObserver(function (mutations, observer) {{\n",
       "        var display = window.getComputedStyle(gd).display;\n",
       "        if (!display || display === 'none') {{\n",
       "            console.log([gd, 'removed!']);\n",
       "            Plotly.purge(gd);\n",
       "            observer.disconnect();\n",
       "        }}\n",
       "}});\n",
       "\n",
       "// Listen for the removal of the full notebook cells\n",
       "var notebookContainer = gd.closest('#notebook-container');\n",
       "if (notebookContainer) {{\n",
       "    x.observe(notebookContainer, {childList: true});\n",
       "}}\n",
       "\n",
       "// Listen for the clearing of the current output cell\n",
       "var outputEl = gd.closest('.output');\n",
       "if (outputEl) {{\n",
       "    x.observe(outputEl, {childList: true});\n",
       "}}\n",
       "\n",
       "                        })                };                });            </script>        </div>"
      ]
     },
     "metadata": {},
     "output_type": "display_data"
    }
   ],
   "source": [
    "df_cat = df['retained'].value_counts().reset_index()\n",
    "df_cat.columns = ['retained', 'name']\n",
    "fig3 = px.pie(df_cat, values='name', names='retained',title='Player retained[0=Not retained,1=Retained]',color=\"name\")\n",
    "#fig3.update_traces(textposition='inside', textinfo='percent+label')\n",
    "fig3.show()\n"
   ]
  },
  {
   "cell_type": "code",
   "execution_count": null,
   "metadata": {},
   "outputs": [],
   "source": []
  },
  {
   "cell_type": "code",
   "execution_count": null,
   "metadata": {},
   "outputs": [],
   "source": []
  }
 ],
 "metadata": {
  "kernelspec": {
   "display_name": "Python 3",
   "language": "python",
   "name": "python3"
  },
  "language_info": {
   "codemirror_mode": {
    "name": "ipython",
    "version": 3
   },
   "file_extension": ".py",
   "mimetype": "text/x-python",
   "name": "python",
   "nbconvert_exporter": "python",
   "pygments_lexer": "ipython3",
   "version": "3.7.7"
  }
 },
 "nbformat": 4,
 "nbformat_minor": 4
}
